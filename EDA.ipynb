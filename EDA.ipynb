{
 "metadata": {
  "language_info": {
   "codemirror_mode": {
    "name": "ipython",
    "version": 3
   },
   "file_extension": ".py",
   "mimetype": "text/x-python",
   "name": "python",
   "nbconvert_exporter": "python",
   "pygments_lexer": "ipython3",
   "version": "3.8.5"
  },
  "orig_nbformat": 2,
  "kernelspec": {
   "name": "python385jvsc74a57bd098b0a9b7b4eaaa670588a142fd0a9b87eaafe866f1db4228be72b4211d12040f",
   "display_name": "Python 3.8.5 64-bit ('base': conda)"
  },
  "metadata": {
   "interpreter": {
    "hash": "d9af2e32a5ad6e5c5f98229481d7f4ca3d60c1f6ad52fd9ba4da285d14500705"
   }
  }
 },
 "nbformat": 4,
 "nbformat_minor": 2,
 "cells": [
  {
   "source": [
    "### Starting with some Exploratory Data Analysis"
   ],
   "cell_type": "markdown",
   "metadata": {}
  },
  {
   "cell_type": "code",
   "execution_count": 3,
   "metadata": {},
   "outputs": [],
   "source": [
    "import pandas as pd"
   ]
  },
  {
   "cell_type": "code",
   "execution_count": 4,
   "metadata": {},
   "outputs": [],
   "source": [
    "constraint_english_test = pd.read_csv(\"data/Constraint_English_Test.csv\")\n",
    "constraint_english_train = pd.read_csv(\"data/Constraint_English_Train.csv\")\n",
    "constraint_english_val = pd.read_csv(\"data/Constraint_English_Val.csv\")\n",
    "english_test_labels = pd.read_csv(\"data/english_test_with_labels.csv\")"
   ]
  },
  {
   "cell_type": "code",
   "execution_count": 3,
   "metadata": {},
   "outputs": [
    {
     "output_type": "stream",
     "name": "stdout",
     "text": [
      "<class 'pandas.core.frame.DataFrame'>\nRangeIndex: 2140 entries, 0 to 2139\nData columns (total 2 columns):\n #   Column  Non-Null Count  Dtype \n---  ------  --------------  ----- \n 0   id      2140 non-null   int64 \n 1   tweet   2140 non-null   object\ndtypes: int64(1), object(1)\nmemory usage: 33.6+ KB\n"
     ]
    },
    {
     "output_type": "execute_result",
     "data": {
      "text/plain": [
       "   id                                              tweet\n",
       "0   1  Our daily update is published. States reported..."
      ],
      "text/html": "<div>\n<style scoped>\n    .dataframe tbody tr th:only-of-type {\n        vertical-align: middle;\n    }\n\n    .dataframe tbody tr th {\n        vertical-align: top;\n    }\n\n    .dataframe thead th {\n        text-align: right;\n    }\n</style>\n<table border=\"1\" class=\"dataframe\">\n  <thead>\n    <tr style=\"text-align: right;\">\n      <th></th>\n      <th>id</th>\n      <th>tweet</th>\n    </tr>\n  </thead>\n  <tbody>\n    <tr>\n      <th>0</th>\n      <td>1</td>\n      <td>Our daily update is published. States reported...</td>\n    </tr>\n  </tbody>\n</table>\n</div>"
     },
     "metadata": {},
     "execution_count": 3
    }
   ],
   "source": [
    "constraint_english_test.info()\n",
    "constraint_english_test.head(1)"
   ]
  },
  {
   "cell_type": "code",
   "execution_count": 4,
   "metadata": {},
   "outputs": [
    {
     "output_type": "stream",
     "name": "stdout",
     "text": [
      "<class 'pandas.core.frame.DataFrame'>\nRangeIndex: 6420 entries, 0 to 6419\nData columns (total 3 columns):\n #   Column  Non-Null Count  Dtype \n---  ------  --------------  ----- \n 0   id      6420 non-null   int64 \n 1   tweet   6420 non-null   object\n 2   label   6420 non-null   object\ndtypes: int64(1), object(2)\nmemory usage: 150.6+ KB\n"
     ]
    },
    {
     "output_type": "execute_result",
     "data": {
      "text/plain": [
       "   id                                              tweet label\n",
       "0   1  The CDC currently reports 99031 deaths. In gen...  real"
      ],
      "text/html": "<div>\n<style scoped>\n    .dataframe tbody tr th:only-of-type {\n        vertical-align: middle;\n    }\n\n    .dataframe tbody tr th {\n        vertical-align: top;\n    }\n\n    .dataframe thead th {\n        text-align: right;\n    }\n</style>\n<table border=\"1\" class=\"dataframe\">\n  <thead>\n    <tr style=\"text-align: right;\">\n      <th></th>\n      <th>id</th>\n      <th>tweet</th>\n      <th>label</th>\n    </tr>\n  </thead>\n  <tbody>\n    <tr>\n      <th>0</th>\n      <td>1</td>\n      <td>The CDC currently reports 99031 deaths. In gen...</td>\n      <td>real</td>\n    </tr>\n  </tbody>\n</table>\n</div>"
     },
     "metadata": {},
     "execution_count": 4
    }
   ],
   "source": [
    "constraint_english_train.info()\n",
    "constraint_english_train.head(1)"
   ]
  },
  {
   "cell_type": "code",
   "execution_count": 5,
   "metadata": {},
   "outputs": [
    {
     "output_type": "stream",
     "name": "stdout",
     "text": [
      "<class 'pandas.core.frame.DataFrame'>\nRangeIndex: 2140 entries, 0 to 2139\nData columns (total 3 columns):\n #   Column  Non-Null Count  Dtype \n---  ------  --------------  ----- \n 0   id      2140 non-null   int64 \n 1   tweet   2140 non-null   object\n 2   label   2140 non-null   object\ndtypes: int64(1), object(2)\nmemory usage: 50.3+ KB\n"
     ]
    },
    {
     "output_type": "execute_result",
     "data": {
      "text/plain": [
       "   id                                              tweet label\n",
       "0   1  Chinese converting to Islam after realising th...  fake"
      ],
      "text/html": "<div>\n<style scoped>\n    .dataframe tbody tr th:only-of-type {\n        vertical-align: middle;\n    }\n\n    .dataframe tbody tr th {\n        vertical-align: top;\n    }\n\n    .dataframe thead th {\n        text-align: right;\n    }\n</style>\n<table border=\"1\" class=\"dataframe\">\n  <thead>\n    <tr style=\"text-align: right;\">\n      <th></th>\n      <th>id</th>\n      <th>tweet</th>\n      <th>label</th>\n    </tr>\n  </thead>\n  <tbody>\n    <tr>\n      <th>0</th>\n      <td>1</td>\n      <td>Chinese converting to Islam after realising th...</td>\n      <td>fake</td>\n    </tr>\n  </tbody>\n</table>\n</div>"
     },
     "metadata": {},
     "execution_count": 5
    }
   ],
   "source": [
    "constraint_english_val.info()\n",
    "constraint_english_val.head(1)"
   ]
  },
  {
   "cell_type": "code",
   "execution_count": 6,
   "metadata": {},
   "outputs": [
    {
     "output_type": "stream",
     "name": "stdout",
     "text": [
      "<class 'pandas.core.frame.DataFrame'>\nRangeIndex: 2140 entries, 0 to 2139\nData columns (total 3 columns):\n #   Column  Non-Null Count  Dtype \n---  ------  --------------  ----- \n 0   id      2140 non-null   int64 \n 1   tweet   2140 non-null   object\n 2   label   2140 non-null   object\ndtypes: int64(1), object(2)\nmemory usage: 50.3+ KB\n"
     ]
    },
    {
     "output_type": "execute_result",
     "data": {
      "text/plain": [
       "   id                                              tweet label\n",
       "0   1  Our daily update is published. States reported...  real"
      ],
      "text/html": "<div>\n<style scoped>\n    .dataframe tbody tr th:only-of-type {\n        vertical-align: middle;\n    }\n\n    .dataframe tbody tr th {\n        vertical-align: top;\n    }\n\n    .dataframe thead th {\n        text-align: right;\n    }\n</style>\n<table border=\"1\" class=\"dataframe\">\n  <thead>\n    <tr style=\"text-align: right;\">\n      <th></th>\n      <th>id</th>\n      <th>tweet</th>\n      <th>label</th>\n    </tr>\n  </thead>\n  <tbody>\n    <tr>\n      <th>0</th>\n      <td>1</td>\n      <td>Our daily update is published. States reported...</td>\n      <td>real</td>\n    </tr>\n  </tbody>\n</table>\n</div>"
     },
     "metadata": {},
     "execution_count": 6
    }
   ],
   "source": [
    "english_test_labels.info()\n",
    "english_test_labels.head(1)"
   ]
  },
  {
   "cell_type": "code",
   "execution_count": 33,
   "metadata": {},
   "outputs": [
    {
     "output_type": "stream",
     "name": "stdout",
     "text": [
      "0\nAlfalfa is the only cure for COVID-19.\n1\nPresident Trump Asked What He Would Do If He Were To Catch The Coronavirus https://t.co/3MEWhusRZI #donaldtrump #coronavirus\n2\nTwo interesting correlations:\n\n1) Children tend to weather COVID-19 pretty well; they also get a ton of Vitamin D.\n\n2) Black people are getting slammed by COVID-19; black people also have much higher instances of Vitamin D deficiency (76% vs 40% in the general population).\n3\nA photo shows a 19-year-old vaccine for canine coronavirus that could be used to prevent the new coronavirus causing COVID-19.\n4\nAn audio file by an alleged worker at a health institution in Rio de Janeiro. She says that healthcare workers on public institutions in Rio are forced to state whether a patient has COVID-19 or not even before he sees a doctor. This was allegedly being done to artificially inflate the number of cases.\n5\nSays the Coronavirus Aid, Relief, and Economic Security Act gives members of Congress a pay increase.\n6\nKids reach ‘f**k this shit’ stage of lockdown https://t.co/swClEhi2Iq\n7\nHouseholds should have \"required\" medical kits with certain items and equipment to treat the different stages of COVID-19.\n8\nAn image of a man carrying his old mother on his back shows migrants travelling to their homes in India amidst lockdown.\n9\nKorona virus, very new deadly form of virus, china is suffering, may come to \nIndia immediately, avoid any form of cold drinks, ice creams, koolfee, \netc, any type of preserved foods, milkshake, rough ice, ice colas, \nmilk sweets older then 48 hours, for atleast 90 days from today.\n10\nA 2009 tweet from Donald Trump said that he would never let thousands of Americans die from a pandemic while in office.\n11\nPresident Donald Trump tweeted, \"Coronavirus vaccine from Israel! Stock market up! Economy even stronger now! Besides US, Israel best at inventions: Judaism, olives. Wonderful vaccine, will stop Corona DEAD around world. Can't make vaccines when being bombed, not have been possible without peace I created in Israel!\"\n12\nBrazil's health minister says cases with no confirmation of COVID-19 won't be considered on death toll.\n13\nGovt has added #Corona disease in all existing mediclaim insurances as a special case\n\n#COVID2019India https://t.co/39vpW7tBqq\n14\nThe Gates Foundation \"has the patent for this coronavirus.\"\n15\nNashville Man Thinks World Is Upside-Down but Respects that World Doesn't Care What He Thinks https://t.co/xAw4YLwLsl #coronavirus\n16\n14 China Muslims hidden at Bihari mosque has been taken to corona virus test by Bihari police. Erode police has caught Thailand Muslim mullahs infected with corona virus. Today Salem Police has caught 11 Indonesian Muslim mullahs at Salem mosque. This video shows that they are applying and putting saliva on spoons, plates and utensils and also they are in the intention of spreading corona virus disease. Nobody knows what's happening in the Nation\n17\nCoronavirus found in gutkha or chewing tobacco samples sold in Indian state of Maharashtra as raw material sourced from China.\n18\nThe new coronavirus does not settle in the air but is grounded so it is not transmitted by air.\n19\nSays the CDC now says that the coronavirus can survive on surfaces for up to 17 days.\n20\nThe Chinese government announced that \"garlic is a preventative food for the the novel coronavirus.\"\n21\nFlood Hit Areas Pretend To Have Coronavirus In Bid To Get Government's Attention https://t.co/NKpkH0cY0Z\n22\n@Dianes_Bucket @arkless_kevin @ReeeeSpectWalk @ftwrharry @wolfiecindy 'Spanish Flu' was propaganda to cover up the millions of soldiers who died from military vaccines, WWI war trauma, radiation effects and hysteria (lots of Aspirin overdose by people who thought it would protect them).\n23\n🤝 As business continue to adapt their services in the wake of covid-19, the SWA Hand Sanitiser Portal is available for sourcing #handsanitiser and ethanol for producing sanitiser.\n\n🖊️ Complete your details and find suppliers here: https://t.co/b7uLQbfQLz https://t.co/5qJQ5h8w6l\n24\nHydroxychloroquine. The virus cure.\n\nHow fast does this pandemic end if you could start feeling better in as soon as 5 hours?\n25\nSUBHAN ALLAH: AFTER CORONA VIRUS CHINA GOVT LIFTED BAN ON HOLY QURAN & ALLOWED CHINESE MUSLIMS TO READ THEIR SACRED BOOK! \"SO WHICH OF THE FAVORS OF YOUR LORD WOULD YOU DENY?\"\n26\nA video claiming bodies packed in body bags are being dumped in mass graves in Italy and Spain.\n27\nIndian Army has built a 1000-bed hospital in Rajasthan in eight days for the treatment of COVID-19.\n28\nThere has been a pandemic every 100 years\n29\n???Florida hospital reports a coronavirus ???infestation??? with multiple confirmed patients.??�\n30\nMuslim Doctor died while treating people infected with coronavirus in Delhi\n31\nAs tuberculosis shaped modernism, so COVID-19 and our collective experience of staying inside for months on end will influence architecture’s near future, @chaykak writes. https://t.co/ag34yZckbU\n32\nA WhatsApp forward has gone viral which claimed that a vaccine for coronavirus has been discovered. The viral forward also claims that the treatment for coronavirus is mentioned in India's Intermediate Zoology book.\n33\nSeveral social media users claimed that there was a massive crowd at Bangalore’s KR Market on the occasion of Varamahalaxmi flouting social distancing norms. This claim is misleading. A 2019 video is being passed off as a recent one. #COVID19 #Bangalore https://t.co/my7CtZKGD5\n34\n\"Sanitizer will do nothing for the coronavirus.\"\n35\nThe coronavirus is only as dangerous as a flu the diseases have the same death rate air pollution and bad hygienic conditions in Italian hospitals (hospital germs) are responsible for the many death cases and only 5% of the whole population is endangered by COVID-19.\n36\nNEWS! Lockdown has now lasted so long children could have put their shoes on twice https://t.co/AeE1bpQphG https://t.co/zlMPEyqG0J\n37\nQuotes Joe Biden as saying “people who have never died before are now dying from coronavirus.”\n38\nApproval from Ayush Ministey. Time for particular lobby to buy bournol\n\n😷😷😷😷😷😷\n39\nFacebook post that compares deaths in Italy during coronavirus pandemie with deaths during seasonal flu outbursts from 2014 to 2017. The post says that during 2014 seasonal flu outburst 375 000 people died in Italy and it was the real problem and coronavirus deaths compared to this aren't serious.\n40\nTablik Jamaat Chief Maulana Saad: \"If 70000 people get coronavirus India will be destroyed. The country will be in our possession.\"\n41\nHand dryers are not effective in killing coronavirus. #WhatsAppForwards are not always true; they can be misleading false or satire. Don't believe everything you see. Verify before sharing and become a #Newschecker and make #MainBhiNewschecker your signature. https://t.co/YB5ed7exEV\n42\nMaine governor mandates dog cone wearing for restaurant staff instead of mask https://t.co/PN9bWrK3gP #coronavirus #josephbiden\n43\nPhoto shows the last meeting of a Turkish doctor who died due to COVID-19 with his child in Munich.\n44\n18 states including US UK and Australia request PM Modi to head a task force to stop coronavirus.\n45\nWe fact-checked a range of statements from the second night of #DNC2020. Here are highlights dealing with coronavirus case numbers and the #TrumpAdministration’s position on the #ACA. https://t.co/bKhYJteUmf\n46\nWhite House launches Trump-branded coronavirus medicine.\n47\nVideo of Tabligi pilgrims who were moving via trucks to spread COVID-19 in India.\n48\nCold weather will kill coronavirus. No wait. Hot weather will kill corona. Did you also fall for these contradictory hoaxes? Don't fall the fake news &amp; misinformation. Participate in our #MainBhiNewschecker initiative &amp; we will fight the infodemic together. #CoronavirusFacts https://t.co/6vi1gzKVsA\n49\nBeware Of A Donald Trump Vaccine https://t.co/RkjO91lleP #jaredkushner #billbarr\n50\n_A vaccine for the new coronavirus has been created by US scientists and will be ready to use from next Sunday._\n51\n@htTweets NOT For COVID\nBut to prevent other infections\nafter age of 65\nConsult your Doctors\nfor \nPneumococcal conjugate vaccine or PCV13\nPneumococcal polysaccharide vaccine or PPSV23\n\nI found them useful for my wife\nhttps://t.co/zQ4uy0f5GV\n52\nLockdown 2020 Survival Juice\n\nGet yours here &gt;&gt;&gt; https://t.co/K4EAwKiOnO https://t.co/3vDTYsqBWe\n53\n???You see suicide rates are skyrocketing now?????�\n54\nWHY CENSOR HER? Dr. Li Meng Yan claims COVID was BIO-engineered by Red C... https://t.co/TqScC5sWyH via @YouTube\n55\nDrinking tea and hot water kills the virus; lemon slices in warm water may save your life; it's recommended to keep your money in a sealed plastic bag; a conspiracy theory suggests China is benefiting from the pandemic; vinegar is good for cleaning your hands.\n56\n#coronavirus \"You can not buy anything with these\"\n\"They are totally useless\"\n\nChinese Yuan becomes just merely paper and trash.\n\n#china #coronavirus #economy #wuhan https://t.co/p2CZbZkrsD\n57\nA tweet from President Donald Trump that says, before the U.S. issues financial assistance to individuals to deal with the coronavirus pandemic, \"we will go through your social media history from the last 4 years and search for any post with #NotMyP...\n58\nA video claims that Bill Gates made a presentation to the CIA on COVID-19 vaccines for modifying the brain of religious fanatics.\n59\n???Due to the large number of people who will refuse the forthcoming COVID-19 vaccine because it will include tracking microchips, the Gates Foundation is now spending billions to ensure that all medical and dental injections and procedures include the chips.??�\n60\nAudio from WhatsApp in which the head of Cardiology at the Gregorio Marañón Hospital states that we are in a moment of uncontrolled coronavirus infection.\n61\nMan Has Gone To Live In Parallel Universe https://t.co/oujWjz9aVa #alcohol #coronavirus #whisky\n62\nThe alternative medicine practitioner's guide to coronavirus https://t.co/ppywxWHfpU\n63\nItaly ???went against the WHO's ???law?????� against COVID-19 autopsies and ???discovered covid is not a virus, but a bacterium??� that ???clots the blood and reduces the oxygen saturation.??�\n64\nPost claims that sister of Bharatiya Janata Party leader Kapil Mishra married a Muslim man\n65\nA post shared more than 160000 times on Facebook during the novel coronavirus pandemic says Bill Gates wants “digital tattoos” to check who has been tested and asks if it would be “like holocaust victims have.”\n66\nMeditate Your Way Through Covid 19 With Tracy Honeycomb \n\n#covid_19 https://t.co/JvSzWGsLbX\n67\nA photo of people lying in the street is accompanied by a caption implying they are coronavirus victims in China.\n68\nA viral video shows a group of doctors airing unproven conspiracy theories about the coronavirus. One of the most inaccurate claims comes from Dr. Stella Immanuel who has a track record of making bizarre medical claims such as believing in alien DNA. https://t.co/vIH89dohRh\n69\n???Joe Biden and the Democrats want to prosecute Americans for going to church, but not for burning a church.??�\n70\nDr. Anthony Fauci \"has known for 15 years that chloroquine and ??? hydroxychloroquine will not only treat a current case of coronavirus but prevent future cases.??�\n71\nThere are ???360,000 (deaths) a year from swimming pools. But we don???t shut the country down for that.??�\n72\nAn inmate who was released from prison under COVID-19 \"humanitarian house arrests\" was arrested again in Campo Bom. Police officers found more than 100 kg of cocaine in his house and several guns.\n73\nA person with a cold or flu will test positive for COVID-19\n74\nClaim: The ‘Fund of Funds’ part of the #COVID19 stimulus will mobilise equity of ~Rs 50000 cr for MSMEs Fact: A similar fund set up in 2016 to mobilise Rs 60000 cr for start-ups disbursed only 6% of planned amount https://t.co/wF9lG2PM0F\n75\nDetainees in Mpimba central prison Burundi died due to COVID-19 and that some contracted the coronavirus.\n76\nBechara Covid19 se down hai else he would have give a nice acceptance speech. Dad this is for you https://t.co/8yZfJ0TK6V https://t.co/3rnfijiwOb\n77\nSays \"the coronavirus was engineered by scientists in a lab.\"\n78\nVideo of a doctor at a press conference who said\n79\n5G is the cause of the coronavirus pandemic.\n80\n@globaltimesnews It doesn’t effect randians coz they have CowUrine for cure🐄💦💁🏿‍♂️ after all they have bad smell to tackle COVID-19 with Cow-dung\n81\nOpening ceremony of 2012 London Olympics was a projection of coronavirus pandemic. The hospital beds apperaing on the scene during the opening show and Boris Johnson in a hospital bed prove that the spread of the disease was planned in advance.\n82\nThe WHO banned autopsies and Italy changed the protocols for the coronavirus.\n83\n???According to the CDC, so far this year, Florida has had 1,762 deaths from COVID-19 and 5,185 from pneumonia. Average pneumonia deaths in Florida from 2013-2018 for the same time period are 918.??�\n84\nThe underlying cause of death in the vast majority of death certificates that mention COVID-19 is the coronavirus. https://t.co/Hg4O4AQZ3X\n85\n#Florida smashes record for most new COVID-19 cases any state has in a single day https://t.co/gqtofPbOAd\n86\nThe claim stated that India's top business conglomerate Tata Group Chairman Ratan Tata said it's not time to think of profits but to think of survival.\n87\nWe have one of the lowest mortality rates in the world from COVID-19.\n88\nThe remedy for the corona virus may have existed for a long time, 1934 Old malaria drug seems to work against coronavirus symptoms. Made in Holland\n89\nMadrid has enabled the phone number 915038030 to request prescriptions.\n90\nClaim that Govt is providing money to bereaved families of COVID-19 victims is false\n91\n@MarionKoopmans Dr Shi (en het Wuhan Institute of Virology) deden mee aan dit onderzoek:\nUtilizing the SARS-CoV infectious clone, we generated and characterized a chimeric virus expressing the spike of bat coronavirus SHC014 in a mouse adapted SARS-CoV backbone.\nhttps://t.co/QIH5zOYvty\n92\nPreviously they claimed that cow urine cures COVID qnd people actually believed it. https://t.co/XZny1GsLRx\n93\n_Contact tracing apps have been secretly installed on every Android phone_\n94\nTable that compares deaths from COVID-19 with other causes show the new coronavirus is harmless.\n95\nMan Finds It Difficult To Eat When Wearing A Face Mask https://t.co/atfaqxvfjX #coronavirus #facemasks #covid19\n96\nClaim that Indian prime minister Modi said one crore (ten million) COVID-19 infected patients have been treated for free.\n97\nA video shows that \"Bill Gates admits the vaccine will no doubt kill 700,000 people\"\n98\nCattle vaccine proofs that coronavirus has existed for years and that there already is a vaccine. Photo showing the cattle vaccine produced by the American medical company ScourGuard 4KC.\n99\nMan did pass along coronavirus infection at a WalMart in Louisiana.\n"
     ]
    }
   ],
   "source": [
    "for index, item in enumerate(english_test_labels[english_test_labels['label']=='fake'].tweet):\n",
    "    if index < 100:\n",
    "        print(index)\n",
    "        print(item)\n",
    "    # print(english_test_labels[english_test_labels['label']=='fake'].iloc[index].tweet)"
   ]
  },
  {
   "cell_type": "code",
   "execution_count": null,
   "metadata": {},
   "outputs": [],
   "source": []
  }
 ]
}