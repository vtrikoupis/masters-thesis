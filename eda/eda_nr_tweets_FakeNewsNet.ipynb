{
 "metadata": {
  "language_info": {
   "codemirror_mode": {
    "name": "ipython",
    "version": 3
   },
   "file_extension": ".py",
   "mimetype": "text/x-python",
   "name": "python",
   "nbconvert_exporter": "python",
   "pygments_lexer": "ipython3",
   "version": "3.9.2"
  },
  "orig_nbformat": 4,
  "kernelspec": {
   "name": "python3",
   "display_name": "Python 3.9.2 64-bit ('base': conda)"
  },
  "interpreter": {
   "hash": "730a29a129caaf396252390d0f158bf1f8c297b87c9b8a65cd66b7ca36b66f6f"
  }
 },
 "nbformat": 4,
 "nbformat_minor": 2,
 "cells": [
  {
   "cell_type": "code",
   "execution_count": 1,
   "metadata": {},
   "outputs": [],
   "source": [
    "import pandas as pd"
   ]
  },
  {
   "cell_type": "code",
   "execution_count": 2,
   "metadata": {},
   "outputs": [],
   "source": [
    "gossipcop_fake = pd.read_csv('../fakenewsnet/gossipcop_fake.csv')\n",
    "gossipcop_fake.name = 'gossipcop_fake'\n",
    "\n",
    "gossipcop_real = pd.read_csv('../fakenewsnet/gossipcop_real.csv')\n",
    "gossipcop_real.name = 'gossipcop_real'\n",
    "\n",
    "politifact_fake = pd.read_csv('../fakenewsnet/politifact_fake.csv')\n",
    "politifact_fake.name = 'politifact_fake'\n",
    "\n",
    "politifact_real = pd.read_csv('../fakenewsnet/politifact_real.csv')\n",
    "politifact_real.name = 'politifact_real'\n"
   ]
  },
  {
   "cell_type": "code",
   "execution_count": 3,
   "metadata": {},
   "outputs": [
    {
     "output_type": "stream",
     "name": "stdout",
     "text": [
      "gossipcop_fake contains 598299 tweets\ngossipcop_real contains 881627 tweets\npolitifact_fake contains 165352 tweets\npolitifact_real contains 418164 tweets\nTotal tweets in FakeNewsNet:  2063442\n"
     ]
    }
   ],
   "source": [
    "datasets = [gossipcop_fake, gossipcop_real, politifact_fake, politifact_real]\n",
    "\n",
    "total_count = 0\n",
    "for dataset in datasets:\n",
    "    count = 0\n",
    "    for item in dataset['tweet_ids'].to_list():\n",
    "        try:\n",
    "            n_l = item.split('\\t')\n",
    "            for item in n_l:\n",
    "                count+=1\n",
    "        # Deal with Null rows\n",
    "        except AttributeError as err:\n",
    "            continue\n",
    "    print(dataset.name, 'contains', count, 'tweets')\n",
    "    total_count+=count\n",
    "print('Total tweets in FakeNewsNet: ',total_count)"
   ]
  }
 ]
}