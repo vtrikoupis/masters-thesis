{
 "metadata": {
  "language_info": {
   "codemirror_mode": {
    "name": "ipython",
    "version": 3
   },
   "file_extension": ".py",
   "mimetype": "text/x-python",
   "name": "python",
   "nbconvert_exporter": "python",
   "pygments_lexer": "ipython3",
   "version": "3.9.2"
  },
  "orig_nbformat": 4,
  "kernelspec": {
   "name": "python3",
   "display_name": "Python 3.9.2 64-bit ('base': conda)"
  },
  "interpreter": {
   "hash": "730a29a129caaf396252390d0f158bf1f8c297b87c9b8a65cd66b7ca36b66f6f"
  }
 },
 "nbformat": 4,
 "nbformat_minor": 2,
 "cells": [
  {
   "cell_type": "code",
   "execution_count": 1,
   "metadata": {},
   "outputs": [],
   "source": [
    "import pandas as pd"
   ]
  },
  {
   "cell_type": "code",
   "execution_count": 2,
   "metadata": {},
   "outputs": [],
   "source": [
    "fake = pd.read_csv('fake.csv', low_memory=False)"
   ]
  },
  {
   "cell_type": "code",
   "execution_count": 3,
   "metadata": {},
   "outputs": [],
   "source": [
    "real = pd.read_csv('real.csv')"
   ]
  },
  {
   "cell_type": "code",
   "execution_count": 4,
   "metadata": {},
   "outputs": [
    {
     "output_type": "execute_result",
     "data": {
      "text/plain": [
       "        Unnamed: 0            id  \\\n",
       "0                6  4.514162e+17   \n",
       "1                7  9.213275e+17   \n",
       "2                8  6.554198e+17   \n",
       "3               10  6.553695e+17   \n",
       "4               11  1.008866e+18   \n",
       "...            ...           ...   \n",
       "196969      205910  1.004703e+18   \n",
       "196970      205911  1.060765e+18   \n",
       "196971      205912  1.011694e+18   \n",
       "196972      205913  1.057270e+18   \n",
       "196973      205914  1.194178e+17   \n",
       "\n",
       "                                                     text     author_id  \\\n",
       "0        14 am pm moot court room udc law symposium re...  2.011575e+07   \n",
       "1        14 did you say gstephanopoulos abc this week ...  1.389327e+08   \n",
       "2        15 sen pat toomey rpa delivers weekly republi...  2.581112e+08   \n",
       "3        15 sen pat toomey rpa delivers weekly republi...  1.295796e+09   \n",
       "4        2009former maryland lt governor michael steel...  4.825717e+09   \n",
       "...                                                   ...           ...   \n",
       "196969  zweiter teil der reise zu neuen horizonten beg...  1.038748e+08   \n",
       "196970  zyahnab was there many from indivisible charlo...  3.478607e+08   \n",
       "196971  zzbluecomet foxnews shepnewsteam he should be ...  8.193621e+17   \n",
       "196972  zzventure neilcybart maybe it is like state of...  7.806705e+07   \n",
       "196973  zzzzzzzz rudy giuliani still apparently sees t...  2.764432e+07   \n",
       "\n",
       "                      created_at          news_id  \n",
       "0       2014-04-02T17:49:39.000Z   politifact8995  \n",
       "1       2017-10-20T10:49:18.000Z   politifact7888  \n",
       "2       2015-10-17T16:27:13.000Z   politifact2758  \n",
       "3       2015-10-17T13:07:17.000Z   politifact2758  \n",
       "4       2018-06-19T00:16:59.000Z   politifact1216  \n",
       "...                          ...              ...  \n",
       "196969  2018-06-07T12:32:38.000Z  politifact11294  \n",
       "196970  2018-11-09T05:22:45.000Z  politifact11399  \n",
       "196971  2018-06-26T19:33:23.000Z   politifact8085  \n",
       "196972  2018-10-30T13:54:38.000Z   politifact7390  \n",
       "196973  2011-09-29T14:26:27.000Z    politifact215  \n",
       "\n",
       "[196962 rows x 6 columns]"
      ],
      "text/html": "<div>\n<style scoped>\n    .dataframe tbody tr th:only-of-type {\n        vertical-align: middle;\n    }\n\n    .dataframe tbody tr th {\n        vertical-align: top;\n    }\n\n    .dataframe thead th {\n        text-align: right;\n    }\n</style>\n<table border=\"1\" class=\"dataframe\">\n  <thead>\n    <tr style=\"text-align: right;\">\n      <th></th>\n      <th>Unnamed: 0</th>\n      <th>id</th>\n      <th>text</th>\n      <th>author_id</th>\n      <th>created_at</th>\n      <th>news_id</th>\n    </tr>\n  </thead>\n  <tbody>\n    <tr>\n      <th>0</th>\n      <td>6</td>\n      <td>4.514162e+17</td>\n      <td>14 am pm moot court room udc law symposium re...</td>\n      <td>2.011575e+07</td>\n      <td>2014-04-02T17:49:39.000Z</td>\n      <td>politifact8995</td>\n    </tr>\n    <tr>\n      <th>1</th>\n      <td>7</td>\n      <td>9.213275e+17</td>\n      <td>14 did you say gstephanopoulos abc this week ...</td>\n      <td>1.389327e+08</td>\n      <td>2017-10-20T10:49:18.000Z</td>\n      <td>politifact7888</td>\n    </tr>\n    <tr>\n      <th>2</th>\n      <td>8</td>\n      <td>6.554198e+17</td>\n      <td>15 sen pat toomey rpa delivers weekly republi...</td>\n      <td>2.581112e+08</td>\n      <td>2015-10-17T16:27:13.000Z</td>\n      <td>politifact2758</td>\n    </tr>\n    <tr>\n      <th>3</th>\n      <td>10</td>\n      <td>6.553695e+17</td>\n      <td>15 sen pat toomey rpa delivers weekly republi...</td>\n      <td>1.295796e+09</td>\n      <td>2015-10-17T13:07:17.000Z</td>\n      <td>politifact2758</td>\n    </tr>\n    <tr>\n      <th>4</th>\n      <td>11</td>\n      <td>1.008866e+18</td>\n      <td>2009former maryland lt governor michael steel...</td>\n      <td>4.825717e+09</td>\n      <td>2018-06-19T00:16:59.000Z</td>\n      <td>politifact1216</td>\n    </tr>\n    <tr>\n      <th>...</th>\n      <td>...</td>\n      <td>...</td>\n      <td>...</td>\n      <td>...</td>\n      <td>...</td>\n      <td>...</td>\n    </tr>\n    <tr>\n      <th>196969</th>\n      <td>205910</td>\n      <td>1.004703e+18</td>\n      <td>zweiter teil der reise zu neuen horizonten beg...</td>\n      <td>1.038748e+08</td>\n      <td>2018-06-07T12:32:38.000Z</td>\n      <td>politifact11294</td>\n    </tr>\n    <tr>\n      <th>196970</th>\n      <td>205911</td>\n      <td>1.060765e+18</td>\n      <td>zyahnab was there many from indivisible charlo...</td>\n      <td>3.478607e+08</td>\n      <td>2018-11-09T05:22:45.000Z</td>\n      <td>politifact11399</td>\n    </tr>\n    <tr>\n      <th>196971</th>\n      <td>205912</td>\n      <td>1.011694e+18</td>\n      <td>zzbluecomet foxnews shepnewsteam he should be ...</td>\n      <td>8.193621e+17</td>\n      <td>2018-06-26T19:33:23.000Z</td>\n      <td>politifact8085</td>\n    </tr>\n    <tr>\n      <th>196972</th>\n      <td>205913</td>\n      <td>1.057270e+18</td>\n      <td>zzventure neilcybart maybe it is like state of...</td>\n      <td>7.806705e+07</td>\n      <td>2018-10-30T13:54:38.000Z</td>\n      <td>politifact7390</td>\n    </tr>\n    <tr>\n      <th>196973</th>\n      <td>205914</td>\n      <td>1.194178e+17</td>\n      <td>zzzzzzzz rudy giuliani still apparently sees t...</td>\n      <td>2.764432e+07</td>\n      <td>2011-09-29T14:26:27.000Z</td>\n      <td>politifact215</td>\n    </tr>\n  </tbody>\n</table>\n<p>196962 rows × 6 columns</p>\n</div>"
     },
     "metadata": {},
     "execution_count": 4
    }
   ],
   "source": [
    "real.dropna()"
   ]
  },
  {
   "cell_type": "code",
   "execution_count": 5,
   "metadata": {},
   "outputs": [],
   "source": [
    "real = real.fillna(0)\n",
    "real.author_id.astype(int)\n",
    "unique_authors_real = len(real.author_id.unique())"
   ]
  },
  {
   "cell_type": "code",
   "execution_count": 6,
   "metadata": {},
   "outputs": [],
   "source": [
    "fake = fake.fillna(0)\n",
    "unique_authors_fake = len(fake.author_id.unique())"
   ]
  },
  {
   "cell_type": "code",
   "execution_count": 7,
   "metadata": {},
   "outputs": [
    {
     "output_type": "execute_result",
     "data": {
      "text/plain": [
       "188009"
      ]
     },
     "metadata": {},
     "execution_count": 7
    }
   ],
   "source": [
    "unique_authors_fake + unique_authors_real"
   ]
  },
  {
   "cell_type": "code",
   "execution_count": 8,
   "metadata": {},
   "outputs": [
    {
     "output_type": "execute_result",
     "data": {
      "text/plain": [
       "   Unnamed: 0 Unnamed: 0.1                created_at  \\\n",
       "0           0            0  2017-10-03T15:48:10.000Z   \n",
       "\n",
       "                                                text author_id            id  \\\n",
       "0  Oh, Gays for Trump. Calling on Gays for Trump!...  42013288  9.152421e+17   \n",
       "\n",
       "           news_id withheld  \n",
       "0  politifact15371        0  "
      ],
      "text/html": "<div>\n<style scoped>\n    .dataframe tbody tr th:only-of-type {\n        vertical-align: middle;\n    }\n\n    .dataframe tbody tr th {\n        vertical-align: top;\n    }\n\n    .dataframe thead th {\n        text-align: right;\n    }\n</style>\n<table border=\"1\" class=\"dataframe\">\n  <thead>\n    <tr style=\"text-align: right;\">\n      <th></th>\n      <th>Unnamed: 0</th>\n      <th>Unnamed: 0.1</th>\n      <th>created_at</th>\n      <th>text</th>\n      <th>author_id</th>\n      <th>id</th>\n      <th>news_id</th>\n      <th>withheld</th>\n    </tr>\n  </thead>\n  <tbody>\n    <tr>\n      <th>0</th>\n      <td>0</td>\n      <td>0</td>\n      <td>2017-10-03T15:48:10.000Z</td>\n      <td>Oh, Gays for Trump. Calling on Gays for Trump!...</td>\n      <td>42013288</td>\n      <td>9.152421e+17</td>\n      <td>politifact15371</td>\n      <td>0</td>\n    </tr>\n  </tbody>\n</table>\n</div>"
     },
     "metadata": {},
     "execution_count": 8
    }
   ],
   "source": [
    "fake.head(1)"
   ]
  },
  {
   "cell_type": "code",
   "execution_count": 9,
   "metadata": {},
   "outputs": [
    {
     "output_type": "stream",
     "name": "stdout",
     "text": [
      "191282  tweets on real news\n69129  tweets on fake news\n"
     ]
    }
   ],
   "source": [
    "column_values = real[[\"news_id\", \"created_at\"]].values.ravel()\n",
    "unique_values =  pd.unique(column_values)\n",
    "print(len(unique_values), ' tweets on real news')\n",
    "column_values = fake[[\"news_id\", \"created_at\"]].values.ravel()\n",
    "unique_values =  pd.unique(column_values)\n",
    "print(len(unique_values), ' tweets on fake news')\n",
    "\n"
   ]
  },
  {
   "cell_type": "code",
   "execution_count": 10,
   "metadata": {},
   "outputs": [
    {
     "output_type": "execute_result",
     "data": {
      "text/plain": [
       "139644"
      ]
     },
     "metadata": {},
     "execution_count": 10
    }
   ],
   "source": [
    "len(real.author_id.unique())"
   ]
  },
  {
   "cell_type": "code",
   "execution_count": null,
   "metadata": {},
   "outputs": [],
   "source": []
  }
 ]
}