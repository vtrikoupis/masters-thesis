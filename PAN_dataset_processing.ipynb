{
 "metadata": {
  "language_info": {
   "codemirror_mode": {
    "name": "ipython",
    "version": 3
   },
   "file_extension": ".py",
   "mimetype": "text/x-python",
   "name": "python",
   "nbconvert_exporter": "python",
   "pygments_lexer": "ipython3",
   "version": "3.9.2"
  },
  "orig_nbformat": 2,
  "kernelspec": {
   "name": "python3",
   "display_name": "Python 3.9.2 64-bit ('base': conda)"
  },
  "metadata": {
   "interpreter": {
    "hash": "730a29a129caaf396252390d0f158bf1f8c297b87c9b8a65cd66b7ca36b66f6f"
   }
  },
  "interpreter": {
   "hash": "730a29a129caaf396252390d0f158bf1f8c297b87c9b8a65cd66b7ca36b66f6f"
  }
 },
 "nbformat": 4,
 "nbformat_minor": 2,
 "cells": [
  {
   "cell_type": "code",
   "execution_count": 4,
   "metadata": {},
   "outputs": [],
   "source": [
    "import sys; sys.path.insert(0, '..')"
   ]
  },
  {
   "cell_type": "code",
   "execution_count": 50,
   "metadata": {},
   "outputs": [],
   "source": [
    "import pandas as pd\n",
    "pd.options.mode.chained_assignment = None  # default='warn'\n",
    "import re\n",
    "from tqdm import notebook\n",
    "from re import compile\n",
    "from utils.regex_fx import remove_single_char, remove_numbers, remove_urls, remove_emojis, remove_extra_spaces, remove_rt, remove_nonalpha, remove_mention, strip_list_noempty\n",
    "from collections import Counter\n",
    "import spacy\n",
    "nlp = spacy.load(\"en_core_web_sm\")\n",
    "from gensim.corpora import Dictionary\n",
    "from gensim.models.coherencemodel import CoherenceModel\n",
    "from gensim.models import LdaMulticore\n",
    "from datetime import datetime\n",
    "import numpy as np\n",
    "import matplotlib.pyplot as plt\n"
   ]
  },
  {
   "cell_type": "code",
   "execution_count": 6,
   "metadata": {},
   "outputs": [],
   "source": [
    "pan_dataset = pd.read_pickle('all_collected_users_en')\n",
    "true = pan_dataset[pan_dataset['claim_label']=='true']\n",
    "false = pan_dataset[pan_dataset['claim_label']=='false']"
   ]
  },
  {
   "source": [
    "### The amount of fake and false news for each source"
   ],
   "cell_type": "markdown",
   "metadata": {}
  },
  {
   "cell_type": "code",
   "execution_count": 7,
   "metadata": {},
   "outputs": [
    {
     "output_type": "execute_result",
     "data": {
      "text/plain": [
       "gossipcop     958667\n",
       "politifact    141210\n",
       "snopes         54450\n",
       "emergent        7764\n",
       "Name: source, dtype: int64"
      ]
     },
     "metadata": {},
     "execution_count": 7
    }
   ],
   "source": [
    "true.source.value_counts()"
   ]
  },
  {
   "cell_type": "code",
   "execution_count": 8,
   "metadata": {},
   "outputs": [
    {
     "output_type": "execute_result",
     "data": {
      "text/plain": [
       "politifact               339934\n",
       "snopes                   254580\n",
       "gossipcop                176307\n",
       "leadstories-anastasia    132356\n",
       "emergent                    203\n",
       "Name: source, dtype: int64"
      ]
     },
     "metadata": {},
     "execution_count": 8
    }
   ],
   "source": [
    "false.source.value_counts()"
   ]
  },
  {
   "cell_type": "code",
   "execution_count": 9,
   "metadata": {},
   "outputs": [],
   "source": [
    "politifact_true = true[true.source=='politifact']\n",
    "politifact_false = false[false.source=='politifact']\n",
    "gossipcop_true = true[true.source =='gossipcop']\n",
    "gossipcop_false = false[false.source =='gossipcop']"
   ]
  },
  {
   "cell_type": "code",
   "execution_count": null,
   "metadata": {},
   "outputs": [],
   "source": []
  },
  {
   "cell_type": "code",
   "execution_count": 76,
   "metadata": {},
   "outputs": [
    {
     "output_type": "execute_result",
     "data": {
      "text/plain": [
       "3412"
      ]
     },
     "metadata": {},
     "execution_count": 76
    }
   ],
   "source": [
    "len(gossipcop_false.claim_text.unique())"
   ]
  },
  {
   "cell_type": "code",
   "execution_count": 77,
   "metadata": {
    "tags": []
   },
   "outputs": [
    {
     "output_type": "execute_result",
     "data": {
      "text/plain": [
       "            source        user claim_label claim_id  \\\n",
       "1086882  gossipcop  @GossipCop       false    19146   \n",
       "\n",
       "                                                claim_text  \\\n",
       "1086882      Kendall   Kylie Jenner Jenner NOT Upset Up...   \n",
       "\n",
       "                                     tweet_id             tweet_date  \\\n",
       "1086882  /GossipCop/status/995423424741888001  3:00 PM - 12 May 2018   \n",
       "\n",
       "                                                tweet_Text  \n",
       "1086882  Kendall, Kylie Jenner NOT \"Upset\" Over Caitlyn...  "
      ],
      "text/html": "<div>\n<style scoped>\n    .dataframe tbody tr th:only-of-type {\n        vertical-align: middle;\n    }\n\n    .dataframe tbody tr th {\n        vertical-align: top;\n    }\n\n    .dataframe thead th {\n        text-align: right;\n    }\n</style>\n<table border=\"1\" class=\"dataframe\">\n  <thead>\n    <tr style=\"text-align: right;\">\n      <th></th>\n      <th>source</th>\n      <th>user</th>\n      <th>claim_label</th>\n      <th>claim_id</th>\n      <th>claim_text</th>\n      <th>tweet_id</th>\n      <th>tweet_date</th>\n      <th>tweet_Text</th>\n    </tr>\n  </thead>\n  <tbody>\n    <tr>\n      <th>1086882</th>\n      <td>gossipcop</td>\n      <td>@GossipCop</td>\n      <td>false</td>\n      <td>19146</td>\n      <td>Kendall   Kylie Jenner Jenner NOT Upset Up...</td>\n      <td>/GossipCop/status/995423424741888001</td>\n      <td>3:00 PM - 12 May 2018</td>\n      <td>Kendall, Kylie Jenner NOT \"Upset\" Over Caitlyn...</td>\n    </tr>\n  </tbody>\n</table>\n</div>"
     },
     "metadata": {},
     "execution_count": 77
    }
   ],
   "source": [
    "gossipcop_false.sort_values('claim_text').head(1)"
   ]
  },
  {
   "source": [
    "### Date formatting for PAN dataset\n",
    "- `%-I` hour 12-hour clock as a decimal (no zero padding)\n",
    "- `:` separation between hour and minute\n",
    "- `%M` minute as a zero padded decimal\n",
    "- `%p` AM/PM\n",
    "- ` - ` space-dash-space pattern betwen time and date \n",
    "- `%-d` date of the month as a decimal (no zero padding)\n",
    "- `%b` Month abbreviated\n",
    "- `%Y` Year with century as decimal"
   ],
   "cell_type": "markdown",
   "metadata": {}
  },
  {
   "cell_type": "code",
   "execution_count": 10,
   "metadata": {},
   "outputs": [],
   "source": [
    "def dfDateTimeFormat(df):\n",
    "    formatted_dates = []\n",
    "    for item in df.tweet_date:\n",
    "        formatted_dates.append(datetime.strptime(item, \"%I:%M %p - %d %b %Y\"))\n",
    "    df.tweet_date = formatted_dates\n",
    "    df.sort_values(['claim_id','tweet_date'], ascending=[True, True], inplace=True)\n",
    "    return df"
   ]
  },
  {
   "cell_type": "code",
   "execution_count": 11,
   "metadata": {},
   "outputs": [],
   "source": [
    "gossipcop_false = dfDateTimeFormat(gossipcop_false)\n",
    "gossipcop_true = dfDateTimeFormat(gossipcop_true)\n",
    "politifact_false = dfDateTimeFormat(politifact_false)\n",
    "politifact_true = dfDateTimeFormat(politifact_true)"
   ]
  },
  {
   "cell_type": "code",
   "execution_count": 12,
   "metadata": {},
   "outputs": [
    {
     "output_type": "execute_result",
     "data": {
      "text/plain": [
       "           source            user claim_label claim_id  \\\n",
       "966714  gossipcop      @TheLoopAu       false    15967   \n",
       "966713  gossipcop  @ReadUnwritten       false    15967   \n",
       "\n",
       "                                               claim_text  \\\n",
       "966714  Did Miley Cyrus and Liam Hemsworth secretly ge...   \n",
       "966713  Did Miley Cyrus and Liam Hemsworth secretly ge...   \n",
       "\n",
       "                                        tweet_id          tweet_date  \\\n",
       "966714      /TheLoopAu/status/700137152143699968 2016-02-17 17:57:00   \n",
       "966713  /ReadUnwritten/status/700501642412560384 2016-02-18 18:06:00   \n",
       "\n",
       "                                               tweet_Text  \n",
       "966714  UM, did @MileyCyrus and @LiamHemsworth just se...  \n",
       "966713  Wait, Did Miley Cyrus And Liam Hemsworth Secre...  "
      ],
      "text/html": "<div>\n<style scoped>\n    .dataframe tbody tr th:only-of-type {\n        vertical-align: middle;\n    }\n\n    .dataframe tbody tr th {\n        vertical-align: top;\n    }\n\n    .dataframe thead th {\n        text-align: right;\n    }\n</style>\n<table border=\"1\" class=\"dataframe\">\n  <thead>\n    <tr style=\"text-align: right;\">\n      <th></th>\n      <th>source</th>\n      <th>user</th>\n      <th>claim_label</th>\n      <th>claim_id</th>\n      <th>claim_text</th>\n      <th>tweet_id</th>\n      <th>tweet_date</th>\n      <th>tweet_Text</th>\n    </tr>\n  </thead>\n  <tbody>\n    <tr>\n      <th>966714</th>\n      <td>gossipcop</td>\n      <td>@TheLoopAu</td>\n      <td>false</td>\n      <td>15967</td>\n      <td>Did Miley Cyrus and Liam Hemsworth secretly ge...</td>\n      <td>/TheLoopAu/status/700137152143699968</td>\n      <td>2016-02-17 17:57:00</td>\n      <td>UM, did @MileyCyrus and @LiamHemsworth just se...</td>\n    </tr>\n    <tr>\n      <th>966713</th>\n      <td>gossipcop</td>\n      <td>@ReadUnwritten</td>\n      <td>false</td>\n      <td>15967</td>\n      <td>Did Miley Cyrus and Liam Hemsworth secretly ge...</td>\n      <td>/ReadUnwritten/status/700501642412560384</td>\n      <td>2016-02-18 18:06:00</td>\n      <td>Wait, Did Miley Cyrus And Liam Hemsworth Secre...</td>\n    </tr>\n  </tbody>\n</table>\n</div>"
     },
     "metadata": {},
     "execution_count": 12
    }
   ],
   "source": [
    "gossipcop_false.head(2)"
   ]
  },
  {
   "cell_type": "code",
   "execution_count": 13,
   "metadata": {},
   "outputs": [],
   "source": [
    "def createDeltaTimeCols(df):\n",
    "    tweet_groups = {}\n",
    "    for name, group in df.groupby('claim_id'):\n",
    "        tweet_groups['group_'+str(name)] = group\n",
    "    for item in tweet_groups:\n",
    "        tweet_groups[item]['deltaT'] = tweet_groups[item].tweet_date.diff().astype('timedelta64[s]', errors='raise')\n",
    "        tweet_groups[item].fillna(0, inplace=True)\n",
    "    return tweet_groups"
   ]
  },
  {
   "cell_type": "code",
   "execution_count": 45,
   "metadata": {},
   "outputs": [],
   "source": [
    "politifact_false_tweet_groups = createDeltaTimeCols(politifact_false)\n",
    "politifact_true_tweet_groups = createDeltaTimeCols(politifact_true)\n",
    "gossipcop_false_tweet_groups = createDeltaTimeCols(gossipcop_false)\n",
    "gossipcop_true_tweet_groups = createDeltaTimeCols(gossipcop_true)"
   ]
  },
  {
   "cell_type": "code",
   "execution_count": 15,
   "metadata": {},
   "outputs": [],
   "source": [
    "HOUR_IN_SECONDS = 3600\n",
    "DAY_IN_SECONDS = 24*HOUR_IN_SECONDS\n",
    "WEEK_IN_SECONDS = 7*DAY_IN_SECONDS"
   ]
  },
  {
   "cell_type": "code",
   "execution_count": 48,
   "metadata": {},
   "outputs": [],
   "source": [
    "def calculateVirality(tweet_groups):\n",
    "    results = {}\n",
    "    tweets_shared_in_less_than_an_hour = 0\n",
    "    tweets_shared_in_less_than_a_day = 0\n",
    "    tweets_shared_in_less_than_a_week = 0\n",
    "    for item in tweet_groups:\n",
    "        results[item] = tweet_groups[item]['tweet_date'].to_list()\n",
    "        for index, timestamp in enumerate(results[item]):\n",
    "            if index+1 < len(results[item]):\n",
    "                # calculate difference between first tweet and every other tweet\n",
    "                difference = results[item][index] - results[item][0]\n",
    "                # extract times \n",
    "                days = difference.days\n",
    "                seconds = difference.seconds\n",
    "                hours = seconds//3600\n",
    "                minutes = (seconds//60)%60\n",
    "                # took less than an hour\n",
    "                if days == 0 and hours == 0 and minutes < 60:\n",
    "                    tweets_shared_in_less_than_an_hour+=1\n",
    "                # took less than a day\n",
    "                if days == 0 and hours < 24:\n",
    "                    tweets_shared_in_less_than_a_day+=1\n",
    "                # took less than a week\n",
    "                if days < 7:\n",
    "                    tweets_shared_in_less_than_a_week+=1\n",
    "    return tweets_shared_in_less_than_an_hour, tweets_shared_in_less_than_a_day, tweets_shared_in_less_than_a_week"
   ]
  },
  {
   "cell_type": "code",
   "execution_count": 49,
   "metadata": {},
   "outputs": [],
   "source": [
    "pf_less_than_an_hour, pf_less_than_a_day, pf_less_than_a_week = calculateVirality(politifact_false_tweet_groups)\n",
    "pt_less_than_an_hour, pt_less_than_a_day, pt_less_than_a_week = calculateVirality(politifact_true_tweet_groups)\n",
    "gf_less_than_an_hour, gf_less_than_a_day, gf_less_than_a_week = calculateVirality(gossipcop_false_tweet_groups)\n",
    "gt_less_than_an_hour, gt_less_than_a_day, gt_less_than_a_week = calculateVirality(gossipcop_true_tweet_groups)\n"
   ]
  },
  {
   "cell_type": "code",
   "execution_count": null,
   "metadata": {},
   "outputs": [],
   "source": []
  },
  {
   "cell_type": "code",
   "execution_count": 40,
   "metadata": {},
   "outputs": [],
   "source": [
    "# pf_results = {}\n",
    "# tweets_shared_in_less_than_an_hour = 0\n",
    "# tweets_shared_in_less_than_a_day = 0\n",
    "# tweets_shared_in_less_than_a_week = 0\n",
    "# for item in politifact_false_tweet_groups:\n",
    "#     pf_results[item] = politifact_false_tweet_groups[item]['tweet_date'].to_list()\n",
    "#     for index, timestamp in enumerate(pf_results[item]):\n",
    "#         if index+1 < len(pf_results[item]):\n",
    "#             # calculate difference between first tweet and every other tweet\n",
    "#             difference = pf_results[item][index] - pf_results[item][0]\n",
    "#             # extract times \n",
    "#             days = difference.days\n",
    "#             seconds = difference.seconds\n",
    "#             hours = seconds//3600\n",
    "#             minutes = (seconds//60)%60\n",
    "#             # took less than an hour\n",
    "#             if days == 0 and hours == 0 and minutes < 60:\n",
    "#                 tweets_shared_in_less_than_an_hour+=1\n",
    "#             # took less than a day\n",
    "#             if days == 0 and hours < 24:\n",
    "#                 tweets_shared_in_less_than_a_day+=1\n",
    "#             # took less than a week\n",
    "#             if days < 7:\n",
    "#                 tweets_shared_in_less_than_a_week+=1"
   ]
  },
  {
   "cell_type": "code",
   "execution_count": 43,
   "metadata": {},
   "outputs": [
    {
     "output_type": "execute_result",
     "data": {
      "text/plain": [
       "9550"
      ]
     },
     "metadata": {},
     "execution_count": 43
    }
   ],
   "source": [
    "tweets_shared_in_less_than_an_hour"
   ]
  },
  {
   "cell_type": "code",
   "execution_count": 16,
   "metadata": {},
   "outputs": [],
   "source": [
    "# true_text_list = true.claim_text.unique()\n",
    "# false_text_list = false.claim_text.unique()\n",
    "# \n",
    "true_text_list = politifact_true.claim_text.unique()\n",
    "false_text_list = politifact_false.claim_text.unique()\n"
   ]
  },
  {
   "source": [
    "Extra regex"
   ],
   "cell_type": "code",
   "metadata": {},
   "execution_count": null,
   "outputs": []
  },
  {
   "cell_type": "code",
   "execution_count": null,
   "metadata": {},
   "outputs": [],
   "source": [
    "pf_results = {}\n",
    "for item in politifact_false_tweet_groups:\n",
    "    pf_results[item] = politifact_false_tweet_groups[item]['tweet_date'].to_list()\n",
    "    for index, timestamp in enumerate(pf_results[item]):\n",
    "        if index < len(pf_results[item])-1:\n",
    "            difference = pf_results[item][index+1] - pf_results[item][index]\n",
    "            if difference.total_seconds() < HOUR_IN_SECONDS:\n",
    "                print(difference)\n",
    "    "
   ]
  },
  {
   "cell_type": "code",
   "execution_count": 17,
   "metadata": {},
   "outputs": [],
   "source": [
    "def process_text(text):\n",
    "    res = remove_numbers(text)\n",
    "    res = remove_nonalpha(res)\n",
    "    res = remove_extra_spaces(res)\n",
    "    res = remove_urls(res)\n",
    "    res = remove_single_char(res)\n",
    "    return res"
   ]
  },
  {
   "cell_type": "code",
   "execution_count": 25,
   "metadata": {},
   "outputs": [
    {
     "output_type": "display_data",
     "data": {
      "text/plain": "  0%|          | 0/1468 [00:00<?, ?it/s]",
      "application/vnd.jupyter.widget-view+json": {
       "version_major": 2,
       "version_minor": 0,
       "model_id": "630f02f94e3e4effaedbf1f430804cdf"
      }
     },
     "metadata": {}
    },
    {
     "output_type": "display_data",
     "data": {
      "text/plain": "  0%|          | 0/2745 [00:00<?, ?it/s]",
      "application/vnd.jupyter.widget-view+json": {
       "version_major": 2,
       "version_minor": 0,
       "model_id": "3d454940ab934cc19b34812a1e4a1889"
      }
     },
     "metadata": {}
    }
   ],
   "source": [
    "\n",
    "processed_true_text = []\n",
    "\n",
    "for index, item in enumerate(notebook.tqdm(true_text_list)):\n",
    "    processed_true_text.append(process_text(item))\n",
    "\n",
    "\n",
    "processed_false_text = []\n",
    "\n",
    "for index, item in enumerate(notebook.tqdm(false_text_list)):\n",
    "    processed_false_text.append(process_text(item))\n",
    "\n",
    "        "
   ]
  },
  {
   "cell_type": "code",
   "execution_count": 26,
   "metadata": {},
   "outputs": [
    {
     "output_type": "display_data",
     "data": {
      "text/plain": "  0%|          | 0/2745 [00:00<?, ?it/s]",
      "application/vnd.jupyter.widget-view+json": {
       "version_major": 2,
       "version_minor": 0,
       "model_id": "7c8ce0f6fcf34c29a428ac023f3bed56"
      }
     },
     "metadata": {}
    }
   ],
   "source": [
    "processed_texts_false = [text for text in notebook.tqdm(nlp.pipe(false_text_list, \n",
    "                                                n_process=-1, # maximum number of threads\n",
    "                                                disable=[\"ner\", \"parser\"]),\n",
    "                                                total=len(false_text_list))]"
   ]
  },
  {
   "cell_type": "code",
   "execution_count": 40,
   "metadata": {},
   "outputs": [
    {
     "output_type": "display_data",
     "data": {
      "text/plain": "  0%|          | 0/1468 [00:00<?, ?it/s]",
      "application/vnd.jupyter.widget-view+json": {
       "version_major": 2,
       "version_minor": 0,
       "model_id": "a944c500a82340bd8cf431d7af91bb3c"
      }
     },
     "metadata": {}
    }
   ],
   "source": [
    "processed_texts_true = [text for text in notebook.tqdm(nlp.pipe(true_text_list, \n",
    "                                                n_process=-1, # maximum number of threads\n",
    "                                                disable=[\"ner\", \"parser\"]),\n",
    "                                                total=len(true_text_list))]"
   ]
  },
  {
   "cell_type": "code",
   "execution_count": 41,
   "metadata": {},
   "outputs": [
    {
     "output_type": "display_data",
     "data": {
      "text/plain": "  0%|          | 0/2745 [00:00<?, ?it/s]",
      "application/vnd.jupyter.widget-view+json": {
       "version_major": 2,
       "version_minor": 0,
       "model_id": "60e4a50f23a940568eb27862c6cc5d30"
      }
     },
     "metadata": {}
    }
   ],
   "source": [
    "tokenized_texts_false = [[word.lemma_ for word in lemma_ if not word.is_punct if not word.is_stop] for lemma_ in notebook.tqdm(processed_texts_false)]"
   ]
  },
  {
   "cell_type": "code",
   "execution_count": 42,
   "metadata": {},
   "outputs": [
    {
     "output_type": "display_data",
     "data": {
      "text/plain": "  0%|          | 0/1468 [00:00<?, ?it/s]",
      "application/vnd.jupyter.widget-view+json": {
       "version_major": 2,
       "version_minor": 0,
       "model_id": "e67dc540a68a4117af51e9c975f8cd16"
      }
     },
     "metadata": {}
    }
   ],
   "source": [
    "tokenized_texts_true = [[word.lemma_ for word in lemma_ if not word.is_punct if not word.is_stop] for lemma_ in notebook.tqdm(processed_texts_true)]"
   ]
  },
  {
   "cell_type": "code",
   "execution_count": 43,
   "metadata": {},
   "outputs": [
    {
     "output_type": "display_data",
     "data": {
      "text/plain": "  0%|          | 0/2745 [00:00<?, ?it/s]",
      "application/vnd.jupyter.widget-view+json": {
       "version_major": 2,
       "version_minor": 0,
       "model_id": "be54ac3df4ed446d9006f95dbbcdc06f"
      }
     },
     "metadata": {}
    }
   ],
   "source": [
    "from gensim.corpora import Dictionary\n",
    "\n",
    "MIN_DF = 5 # minium document frequency\n",
    "MAX_DF = 0.5 # maximum document frequency\n",
    "\n",
    "dictionary_false = Dictionary(tokenized_texts_false) # get the vocabulary\n",
    "dictionary_false.filter_extremes(no_below=MIN_DF, no_above=MAX_DF)\n",
    "corpus_false = [dictionary_false.doc2bow(text) for text in notebook.tqdm(tokenized_texts_false)]"
   ]
  },
  {
   "cell_type": "code",
   "execution_count": 44,
   "metadata": {},
   "outputs": [
    {
     "output_type": "display_data",
     "data": {
      "text/plain": "  0%|          | 0/1468 [00:00<?, ?it/s]",
      "application/vnd.jupyter.widget-view+json": {
       "version_major": 2,
       "version_minor": 0,
       "model_id": "d6c99f31c0f24e4cbc8154dc01d0fa8c"
      }
     },
     "metadata": {}
    }
   ],
   "source": [
    "\n",
    "MIN_DF = 5 # minium document frequency\n",
    "MAX_DF = 0.5 # maximum document frequency\n",
    "\n",
    "dictionary_true = Dictionary(tokenized_texts_true) # get the vocabulary\n",
    "dictionary_true.filter_extremes(no_below=MIN_DF, \n",
    "                           no_above=MAX_DF)\n",
    "corpus_true = [dictionary_true.doc2bow(text) for text in notebook.tqdm(tokenized_texts_true)]"
   ]
  },
  {
   "cell_type": "code",
   "execution_count": 24,
   "metadata": {},
   "outputs": [],
   "source": []
  },
  {
   "cell_type": "code",
   "execution_count": 45,
   "metadata": {},
   "outputs": [
    {
     "output_type": "stream",
     "name": "stdout",
     "text": [
      "Topic 0: job percent year Texas $ say state new time cut\nTopic 1: say Trump people Donald vote percent high million $ support\nTopic 2: say year \n \n\n state $ percent time million country America\nTopic 3: say year U.S. pay federal world country taxis   Americans\nTopic 4: percent $ year rate tax million country \n \n\n state people\n"
     ]
    }
   ],
   "source": [
    "N_TOPICS = 5\n",
    "N_ITERATIONS = 1000\n",
    "\n",
    "lda_true = LdaMulticore(\n",
    "                corpus=corpus_true,\n",
    "                id2word=dictionary_true,\n",
    "                num_topics=N_TOPICS,\n",
    "                iterations=N_ITERATIONS)\n",
    "                \n",
    "for topic in range(N_TOPICS):\n",
    "    words = lda_true.show_topic(topic, 10)\n",
    "    topic_n_words = ' '.join([word[0] for word in words])\n",
    "    print('Topic {}: {}'.format(str(topic), topic_n_words))"
   ]
  },
  {
   "cell_type": "code",
   "execution_count": 46,
   "metadata": {},
   "outputs": [
    {
     "output_type": "stream",
     "name": "stdout",
     "text": [
      "Topic 0: job percent year Texas $ say state new time cut\nTopic 1: say Trump people Donald vote percent high million $ support\nTopic 2: say year \n \n\n state $ percent time million country America\nTopic 3: say year U.S. pay federal world country taxis   Americans\nTopic 4: percent $ year rate tax million country \n \n\n state people\n"
     ]
    }
   ],
   "source": [
    "for topic in range(N_TOPICS):\n",
    "    words = lda_true.show_topic(topic, 10)\n",
    "    topic_n_words = ' '.join([word[0] for word in words])\n",
    "    print('Topic {}: {}'.format(str(topic), topic_n_words))"
   ]
  },
  {
   "cell_type": "code",
   "execution_count": 47,
   "metadata": {},
   "outputs": [],
   "source": [
    "from gensim.models import LdaMulticore\n",
    "\n",
    "PATH_TO_MALLET = 'mallet-2.0.8/bin/mallet'\n",
    "N_TOPICS = 30\n",
    "N_ITERATIONS = 1000\n",
    "\n",
    "lda_false = LdaMulticore(\n",
    "                corpus=corpus_false,\n",
    "                id2word=dictionary_false,\n",
    "                num_topics=N_TOPICS,\n",
    "                iterations=N_ITERATIONS)"
   ]
  },
  {
   "cell_type": "code",
   "execution_count": 48,
   "metadata": {},
   "outputs": [],
   "source": [
    "from gensim.models.coherencemodel import CoherenceModel"
   ]
  },
  {
   "cell_type": "code",
   "execution_count": 49,
   "metadata": {},
   "outputs": [],
   "source": [
    "dictionary = Dictionary(tokenized_texts_false) # get the vocabulary\n",
    "dictionary.filter_extremes(no_below=5, no_above=0.5)\n",
    "corpus = [dictionary.doc2bow(text) for text in tokenized_texts_false]\n",
    "model = LdaMulticore(corpus=corpus, num_topics=5, id2word=dictionary, alpha = 0.1, iterations = 400)\n",
    "coherencemodel = CoherenceModel(model=model, texts=tokenized_texts_false, dictionary=dictionary, coherence='c_v', topn=3)"
   ]
  },
  {
   "cell_type": "code",
   "execution_count": 6,
   "metadata": {},
   "outputs": [],
   "source": [
    "from gensim.models import Phrases\n",
    "def make_n_grams(docs):\n",
    "    # Add bigrams and trigrams to docs (only ones that appear 20 times or more).\n",
    "    bigram = Phrases(docs, min_count=1)\n",
    "    for idx in range(len(docs)):\n",
    "        for token in bigram[docs[idx]]:\n",
    "            if '_' in token:\n",
    "                # Token is a bigram, add to document.\n",
    "                docs[idx].append(token)\n",
    "    return docs"
   ]
  },
  {
   "cell_type": "code",
   "execution_count": 59,
   "metadata": {},
   "outputs": [],
   "source": [
    "def pre_processer_fake(corpus):\n",
    "    corpus = [text.lower() for text in corpus]\n",
    "    corpus = [remove_urls(text) for text in corpus]\n",
    "    corpus = [remove_numbers(text) for text in corpus]\n",
    "    corpus = [remove_emojis(text) for text in corpus]\n",
    "    corpus = [remove_nonalpha(text) for text in corpus]\n",
    "    # corpus = [remove_special_names(text) for text in corpus]\n",
    "    corpus = [remove_single_char(text) for text in corpus]\n",
    "    corpus = [text.encode(\"ascii\", \"ignore\") for text in corpus]\n",
    "    corpus = [text.decode() for text in corpus]\n",
    "    corpus = [remove_extra_spaces(text) for text in corpus]\n",
    "\n",
    "    corpus = strip_list_noempty(corpus)\n",
    "\n",
    "    processed_texts = [text for text in nlp.pipe(corpus,  disable=[\"ner\", \"parser\"])]\n",
    "    tokenized_texts = [[word.lemma_ for word in lemma_ if not word.is_punct if not word.is_stop] for lemma_ in notebook.tqdm(processed_texts)]\n",
    "    # tokenized_texts = make_n_grams(tokenized_texts)\n",
    "\n",
    "    flatten = lambda t: [item for sublist in t for item in sublist]\n",
    "    flat_fake = flatten(tokenized_texts)\n",
    "    counts = Counter(flat_fake)\n",
    "    total_words = sum(counts.values()) \n",
    "    for word in counts:\n",
    "        counts[word] = counts[word] #* (10000) / total_words\n",
    "    return counts, counts.most_common(), flat_fake, tokenized_texts"
   ]
  },
  {
   "cell_type": "code",
   "execution_count": 60,
   "metadata": {
    "tags": []
   },
   "outputs": [
    {
     "output_type": "display_data",
     "data": {
      "text/plain": "  0%|          | 0/2745 [00:00<?, ?it/s]",
      "application/vnd.jupyter.widget-view+json": {
       "version_major": 2,
       "version_minor": 0,
       "model_id": "af994c9b25074d1fa88a7839e2f4bdc5"
      }
     },
     "metadata": {}
    }
   ],
   "source": [
    "fake = pre_processer_fake(false_text_list)"
   ]
  },
  {
   "cell_type": "code",
   "execution_count": 61,
   "metadata": {},
   "outputs": [],
   "source": [
    "counts_fake, common_fake, flat_fake, tokenized_texts_fake = fake"
   ]
  },
  {
   "cell_type": "code",
   "execution_count": 62,
   "metadata": {},
   "outputs": [
    {
     "output_type": "execute_result",
     "data": {
      "text/plain": [
       "[('say', 684),\n",
       " ('year', 202),\n",
       " ('nt', 201),\n",
       " ('state', 200),\n",
       " ('obama', 199),\n",
       " ('trump', 188),\n",
       " ('president', 178),\n",
       " ('people', 139),\n",
       " ('tax', 137),\n",
       " ('percent', 136),\n",
       " ('clinton', 130),\n",
       " ('million', 118),\n",
       " ('vote', 111),\n",
       " ('go', 97),\n",
       " ('american', 95),\n",
       " ('new', 95),\n",
       " ('country', 95),\n",
       " ('hillary', 93),\n",
       " ('health', 92),\n",
       " ('pay', 91)]"
      ]
     },
     "metadata": {},
     "execution_count": 62
    }
   ],
   "source": [
    "common_fake[:20]"
   ]
  },
  {
   "cell_type": "code",
   "execution_count": 63,
   "metadata": {},
   "outputs": [
    {
     "output_type": "display_data",
     "data": {
      "text/plain": "<Figure size 432x288 with 1 Axes>",
      "image/svg+xml": "<?xml version=\"1.0\" encoding=\"utf-8\" standalone=\"no\"?>\n<!DOCTYPE svg PUBLIC \"-//W3C//DTD SVG 1.1//EN\"\n  \"http://www.w3.org/Graphics/SVG/1.1/DTD/svg11.dtd\">\n<svg height=\"340.270625pt\" version=\"1.1\" viewBox=\"0 0 388.965625 340.270625\" width=\"388.965625pt\" xmlns=\"http://www.w3.org/2000/svg\" xmlns:xlink=\"http://www.w3.org/1999/xlink\">\n <metadata>\n  <rdf:RDF xmlns:cc=\"http://creativecommons.org/ns#\" xmlns:dc=\"http://purl.org/dc/elements/1.1/\" xmlns:rdf=\"http://www.w3.org/1999/02/22-rdf-syntax-ns#\">\n   <cc:Work>\n    <dc:type rdf:resource=\"http://purl.org/dc/dcmitype/StillImage\"/>\n    <dc:date>2021-06-23T12:23:15.141652</dc:date>\n    <dc:format>image/svg+xml</dc:format>\n    <dc:creator>\n     <cc:Agent>\n      <dc:title>Matplotlib v3.4.2, https://matplotlib.org/</dc:title>\n     </cc:Agent>\n    </dc:creator>\n   </cc:Work>\n  </rdf:RDF>\n </metadata>\n <defs>\n  <style type=\"text/css\">*{stroke-linecap:butt;stroke-linejoin:round;}</style>\n </defs>\n <g id=\"figure_1\">\n  <g id=\"patch_1\">\n   <path d=\"M 0 340.270625 \nL 388.965625 340.270625 \nL 388.965625 0 \nL 0 0 \nz\n\" style=\"fill:none;\"/>\n  </g>\n  <g id=\"axes_1\">\n   <g id=\"patch_2\">\n    <path d=\"M 46.965625 239.758125 \nL 381.765625 239.758125 \nL 381.765625 22.318125 \nL 46.965625 22.318125 \nz\n\" style=\"fill:#ffffff;\"/>\n   </g>\n   <g id=\"matplotlib.axis_1\">\n    <g id=\"xtick_1\">\n     <g id=\"line2d_1\">\n      <path clip-path=\"url(#p39cfa2f030)\" d=\"M 62.183807 239.758125 \nL 62.183807 22.318125 \n\" style=\"fill:none;stroke:#c0c0c0;stroke-linecap:square;stroke-width:0.8;\"/>\n     </g>\n     <g id=\"line2d_2\">\n      <defs>\n       <path d=\"M 0 0 \nL 0 3.5 \n\" id=\"me7c86ba28e\" style=\"stroke:#000000;stroke-width:0.8;\"/>\n      </defs>\n      <g>\n       <use style=\"stroke:#000000;stroke-width:0.8;\" x=\"62.183807\" xlink:href=\"#me7c86ba28e\" y=\"239.758125\"/>\n      </g>\n     </g>\n     <g id=\"text_1\">\n      <!-- say -->\n      <g transform=\"translate(64.943182 264.014375)rotate(-90)scale(0.1 -0.1)\">\n       <defs>\n        <path d=\"M 2834 3397 \nL 2834 2853 \nQ 2591 2978 2328 3040 \nQ 2066 3103 1784 3103 \nQ 1356 3103 1142 2972 \nQ 928 2841 928 2578 \nQ 928 2378 1081 2264 \nQ 1234 2150 1697 2047 \nL 1894 2003 \nQ 2506 1872 2764 1633 \nQ 3022 1394 3022 966 \nQ 3022 478 2636 193 \nQ 2250 -91 1575 -91 \nQ 1294 -91 989 -36 \nQ 684 19 347 128 \nL 347 722 \nQ 666 556 975 473 \nQ 1284 391 1588 391 \nQ 1994 391 2212 530 \nQ 2431 669 2431 922 \nQ 2431 1156 2273 1281 \nQ 2116 1406 1581 1522 \nL 1381 1569 \nQ 847 1681 609 1914 \nQ 372 2147 372 2553 \nQ 372 3047 722 3315 \nQ 1072 3584 1716 3584 \nQ 2034 3584 2315 3537 \nQ 2597 3491 2834 3397 \nz\n\" id=\"DejaVuSans-73\" transform=\"scale(0.015625)\"/>\n        <path d=\"M 2194 1759 \nQ 1497 1759 1228 1600 \nQ 959 1441 959 1056 \nQ 959 750 1161 570 \nQ 1363 391 1709 391 \nQ 2188 391 2477 730 \nQ 2766 1069 2766 1631 \nL 2766 1759 \nL 2194 1759 \nz\nM 3341 1997 \nL 3341 0 \nL 2766 0 \nL 2766 531 \nQ 2569 213 2275 61 \nQ 1981 -91 1556 -91 \nQ 1019 -91 701 211 \nQ 384 513 384 1019 \nQ 384 1609 779 1909 \nQ 1175 2209 1959 2209 \nL 2766 2209 \nL 2766 2266 \nQ 2766 2663 2505 2880 \nQ 2244 3097 1772 3097 \nQ 1472 3097 1187 3025 \nQ 903 2953 641 2809 \nL 641 3341 \nQ 956 3463 1253 3523 \nQ 1550 3584 1831 3584 \nQ 2591 3584 2966 3190 \nQ 3341 2797 3341 1997 \nz\n\" id=\"DejaVuSans-61\" transform=\"scale(0.015625)\"/>\n        <path d=\"M 2059 -325 \nQ 1816 -950 1584 -1140 \nQ 1353 -1331 966 -1331 \nL 506 -1331 \nL 506 -850 \nL 844 -850 \nQ 1081 -850 1212 -737 \nQ 1344 -625 1503 -206 \nL 1606 56 \nL 191 3500 \nL 800 3500 \nL 1894 763 \nL 2988 3500 \nL 3597 3500 \nL 2059 -325 \nz\n\" id=\"DejaVuSans-79\" transform=\"scale(0.015625)\"/>\n       </defs>\n       <use xlink:href=\"#DejaVuSans-73\"/>\n       <use x=\"52.099609\" xlink:href=\"#DejaVuSans-61\"/>\n       <use x=\"113.378906\" xlink:href=\"#DejaVuSans-79\"/>\n      </g>\n     </g>\n    </g>\n    <g id=\"xtick_2\">\n     <g id=\"line2d_3\">\n      <path clip-path=\"url(#p39cfa2f030)\" d=\"M 66.594874 239.758125 \nL 66.594874 22.318125 \n\" style=\"fill:none;stroke:#c0c0c0;stroke-linecap:square;stroke-width:0.8;\"/>\n     </g>\n     <g id=\"line2d_4\">\n      <g>\n       <use style=\"stroke:#000000;stroke-width:0.8;\" x=\"66.594874\" xlink:href=\"#me7c86ba28e\" y=\"239.758125\"/>\n      </g>\n     </g>\n     <g id=\"text_2\">\n      <!-- year -->\n      <g transform=\"translate(69.354249 269.069062)rotate(-90)scale(0.1 -0.1)\">\n       <defs>\n        <path d=\"M 3597 1894 \nL 3597 1613 \nL 953 1613 \nQ 991 1019 1311 708 \nQ 1631 397 2203 397 \nQ 2534 397 2845 478 \nQ 3156 559 3463 722 \nL 3463 178 \nQ 3153 47 2828 -22 \nQ 2503 -91 2169 -91 \nQ 1331 -91 842 396 \nQ 353 884 353 1716 \nQ 353 2575 817 3079 \nQ 1281 3584 2069 3584 \nQ 2775 3584 3186 3129 \nQ 3597 2675 3597 1894 \nz\nM 3022 2063 \nQ 3016 2534 2758 2815 \nQ 2500 3097 2075 3097 \nQ 1594 3097 1305 2825 \nQ 1016 2553 972 2059 \nL 3022 2063 \nz\n\" id=\"DejaVuSans-65\" transform=\"scale(0.015625)\"/>\n        <path d=\"M 2631 2963 \nQ 2534 3019 2420 3045 \nQ 2306 3072 2169 3072 \nQ 1681 3072 1420 2755 \nQ 1159 2438 1159 1844 \nL 1159 0 \nL 581 0 \nL 581 3500 \nL 1159 3500 \nL 1159 2956 \nQ 1341 3275 1631 3429 \nQ 1922 3584 2338 3584 \nQ 2397 3584 2469 3576 \nQ 2541 3569 2628 3553 \nL 2631 2963 \nz\n\" id=\"DejaVuSans-72\" transform=\"scale(0.015625)\"/>\n       </defs>\n       <use xlink:href=\"#DejaVuSans-79\"/>\n       <use x=\"59.179688\" xlink:href=\"#DejaVuSans-65\"/>\n       <use x=\"120.703125\" xlink:href=\"#DejaVuSans-61\"/>\n       <use x=\"181.982422\" xlink:href=\"#DejaVuSans-72\"/>\n      </g>\n     </g>\n    </g>\n    <g id=\"xtick_3\">\n     <g id=\"line2d_5\">\n      <path clip-path=\"url(#p39cfa2f030)\" d=\"M 71.005941 239.758125 \nL 71.005941 22.318125 \n\" style=\"fill:none;stroke:#c0c0c0;stroke-linecap:square;stroke-width:0.8;\"/>\n     </g>\n     <g id=\"line2d_6\">\n      <g>\n       <use style=\"stroke:#000000;stroke-width:0.8;\" x=\"71.005941\" xlink:href=\"#me7c86ba28e\" y=\"239.758125\"/>\n      </g>\n     </g>\n     <g id=\"text_3\">\n      <!-- nt -->\n      <g transform=\"translate(73.765316 257.015938)rotate(-90)scale(0.1 -0.1)\">\n       <defs>\n        <path d=\"M 3513 2113 \nL 3513 0 \nL 2938 0 \nL 2938 2094 \nQ 2938 2591 2744 2837 \nQ 2550 3084 2163 3084 \nQ 1697 3084 1428 2787 \nQ 1159 2491 1159 1978 \nL 1159 0 \nL 581 0 \nL 581 3500 \nL 1159 3500 \nL 1159 2956 \nQ 1366 3272 1645 3428 \nQ 1925 3584 2291 3584 \nQ 2894 3584 3203 3211 \nQ 3513 2838 3513 2113 \nz\n\" id=\"DejaVuSans-6e\" transform=\"scale(0.015625)\"/>\n        <path d=\"M 1172 4494 \nL 1172 3500 \nL 2356 3500 \nL 2356 3053 \nL 1172 3053 \nL 1172 1153 \nQ 1172 725 1289 603 \nQ 1406 481 1766 481 \nL 2356 481 \nL 2356 0 \nL 1766 0 \nQ 1100 0 847 248 \nQ 594 497 594 1153 \nL 594 3053 \nL 172 3053 \nL 172 3500 \nL 594 3500 \nL 594 4494 \nL 1172 4494 \nz\n\" id=\"DejaVuSans-74\" transform=\"scale(0.015625)\"/>\n       </defs>\n       <use xlink:href=\"#DejaVuSans-6e\"/>\n       <use x=\"63.378906\" xlink:href=\"#DejaVuSans-74\"/>\n      </g>\n     </g>\n    </g>\n    <g id=\"xtick_4\">\n     <g id=\"line2d_7\">\n      <path clip-path=\"url(#p39cfa2f030)\" d=\"M 75.417008 239.758125 \nL 75.417008 22.318125 \n\" style=\"fill:none;stroke:#c0c0c0;stroke-linecap:square;stroke-width:0.8;\"/>\n     </g>\n     <g id=\"line2d_8\">\n      <g>\n       <use style=\"stroke:#000000;stroke-width:0.8;\" x=\"75.417008\" xlink:href=\"#me7c86ba28e\" y=\"239.758125\"/>\n      </g>\n     </g>\n     <g id=\"text_4\">\n      <!-- state -->\n      <g transform=\"translate(78.176383 272.089375)rotate(-90)scale(0.1 -0.1)\">\n       <use xlink:href=\"#DejaVuSans-73\"/>\n       <use x=\"52.099609\" xlink:href=\"#DejaVuSans-74\"/>\n       <use x=\"91.308594\" xlink:href=\"#DejaVuSans-61\"/>\n       <use x=\"152.587891\" xlink:href=\"#DejaVuSans-74\"/>\n       <use x=\"191.796875\" xlink:href=\"#DejaVuSans-65\"/>\n      </g>\n     </g>\n    </g>\n    <g id=\"xtick_5\">\n     <g id=\"line2d_9\">\n      <path clip-path=\"url(#p39cfa2f030)\" d=\"M 79.828076 239.758125 \nL 79.828076 22.318125 \n\" style=\"fill:none;stroke:#c0c0c0;stroke-linecap:square;stroke-width:0.8;\"/>\n     </g>\n     <g id=\"line2d_10\">\n      <g>\n       <use style=\"stroke:#000000;stroke-width:0.8;\" x=\"79.828076\" xlink:href=\"#me7c86ba28e\" y=\"239.758125\"/>\n      </g>\n     </g>\n     <g id=\"text_5\">\n      <!-- obama -->\n      <g transform=\"translate(82.587451 281.222188)rotate(-90)scale(0.1 -0.1)\">\n       <defs>\n        <path d=\"M 1959 3097 \nQ 1497 3097 1228 2736 \nQ 959 2375 959 1747 \nQ 959 1119 1226 758 \nQ 1494 397 1959 397 \nQ 2419 397 2687 759 \nQ 2956 1122 2956 1747 \nQ 2956 2369 2687 2733 \nQ 2419 3097 1959 3097 \nz\nM 1959 3584 \nQ 2709 3584 3137 3096 \nQ 3566 2609 3566 1747 \nQ 3566 888 3137 398 \nQ 2709 -91 1959 -91 \nQ 1206 -91 779 398 \nQ 353 888 353 1747 \nQ 353 2609 779 3096 \nQ 1206 3584 1959 3584 \nz\n\" id=\"DejaVuSans-6f\" transform=\"scale(0.015625)\"/>\n        <path d=\"M 3116 1747 \nQ 3116 2381 2855 2742 \nQ 2594 3103 2138 3103 \nQ 1681 3103 1420 2742 \nQ 1159 2381 1159 1747 \nQ 1159 1113 1420 752 \nQ 1681 391 2138 391 \nQ 2594 391 2855 752 \nQ 3116 1113 3116 1747 \nz\nM 1159 2969 \nQ 1341 3281 1617 3432 \nQ 1894 3584 2278 3584 \nQ 2916 3584 3314 3078 \nQ 3713 2572 3713 1747 \nQ 3713 922 3314 415 \nQ 2916 -91 2278 -91 \nQ 1894 -91 1617 61 \nQ 1341 213 1159 525 \nL 1159 0 \nL 581 0 \nL 581 4863 \nL 1159 4863 \nL 1159 2969 \nz\n\" id=\"DejaVuSans-62\" transform=\"scale(0.015625)\"/>\n        <path d=\"M 3328 2828 \nQ 3544 3216 3844 3400 \nQ 4144 3584 4550 3584 \nQ 5097 3584 5394 3201 \nQ 5691 2819 5691 2113 \nL 5691 0 \nL 5113 0 \nL 5113 2094 \nQ 5113 2597 4934 2840 \nQ 4756 3084 4391 3084 \nQ 3944 3084 3684 2787 \nQ 3425 2491 3425 1978 \nL 3425 0 \nL 2847 0 \nL 2847 2094 \nQ 2847 2600 2669 2842 \nQ 2491 3084 2119 3084 \nQ 1678 3084 1418 2786 \nQ 1159 2488 1159 1978 \nL 1159 0 \nL 581 0 \nL 581 3500 \nL 1159 3500 \nL 1159 2956 \nQ 1356 3278 1631 3431 \nQ 1906 3584 2284 3584 \nQ 2666 3584 2933 3390 \nQ 3200 3197 3328 2828 \nz\n\" id=\"DejaVuSans-6d\" transform=\"scale(0.015625)\"/>\n       </defs>\n       <use xlink:href=\"#DejaVuSans-6f\"/>\n       <use x=\"61.181641\" xlink:href=\"#DejaVuSans-62\"/>\n       <use x=\"124.658203\" xlink:href=\"#DejaVuSans-61\"/>\n       <use x=\"185.9375\" xlink:href=\"#DejaVuSans-6d\"/>\n       <use x=\"283.349609\" xlink:href=\"#DejaVuSans-61\"/>\n      </g>\n     </g>\n    </g>\n    <g id=\"xtick_6\">\n     <g id=\"line2d_11\">\n      <path clip-path=\"url(#p39cfa2f030)\" d=\"M 84.239143 239.758125 \nL 84.239143 22.318125 \n\" style=\"fill:none;stroke:#c0c0c0;stroke-linecap:square;stroke-width:0.8;\"/>\n     </g>\n     <g id=\"line2d_12\">\n      <g>\n       <use style=\"stroke:#000000;stroke-width:0.8;\" x=\"84.239143\" xlink:href=\"#me7c86ba28e\" y=\"239.758125\"/>\n      </g>\n     </g>\n     <g id=\"text_6\">\n      <!-- trump -->\n      <g transform=\"translate(86.998518 277.215937)rotate(-90)scale(0.1 -0.1)\">\n       <defs>\n        <path d=\"M 544 1381 \nL 544 3500 \nL 1119 3500 \nL 1119 1403 \nQ 1119 906 1312 657 \nQ 1506 409 1894 409 \nQ 2359 409 2629 706 \nQ 2900 1003 2900 1516 \nL 2900 3500 \nL 3475 3500 \nL 3475 0 \nL 2900 0 \nL 2900 538 \nQ 2691 219 2414 64 \nQ 2138 -91 1772 -91 \nQ 1169 -91 856 284 \nQ 544 659 544 1381 \nz\nM 1991 3584 \nL 1991 3584 \nz\n\" id=\"DejaVuSans-75\" transform=\"scale(0.015625)\"/>\n        <path d=\"M 1159 525 \nL 1159 -1331 \nL 581 -1331 \nL 581 3500 \nL 1159 3500 \nL 1159 2969 \nQ 1341 3281 1617 3432 \nQ 1894 3584 2278 3584 \nQ 2916 3584 3314 3078 \nQ 3713 2572 3713 1747 \nQ 3713 922 3314 415 \nQ 2916 -91 2278 -91 \nQ 1894 -91 1617 61 \nQ 1341 213 1159 525 \nz\nM 3116 1747 \nQ 3116 2381 2855 2742 \nQ 2594 3103 2138 3103 \nQ 1681 3103 1420 2742 \nQ 1159 2381 1159 1747 \nQ 1159 1113 1420 752 \nQ 1681 391 2138 391 \nQ 2594 391 2855 752 \nQ 3116 1113 3116 1747 \nz\n\" id=\"DejaVuSans-70\" transform=\"scale(0.015625)\"/>\n       </defs>\n       <use xlink:href=\"#DejaVuSans-74\"/>\n       <use x=\"39.208984\" xlink:href=\"#DejaVuSans-72\"/>\n       <use x=\"80.322266\" xlink:href=\"#DejaVuSans-75\"/>\n       <use x=\"143.701172\" xlink:href=\"#DejaVuSans-6d\"/>\n       <use x=\"241.113281\" xlink:href=\"#DejaVuSans-70\"/>\n      </g>\n     </g>\n    </g>\n    <g id=\"xtick_7\">\n     <g id=\"line2d_13\">\n      <path clip-path=\"url(#p39cfa2f030)\" d=\"M 88.65021 239.758125 \nL 88.65021 22.318125 \n\" style=\"fill:none;stroke:#c0c0c0;stroke-linecap:square;stroke-width:0.8;\"/>\n     </g>\n     <g id=\"line2d_14\">\n      <g>\n       <use style=\"stroke:#000000;stroke-width:0.8;\" x=\"88.65021\" xlink:href=\"#me7c86ba28e\" y=\"239.758125\"/>\n      </g>\n     </g>\n     <g id=\"text_7\">\n      <!-- president -->\n      <g transform=\"translate(91.409585 293.8925)rotate(-90)scale(0.1 -0.1)\">\n       <defs>\n        <path d=\"M 603 3500 \nL 1178 3500 \nL 1178 0 \nL 603 0 \nL 603 3500 \nz\nM 603 4863 \nL 1178 4863 \nL 1178 4134 \nL 603 4134 \nL 603 4863 \nz\n\" id=\"DejaVuSans-69\" transform=\"scale(0.015625)\"/>\n        <path d=\"M 2906 2969 \nL 2906 4863 \nL 3481 4863 \nL 3481 0 \nL 2906 0 \nL 2906 525 \nQ 2725 213 2448 61 \nQ 2172 -91 1784 -91 \nQ 1150 -91 751 415 \nQ 353 922 353 1747 \nQ 353 2572 751 3078 \nQ 1150 3584 1784 3584 \nQ 2172 3584 2448 3432 \nQ 2725 3281 2906 2969 \nz\nM 947 1747 \nQ 947 1113 1208 752 \nQ 1469 391 1925 391 \nQ 2381 391 2643 752 \nQ 2906 1113 2906 1747 \nQ 2906 2381 2643 2742 \nQ 2381 3103 1925 3103 \nQ 1469 3103 1208 2742 \nQ 947 2381 947 1747 \nz\n\" id=\"DejaVuSans-64\" transform=\"scale(0.015625)\"/>\n       </defs>\n       <use xlink:href=\"#DejaVuSans-70\"/>\n       <use x=\"63.476562\" xlink:href=\"#DejaVuSans-72\"/>\n       <use x=\"102.339844\" xlink:href=\"#DejaVuSans-65\"/>\n       <use x=\"163.863281\" xlink:href=\"#DejaVuSans-73\"/>\n       <use x=\"215.962891\" xlink:href=\"#DejaVuSans-69\"/>\n       <use x=\"243.746094\" xlink:href=\"#DejaVuSans-64\"/>\n       <use x=\"307.222656\" xlink:href=\"#DejaVuSans-65\"/>\n       <use x=\"368.746094\" xlink:href=\"#DejaVuSans-6e\"/>\n       <use x=\"432.125\" xlink:href=\"#DejaVuSans-74\"/>\n      </g>\n     </g>\n    </g>\n    <g id=\"xtick_8\">\n     <g id=\"line2d_15\">\n      <path clip-path=\"url(#p39cfa2f030)\" d=\"M 93.061277 239.758125 \nL 93.061277 22.318125 \n\" style=\"fill:none;stroke:#c0c0c0;stroke-linecap:square;stroke-width:0.8;\"/>\n     </g>\n     <g id=\"line2d_16\">\n      <g>\n       <use style=\"stroke:#000000;stroke-width:0.8;\" x=\"93.061277\" xlink:href=\"#me7c86ba28e\" y=\"239.758125\"/>\n      </g>\n     </g>\n     <g id=\"text_8\">\n      <!-- people -->\n      <g transform=\"translate(95.820652 280.658125)rotate(-90)scale(0.1 -0.1)\">\n       <defs>\n        <path d=\"M 603 4863 \nL 1178 4863 \nL 1178 0 \nL 603 0 \nL 603 4863 \nz\n\" id=\"DejaVuSans-6c\" transform=\"scale(0.015625)\"/>\n       </defs>\n       <use xlink:href=\"#DejaVuSans-70\"/>\n       <use x=\"63.476562\" xlink:href=\"#DejaVuSans-65\"/>\n       <use x=\"125\" xlink:href=\"#DejaVuSans-6f\"/>\n       <use x=\"186.181641\" xlink:href=\"#DejaVuSans-70\"/>\n       <use x=\"249.658203\" xlink:href=\"#DejaVuSans-6c\"/>\n       <use x=\"277.441406\" xlink:href=\"#DejaVuSans-65\"/>\n      </g>\n     </g>\n    </g>\n    <g id=\"xtick_9\">\n     <g id=\"line2d_17\">\n      <path clip-path=\"url(#p39cfa2f030)\" d=\"M 97.472344 239.758125 \nL 97.472344 22.318125 \n\" style=\"fill:none;stroke:#c0c0c0;stroke-linecap:square;stroke-width:0.8;\"/>\n     </g>\n     <g id=\"line2d_18\">\n      <g>\n       <use style=\"stroke:#000000;stroke-width:0.8;\" x=\"97.472344\" xlink:href=\"#me7c86ba28e\" y=\"239.758125\"/>\n      </g>\n     </g>\n     <g id=\"text_9\">\n      <!-- tax -->\n      <g transform=\"translate(100.231719 262.725312)rotate(-90)scale(0.1 -0.1)\">\n       <defs>\n        <path d=\"M 3513 3500 \nL 2247 1797 \nL 3578 0 \nL 2900 0 \nL 1881 1375 \nL 863 0 \nL 184 0 \nL 1544 1831 \nL 300 3500 \nL 978 3500 \nL 1906 2253 \nL 2834 3500 \nL 3513 3500 \nz\n\" id=\"DejaVuSans-78\" transform=\"scale(0.015625)\"/>\n       </defs>\n       <use xlink:href=\"#DejaVuSans-74\"/>\n       <use x=\"39.208984\" xlink:href=\"#DejaVuSans-61\"/>\n       <use x=\"100.488281\" xlink:href=\"#DejaVuSans-78\"/>\n      </g>\n     </g>\n    </g>\n    <g id=\"xtick_10\">\n     <g id=\"line2d_19\">\n      <path clip-path=\"url(#p39cfa2f030)\" d=\"M 101.883412 239.758125 \nL 101.883412 22.318125 \n\" style=\"fill:none;stroke:#c0c0c0;stroke-linecap:square;stroke-width:0.8;\"/>\n     </g>\n     <g id=\"line2d_20\">\n      <g>\n       <use style=\"stroke:#000000;stroke-width:0.8;\" x=\"101.883412\" xlink:href=\"#me7c86ba28e\" y=\"239.758125\"/>\n      </g>\n     </g>\n     <g id=\"text_10\">\n      <!-- percent -->\n      <g transform=\"translate(104.642787 285.055)rotate(-90)scale(0.1 -0.1)\">\n       <defs>\n        <path d=\"M 3122 3366 \nL 3122 2828 \nQ 2878 2963 2633 3030 \nQ 2388 3097 2138 3097 \nQ 1578 3097 1268 2742 \nQ 959 2388 959 1747 \nQ 959 1106 1268 751 \nQ 1578 397 2138 397 \nQ 2388 397 2633 464 \nQ 2878 531 3122 666 \nL 3122 134 \nQ 2881 22 2623 -34 \nQ 2366 -91 2075 -91 \nQ 1284 -91 818 406 \nQ 353 903 353 1747 \nQ 353 2603 823 3093 \nQ 1294 3584 2113 3584 \nQ 2378 3584 2631 3529 \nQ 2884 3475 3122 3366 \nz\n\" id=\"DejaVuSans-63\" transform=\"scale(0.015625)\"/>\n       </defs>\n       <use xlink:href=\"#DejaVuSans-70\"/>\n       <use x=\"63.476562\" xlink:href=\"#DejaVuSans-65\"/>\n       <use x=\"125\" xlink:href=\"#DejaVuSans-72\"/>\n       <use x=\"163.863281\" xlink:href=\"#DejaVuSans-63\"/>\n       <use x=\"218.84375\" xlink:href=\"#DejaVuSans-65\"/>\n       <use x=\"280.367188\" xlink:href=\"#DejaVuSans-6e\"/>\n       <use x=\"343.746094\" xlink:href=\"#DejaVuSans-74\"/>\n      </g>\n     </g>\n    </g>\n    <g id=\"xtick_11\">\n     <g id=\"line2d_21\">\n      <path clip-path=\"url(#p39cfa2f030)\" d=\"M 106.294479 239.758125 \nL 106.294479 22.318125 \n\" style=\"fill:none;stroke:#c0c0c0;stroke-linecap:square;stroke-width:0.8;\"/>\n     </g>\n     <g id=\"line2d_22\">\n      <g>\n       <use style=\"stroke:#000000;stroke-width:0.8;\" x=\"106.294479\" xlink:href=\"#me7c86ba28e\" y=\"239.758125\"/>\n      </g>\n     </g>\n     <g id=\"text_11\">\n      <!-- clinton -->\n      <g transform=\"translate(109.053854 280.526875)rotate(-90)scale(0.1 -0.1)\">\n       <use xlink:href=\"#DejaVuSans-63\"/>\n       <use x=\"54.980469\" xlink:href=\"#DejaVuSans-6c\"/>\n       <use x=\"82.763672\" xlink:href=\"#DejaVuSans-69\"/>\n       <use x=\"110.546875\" xlink:href=\"#DejaVuSans-6e\"/>\n       <use x=\"173.925781\" xlink:href=\"#DejaVuSans-74\"/>\n       <use x=\"213.134766\" xlink:href=\"#DejaVuSans-6f\"/>\n       <use x=\"274.316406\" xlink:href=\"#DejaVuSans-6e\"/>\n      </g>\n     </g>\n    </g>\n    <g id=\"xtick_12\">\n     <g id=\"line2d_23\">\n      <path clip-path=\"url(#p39cfa2f030)\" d=\"M 110.705546 239.758125 \nL 110.705546 22.318125 \n\" style=\"fill:none;stroke:#c0c0c0;stroke-linecap:square;stroke-width:0.8;\"/>\n     </g>\n     <g id=\"line2d_24\">\n      <g>\n       <use style=\"stroke:#000000;stroke-width:0.8;\" x=\"110.705546\" xlink:href=\"#me7c86ba28e\" y=\"239.758125\"/>\n      </g>\n     </g>\n     <g id=\"text_12\">\n      <!-- million -->\n      <g transform=\"translate(113.464921 280.0675)rotate(-90)scale(0.1 -0.1)\">\n       <use xlink:href=\"#DejaVuSans-6d\"/>\n       <use x=\"97.412109\" xlink:href=\"#DejaVuSans-69\"/>\n       <use x=\"125.195312\" xlink:href=\"#DejaVuSans-6c\"/>\n       <use x=\"152.978516\" xlink:href=\"#DejaVuSans-6c\"/>\n       <use x=\"180.761719\" xlink:href=\"#DejaVuSans-69\"/>\n       <use x=\"208.544922\" xlink:href=\"#DejaVuSans-6f\"/>\n       <use x=\"269.726562\" xlink:href=\"#DejaVuSans-6e\"/>\n      </g>\n     </g>\n    </g>\n    <g id=\"xtick_13\">\n     <g id=\"line2d_25\">\n      <path clip-path=\"url(#p39cfa2f030)\" d=\"M 115.116613 239.758125 \nL 115.116613 22.318125 \n\" style=\"fill:none;stroke:#c0c0c0;stroke-linecap:square;stroke-width:0.8;\"/>\n     </g>\n     <g id=\"line2d_26\">\n      <g>\n       <use style=\"stroke:#000000;stroke-width:0.8;\" x=\"115.116613\" xlink:href=\"#me7c86ba28e\" y=\"239.758125\"/>\n      </g>\n     </g>\n     <g id=\"text_13\">\n      <!-- vote -->\n      <g transform=\"translate(117.875988 268.869062)rotate(-90)scale(0.1 -0.1)\">\n       <defs>\n        <path d=\"M 191 3500 \nL 800 3500 \nL 1894 563 \nL 2988 3500 \nL 3597 3500 \nL 2284 0 \nL 1503 0 \nL 191 3500 \nz\n\" id=\"DejaVuSans-76\" transform=\"scale(0.015625)\"/>\n       </defs>\n       <use xlink:href=\"#DejaVuSans-76\"/>\n       <use x=\"59.179688\" xlink:href=\"#DejaVuSans-6f\"/>\n       <use x=\"120.361328\" xlink:href=\"#DejaVuSans-74\"/>\n       <use x=\"159.570312\" xlink:href=\"#DejaVuSans-65\"/>\n      </g>\n     </g>\n    </g>\n    <g id=\"xtick_14\">\n     <g id=\"line2d_27\">\n      <path clip-path=\"url(#p39cfa2f030)\" d=\"M 119.52768 239.758125 \nL 119.52768 22.318125 \n\" style=\"fill:none;stroke:#c0c0c0;stroke-linecap:square;stroke-width:0.8;\"/>\n     </g>\n     <g id=\"line2d_28\">\n      <g>\n       <use style=\"stroke:#000000;stroke-width:0.8;\" x=\"119.52768\" xlink:href=\"#me7c86ba28e\" y=\"239.758125\"/>\n      </g>\n     </g>\n     <g id=\"text_14\">\n      <!-- go -->\n      <g transform=\"translate(122.287055 259.225312)rotate(-90)scale(0.1 -0.1)\">\n       <defs>\n        <path d=\"M 2906 1791 \nQ 2906 2416 2648 2759 \nQ 2391 3103 1925 3103 \nQ 1463 3103 1205 2759 \nQ 947 2416 947 1791 \nQ 947 1169 1205 825 \nQ 1463 481 1925 481 \nQ 2391 481 2648 825 \nQ 2906 1169 2906 1791 \nz\nM 3481 434 \nQ 3481 -459 3084 -895 \nQ 2688 -1331 1869 -1331 \nQ 1566 -1331 1297 -1286 \nQ 1028 -1241 775 -1147 \nL 775 -588 \nQ 1028 -725 1275 -790 \nQ 1522 -856 1778 -856 \nQ 2344 -856 2625 -561 \nQ 2906 -266 2906 331 \nL 2906 616 \nQ 2728 306 2450 153 \nQ 2172 0 1784 0 \nQ 1141 0 747 490 \nQ 353 981 353 1791 \nQ 353 2603 747 3093 \nQ 1141 3584 1784 3584 \nQ 2172 3584 2450 3431 \nQ 2728 3278 2906 2969 \nL 2906 3500 \nL 3481 3500 \nL 3481 434 \nz\n\" id=\"DejaVuSans-67\" transform=\"scale(0.015625)\"/>\n       </defs>\n       <use xlink:href=\"#DejaVuSans-67\"/>\n       <use x=\"63.476562\" xlink:href=\"#DejaVuSans-6f\"/>\n      </g>\n     </g>\n    </g>\n    <g id=\"xtick_15\">\n     <g id=\"line2d_29\">\n      <path clip-path=\"url(#p39cfa2f030)\" d=\"M 123.938748 239.758125 \nL 123.938748 22.318125 \n\" style=\"fill:none;stroke:#c0c0c0;stroke-linecap:square;stroke-width:0.8;\"/>\n     </g>\n     <g id=\"line2d_30\">\n      <g>\n       <use style=\"stroke:#000000;stroke-width:0.8;\" x=\"123.938748\" xlink:href=\"#me7c86ba28e\" y=\"239.758125\"/>\n      </g>\n     </g>\n     <g id=\"text_15\">\n      <!-- american -->\n      <g transform=\"translate(126.698123 293.633125)rotate(-90)scale(0.1 -0.1)\">\n       <use xlink:href=\"#DejaVuSans-61\"/>\n       <use x=\"61.279297\" xlink:href=\"#DejaVuSans-6d\"/>\n       <use x=\"158.691406\" xlink:href=\"#DejaVuSans-65\"/>\n       <use x=\"220.214844\" xlink:href=\"#DejaVuSans-72\"/>\n       <use x=\"261.328125\" xlink:href=\"#DejaVuSans-69\"/>\n       <use x=\"289.111328\" xlink:href=\"#DejaVuSans-63\"/>\n       <use x=\"344.091797\" xlink:href=\"#DejaVuSans-61\"/>\n       <use x=\"405.371094\" xlink:href=\"#DejaVuSans-6e\"/>\n      </g>\n     </g>\n    </g>\n    <g id=\"xtick_16\">\n     <g id=\"line2d_31\">\n      <path clip-path=\"url(#p39cfa2f030)\" d=\"M 128.349815 239.758125 \nL 128.349815 22.318125 \n\" style=\"fill:none;stroke:#c0c0c0;stroke-linecap:square;stroke-width:0.8;\"/>\n     </g>\n     <g id=\"line2d_32\">\n      <g>\n       <use style=\"stroke:#000000;stroke-width:0.8;\" x=\"128.349815\" xlink:href=\"#me7c86ba28e\" y=\"239.758125\"/>\n      </g>\n     </g>\n     <g id=\"text_16\">\n      <!-- new -->\n      <g transform=\"translate(131.10919 267.426875)rotate(-90)scale(0.1 -0.1)\">\n       <defs>\n        <path d=\"M 269 3500 \nL 844 3500 \nL 1563 769 \nL 2278 3500 \nL 2956 3500 \nL 3675 769 \nL 4391 3500 \nL 4966 3500 \nL 4050 0 \nL 3372 0 \nL 2619 2869 \nL 1863 0 \nL 1184 0 \nL 269 3500 \nz\n\" id=\"DejaVuSans-77\" transform=\"scale(0.015625)\"/>\n       </defs>\n       <use xlink:href=\"#DejaVuSans-6e\"/>\n       <use x=\"63.378906\" xlink:href=\"#DejaVuSans-65\"/>\n       <use x=\"124.902344\" xlink:href=\"#DejaVuSans-77\"/>\n      </g>\n     </g>\n    </g>\n    <g id=\"xtick_17\">\n     <g id=\"line2d_33\">\n      <path clip-path=\"url(#p39cfa2f030)\" d=\"M 132.760882 239.758125 \nL 132.760882 22.318125 \n\" style=\"fill:none;stroke:#c0c0c0;stroke-linecap:square;stroke-width:0.8;\"/>\n     </g>\n     <g id=\"line2d_34\">\n      <g>\n       <use style=\"stroke:#000000;stroke-width:0.8;\" x=\"132.760882\" xlink:href=\"#me7c86ba28e\" y=\"239.758125\"/>\n      </g>\n     </g>\n     <g id=\"text_17\">\n      <!-- country -->\n      <g transform=\"translate(135.520257 285.000313)rotate(-90)scale(0.1 -0.1)\">\n       <use xlink:href=\"#DejaVuSans-63\"/>\n       <use x=\"54.980469\" xlink:href=\"#DejaVuSans-6f\"/>\n       <use x=\"116.162109\" xlink:href=\"#DejaVuSans-75\"/>\n       <use x=\"179.541016\" xlink:href=\"#DejaVuSans-6e\"/>\n       <use x=\"242.919922\" xlink:href=\"#DejaVuSans-74\"/>\n       <use x=\"282.128906\" xlink:href=\"#DejaVuSans-72\"/>\n       <use x=\"323.242188\" xlink:href=\"#DejaVuSans-79\"/>\n      </g>\n     </g>\n    </g>\n    <g id=\"xtick_18\">\n     <g id=\"line2d_35\">\n      <path clip-path=\"url(#p39cfa2f030)\" d=\"M 137.171949 239.758125 \nL 137.171949 22.318125 \n\" style=\"fill:none;stroke:#c0c0c0;stroke-linecap:square;stroke-width:0.8;\"/>\n     </g>\n     <g id=\"line2d_36\">\n      <g>\n       <use style=\"stroke:#000000;stroke-width:0.8;\" x=\"137.171949\" xlink:href=\"#me7c86ba28e\" y=\"239.758125\"/>\n      </g>\n     </g>\n     <g id=\"text_18\">\n      <!-- hillary -->\n      <g transform=\"translate(139.931324 277.587812)rotate(-90)scale(0.1 -0.1)\">\n       <defs>\n        <path d=\"M 3513 2113 \nL 3513 0 \nL 2938 0 \nL 2938 2094 \nQ 2938 2591 2744 2837 \nQ 2550 3084 2163 3084 \nQ 1697 3084 1428 2787 \nQ 1159 2491 1159 1978 \nL 1159 0 \nL 581 0 \nL 581 4863 \nL 1159 4863 \nL 1159 2956 \nQ 1366 3272 1645 3428 \nQ 1925 3584 2291 3584 \nQ 2894 3584 3203 3211 \nQ 3513 2838 3513 2113 \nz\n\" id=\"DejaVuSans-68\" transform=\"scale(0.015625)\"/>\n       </defs>\n       <use xlink:href=\"#DejaVuSans-68\"/>\n       <use x=\"63.378906\" xlink:href=\"#DejaVuSans-69\"/>\n       <use x=\"91.162109\" xlink:href=\"#DejaVuSans-6c\"/>\n       <use x=\"118.945312\" xlink:href=\"#DejaVuSans-6c\"/>\n       <use x=\"146.728516\" xlink:href=\"#DejaVuSans-61\"/>\n       <use x=\"208.007812\" xlink:href=\"#DejaVuSans-72\"/>\n       <use x=\"249.121094\" xlink:href=\"#DejaVuSans-79\"/>\n      </g>\n     </g>\n    </g>\n    <g id=\"xtick_19\">\n     <g id=\"line2d_37\">\n      <path clip-path=\"url(#p39cfa2f030)\" d=\"M 141.583016 239.758125 \nL 141.583016 22.318125 \n\" style=\"fill:none;stroke:#c0c0c0;stroke-linecap:square;stroke-width:0.8;\"/>\n     </g>\n     <g id=\"line2d_38\">\n      <g>\n       <use style=\"stroke:#000000;stroke-width:0.8;\" x=\"141.583016\" xlink:href=\"#me7c86ba28e\" y=\"239.758125\"/>\n      </g>\n     </g>\n     <g id=\"text_19\">\n      <!-- health -->\n      <g transform=\"translate(144.342391 278.412812)rotate(-90)scale(0.1 -0.1)\">\n       <use xlink:href=\"#DejaVuSans-68\"/>\n       <use x=\"63.378906\" xlink:href=\"#DejaVuSans-65\"/>\n       <use x=\"124.902344\" xlink:href=\"#DejaVuSans-61\"/>\n       <use x=\"186.181641\" xlink:href=\"#DejaVuSans-6c\"/>\n       <use x=\"213.964844\" xlink:href=\"#DejaVuSans-74\"/>\n       <use x=\"253.173828\" xlink:href=\"#DejaVuSans-68\"/>\n      </g>\n     </g>\n    </g>\n    <g id=\"xtick_20\">\n     <g id=\"line2d_39\">\n      <path clip-path=\"url(#p39cfa2f030)\" d=\"M 145.994083 239.758125 \nL 145.994083 22.318125 \n\" style=\"fill:none;stroke:#c0c0c0;stroke-linecap:square;stroke-width:0.8;\"/>\n     </g>\n     <g id=\"line2d_40\">\n      <g>\n       <use style=\"stroke:#000000;stroke-width:0.8;\" x=\"145.994083\" xlink:href=\"#me7c86ba28e\" y=\"239.758125\"/>\n      </g>\n     </g>\n     <g id=\"text_20\">\n      <!-- pay -->\n      <g transform=\"translate(148.753458 265.153437)rotate(-90)scale(0.1 -0.1)\">\n       <use xlink:href=\"#DejaVuSans-70\"/>\n       <use x=\"63.476562\" xlink:href=\"#DejaVuSans-61\"/>\n       <use x=\"124.755859\" xlink:href=\"#DejaVuSans-79\"/>\n      </g>\n     </g>\n    </g>\n    <g id=\"xtick_21\">\n     <g id=\"line2d_41\">\n      <path clip-path=\"url(#p39cfa2f030)\" d=\"M 150.405151 239.758125 \nL 150.405151 22.318125 \n\" style=\"fill:none;stroke:#c0c0c0;stroke-linecap:square;stroke-width:0.8;\"/>\n     </g>\n     <g id=\"line2d_42\">\n      <g>\n       <use style=\"stroke:#000000;stroke-width:0.8;\" x=\"150.405151\" xlink:href=\"#me7c86ba28e\" y=\"239.758125\"/>\n      </g>\n     </g>\n     <g id=\"text_21\">\n      <!-- bill -->\n      <g transform=\"translate(153.164526 261.440938)rotate(-90)scale(0.1 -0.1)\">\n       <use xlink:href=\"#DejaVuSans-62\"/>\n       <use x=\"63.476562\" xlink:href=\"#DejaVuSans-69\"/>\n       <use x=\"91.259766\" xlink:href=\"#DejaVuSans-6c\"/>\n       <use x=\"119.042969\" xlink:href=\"#DejaVuSans-6c\"/>\n      </g>\n     </g>\n    </g>\n    <g id=\"xtick_22\">\n     <g id=\"line2d_43\">\n      <path clip-path=\"url(#p39cfa2f030)\" d=\"M 154.816218 239.758125 \nL 154.816218 22.318125 \n\" style=\"fill:none;stroke:#c0c0c0;stroke-linecap:square;stroke-width:0.8;\"/>\n     </g>\n     <g id=\"line2d_44\">\n      <g>\n       <use style=\"stroke:#000000;stroke-width:0.8;\" x=\"154.816218\" xlink:href=\"#me7c86ba28e\" y=\"239.758125\"/>\n      </g>\n     </g>\n     <g id=\"text_22\">\n      <!-- billion -->\n      <g transform=\"translate(157.575593 276.675313)rotate(-90)scale(0.1 -0.1)\">\n       <use xlink:href=\"#DejaVuSans-62\"/>\n       <use x=\"63.476562\" xlink:href=\"#DejaVuSans-69\"/>\n       <use x=\"91.259766\" xlink:href=\"#DejaVuSans-6c\"/>\n       <use x=\"119.042969\" xlink:href=\"#DejaVuSans-6c\"/>\n       <use x=\"146.826172\" xlink:href=\"#DejaVuSans-69\"/>\n       <use x=\"174.609375\" xlink:href=\"#DejaVuSans-6f\"/>\n       <use x=\"235.791016\" xlink:href=\"#DejaVuSans-6e\"/>\n      </g>\n     </g>\n    </g>\n    <g id=\"xtick_23\">\n     <g id=\"line2d_45\">\n      <path clip-path=\"url(#p39cfa2f030)\" d=\"M 159.227285 239.758125 \nL 159.227285 22.318125 \n\" style=\"fill:none;stroke:#c0c0c0;stroke-linecap:square;stroke-width:0.8;\"/>\n     </g>\n     <g id=\"line2d_46\">\n      <g>\n       <use style=\"stroke:#000000;stroke-width:0.8;\" x=\"159.227285\" xlink:href=\"#me7c86ba28e\" y=\"239.758125\"/>\n      </g>\n     </g>\n     <g id=\"text_23\">\n      <!-- care -->\n      <g transform=\"translate(161.98666 268.42375)rotate(-90)scale(0.1 -0.1)\">\n       <use xlink:href=\"#DejaVuSans-63\"/>\n       <use x=\"54.980469\" xlink:href=\"#DejaVuSans-61\"/>\n       <use x=\"116.259766\" xlink:href=\"#DejaVuSans-72\"/>\n       <use x=\"155.123047\" xlink:href=\"#DejaVuSans-65\"/>\n      </g>\n     </g>\n    </g>\n    <g id=\"xtick_24\">\n     <g id=\"line2d_47\">\n      <path clip-path=\"url(#p39cfa2f030)\" d=\"M 163.638352 239.758125 \nL 163.638352 22.318125 \n\" style=\"fill:none;stroke:#c0c0c0;stroke-linecap:square;stroke-width:0.8;\"/>\n     </g>\n     <g id=\"line2d_48\">\n      <g>\n       <use style=\"stroke:#000000;stroke-width:0.8;\" x=\"163.638352\" xlink:href=\"#me7c86ba28e\" y=\"239.758125\"/>\n      </g>\n     </g>\n     <g id=\"text_24\">\n      <!-- illegal -->\n      <g transform=\"translate(166.397727 276.500313)rotate(-90)scale(0.1 -0.1)\">\n       <use xlink:href=\"#DejaVuSans-69\"/>\n       <use x=\"27.783203\" xlink:href=\"#DejaVuSans-6c\"/>\n       <use x=\"55.566406\" xlink:href=\"#DejaVuSans-6c\"/>\n       <use x=\"83.349609\" xlink:href=\"#DejaVuSans-65\"/>\n       <use x=\"144.873047\" xlink:href=\"#DejaVuSans-67\"/>\n       <use x=\"208.349609\" xlink:href=\"#DejaVuSans-61\"/>\n       <use x=\"269.628906\" xlink:href=\"#DejaVuSans-6c\"/>\n      </g>\n     </g>\n    </g>\n    <g id=\"xtick_25\">\n     <g id=\"line2d_49\">\n      <path clip-path=\"url(#p39cfa2f030)\" d=\"M 168.049419 239.758125 \nL 168.049419 22.318125 \n\" style=\"fill:none;stroke:#c0c0c0;stroke-linecap:square;stroke-width:0.8;\"/>\n     </g>\n     <g id=\"line2d_50\">\n      <g>\n       <use style=\"stroke:#000000;stroke-width:0.8;\" x=\"168.049419\" xlink:href=\"#me7c86ba28e\" y=\"239.758125\"/>\n      </g>\n     </g>\n     <g id=\"text_25\">\n      <!-- barack -->\n      <g transform=\"translate(170.808794 280.762812)rotate(-90)scale(0.1 -0.1)\">\n       <defs>\n        <path d=\"M 581 4863 \nL 1159 4863 \nL 1159 1991 \nL 2875 3500 \nL 3609 3500 \nL 1753 1863 \nL 3688 0 \nL 2938 0 \nL 1159 1709 \nL 1159 0 \nL 581 0 \nL 581 4863 \nz\n\" id=\"DejaVuSans-6b\" transform=\"scale(0.015625)\"/>\n       </defs>\n       <use xlink:href=\"#DejaVuSans-62\"/>\n       <use x=\"63.476562\" xlink:href=\"#DejaVuSans-61\"/>\n       <use x=\"124.755859\" xlink:href=\"#DejaVuSans-72\"/>\n       <use x=\"165.869141\" xlink:href=\"#DejaVuSans-61\"/>\n       <use x=\"227.148438\" xlink:href=\"#DejaVuSans-63\"/>\n       <use x=\"282.128906\" xlink:href=\"#DejaVuSans-6b\"/>\n      </g>\n     </g>\n    </g>\n    <g id=\"xtick_26\">\n     <g id=\"line2d_51\">\n      <path clip-path=\"url(#p39cfa2f030)\" d=\"M 172.460487 239.758125 \nL 172.460487 22.318125 \n\" style=\"fill:none;stroke:#c0c0c0;stroke-linecap:square;stroke-width:0.8;\"/>\n     </g>\n     <g id=\"line2d_52\">\n      <g>\n       <use style=\"stroke:#000000;stroke-width:0.8;\" x=\"172.460487\" xlink:href=\"#me7c86ba28e\" y=\"239.758125\"/>\n      </g>\n     </g>\n     <g id=\"text_26\">\n      <!-- job -->\n      <g transform=\"translate(175.219862 262.003438)rotate(-90)scale(0.1 -0.1)\">\n       <defs>\n        <path d=\"M 603 3500 \nL 1178 3500 \nL 1178 -63 \nQ 1178 -731 923 -1031 \nQ 669 -1331 103 -1331 \nL -116 -1331 \nL -116 -844 \nL 38 -844 \nQ 366 -844 484 -692 \nQ 603 -541 603 -63 \nL 603 3500 \nz\nM 603 4863 \nL 1178 4863 \nL 1178 4134 \nL 603 4134 \nL 603 4863 \nz\n\" id=\"DejaVuSans-6a\" transform=\"scale(0.015625)\"/>\n       </defs>\n       <use xlink:href=\"#DejaVuSans-6a\"/>\n       <use x=\"27.783203\" xlink:href=\"#DejaVuSans-6f\"/>\n       <use x=\"88.964844\" xlink:href=\"#DejaVuSans-62\"/>\n      </g>\n     </g>\n    </g>\n    <g id=\"xtick_27\">\n     <g id=\"line2d_53\">\n      <path clip-path=\"url(#p39cfa2f030)\" d=\"M 176.871554 239.758125 \nL 176.871554 22.318125 \n\" style=\"fill:none;stroke:#c0c0c0;stroke-linecap:square;stroke-width:0.8;\"/>\n     </g>\n     <g id=\"line2d_54\">\n      <g>\n       <use style=\"stroke:#000000;stroke-width:0.8;\" x=\"176.871554\" xlink:href=\"#me7c86ba28e\" y=\"239.758125\"/>\n      </g>\n     </g>\n     <g id=\"text_27\">\n      <!-- donald -->\n      <g transform=\"translate(179.630929 280.8175)rotate(-90)scale(0.1 -0.1)\">\n       <use xlink:href=\"#DejaVuSans-64\"/>\n       <use x=\"63.476562\" xlink:href=\"#DejaVuSans-6f\"/>\n       <use x=\"124.658203\" xlink:href=\"#DejaVuSans-6e\"/>\n       <use x=\"188.037109\" xlink:href=\"#DejaVuSans-61\"/>\n       <use x=\"249.316406\" xlink:href=\"#DejaVuSans-6c\"/>\n       <use x=\"277.099609\" xlink:href=\"#DejaVuSans-64\"/>\n      </g>\n     </g>\n    </g>\n    <g id=\"xtick_28\">\n     <g id=\"line2d_55\">\n      <path clip-path=\"url(#p39cfa2f030)\" d=\"M 181.282621 239.758125 \nL 181.282621 22.318125 \n\" style=\"fill:none;stroke:#c0c0c0;stroke-linecap:square;stroke-width:0.8;\"/>\n     </g>\n     <g id=\"line2d_56\">\n      <g>\n       <use style=\"stroke:#000000;stroke-width:0.8;\" x=\"181.282621\" xlink:href=\"#me7c86ba28e\" y=\"239.758125\"/>\n      </g>\n     </g>\n     <g id=\"text_28\">\n      <!-- united -->\n      <g transform=\"translate(184.041996 278.633125)rotate(-90)scale(0.1 -0.1)\">\n       <use xlink:href=\"#DejaVuSans-75\"/>\n       <use x=\"63.378906\" xlink:href=\"#DejaVuSans-6e\"/>\n       <use x=\"126.757812\" xlink:href=\"#DejaVuSans-69\"/>\n       <use x=\"154.541016\" xlink:href=\"#DejaVuSans-74\"/>\n       <use x=\"193.75\" xlink:href=\"#DejaVuSans-65\"/>\n       <use x=\"255.273438\" xlink:href=\"#DejaVuSans-64\"/>\n      </g>\n     </g>\n    </g>\n    <g id=\"xtick_29\">\n     <g id=\"line2d_57\">\n      <path clip-path=\"url(#p39cfa2f030)\" d=\"M 185.693688 239.758125 \nL 185.693688 22.318125 \n\" style=\"fill:none;stroke:#c0c0c0;stroke-linecap:square;stroke-width:0.8;\"/>\n     </g>\n     <g id=\"line2d_58\">\n      <g>\n       <use style=\"stroke:#000000;stroke-width:0.8;\" x=\"185.693688\" xlink:href=\"#me7c86ba28e\" y=\"239.758125\"/>\n      </g>\n     </g>\n     <g id=\"text_29\">\n      <!-- law -->\n      <g transform=\"translate(188.453063 263.8425)rotate(-90)scale(0.1 -0.1)\">\n       <use xlink:href=\"#DejaVuSans-6c\"/>\n       <use x=\"27.783203\" xlink:href=\"#DejaVuSans-61\"/>\n       <use x=\"89.0625\" xlink:href=\"#DejaVuSans-77\"/>\n      </g>\n     </g>\n    </g>\n    <g id=\"xtick_30\">\n     <g id=\"line2d_59\">\n      <path clip-path=\"url(#p39cfa2f030)\" d=\"M 190.104755 239.758125 \nL 190.104755 22.318125 \n\" style=\"fill:none;stroke:#c0c0c0;stroke-linecap:square;stroke-width:0.8;\"/>\n     </g>\n     <g id=\"line2d_60\">\n      <g>\n       <use style=\"stroke:#000000;stroke-width:0.8;\" x=\"190.104755\" xlink:href=\"#me7c86ba28e\" y=\"239.758125\"/>\n      </g>\n     </g>\n     <g id=\"text_30\">\n      <!-- time -->\n      <g transform=\"translate(192.86413 269.350312)rotate(-90)scale(0.1 -0.1)\">\n       <use xlink:href=\"#DejaVuSans-74\"/>\n       <use x=\"39.208984\" xlink:href=\"#DejaVuSans-69\"/>\n       <use x=\"66.992188\" xlink:href=\"#DejaVuSans-6d\"/>\n       <use x=\"164.404297\" xlink:href=\"#DejaVuSans-65\"/>\n      </g>\n     </g>\n    </g>\n    <g id=\"xtick_31\">\n     <g id=\"line2d_61\">\n      <path clip-path=\"url(#p39cfa2f030)\" d=\"M 194.515823 239.758125 \nL 194.515823 22.318125 \n\" style=\"fill:none;stroke:#c0c0c0;stroke-linecap:square;stroke-width:0.8;\"/>\n     </g>\n     <g id=\"line2d_62\">\n      <g>\n       <use style=\"stroke:#000000;stroke-width:0.8;\" x=\"194.515823\" xlink:href=\"#me7c86ba28e\" y=\"239.758125\"/>\n      </g>\n     </g>\n     <g id=\"text_31\">\n      <!-- government -->\n      <g transform=\"translate(197.275198 307.722188)rotate(-90)scale(0.1 -0.1)\">\n       <use xlink:href=\"#DejaVuSans-67\"/>\n       <use x=\"63.476562\" xlink:href=\"#DejaVuSans-6f\"/>\n       <use x=\"124.658203\" xlink:href=\"#DejaVuSans-76\"/>\n       <use x=\"183.837891\" xlink:href=\"#DejaVuSans-65\"/>\n       <use x=\"245.361328\" xlink:href=\"#DejaVuSans-72\"/>\n       <use x=\"284.724609\" xlink:href=\"#DejaVuSans-6e\"/>\n       <use x=\"348.103516\" xlink:href=\"#DejaVuSans-6d\"/>\n       <use x=\"445.515625\" xlink:href=\"#DejaVuSans-65\"/>\n       <use x=\"507.039062\" xlink:href=\"#DejaVuSans-6e\"/>\n       <use x=\"570.417969\" xlink:href=\"#DejaVuSans-74\"/>\n      </g>\n     </g>\n    </g>\n    <g id=\"xtick_32\">\n     <g id=\"line2d_63\">\n      <path clip-path=\"url(#p39cfa2f030)\" d=\"M 198.92689 239.758125 \nL 198.92689 22.318125 \n\" style=\"fill:none;stroke:#c0c0c0;stroke-linecap:square;stroke-width:0.8;\"/>\n     </g>\n     <g id=\"line2d_64\">\n      <g>\n       <use style=\"stroke:#000000;stroke-width:0.8;\" x=\"198.92689\" xlink:href=\"#me7c86ba28e\" y=\"239.758125\"/>\n      </g>\n     </g>\n     <g id=\"text_32\">\n      <!-- high -->\n      <g transform=\"translate(201.686265 268.559687)rotate(-90)scale(0.1 -0.1)\">\n       <use xlink:href=\"#DejaVuSans-68\"/>\n       <use x=\"63.378906\" xlink:href=\"#DejaVuSans-69\"/>\n       <use x=\"91.162109\" xlink:href=\"#DejaVuSans-67\"/>\n       <use x=\"154.638672\" xlink:href=\"#DejaVuSans-68\"/>\n      </g>\n     </g>\n    </g>\n    <g id=\"xtick_33\">\n     <g id=\"line2d_65\">\n      <path clip-path=\"url(#p39cfa2f030)\" d=\"M 203.337957 239.758125 \nL 203.337957 22.318125 \n\" style=\"fill:none;stroke:#c0c0c0;stroke-linecap:square;stroke-width:0.8;\"/>\n     </g>\n     <g id=\"line2d_66\">\n      <g>\n       <use style=\"stroke:#000000;stroke-width:0.8;\" x=\"203.337957\" xlink:href=\"#me7c86ba28e\" y=\"239.758125\"/>\n      </g>\n     </g>\n     <g id=\"text_33\">\n      <!-- s -->\n      <g transform=\"translate(206.097332 251.9675)rotate(-90)scale(0.1 -0.1)\">\n       <use xlink:href=\"#DejaVuSans-73\"/>\n      </g>\n     </g>\n    </g>\n    <g id=\"xtick_34\">\n     <g id=\"line2d_67\">\n      <path clip-path=\"url(#p39cfa2f030)\" d=\"M 207.749024 239.758125 \nL 207.749024 22.318125 \n\" style=\"fill:none;stroke:#c0c0c0;stroke-linecap:square;stroke-width:0.8;\"/>\n     </g>\n     <g id=\"line2d_68\">\n      <g>\n       <use style=\"stroke:#000000;stroke-width:0.8;\" x=\"207.749024\" xlink:href=\"#me7c86ba28e\" y=\"239.758125\"/>\n      </g>\n     </g>\n     <g id=\"text_34\">\n      <!-- plan -->\n      <g transform=\"translate(210.508399 268.350312)rotate(-90)scale(0.1 -0.1)\">\n       <use xlink:href=\"#DejaVuSans-70\"/>\n       <use x=\"63.476562\" xlink:href=\"#DejaVuSans-6c\"/>\n       <use x=\"91.259766\" xlink:href=\"#DejaVuSans-61\"/>\n       <use x=\"152.539062\" xlink:href=\"#DejaVuSans-6e\"/>\n      </g>\n     </g>\n    </g>\n    <g id=\"xtick_35\">\n     <g id=\"line2d_69\">\n      <path clip-path=\"url(#p39cfa2f030)\" d=\"M 212.160091 239.758125 \nL 212.160091 22.318125 \n\" style=\"fill:none;stroke:#c0c0c0;stroke-linecap:square;stroke-width:0.8;\"/>\n     </g>\n     <g id=\"line2d_70\">\n      <g>\n       <use style=\"stroke:#000000;stroke-width:0.8;\" x=\"212.160091\" xlink:href=\"#me7c86ba28e\" y=\"239.758125\"/>\n      </g>\n     </g>\n     <g id=\"text_35\">\n      <!-- want -->\n      <g transform=\"translate(214.919466 271.322187)rotate(-90)scale(0.1 -0.1)\">\n       <use xlink:href=\"#DejaVuSans-77\"/>\n       <use x=\"81.787109\" xlink:href=\"#DejaVuSans-61\"/>\n       <use x=\"143.066406\" xlink:href=\"#DejaVuSans-6e\"/>\n       <use x=\"206.445312\" xlink:href=\"#DejaVuSans-74\"/>\n      </g>\n     </g>\n    </g>\n    <g id=\"xtick_36\">\n     <g id=\"line2d_71\">\n      <path clip-path=\"url(#p39cfa2f030)\" d=\"M 216.571159 239.758125 \nL 216.571159 22.318125 \n\" style=\"fill:none;stroke:#c0c0c0;stroke-linecap:square;stroke-width:0.8;\"/>\n     </g>\n     <g id=\"line2d_72\">\n      <g>\n       <use style=\"stroke:#000000;stroke-width:0.8;\" x=\"216.571159\" xlink:href=\"#me7c86ba28e\" y=\"239.758125\"/>\n      </g>\n     </g>\n     <g id=\"text_36\">\n      <!-- obamacare -->\n      <g transform=\"translate(219.330534 302.887812)rotate(-90)scale(0.1 -0.1)\">\n       <use xlink:href=\"#DejaVuSans-6f\"/>\n       <use x=\"61.181641\" xlink:href=\"#DejaVuSans-62\"/>\n       <use x=\"124.658203\" xlink:href=\"#DejaVuSans-61\"/>\n       <use x=\"185.9375\" xlink:href=\"#DejaVuSans-6d\"/>\n       <use x=\"283.349609\" xlink:href=\"#DejaVuSans-61\"/>\n       <use x=\"344.628906\" xlink:href=\"#DejaVuSans-63\"/>\n       <use x=\"399.609375\" xlink:href=\"#DejaVuSans-61\"/>\n       <use x=\"460.888672\" xlink:href=\"#DejaVuSans-72\"/>\n       <use x=\"499.751953\" xlink:href=\"#DejaVuSans-65\"/>\n      </g>\n     </g>\n    </g>\n    <g id=\"xtick_37\">\n     <g id=\"line2d_73\">\n      <path clip-path=\"url(#p39cfa2f030)\" d=\"M 220.982226 239.758125 \nL 220.982226 22.318125 \n\" style=\"fill:none;stroke:#c0c0c0;stroke-linecap:square;stroke-width:0.8;\"/>\n     </g>\n     <g id=\"line2d_74\">\n      <g>\n       <use style=\"stroke:#000000;stroke-width:0.8;\" x=\"220.982226\" xlink:href=\"#me7c86ba28e\" y=\"239.758125\"/>\n      </g>\n     </g>\n     <g id=\"text_37\">\n      <!-- get -->\n      <g transform=\"translate(223.741601 263.18)rotate(-90)scale(0.1 -0.1)\">\n       <use xlink:href=\"#DejaVuSans-67\"/>\n       <use x=\"63.476562\" xlink:href=\"#DejaVuSans-65\"/>\n       <use x=\"125\" xlink:href=\"#DejaVuSans-74\"/>\n      </g>\n     </g>\n    </g>\n    <g id=\"xtick_38\">\n     <g id=\"line2d_75\">\n      <path clip-path=\"url(#p39cfa2f030)\" d=\"M 225.393293 239.758125 \nL 225.393293 22.318125 \n\" style=\"fill:none;stroke:#c0c0c0;stroke-linecap:square;stroke-width:0.8;\"/>\n     </g>\n     <g id=\"line2d_76\">\n      <g>\n       <use style=\"stroke:#000000;stroke-width:0.8;\" x=\"225.393293\" xlink:href=\"#me7c86ba28e\" y=\"239.758125\"/>\n      </g>\n     </g>\n     <g id=\"text_38\">\n      <!-- rate -->\n      <g transform=\"translate(228.152668 267.070625)rotate(-90)scale(0.1 -0.1)\">\n       <use xlink:href=\"#DejaVuSans-72\"/>\n       <use x=\"41.113281\" xlink:href=\"#DejaVuSans-61\"/>\n       <use x=\"102.392578\" xlink:href=\"#DejaVuSans-74\"/>\n       <use x=\"141.601562\" xlink:href=\"#DejaVuSans-65\"/>\n      </g>\n     </g>\n    </g>\n    <g id=\"xtick_39\">\n     <g id=\"line2d_77\">\n      <path clip-path=\"url(#p39cfa2f030)\" d=\"M 229.80436 239.758125 \nL 229.80436 22.318125 \n\" style=\"fill:none;stroke:#c0c0c0;stroke-linecap:square;stroke-width:0.8;\"/>\n     </g>\n     <g id=\"line2d_78\">\n      <g>\n       <use style=\"stroke:#000000;stroke-width:0.8;\" x=\"229.80436\" xlink:href=\"#me7c86ba28e\" y=\"239.758125\"/>\n      </g>\n     </g>\n     <g id=\"text_39\">\n      <!-- cut -->\n      <g transform=\"translate(232.563735 262.514375)rotate(-90)scale(0.1 -0.1)\">\n       <use xlink:href=\"#DejaVuSans-63\"/>\n       <use x=\"54.980469\" xlink:href=\"#DejaVuSans-75\"/>\n       <use x=\"118.359375\" xlink:href=\"#DejaVuSans-74\"/>\n      </g>\n     </g>\n    </g>\n    <g id=\"xtick_40\">\n     <g id=\"line2d_79\">\n      <path clip-path=\"url(#p39cfa2f030)\" d=\"M 234.215427 239.758125 \nL 234.215427 22.318125 \n\" style=\"fill:none;stroke:#c0c0c0;stroke-linecap:square;stroke-width:0.8;\"/>\n     </g>\n     <g id=\"line2d_80\">\n      <g>\n       <use style=\"stroke:#000000;stroke-width:0.8;\" x=\"234.215427\" xlink:href=\"#me7c86ba28e\" y=\"239.758125\"/>\n      </g>\n     </g>\n     <g id=\"text_40\">\n      <!-- come -->\n      <g transform=\"translate(236.974802 274.269063)rotate(-90)scale(0.1 -0.1)\">\n       <use xlink:href=\"#DejaVuSans-63\"/>\n       <use x=\"54.980469\" xlink:href=\"#DejaVuSans-6f\"/>\n       <use x=\"116.162109\" xlink:href=\"#DejaVuSans-6d\"/>\n       <use x=\"213.574219\" xlink:href=\"#DejaVuSans-65\"/>\n      </g>\n     </g>\n    </g>\n    <g id=\"xtick_41\">\n     <g id=\"line2d_81\">\n      <path clip-path=\"url(#p39cfa2f030)\" d=\"M 238.626495 239.758125 \nL 238.626495 22.318125 \n\" style=\"fill:none;stroke:#c0c0c0;stroke-linecap:square;stroke-width:0.8;\"/>\n     </g>\n     <g id=\"line2d_82\">\n      <g>\n       <use style=\"stroke:#000000;stroke-width:0.8;\" x=\"238.626495\" xlink:href=\"#me7c86ba28e\" y=\"239.758125\"/>\n      </g>\n     </g>\n     <g id=\"text_41\">\n      <!-- school -->\n      <g transform=\"translate(241.38587 278.819062)rotate(-90)scale(0.1 -0.1)\">\n       <use xlink:href=\"#DejaVuSans-73\"/>\n       <use x=\"52.099609\" xlink:href=\"#DejaVuSans-63\"/>\n       <use x=\"107.080078\" xlink:href=\"#DejaVuSans-68\"/>\n       <use x=\"170.458984\" xlink:href=\"#DejaVuSans-6f\"/>\n       <use x=\"231.640625\" xlink:href=\"#DejaVuSans-6f\"/>\n       <use x=\"292.822266\" xlink:href=\"#DejaVuSans-6c\"/>\n      </g>\n     </g>\n    </g>\n    <g id=\"xtick_42\">\n     <g id=\"line2d_83\">\n      <path clip-path=\"url(#p39cfa2f030)\" d=\"M 243.037562 239.758125 \nL 243.037562 22.318125 \n\" style=\"fill:none;stroke:#c0c0c0;stroke-linecap:square;stroke-width:0.8;\"/>\n     </g>\n     <g id=\"line2d_84\">\n      <g>\n       <use style=\"stroke:#000000;stroke-width:0.8;\" x=\"243.037562\" xlink:href=\"#me7c86ba28e\" y=\"239.758125\"/>\n      </g>\n     </g>\n     <g id=\"text_42\">\n      <!-- work -->\n      <g transform=\"translate(245.796937 270.956563)rotate(-90)scale(0.1 -0.1)\">\n       <use xlink:href=\"#DejaVuSans-77\"/>\n       <use x=\"81.787109\" xlink:href=\"#DejaVuSans-6f\"/>\n       <use x=\"142.96875\" xlink:href=\"#DejaVuSans-72\"/>\n       <use x=\"184.082031\" xlink:href=\"#DejaVuSans-6b\"/>\n      </g>\n     </g>\n    </g>\n    <g id=\"xtick_43\">\n     <g id=\"line2d_85\">\n      <path clip-path=\"url(#p39cfa2f030)\" d=\"M 247.448629 239.758125 \nL 247.448629 22.318125 \n\" style=\"fill:none;stroke:#c0c0c0;stroke-linecap:square;stroke-width:0.8;\"/>\n     </g>\n     <g id=\"line2d_86\">\n      <g>\n       <use style=\"stroke:#000000;stroke-width:0.8;\" x=\"247.448629\" xlink:href=\"#me7c86ba28e\" y=\"239.758125\"/>\n      </g>\n     </g>\n     <g id=\"text_43\">\n      <!-- republican -->\n      <g transform=\"translate(250.208004 299.351875)rotate(-90)scale(0.1 -0.1)\">\n       <use xlink:href=\"#DejaVuSans-72\"/>\n       <use x=\"38.863281\" xlink:href=\"#DejaVuSans-65\"/>\n       <use x=\"100.386719\" xlink:href=\"#DejaVuSans-70\"/>\n       <use x=\"163.863281\" xlink:href=\"#DejaVuSans-75\"/>\n       <use x=\"227.242188\" xlink:href=\"#DejaVuSans-62\"/>\n       <use x=\"290.71875\" xlink:href=\"#DejaVuSans-6c\"/>\n       <use x=\"318.501953\" xlink:href=\"#DejaVuSans-69\"/>\n       <use x=\"346.285156\" xlink:href=\"#DejaVuSans-63\"/>\n       <use x=\"401.265625\" xlink:href=\"#DejaVuSans-61\"/>\n       <use x=\"462.544922\" xlink:href=\"#DejaVuSans-6e\"/>\n      </g>\n     </g>\n    </g>\n    <g id=\"xtick_44\">\n     <g id=\"line2d_87\">\n      <path clip-path=\"url(#p39cfa2f030)\" d=\"M 251.859696 239.758125 \nL 251.859696 22.318125 \n\" style=\"fill:none;stroke:#c0c0c0;stroke-linecap:square;stroke-width:0.8;\"/>\n     </g>\n     <g id=\"line2d_88\">\n      <g>\n       <use style=\"stroke:#000000;stroke-width:0.8;\" x=\"251.859696\" xlink:href=\"#me7c86ba28e\" y=\"239.758125\"/>\n      </g>\n     </g>\n     <g id=\"text_44\">\n      <!-- right -->\n      <g transform=\"translate(254.619071 270.253438)rotate(-90)scale(0.1 -0.1)\">\n       <use xlink:href=\"#DejaVuSans-72\"/>\n       <use x=\"41.113281\" xlink:href=\"#DejaVuSans-69\"/>\n       <use x=\"68.896484\" xlink:href=\"#DejaVuSans-67\"/>\n       <use x=\"132.373047\" xlink:href=\"#DejaVuSans-68\"/>\n       <use x=\"195.751953\" xlink:href=\"#DejaVuSans-74\"/>\n      </g>\n     </g>\n    </g>\n    <g id=\"xtick_45\">\n     <g id=\"line2d_89\">\n      <path clip-path=\"url(#p39cfa2f030)\" d=\"M 256.270763 239.758125 \nL 256.270763 22.318125 \n\" style=\"fill:none;stroke:#c0c0c0;stroke-linecap:square;stroke-width:0.8;\"/>\n     </g>\n     <g id=\"line2d_90\">\n      <g>\n       <use style=\"stroke:#000000;stroke-width:0.8;\" x=\"256.270763\" xlink:href=\"#me7c86ba28e\" y=\"239.758125\"/>\n      </g>\n     </g>\n     <g id=\"text_45\">\n      <!-- border -->\n      <g transform=\"translate(259.030138 279.77375)rotate(-90)scale(0.1 -0.1)\">\n       <use xlink:href=\"#DejaVuSans-62\"/>\n       <use x=\"63.476562\" xlink:href=\"#DejaVuSans-6f\"/>\n       <use x=\"124.658203\" xlink:href=\"#DejaVuSans-72\"/>\n       <use x=\"164.021484\" xlink:href=\"#DejaVuSans-64\"/>\n       <use x=\"227.498047\" xlink:href=\"#DejaVuSans-65\"/>\n       <use x=\"289.021484\" xlink:href=\"#DejaVuSans-72\"/>\n      </g>\n     </g>\n    </g>\n    <g id=\"xtick_46\">\n     <g id=\"line2d_91\">\n      <path clip-path=\"url(#p39cfa2f030)\" d=\"M 260.681831 239.758125 \nL 260.681831 22.318125 \n\" style=\"fill:none;stroke:#c0c0c0;stroke-linecap:square;stroke-width:0.8;\"/>\n     </g>\n     <g id=\"line2d_92\">\n      <g>\n       <use style=\"stroke:#000000;stroke-width:0.8;\" x=\"260.681831\" xlink:href=\"#me7c86ba28e\" y=\"239.758125\"/>\n      </g>\n     </g>\n     <g id=\"text_46\">\n      <!-- woman -->\n      <g transform=\"translate(263.441206 283.26125)rotate(-90)scale(0.1 -0.1)\">\n       <use xlink:href=\"#DejaVuSans-77\"/>\n       <use x=\"81.787109\" xlink:href=\"#DejaVuSans-6f\"/>\n       <use x=\"142.96875\" xlink:href=\"#DejaVuSans-6d\"/>\n       <use x=\"240.380859\" xlink:href=\"#DejaVuSans-61\"/>\n       <use x=\"301.660156\" xlink:href=\"#DejaVuSans-6e\"/>\n      </g>\n     </g>\n    </g>\n    <g id=\"xtick_47\">\n     <g id=\"line2d_93\">\n      <path clip-path=\"url(#p39cfa2f030)\" d=\"M 265.092898 239.758125 \nL 265.092898 22.318125 \n\" style=\"fill:none;stroke:#c0c0c0;stroke-linecap:square;stroke-width:0.8;\"/>\n     </g>\n     <g id=\"line2d_94\">\n      <g>\n       <use style=\"stroke:#000000;stroke-width:0.8;\" x=\"265.092898\" xlink:href=\"#me7c86ba28e\" y=\"239.758125\"/>\n      </g>\n     </g>\n     <g id=\"text_47\">\n      <!-- white -->\n      <g transform=\"translate(267.852273 274.125313)rotate(-90)scale(0.1 -0.1)\">\n       <use xlink:href=\"#DejaVuSans-77\"/>\n       <use x=\"81.787109\" xlink:href=\"#DejaVuSans-68\"/>\n       <use x=\"145.166016\" xlink:href=\"#DejaVuSans-69\"/>\n       <use x=\"172.949219\" xlink:href=\"#DejaVuSans-74\"/>\n       <use x=\"212.158203\" xlink:href=\"#DejaVuSans-65\"/>\n      </g>\n     </g>\n    </g>\n    <g id=\"xtick_48\">\n     <g id=\"line2d_95\">\n      <path clip-path=\"url(#p39cfa2f030)\" d=\"M 269.503965 239.758125 \nL 269.503965 22.318125 \n\" style=\"fill:none;stroke:#c0c0c0;stroke-linecap:square;stroke-width:0.8;\"/>\n     </g>\n     <g id=\"line2d_96\">\n      <g>\n       <use style=\"stroke:#000000;stroke-width:0.8;\" x=\"269.503965\" xlink:href=\"#me7c86ba28e\" y=\"239.758125\"/>\n      </g>\n     </g>\n     <g id=\"text_48\">\n      <!-- america -->\n      <g transform=\"translate(272.26334 287.295625)rotate(-90)scale(0.1 -0.1)\">\n       <use xlink:href=\"#DejaVuSans-61\"/>\n       <use x=\"61.279297\" xlink:href=\"#DejaVuSans-6d\"/>\n       <use x=\"158.691406\" xlink:href=\"#DejaVuSans-65\"/>\n       <use x=\"220.214844\" xlink:href=\"#DejaVuSans-72\"/>\n       <use x=\"261.328125\" xlink:href=\"#DejaVuSans-69\"/>\n       <use x=\"289.111328\" xlink:href=\"#DejaVuSans-63\"/>\n       <use x=\"344.091797\" xlink:href=\"#DejaVuSans-61\"/>\n      </g>\n     </g>\n    </g>\n    <g id=\"xtick_49\">\n     <g id=\"line2d_97\">\n      <path clip-path=\"url(#p39cfa2f030)\" d=\"M 273.915032 239.758125 \nL 273.915032 22.318125 \n\" style=\"fill:none;stroke:#c0c0c0;stroke-linecap:square;stroke-width:0.8;\"/>\n     </g>\n     <g id=\"line2d_98\">\n      <g>\n       <use style=\"stroke:#000000;stroke-width:0.8;\" x=\"273.915032\" xlink:href=\"#me7c86ba28e\" y=\"239.758125\"/>\n      </g>\n     </g>\n     <g id=\"text_49\">\n      <!-- gun -->\n      <g transform=\"translate(276.674407 265.781563)rotate(-90)scale(0.1 -0.1)\">\n       <use xlink:href=\"#DejaVuSans-67\"/>\n       <use x=\"63.476562\" xlink:href=\"#DejaVuSans-75\"/>\n       <use x=\"126.855469\" xlink:href=\"#DejaVuSans-6e\"/>\n      </g>\n     </g>\n    </g>\n    <g id=\"xtick_50\">\n     <g id=\"line2d_99\">\n      <path clip-path=\"url(#p39cfa2f030)\" d=\"M 278.326099 239.758125 \nL 278.326099 22.318125 \n\" style=\"fill:none;stroke:#c0c0c0;stroke-linecap:square;stroke-width:0.8;\"/>\n     </g>\n     <g id=\"line2d_100\">\n      <g>\n       <use style=\"stroke:#000000;stroke-width:0.8;\" x=\"278.326099\" xlink:href=\"#me7c86ba28e\" y=\"239.758125\"/>\n      </g>\n     </g>\n     <g id=\"text_50\">\n      <!-- support -->\n      <g transform=\"translate(281.085474 285.151875)rotate(-90)scale(0.1 -0.1)\">\n       <use xlink:href=\"#DejaVuSans-73\"/>\n       <use x=\"52.099609\" xlink:href=\"#DejaVuSans-75\"/>\n       <use x=\"115.478516\" xlink:href=\"#DejaVuSans-70\"/>\n       <use x=\"178.955078\" xlink:href=\"#DejaVuSans-70\"/>\n       <use x=\"242.431641\" xlink:href=\"#DejaVuSans-6f\"/>\n       <use x=\"303.613281\" xlink:href=\"#DejaVuSans-72\"/>\n       <use x=\"344.726562\" xlink:href=\"#DejaVuSans-74\"/>\n      </g>\n     </g>\n    </g>\n    <g id=\"xtick_51\">\n     <g id=\"line2d_101\">\n      <path clip-path=\"url(#p39cfa2f030)\" d=\"M 282.737167 239.758125 \nL 282.737167 22.318125 \n\" style=\"fill:none;stroke:#c0c0c0;stroke-linecap:square;stroke-width:0.8;\"/>\n     </g>\n     <g id=\"line2d_102\">\n      <g>\n       <use style=\"stroke:#000000;stroke-width:0.8;\" x=\"282.737167\" xlink:href=\"#me7c86ba28e\" y=\"239.758125\"/>\n      </g>\n     </g>\n     <g id=\"text_51\">\n      <!-- wisconsin -->\n      <g transform=\"translate(285.496542 295.203438)rotate(-90)scale(0.1 -0.1)\">\n       <use xlink:href=\"#DejaVuSans-77\"/>\n       <use x=\"81.787109\" xlink:href=\"#DejaVuSans-69\"/>\n       <use x=\"109.570312\" xlink:href=\"#DejaVuSans-73\"/>\n       <use x=\"161.669922\" xlink:href=\"#DejaVuSans-63\"/>\n       <use x=\"216.650391\" xlink:href=\"#DejaVuSans-6f\"/>\n       <use x=\"277.832031\" xlink:href=\"#DejaVuSans-6e\"/>\n       <use x=\"341.210938\" xlink:href=\"#DejaVuSans-73\"/>\n       <use x=\"393.310547\" xlink:href=\"#DejaVuSans-69\"/>\n       <use x=\"421.09375\" xlink:href=\"#DejaVuSans-6e\"/>\n      </g>\n     </g>\n    </g>\n    <g id=\"xtick_52\">\n     <g id=\"line2d_103\">\n      <path clip-path=\"url(#p39cfa2f030)\" d=\"M 287.148234 239.758125 \nL 287.148234 22.318125 \n\" style=\"fill:none;stroke:#c0c0c0;stroke-linecap:square;stroke-width:0.8;\"/>\n     </g>\n     <g id=\"line2d_104\">\n      <g>\n       <use style=\"stroke:#000000;stroke-width:0.8;\" x=\"287.148234\" xlink:href=\"#me7c86ba28e\" y=\"239.758125\"/>\n      </g>\n     </g>\n     <g id=\"text_52\">\n      <!-- money -->\n      <g transform=\"translate(289.907609 281.026875)rotate(-90)scale(0.1 -0.1)\">\n       <use xlink:href=\"#DejaVuSans-6d\"/>\n       <use x=\"97.412109\" xlink:href=\"#DejaVuSans-6f\"/>\n       <use x=\"158.59375\" xlink:href=\"#DejaVuSans-6e\"/>\n       <use x=\"221.972656\" xlink:href=\"#DejaVuSans-65\"/>\n       <use x=\"283.496094\" xlink:href=\"#DejaVuSans-79\"/>\n      </g>\n     </g>\n    </g>\n    <g id=\"xtick_53\">\n     <g id=\"line2d_105\">\n      <path clip-path=\"url(#p39cfa2f030)\" d=\"M 291.559301 239.758125 \nL 291.559301 22.318125 \n\" style=\"fill:none;stroke:#c0c0c0;stroke-linecap:square;stroke-width:0.8;\"/>\n     </g>\n     <g id=\"line2d_106\">\n      <g>\n       <use style=\"stroke:#000000;stroke-width:0.8;\" x=\"291.559301\" xlink:href=\"#me7c86ba28e\" y=\"239.758125\"/>\n      </g>\n     </g>\n     <g id=\"text_53\">\n      <!-- house -->\n      <g transform=\"translate(294.318676 276.914375)rotate(-90)scale(0.1 -0.1)\">\n       <use xlink:href=\"#DejaVuSans-68\"/>\n       <use x=\"63.378906\" xlink:href=\"#DejaVuSans-6f\"/>\n       <use x=\"124.560547\" xlink:href=\"#DejaVuSans-75\"/>\n       <use x=\"187.939453\" xlink:href=\"#DejaVuSans-73\"/>\n       <use x=\"240.039062\" xlink:href=\"#DejaVuSans-65\"/>\n      </g>\n     </g>\n    </g>\n    <g id=\"xtick_54\">\n     <g id=\"line2d_107\">\n      <path clip-path=\"url(#p39cfa2f030)\" d=\"M 295.970368 239.758125 \nL 295.970368 22.318125 \n\" style=\"fill:none;stroke:#c0c0c0;stroke-linecap:square;stroke-width:0.8;\"/>\n     </g>\n     <g id=\"line2d_108\">\n      <g>\n       <use style=\"stroke:#000000;stroke-width:0.8;\" x=\"295.970368\" xlink:href=\"#me7c86ba28e\" y=\"239.758125\"/>\n      </g>\n     </g>\n     <g id=\"text_54\">\n      <!-- texas -->\n      <g transform=\"translate(298.729743 273.912812)rotate(-90)scale(0.1 -0.1)\">\n       <use xlink:href=\"#DejaVuSans-74\"/>\n       <use x=\"39.208984\" xlink:href=\"#DejaVuSans-65\"/>\n       <use x=\"98.982422\" xlink:href=\"#DejaVuSans-78\"/>\n       <use x=\"158.162109\" xlink:href=\"#DejaVuSans-61\"/>\n       <use x=\"219.441406\" xlink:href=\"#DejaVuSans-73\"/>\n      </g>\n     </g>\n    </g>\n    <g id=\"xtick_55\">\n     <g id=\"line2d_109\">\n      <path clip-path=\"url(#p39cfa2f030)\" d=\"M 300.381435 239.758125 \nL 300.381435 22.318125 \n\" style=\"fill:none;stroke:#c0c0c0;stroke-linecap:square;stroke-width:0.8;\"/>\n     </g>\n     <g id=\"line2d_110\">\n      <g>\n       <use style=\"stroke:#000000;stroke-width:0.8;\" x=\"300.381435\" xlink:href=\"#me7c86ba28e\" y=\"239.758125\"/>\n      </g>\n     </g>\n     <g id=\"text_55\">\n      <!-- increase -->\n      <g transform=\"translate(303.14081 288.901875)rotate(-90)scale(0.1 -0.1)\">\n       <use xlink:href=\"#DejaVuSans-69\"/>\n       <use x=\"27.783203\" xlink:href=\"#DejaVuSans-6e\"/>\n       <use x=\"91.162109\" xlink:href=\"#DejaVuSans-63\"/>\n       <use x=\"146.142578\" xlink:href=\"#DejaVuSans-72\"/>\n       <use x=\"185.005859\" xlink:href=\"#DejaVuSans-65\"/>\n       <use x=\"246.529297\" xlink:href=\"#DejaVuSans-61\"/>\n       <use x=\"307.808594\" xlink:href=\"#DejaVuSans-73\"/>\n       <use x=\"359.908203\" xlink:href=\"#DejaVuSans-65\"/>\n      </g>\n     </g>\n    </g>\n    <g id=\"xtick_56\">\n     <g id=\"line2d_111\">\n      <path clip-path=\"url(#p39cfa2f030)\" d=\"M 304.792502 239.758125 \nL 304.792502 22.318125 \n\" style=\"fill:none;stroke:#c0c0c0;stroke-linecap:square;stroke-width:0.8;\"/>\n     </g>\n     <g id=\"line2d_112\">\n      <g>\n       <use style=\"stroke:#000000;stroke-width:0.8;\" x=\"304.792502\" xlink:href=\"#me7c86ba28e\" y=\"239.758125\"/>\n      </g>\n     </g>\n     <g id=\"text_56\">\n      <!-- immigrant -->\n      <g transform=\"translate(307.551877 298.640938)rotate(-90)scale(0.1 -0.1)\">\n       <use xlink:href=\"#DejaVuSans-69\"/>\n       <use x=\"27.783203\" xlink:href=\"#DejaVuSans-6d\"/>\n       <use x=\"125.195312\" xlink:href=\"#DejaVuSans-6d\"/>\n       <use x=\"222.607422\" xlink:href=\"#DejaVuSans-69\"/>\n       <use x=\"250.390625\" xlink:href=\"#DejaVuSans-67\"/>\n       <use x=\"313.867188\" xlink:href=\"#DejaVuSans-72\"/>\n       <use x=\"354.980469\" xlink:href=\"#DejaVuSans-61\"/>\n       <use x=\"416.259766\" xlink:href=\"#DejaVuSans-6e\"/>\n       <use x=\"479.638672\" xlink:href=\"#DejaVuSans-74\"/>\n      </g>\n     </g>\n    </g>\n    <g id=\"xtick_57\">\n     <g id=\"line2d_113\">\n      <path clip-path=\"url(#p39cfa2f030)\" d=\"M 309.20357 239.758125 \nL 309.20357 22.318125 \n\" style=\"fill:none;stroke:#c0c0c0;stroke-linecap:square;stroke-width:0.8;\"/>\n     </g>\n     <g id=\"line2d_114\">\n      <g>\n       <use style=\"stroke:#000000;stroke-width:0.8;\" x=\"309.20357\" xlink:href=\"#me7c86ba28e\" y=\"239.758125\"/>\n      </g>\n     </g>\n     <g id=\"text_57\">\n      <!-- number -->\n      <g transform=\"translate(311.962945 285.78625)rotate(-90)scale(0.1 -0.1)\">\n       <use xlink:href=\"#DejaVuSans-6e\"/>\n       <use x=\"63.378906\" xlink:href=\"#DejaVuSans-75\"/>\n       <use x=\"126.757812\" xlink:href=\"#DejaVuSans-6d\"/>\n       <use x=\"224.169922\" xlink:href=\"#DejaVuSans-62\"/>\n       <use x=\"287.646484\" xlink:href=\"#DejaVuSans-65\"/>\n       <use x=\"349.169922\" xlink:href=\"#DejaVuSans-72\"/>\n      </g>\n     </g>\n    </g>\n    <g id=\"xtick_58\">\n     <g id=\"line2d_115\">\n      <path clip-path=\"url(#p39cfa2f030)\" d=\"M 313.614637 239.758125 \nL 313.614637 22.318125 \n\" style=\"fill:none;stroke:#c0c0c0;stroke-linecap:square;stroke-width:0.8;\"/>\n     </g>\n     <g id=\"line2d_116\">\n      <g>\n       <use style=\"stroke:#000000;stroke-width:0.8;\" x=\"313.614637\" xlink:href=\"#me7c86ba28e\" y=\"239.758125\"/>\n      </g>\n     </g>\n     <g id=\"text_58\">\n      <!-- election -->\n      <g transform=\"translate(316.374012 286.495625)rotate(-90)scale(0.1 -0.1)\">\n       <use xlink:href=\"#DejaVuSans-65\"/>\n       <use x=\"61.523438\" xlink:href=\"#DejaVuSans-6c\"/>\n       <use x=\"89.306641\" xlink:href=\"#DejaVuSans-65\"/>\n       <use x=\"150.830078\" xlink:href=\"#DejaVuSans-63\"/>\n       <use x=\"205.810547\" xlink:href=\"#DejaVuSans-74\"/>\n       <use x=\"245.019531\" xlink:href=\"#DejaVuSans-69\"/>\n       <use x=\"272.802734\" xlink:href=\"#DejaVuSans-6f\"/>\n       <use x=\"333.984375\" xlink:href=\"#DejaVuSans-6e\"/>\n      </g>\n     </g>\n    </g>\n    <g id=\"xtick_59\">\n     <g id=\"line2d_117\">\n      <path clip-path=\"url(#p39cfa2f030)\" d=\"M 318.025704 239.758125 \nL 318.025704 22.318125 \n\" style=\"fill:none;stroke:#c0c0c0;stroke-linecap:square;stroke-width:0.8;\"/>\n     </g>\n     <g id=\"line2d_118\">\n      <g>\n       <use style=\"stroke:#000000;stroke-width:0.8;\" x=\"318.025704\" xlink:href=\"#me7c86ba28e\" y=\"239.758125\"/>\n      </g>\n     </g>\n     <g id=\"text_59\">\n      <!-- taxis -->\n      <g transform=\"translate(320.785079 270.712812)rotate(-90)scale(0.1 -0.1)\">\n       <use xlink:href=\"#DejaVuSans-74\"/>\n       <use x=\"39.208984\" xlink:href=\"#DejaVuSans-61\"/>\n       <use x=\"100.488281\" xlink:href=\"#DejaVuSans-78\"/>\n       <use x=\"159.667969\" xlink:href=\"#DejaVuSans-69\"/>\n       <use x=\"187.451172\" xlink:href=\"#DejaVuSans-73\"/>\n      </g>\n     </g>\n    </g>\n    <g id=\"xtick_60\">\n     <g id=\"line2d_119\">\n      <path clip-path=\"url(#p39cfa2f030)\" d=\"M 322.436771 239.758125 \nL 322.436771 22.318125 \n\" style=\"fill:none;stroke:#c0c0c0;stroke-linecap:square;stroke-width:0.8;\"/>\n     </g>\n     <g id=\"line2d_120\">\n      <g>\n       <use style=\"stroke:#000000;stroke-width:0.8;\" x=\"322.436771\" xlink:href=\"#me7c86ba28e\" y=\"239.758125\"/>\n      </g>\n     </g>\n     <g id=\"text_60\">\n      <!-- ve -->\n      <g transform=\"translate(325.196146 258.83)rotate(-90)scale(0.1 -0.1)\">\n       <use xlink:href=\"#DejaVuSans-76\"/>\n       <use x=\"59.179688\" xlink:href=\"#DejaVuSans-65\"/>\n      </g>\n     </g>\n    </g>\n    <g id=\"xtick_61\">\n     <g id=\"line2d_121\">\n      <path clip-path=\"url(#p39cfa2f030)\" d=\"M 326.847838 239.758125 \nL 326.847838 22.318125 \n\" style=\"fill:none;stroke:#c0c0c0;stroke-linecap:square;stroke-width:0.8;\"/>\n     </g>\n     <g id=\"line2d_122\">\n      <g>\n       <use style=\"stroke:#000000;stroke-width:0.8;\" x=\"326.847838\" xlink:href=\"#me7c86ba28e\" y=\"239.758125\"/>\n      </g>\n     </g>\n     <g id=\"text_61\">\n      <!-- know -->\n      <g transform=\"translate(329.607213 273.183125)rotate(-90)scale(0.1 -0.1)\">\n       <use xlink:href=\"#DejaVuSans-6b\"/>\n       <use x=\"57.910156\" xlink:href=\"#DejaVuSans-6e\"/>\n       <use x=\"121.289062\" xlink:href=\"#DejaVuSans-6f\"/>\n       <use x=\"182.470703\" xlink:href=\"#DejaVuSans-77\"/>\n      </g>\n     </g>\n    </g>\n    <g id=\"xtick_62\">\n     <g id=\"line2d_123\">\n      <path clip-path=\"url(#p39cfa2f030)\" d=\"M 331.258906 239.758125 \nL 331.258906 22.318125 \n\" style=\"fill:none;stroke:#c0c0c0;stroke-linecap:square;stroke-width:0.8;\"/>\n     </g>\n     <g id=\"line2d_124\">\n      <g>\n       <use style=\"stroke:#000000;stroke-width:0.8;\" x=\"331.258906\" xlink:href=\"#me7c86ba28e\" y=\"239.758125\"/>\n      </g>\n     </g>\n     <g id=\"text_62\">\n      <!-- security -->\n      <g transform=\"translate(334.018281 286.684687)rotate(-90)scale(0.1 -0.1)\">\n       <use xlink:href=\"#DejaVuSans-73\"/>\n       <use x=\"52.099609\" xlink:href=\"#DejaVuSans-65\"/>\n       <use x=\"113.623047\" xlink:href=\"#DejaVuSans-63\"/>\n       <use x=\"168.603516\" xlink:href=\"#DejaVuSans-75\"/>\n       <use x=\"231.982422\" xlink:href=\"#DejaVuSans-72\"/>\n       <use x=\"273.095703\" xlink:href=\"#DejaVuSans-69\"/>\n       <use x=\"300.878906\" xlink:href=\"#DejaVuSans-74\"/>\n       <use x=\"340.087891\" xlink:href=\"#DejaVuSans-79\"/>\n      </g>\n     </g>\n    </g>\n    <g id=\"xtick_63\">\n     <g id=\"line2d_125\">\n      <path clip-path=\"url(#p39cfa2f030)\" d=\"M 335.669973 239.758125 \nL 335.669973 22.318125 \n\" style=\"fill:none;stroke:#c0c0c0;stroke-linecap:square;stroke-width:0.8;\"/>\n     </g>\n     <g id=\"line2d_126\">\n      <g>\n       <use style=\"stroke:#000000;stroke-width:0.8;\" x=\"335.669973\" xlink:href=\"#me7c86ba28e\" y=\"239.758125\"/>\n      </g>\n     </g>\n     <g id=\"text_63\">\n      <!-- federal -->\n      <g transform=\"translate(338.429348 281.950312)rotate(-90)scale(0.1 -0.1)\">\n       <defs>\n        <path d=\"M 2375 4863 \nL 2375 4384 \nL 1825 4384 \nQ 1516 4384 1395 4259 \nQ 1275 4134 1275 3809 \nL 1275 3500 \nL 2222 3500 \nL 2222 3053 \nL 1275 3053 \nL 1275 0 \nL 697 0 \nL 697 3053 \nL 147 3053 \nL 147 3500 \nL 697 3500 \nL 697 3744 \nQ 697 4328 969 4595 \nQ 1241 4863 1831 4863 \nL 2375 4863 \nz\n\" id=\"DejaVuSans-66\" transform=\"scale(0.015625)\"/>\n       </defs>\n       <use xlink:href=\"#DejaVuSans-66\"/>\n       <use x=\"35.205078\" xlink:href=\"#DejaVuSans-65\"/>\n       <use x=\"96.728516\" xlink:href=\"#DejaVuSans-64\"/>\n       <use x=\"160.205078\" xlink:href=\"#DejaVuSans-65\"/>\n       <use x=\"221.728516\" xlink:href=\"#DejaVuSans-72\"/>\n       <use x=\"262.841797\" xlink:href=\"#DejaVuSans-61\"/>\n       <use x=\"324.121094\" xlink:href=\"#DejaVuSans-6c\"/>\n      </g>\n     </g>\n    </g>\n    <g id=\"xtick_64\">\n     <g id=\"line2d_127\">\n      <path clip-path=\"url(#p39cfa2f030)\" d=\"M 340.08104 239.758125 \nL 340.08104 22.318125 \n\" style=\"fill:none;stroke:#c0c0c0;stroke-linecap:square;stroke-width:0.8;\"/>\n     </g>\n     <g id=\"line2d_128\">\n      <g>\n       <use style=\"stroke:#000000;stroke-width:0.8;\" x=\"340.08104\" xlink:href=\"#me7c86ba28e\" y=\"239.758125\"/>\n      </g>\n     </g>\n     <g id=\"text_64\">\n      <!-- take -->\n      <g transform=\"translate(342.840415 268.387812)rotate(-90)scale(0.1 -0.1)\">\n       <use xlink:href=\"#DejaVuSans-74\"/>\n       <use x=\"39.208984\" xlink:href=\"#DejaVuSans-61\"/>\n       <use x=\"100.488281\" xlink:href=\"#DejaVuSans-6b\"/>\n       <use x=\"154.773438\" xlink:href=\"#DejaVuSans-65\"/>\n      </g>\n     </g>\n    </g>\n    <g id=\"xtick_65\">\n     <g id=\"line2d_129\">\n      <path clip-path=\"url(#p39cfa2f030)\" d=\"M 344.492107 239.758125 \nL 344.492107 22.318125 \n\" style=\"fill:none;stroke:#c0c0c0;stroke-linecap:square;stroke-width:0.8;\"/>\n     </g>\n     <g id=\"line2d_130\">\n      <g>\n       <use style=\"stroke:#000000;stroke-width:0.8;\" x=\"344.492107\" xlink:href=\"#me7c86ba28e\" y=\"239.758125\"/>\n      </g>\n     </g>\n     <g id=\"text_65\">\n      <!-- muslim -->\n      <g transform=\"translate(347.251482 283.3425)rotate(-90)scale(0.1 -0.1)\">\n       <use xlink:href=\"#DejaVuSans-6d\"/>\n       <use x=\"97.412109\" xlink:href=\"#DejaVuSans-75\"/>\n       <use x=\"160.791016\" xlink:href=\"#DejaVuSans-73\"/>\n       <use x=\"212.890625\" xlink:href=\"#DejaVuSans-6c\"/>\n       <use x=\"240.673828\" xlink:href=\"#DejaVuSans-69\"/>\n       <use x=\"268.457031\" xlink:href=\"#DejaVuSans-6d\"/>\n      </g>\n     </g>\n    </g>\n    <g id=\"xtick_66\">\n     <g id=\"line2d_131\">\n      <path clip-path=\"url(#p39cfa2f030)\" d=\"M 348.903174 239.758125 \nL 348.903174 22.318125 \n\" style=\"fill:none;stroke:#c0c0c0;stroke-linecap:square;stroke-width:0.8;\"/>\n     </g>\n     <g id=\"line2d_132\">\n      <g>\n       <use style=\"stroke:#000000;stroke-width:0.8;\" x=\"348.903174\" xlink:href=\"#me7c86ba28e\" y=\"239.758125\"/>\n      </g>\n     </g>\n     <g id=\"text_66\">\n      <!-- democrat -->\n      <g transform=\"translate(351.662549 294.776875)rotate(-90)scale(0.1 -0.1)\">\n       <use xlink:href=\"#DejaVuSans-64\"/>\n       <use x=\"63.476562\" xlink:href=\"#DejaVuSans-65\"/>\n       <use x=\"125\" xlink:href=\"#DejaVuSans-6d\"/>\n       <use x=\"222.412109\" xlink:href=\"#DejaVuSans-6f\"/>\n       <use x=\"283.59375\" xlink:href=\"#DejaVuSans-63\"/>\n       <use x=\"338.574219\" xlink:href=\"#DejaVuSans-72\"/>\n       <use x=\"379.6875\" xlink:href=\"#DejaVuSans-61\"/>\n       <use x=\"440.966797\" xlink:href=\"#DejaVuSans-74\"/>\n      </g>\n     </g>\n    </g>\n    <g id=\"xtick_67\">\n     <g id=\"line2d_133\">\n      <path clip-path=\"url(#p39cfa2f030)\" d=\"M 353.314242 239.758125 \nL 353.314242 22.318125 \n\" style=\"fill:none;stroke:#c0c0c0;stroke-linecap:square;stroke-width:0.8;\"/>\n     </g>\n     <g id=\"line2d_134\">\n      <g>\n       <use style=\"stroke:#000000;stroke-width:0.8;\" x=\"353.314242\" xlink:href=\"#me7c86ba28e\" y=\"239.758125\"/>\n      </g>\n     </g>\n     <g id=\"text_67\">\n      <!-- administration -->\n      <g transform=\"translate(356.073617 319.3925)rotate(-90)scale(0.1 -0.1)\">\n       <use xlink:href=\"#DejaVuSans-61\"/>\n       <use x=\"61.279297\" xlink:href=\"#DejaVuSans-64\"/>\n       <use x=\"124.755859\" xlink:href=\"#DejaVuSans-6d\"/>\n       <use x=\"222.167969\" xlink:href=\"#DejaVuSans-69\"/>\n       <use x=\"249.951172\" xlink:href=\"#DejaVuSans-6e\"/>\n       <use x=\"313.330078\" xlink:href=\"#DejaVuSans-69\"/>\n       <use x=\"341.113281\" xlink:href=\"#DejaVuSans-73\"/>\n       <use x=\"393.212891\" xlink:href=\"#DejaVuSans-74\"/>\n       <use x=\"432.421875\" xlink:href=\"#DejaVuSans-72\"/>\n       <use x=\"473.535156\" xlink:href=\"#DejaVuSans-61\"/>\n       <use x=\"534.814453\" xlink:href=\"#DejaVuSans-74\"/>\n       <use x=\"574.023438\" xlink:href=\"#DejaVuSans-69\"/>\n       <use x=\"601.806641\" xlink:href=\"#DejaVuSans-6f\"/>\n       <use x=\"662.988281\" xlink:href=\"#DejaVuSans-6e\"/>\n      </g>\n     </g>\n    </g>\n    <g id=\"xtick_68\">\n     <g id=\"line2d_135\">\n      <path clip-path=\"url(#p39cfa2f030)\" d=\"M 357.725309 239.758125 \nL 357.725309 22.318125 \n\" style=\"fill:none;stroke:#c0c0c0;stroke-linecap:square;stroke-width:0.8;\"/>\n     </g>\n     <g id=\"line2d_136\">\n      <g>\n       <use style=\"stroke:#000000;stroke-width:0.8;\" x=\"357.725309\" xlink:href=\"#me7c86ba28e\" y=\"239.758125\"/>\n      </g>\n     </g>\n     <g id=\"text_68\">\n      <!-- man -->\n      <g transform=\"translate(360.484684 268.964375)rotate(-90)scale(0.1 -0.1)\">\n       <use xlink:href=\"#DejaVuSans-6d\"/>\n       <use x=\"97.412109\" xlink:href=\"#DejaVuSans-61\"/>\n       <use x=\"158.691406\" xlink:href=\"#DejaVuSans-6e\"/>\n      </g>\n     </g>\n    </g>\n    <g id=\"xtick_69\">\n     <g id=\"line2d_137\">\n      <path clip-path=\"url(#p39cfa2f030)\" d=\"M 362.136376 239.758125 \nL 362.136376 22.318125 \n\" style=\"fill:none;stroke:#c0c0c0;stroke-linecap:square;stroke-width:0.8;\"/>\n     </g>\n     <g id=\"line2d_138\">\n      <g>\n       <use style=\"stroke:#000000;stroke-width:0.8;\" x=\"362.136376\" xlink:href=\"#me7c86ba28e\" y=\"239.758125\"/>\n      </g>\n     </g>\n     <g id=\"text_69\">\n      <!-- city -->\n      <g transform=\"translate(364.895751 264.87375)rotate(-90)scale(0.1 -0.1)\">\n       <use xlink:href=\"#DejaVuSans-63\"/>\n       <use x=\"54.980469\" xlink:href=\"#DejaVuSans-69\"/>\n       <use x=\"82.763672\" xlink:href=\"#DejaVuSans-74\"/>\n       <use x=\"121.972656\" xlink:href=\"#DejaVuSans-79\"/>\n      </g>\n     </g>\n    </g>\n    <g id=\"xtick_70\">\n     <g id=\"line2d_139\">\n      <path clip-path=\"url(#p39cfa2f030)\" d=\"M 366.547443 239.758125 \nL 366.547443 22.318125 \n\" style=\"fill:none;stroke:#c0c0c0;stroke-linecap:square;stroke-width:0.8;\"/>\n     </g>\n     <g id=\"line2d_140\">\n      <g>\n       <use style=\"stroke:#000000;stroke-width:0.8;\" x=\"366.547443\" xlink:href=\"#me7c86ba28e\" y=\"239.758125\"/>\n      </g>\n     </g>\n     <g id=\"text_70\">\n      <!-- world -->\n      <g transform=\"translate(369.306818 274.2925)rotate(-90)scale(0.1 -0.1)\">\n       <use xlink:href=\"#DejaVuSans-77\"/>\n       <use x=\"81.787109\" xlink:href=\"#DejaVuSans-6f\"/>\n       <use x=\"142.96875\" xlink:href=\"#DejaVuSans-72\"/>\n       <use x=\"184.082031\" xlink:href=\"#DejaVuSans-6c\"/>\n       <use x=\"211.865234\" xlink:href=\"#DejaVuSans-64\"/>\n      </g>\n     </g>\n    </g>\n    <g id=\"text_71\">\n     <!-- Samples -->\n     <g transform=\"translate(193.0125 330.990937)scale(0.1 -0.1)\">\n      <defs>\n       <path d=\"M 3425 4513 \nL 3425 3897 \nQ 3066 4069 2747 4153 \nQ 2428 4238 2131 4238 \nQ 1616 4238 1336 4038 \nQ 1056 3838 1056 3469 \nQ 1056 3159 1242 3001 \nQ 1428 2844 1947 2747 \nL 2328 2669 \nQ 3034 2534 3370 2195 \nQ 3706 1856 3706 1288 \nQ 3706 609 3251 259 \nQ 2797 -91 1919 -91 \nQ 1588 -91 1214 -16 \nQ 841 59 441 206 \nL 441 856 \nQ 825 641 1194 531 \nQ 1563 422 1919 422 \nQ 2459 422 2753 634 \nQ 3047 847 3047 1241 \nQ 3047 1584 2836 1778 \nQ 2625 1972 2144 2069 \nL 1759 2144 \nQ 1053 2284 737 2584 \nQ 422 2884 422 3419 \nQ 422 4038 858 4394 \nQ 1294 4750 2059 4750 \nQ 2388 4750 2728 4690 \nQ 3069 4631 3425 4513 \nz\n\" id=\"DejaVuSans-53\" transform=\"scale(0.015625)\"/>\n      </defs>\n      <use xlink:href=\"#DejaVuSans-53\"/>\n      <use x=\"63.476562\" xlink:href=\"#DejaVuSans-61\"/>\n      <use x=\"124.755859\" xlink:href=\"#DejaVuSans-6d\"/>\n      <use x=\"222.167969\" xlink:href=\"#DejaVuSans-70\"/>\n      <use x=\"285.644531\" xlink:href=\"#DejaVuSans-6c\"/>\n      <use x=\"313.427734\" xlink:href=\"#DejaVuSans-65\"/>\n      <use x=\"374.951172\" xlink:href=\"#DejaVuSans-73\"/>\n     </g>\n    </g>\n   </g>\n   <g id=\"matplotlib.axis_2\">\n    <g id=\"ytick_1\">\n     <g id=\"line2d_141\">\n      <path clip-path=\"url(#p39cfa2f030)\" d=\"M 46.965625 212.578125 \nL 381.765625 212.578125 \n\" style=\"fill:none;stroke:#c0c0c0;stroke-linecap:square;stroke-width:0.8;\"/>\n     </g>\n     <g id=\"line2d_142\">\n      <defs>\n       <path d=\"M 0 0 \nL -3.5 0 \n\" id=\"m3055164254\" style=\"stroke:#000000;stroke-width:0.8;\"/>\n      </defs>\n      <g>\n       <use style=\"stroke:#000000;stroke-width:0.8;\" x=\"46.965625\" xlink:href=\"#m3055164254\" y=\"212.578125\"/>\n      </g>\n     </g>\n     <g id=\"text_72\">\n      <!-- 100 -->\n      <g transform=\"translate(20.878125 216.377344)scale(0.1 -0.1)\">\n       <defs>\n        <path d=\"M 794 531 \nL 1825 531 \nL 1825 4091 \nL 703 3866 \nL 703 4441 \nL 1819 4666 \nL 2450 4666 \nL 2450 531 \nL 3481 531 \nL 3481 0 \nL 794 0 \nL 794 531 \nz\n\" id=\"DejaVuSans-31\" transform=\"scale(0.015625)\"/>\n        <path d=\"M 2034 4250 \nQ 1547 4250 1301 3770 \nQ 1056 3291 1056 2328 \nQ 1056 1369 1301 889 \nQ 1547 409 2034 409 \nQ 2525 409 2770 889 \nQ 3016 1369 3016 2328 \nQ 3016 3291 2770 3770 \nQ 2525 4250 2034 4250 \nz\nM 2034 4750 \nQ 2819 4750 3233 4129 \nQ 3647 3509 3647 2328 \nQ 3647 1150 3233 529 \nQ 2819 -91 2034 -91 \nQ 1250 -91 836 529 \nQ 422 1150 422 2328 \nQ 422 3509 836 4129 \nQ 1250 4750 2034 4750 \nz\n\" id=\"DejaVuSans-30\" transform=\"scale(0.015625)\"/>\n       </defs>\n       <use xlink:href=\"#DejaVuSans-31\"/>\n       <use x=\"63.623047\" xlink:href=\"#DejaVuSans-30\"/>\n       <use x=\"127.246094\" xlink:href=\"#DejaVuSans-30\"/>\n      </g>\n     </g>\n    </g>\n    <g id=\"ytick_2\">\n     <g id=\"line2d_143\">\n      <path clip-path=\"url(#p39cfa2f030)\" d=\"M 46.965625 181.691761 \nL 381.765625 181.691761 \n\" style=\"fill:none;stroke:#c0c0c0;stroke-linecap:square;stroke-width:0.8;\"/>\n     </g>\n     <g id=\"line2d_144\">\n      <g>\n       <use style=\"stroke:#000000;stroke-width:0.8;\" x=\"46.965625\" xlink:href=\"#m3055164254\" y=\"181.691761\"/>\n      </g>\n     </g>\n     <g id=\"text_73\">\n      <!-- 200 -->\n      <g transform=\"translate(20.878125 185.49098)scale(0.1 -0.1)\">\n       <defs>\n        <path d=\"M 1228 531 \nL 3431 531 \nL 3431 0 \nL 469 0 \nL 469 531 \nQ 828 903 1448 1529 \nQ 2069 2156 2228 2338 \nQ 2531 2678 2651 2914 \nQ 2772 3150 2772 3378 \nQ 2772 3750 2511 3984 \nQ 2250 4219 1831 4219 \nQ 1534 4219 1204 4116 \nQ 875 4013 500 3803 \nL 500 4441 \nQ 881 4594 1212 4672 \nQ 1544 4750 1819 4750 \nQ 2544 4750 2975 4387 \nQ 3406 4025 3406 3419 \nQ 3406 3131 3298 2873 \nQ 3191 2616 2906 2266 \nQ 2828 2175 2409 1742 \nQ 1991 1309 1228 531 \nz\n\" id=\"DejaVuSans-32\" transform=\"scale(0.015625)\"/>\n       </defs>\n       <use xlink:href=\"#DejaVuSans-32\"/>\n       <use x=\"63.623047\" xlink:href=\"#DejaVuSans-30\"/>\n       <use x=\"127.246094\" xlink:href=\"#DejaVuSans-30\"/>\n      </g>\n     </g>\n    </g>\n    <g id=\"ytick_3\">\n     <g id=\"line2d_145\">\n      <path clip-path=\"url(#p39cfa2f030)\" d=\"M 46.965625 150.805398 \nL 381.765625 150.805398 \n\" style=\"fill:none;stroke:#c0c0c0;stroke-linecap:square;stroke-width:0.8;\"/>\n     </g>\n     <g id=\"line2d_146\">\n      <g>\n       <use style=\"stroke:#000000;stroke-width:0.8;\" x=\"46.965625\" xlink:href=\"#m3055164254\" y=\"150.805398\"/>\n      </g>\n     </g>\n     <g id=\"text_74\">\n      <!-- 300 -->\n      <g transform=\"translate(20.878125 154.604616)scale(0.1 -0.1)\">\n       <defs>\n        <path d=\"M 2597 2516 \nQ 3050 2419 3304 2112 \nQ 3559 1806 3559 1356 \nQ 3559 666 3084 287 \nQ 2609 -91 1734 -91 \nQ 1441 -91 1130 -33 \nQ 819 25 488 141 \nL 488 750 \nQ 750 597 1062 519 \nQ 1375 441 1716 441 \nQ 2309 441 2620 675 \nQ 2931 909 2931 1356 \nQ 2931 1769 2642 2001 \nQ 2353 2234 1838 2234 \nL 1294 2234 \nL 1294 2753 \nL 1863 2753 \nQ 2328 2753 2575 2939 \nQ 2822 3125 2822 3475 \nQ 2822 3834 2567 4026 \nQ 2313 4219 1838 4219 \nQ 1578 4219 1281 4162 \nQ 984 4106 628 3988 \nL 628 4550 \nQ 988 4650 1302 4700 \nQ 1616 4750 1894 4750 \nQ 2613 4750 3031 4423 \nQ 3450 4097 3450 3541 \nQ 3450 3153 3228 2886 \nQ 3006 2619 2597 2516 \nz\n\" id=\"DejaVuSans-33\" transform=\"scale(0.015625)\"/>\n       </defs>\n       <use xlink:href=\"#DejaVuSans-33\"/>\n       <use x=\"63.623047\" xlink:href=\"#DejaVuSans-30\"/>\n       <use x=\"127.246094\" xlink:href=\"#DejaVuSans-30\"/>\n      </g>\n     </g>\n    </g>\n    <g id=\"ytick_4\">\n     <g id=\"line2d_147\">\n      <path clip-path=\"url(#p39cfa2f030)\" d=\"M 46.965625 119.919034 \nL 381.765625 119.919034 \n\" style=\"fill:none;stroke:#c0c0c0;stroke-linecap:square;stroke-width:0.8;\"/>\n     </g>\n     <g id=\"line2d_148\">\n      <g>\n       <use style=\"stroke:#000000;stroke-width:0.8;\" x=\"46.965625\" xlink:href=\"#m3055164254\" y=\"119.919034\"/>\n      </g>\n     </g>\n     <g id=\"text_75\">\n      <!-- 400 -->\n      <g transform=\"translate(20.878125 123.718253)scale(0.1 -0.1)\">\n       <defs>\n        <path d=\"M 2419 4116 \nL 825 1625 \nL 2419 1625 \nL 2419 4116 \nz\nM 2253 4666 \nL 3047 4666 \nL 3047 1625 \nL 3713 1625 \nL 3713 1100 \nL 3047 1100 \nL 3047 0 \nL 2419 0 \nL 2419 1100 \nL 313 1100 \nL 313 1709 \nL 2253 4666 \nz\n\" id=\"DejaVuSans-34\" transform=\"scale(0.015625)\"/>\n       </defs>\n       <use xlink:href=\"#DejaVuSans-34\"/>\n       <use x=\"63.623047\" xlink:href=\"#DejaVuSans-30\"/>\n       <use x=\"127.246094\" xlink:href=\"#DejaVuSans-30\"/>\n      </g>\n     </g>\n    </g>\n    <g id=\"ytick_5\">\n     <g id=\"line2d_149\">\n      <path clip-path=\"url(#p39cfa2f030)\" d=\"M 46.965625 89.03267 \nL 381.765625 89.03267 \n\" style=\"fill:none;stroke:#c0c0c0;stroke-linecap:square;stroke-width:0.8;\"/>\n     </g>\n     <g id=\"line2d_150\">\n      <g>\n       <use style=\"stroke:#000000;stroke-width:0.8;\" x=\"46.965625\" xlink:href=\"#m3055164254\" y=\"89.03267\"/>\n      </g>\n     </g>\n     <g id=\"text_76\">\n      <!-- 500 -->\n      <g transform=\"translate(20.878125 92.831889)scale(0.1 -0.1)\">\n       <defs>\n        <path d=\"M 691 4666 \nL 3169 4666 \nL 3169 4134 \nL 1269 4134 \nL 1269 2991 \nQ 1406 3038 1543 3061 \nQ 1681 3084 1819 3084 \nQ 2600 3084 3056 2656 \nQ 3513 2228 3513 1497 \nQ 3513 744 3044 326 \nQ 2575 -91 1722 -91 \nQ 1428 -91 1123 -41 \nQ 819 9 494 109 \nL 494 744 \nQ 775 591 1075 516 \nQ 1375 441 1709 441 \nQ 2250 441 2565 725 \nQ 2881 1009 2881 1497 \nQ 2881 1984 2565 2268 \nQ 2250 2553 1709 2553 \nQ 1456 2553 1204 2497 \nQ 953 2441 691 2322 \nL 691 4666 \nz\n\" id=\"DejaVuSans-35\" transform=\"scale(0.015625)\"/>\n       </defs>\n       <use xlink:href=\"#DejaVuSans-35\"/>\n       <use x=\"63.623047\" xlink:href=\"#DejaVuSans-30\"/>\n       <use x=\"127.246094\" xlink:href=\"#DejaVuSans-30\"/>\n      </g>\n     </g>\n    </g>\n    <g id=\"ytick_6\">\n     <g id=\"line2d_151\">\n      <path clip-path=\"url(#p39cfa2f030)\" d=\"M 46.965625 58.146307 \nL 381.765625 58.146307 \n\" style=\"fill:none;stroke:#c0c0c0;stroke-linecap:square;stroke-width:0.8;\"/>\n     </g>\n     <g id=\"line2d_152\">\n      <g>\n       <use style=\"stroke:#000000;stroke-width:0.8;\" x=\"46.965625\" xlink:href=\"#m3055164254\" y=\"58.146307\"/>\n      </g>\n     </g>\n     <g id=\"text_77\">\n      <!-- 600 -->\n      <g transform=\"translate(20.878125 61.945526)scale(0.1 -0.1)\">\n       <defs>\n        <path d=\"M 2113 2584 \nQ 1688 2584 1439 2293 \nQ 1191 2003 1191 1497 \nQ 1191 994 1439 701 \nQ 1688 409 2113 409 \nQ 2538 409 2786 701 \nQ 3034 994 3034 1497 \nQ 3034 2003 2786 2293 \nQ 2538 2584 2113 2584 \nz\nM 3366 4563 \nL 3366 3988 \nQ 3128 4100 2886 4159 \nQ 2644 4219 2406 4219 \nQ 1781 4219 1451 3797 \nQ 1122 3375 1075 2522 \nQ 1259 2794 1537 2939 \nQ 1816 3084 2150 3084 \nQ 2853 3084 3261 2657 \nQ 3669 2231 3669 1497 \nQ 3669 778 3244 343 \nQ 2819 -91 2113 -91 \nQ 1303 -91 875 529 \nQ 447 1150 447 2328 \nQ 447 3434 972 4092 \nQ 1497 4750 2381 4750 \nQ 2619 4750 2861 4703 \nQ 3103 4656 3366 4563 \nz\n\" id=\"DejaVuSans-36\" transform=\"scale(0.015625)\"/>\n       </defs>\n       <use xlink:href=\"#DejaVuSans-36\"/>\n       <use x=\"63.623047\" xlink:href=\"#DejaVuSans-30\"/>\n       <use x=\"127.246094\" xlink:href=\"#DejaVuSans-30\"/>\n      </g>\n     </g>\n    </g>\n    <g id=\"ytick_7\">\n     <g id=\"line2d_153\">\n      <path clip-path=\"url(#p39cfa2f030)\" d=\"M 46.965625 27.259943 \nL 381.765625 27.259943 \n\" style=\"fill:none;stroke:#c0c0c0;stroke-linecap:square;stroke-width:0.8;\"/>\n     </g>\n     <g id=\"line2d_154\">\n      <g>\n       <use style=\"stroke:#000000;stroke-width:0.8;\" x=\"46.965625\" xlink:href=\"#m3055164254\" y=\"27.259943\"/>\n      </g>\n     </g>\n     <g id=\"text_78\">\n      <!-- 700 -->\n      <g transform=\"translate(20.878125 31.059162)scale(0.1 -0.1)\">\n       <defs>\n        <path d=\"M 525 4666 \nL 3525 4666 \nL 3525 4397 \nL 1831 0 \nL 1172 0 \nL 2766 4134 \nL 525 4134 \nL 525 4666 \nz\n\" id=\"DejaVuSans-37\" transform=\"scale(0.015625)\"/>\n       </defs>\n       <use xlink:href=\"#DejaVuSans-37\"/>\n       <use x=\"63.623047\" xlink:href=\"#DejaVuSans-30\"/>\n       <use x=\"127.246094\" xlink:href=\"#DejaVuSans-30\"/>\n      </g>\n     </g>\n    </g>\n    <g id=\"text_79\">\n     <!-- Counts -->\n     <g transform=\"translate(14.798438 148.49125)rotate(-90)scale(0.1 -0.1)\">\n      <defs>\n       <path d=\"M 4122 4306 \nL 4122 3641 \nQ 3803 3938 3442 4084 \nQ 3081 4231 2675 4231 \nQ 1875 4231 1450 3742 \nQ 1025 3253 1025 2328 \nQ 1025 1406 1450 917 \nQ 1875 428 2675 428 \nQ 3081 428 3442 575 \nQ 3803 722 4122 1019 \nL 4122 359 \nQ 3791 134 3420 21 \nQ 3050 -91 2638 -91 \nQ 1578 -91 968 557 \nQ 359 1206 359 2328 \nQ 359 3453 968 4101 \nQ 1578 4750 2638 4750 \nQ 3056 4750 3426 4639 \nQ 3797 4528 4122 4306 \nz\n\" id=\"DejaVuSans-43\" transform=\"scale(0.015625)\"/>\n      </defs>\n      <use xlink:href=\"#DejaVuSans-43\"/>\n      <use x=\"69.824219\" xlink:href=\"#DejaVuSans-6f\"/>\n      <use x=\"131.005859\" xlink:href=\"#DejaVuSans-75\"/>\n      <use x=\"194.384766\" xlink:href=\"#DejaVuSans-6e\"/>\n      <use x=\"257.763672\" xlink:href=\"#DejaVuSans-74\"/>\n      <use x=\"296.972656\" xlink:href=\"#DejaVuSans-73\"/>\n     </g>\n    </g>\n   </g>\n   <g id=\"line2d_155\">\n    <path clip-path=\"url(#p39cfa2f030)\" d=\"M 62.183807 32.201761 \nL 66.594874 181.074034 \nL 71.005941 181.382898 \nL 75.417008 181.691761 \nL 79.828076 182.000625 \nL 84.239143 185.398125 \nL 88.65021 188.486761 \nL 93.061277 200.532443 \nL 97.472344 201.15017 \nL 101.883412 201.459034 \nL 106.294479 203.312216 \nL 110.705546 207.01858 \nL 115.116613 209.180625 \nL 119.52768 213.504716 \nL 123.938748 214.122443 \nL 128.349815 214.122443 \nL 132.760882 214.122443 \nL 137.171949 214.74017 \nL 141.583016 215.049034 \nL 145.994083 215.357898 \nL 150.405151 217.519943 \nL 154.816218 217.519943 \nL 159.227285 218.446534 \nL 163.638352 218.755398 \nL 168.049419 218.755398 \nL 172.460487 218.755398 \nL 176.871554 219.373125 \nL 181.282621 219.681989 \nL 185.693688 220.299716 \nL 190.104755 220.917443 \nL 194.515823 221.844034 \nL 198.92689 221.844034 \nL 203.337957 222.152898 \nL 207.749024 222.152898 \nL 212.160091 222.461761 \nL 216.571159 222.461761 \nL 220.982226 223.388352 \nL 225.393293 223.697216 \nL 229.80436 223.697216 \nL 234.215427 224.00608 \nL 238.626495 224.00608 \nL 243.037562 224.314943 \nL 247.448629 224.314943 \nL 251.859696 224.623807 \nL 256.270763 224.93267 \nL 260.681831 225.241534 \nL 265.092898 225.550398 \nL 269.503965 225.859261 \nL 273.915032 225.859261 \nL 278.326099 225.859261 \nL 282.737167 226.168125 \nL 287.148234 226.168125 \nL 291.559301 226.785852 \nL 295.970368 227.40358 \nL 300.381435 227.712443 \nL 304.792502 228.021307 \nL 309.20357 228.021307 \nL 313.614637 228.021307 \nL 318.025704 228.021307 \nL 322.436771 228.021307 \nL 326.847838 228.33017 \nL 331.258906 228.33017 \nL 335.669973 228.33017 \nL 340.08104 228.639034 \nL 344.492107 228.947898 \nL 348.903174 229.256761 \nL 353.314242 229.565625 \nL 357.725309 229.874489 \nL 362.136376 229.874489 \nL 366.547443 229.874489 \n\" style=\"fill:none;stroke:#1f77b4;stroke-linecap:square;stroke-width:2;\"/>\n   </g>\n   <g id=\"patch_3\">\n    <path d=\"M 46.965625 239.758125 \nL 46.965625 22.318125 \n\" style=\"fill:none;stroke:#000000;stroke-linecap:square;stroke-linejoin:miter;stroke-width:0.8;\"/>\n   </g>\n   <g id=\"patch_4\">\n    <path d=\"M 381.765625 239.758125 \nL 381.765625 22.318125 \n\" style=\"fill:none;stroke:#000000;stroke-linecap:square;stroke-linejoin:miter;stroke-width:0.8;\"/>\n   </g>\n   <g id=\"patch_5\">\n    <path d=\"M 46.965625 239.758125 \nL 381.765625 239.758125 \n\" style=\"fill:none;stroke:#000000;stroke-linecap:square;stroke-linejoin:miter;stroke-width:0.8;\"/>\n   </g>\n   <g id=\"patch_6\">\n    <path d=\"M 46.965625 22.318125 \nL 381.765625 22.318125 \n\" style=\"fill:none;stroke:#000000;stroke-linecap:square;stroke-linejoin:miter;stroke-width:0.8;\"/>\n   </g>\n   <g id=\"text_80\">\n    <!-- Frequency distribution fake news -->\n    <g transform=\"translate(115.193125 16.318125)scale(0.12 -0.12)\">\n     <defs>\n      <path d=\"M 628 4666 \nL 3309 4666 \nL 3309 4134 \nL 1259 4134 \nL 1259 2759 \nL 3109 2759 \nL 3109 2228 \nL 1259 2228 \nL 1259 0 \nL 628 0 \nL 628 4666 \nz\n\" id=\"DejaVuSans-46\" transform=\"scale(0.015625)\"/>\n      <path d=\"M 947 1747 \nQ 947 1113 1208 752 \nQ 1469 391 1925 391 \nQ 2381 391 2643 752 \nQ 2906 1113 2906 1747 \nQ 2906 2381 2643 2742 \nQ 2381 3103 1925 3103 \nQ 1469 3103 1208 2742 \nQ 947 2381 947 1747 \nz\nM 2906 525 \nQ 2725 213 2448 61 \nQ 2172 -91 1784 -91 \nQ 1150 -91 751 415 \nQ 353 922 353 1747 \nQ 353 2572 751 3078 \nQ 1150 3584 1784 3584 \nQ 2172 3584 2448 3432 \nQ 2725 3281 2906 2969 \nL 2906 3500 \nL 3481 3500 \nL 3481 -1331 \nL 2906 -1331 \nL 2906 525 \nz\n\" id=\"DejaVuSans-71\" transform=\"scale(0.015625)\"/>\n      <path id=\"DejaVuSans-20\" transform=\"scale(0.015625)\"/>\n     </defs>\n     <use xlink:href=\"#DejaVuSans-46\"/>\n     <use x=\"50.269531\" xlink:href=\"#DejaVuSans-72\"/>\n     <use x=\"89.132812\" xlink:href=\"#DejaVuSans-65\"/>\n     <use x=\"150.65625\" xlink:href=\"#DejaVuSans-71\"/>\n     <use x=\"214.132812\" xlink:href=\"#DejaVuSans-75\"/>\n     <use x=\"277.511719\" xlink:href=\"#DejaVuSans-65\"/>\n     <use x=\"339.035156\" xlink:href=\"#DejaVuSans-6e\"/>\n     <use x=\"402.414062\" xlink:href=\"#DejaVuSans-63\"/>\n     <use x=\"457.394531\" xlink:href=\"#DejaVuSans-79\"/>\n     <use x=\"516.574219\" xlink:href=\"#DejaVuSans-20\"/>\n     <use x=\"548.361328\" xlink:href=\"#DejaVuSans-64\"/>\n     <use x=\"611.837891\" xlink:href=\"#DejaVuSans-69\"/>\n     <use x=\"639.621094\" xlink:href=\"#DejaVuSans-73\"/>\n     <use x=\"691.720703\" xlink:href=\"#DejaVuSans-74\"/>\n     <use x=\"730.929688\" xlink:href=\"#DejaVuSans-72\"/>\n     <use x=\"772.042969\" xlink:href=\"#DejaVuSans-69\"/>\n     <use x=\"799.826172\" xlink:href=\"#DejaVuSans-62\"/>\n     <use x=\"863.302734\" xlink:href=\"#DejaVuSans-75\"/>\n     <use x=\"926.681641\" xlink:href=\"#DejaVuSans-74\"/>\n     <use x=\"965.890625\" xlink:href=\"#DejaVuSans-69\"/>\n     <use x=\"993.673828\" xlink:href=\"#DejaVuSans-6f\"/>\n     <use x=\"1054.855469\" xlink:href=\"#DejaVuSans-6e\"/>\n     <use x=\"1118.234375\" xlink:href=\"#DejaVuSans-20\"/>\n     <use x=\"1150.021484\" xlink:href=\"#DejaVuSans-66\"/>\n     <use x=\"1185.226562\" xlink:href=\"#DejaVuSans-61\"/>\n     <use x=\"1246.505859\" xlink:href=\"#DejaVuSans-6b\"/>\n     <use x=\"1300.791016\" xlink:href=\"#DejaVuSans-65\"/>\n     <use x=\"1362.314453\" xlink:href=\"#DejaVuSans-20\"/>\n     <use x=\"1394.101562\" xlink:href=\"#DejaVuSans-6e\"/>\n     <use x=\"1457.480469\" xlink:href=\"#DejaVuSans-65\"/>\n     <use x=\"1519.003906\" xlink:href=\"#DejaVuSans-77\"/>\n     <use x=\"1600.791016\" xlink:href=\"#DejaVuSans-73\"/>\n    </g>\n   </g>\n  </g>\n </g>\n <defs>\n  <clipPath id=\"p39cfa2f030\">\n   <rect height=\"217.44\" width=\"334.8\" x=\"46.965625\" y=\"22.318125\"/>\n  </clipPath>\n </defs>\n</svg>\n",
      "image/png": "[encoded data removed]"
     },
     "metadata": {
      "needs_background": "light"
     }
    },
    {
     "output_type": "execute_result",
     "data": {
      "text/plain": [
       "<AxesSubplot:title={'center':'Frequency distribution fake news'}, xlabel='Samples', ylabel='Counts'>"
      ]
     },
     "metadata": {},
     "execution_count": 63
    }
   ],
   "source": [
    "import nltk\n",
    "from nltk import FreqDist\n",
    "fdist_filtered = FreqDist(counts_fake)\n",
    "fdist_filtered.plot(70,title='Frequency distribution fake news')"
   ]
  },
  {
   "cell_type": "code",
   "execution_count": 54,
   "metadata": {},
   "outputs": [],
   "source": [
    "def text_preprocessing(corpus):\n",
    "    corpus = [text.lower() for text in corpus]\n",
    "    corpus = [remove_urls(text) for text in corpus]\n",
    "    corpus = [remove_single_char(text) for text in corpus]\n",
    "    corpus = [remove_numbers(text) for text in corpus]\n",
    "    corpus = [remove_emojis(text) for text in corpus]\n",
    "    corpus = [remove_nonalpha(text) for text in corpus]\n",
    "    corpus = [text.encode(\"ascii\", \"ignore\") for text in corpus]\n",
    "    corpus = [text.decode() for text in corpus]\n",
    "    corpus = [remove_extra_spaces(text) for text in corpus]\n",
    "    # corpus = [remove_special_names(text) for text in corpus]\n",
    "\n",
    "    corpus = strip_list_noempty(corpus)\n",
    "\n",
    "    processed_texts = [text for text in nlp.pipe(corpus,  disable=[\"ner\", \"parser\"])]\n",
    "    tokenized_texts = [[word.lemma_ for word in lemma_ if not word.is_punct if not word.is_stop] for lemma_ in notebook.tqdm(processed_texts)]\n",
    "    # tokenized_texts = make_n_grams(tokenized_texts)\n",
    "    \n",
    "    flatten = lambda t: [item for sublist in t for item in sublist]\n",
    "    flat_fake = flatten(tokenized_texts)\n",
    "    counts = Counter(flat_fake)\n",
    "    total_words = sum(counts.values()) \n",
    "    for word in counts:\n",
    "        counts[word] = counts[word] #* (10000) / total_words\n",
    "    return counts, counts.most_common(), flat_fake, tokenized_texts"
   ]
  },
  {
   "cell_type": "code",
   "execution_count": 55,
   "metadata": {},
   "outputs": [
    {
     "output_type": "display_data",
     "data": {
      "text/plain": "  0%|          | 0/1468 [00:00<?, ?it/s]",
      "application/vnd.jupyter.widget-view+json": {
       "version_major": 2,
       "version_minor": 0,
       "model_id": "14d767ce860048a8ab1410c9bb5dc3fc"
      }
     },
     "metadata": {}
    }
   ],
   "source": [
    "real = text_preprocessing(true_text_list)"
   ]
  },
  {
   "cell_type": "code",
   "execution_count": 56,
   "metadata": {},
   "outputs": [],
   "source": [
    "counts_real, common_real, flat_real, tokenized_texts_real = real"
   ]
  },
  {
   "cell_type": "code",
   "execution_count": 57,
   "metadata": {},
   "outputs": [
    {
     "output_type": "execute_result",
     "data": {
      "text/plain": [
       "[('say', 215),\n",
       " ('year', 183),\n",
       " ('percent', 182),\n",
       " ('state', 176),\n",
       " ('american', 93),\n",
       " ('million', 93),\n",
       " ('people', 86),\n",
       " ('rate', 82),\n",
       " ('trump', 81),\n",
       " ('job', 79),\n",
       " ('tax', 76),\n",
       " ('country', 74),\n",
       " ('high', 71),\n",
       " ('vote', 71),\n",
       " ('time', 71),\n",
       " ('pay', 68),\n",
       " ('president', 68),\n",
       " ('obama', 56),\n",
       " ('billion', 54),\n",
       " ('texas', 51)]"
      ]
     },
     "metadata": {},
     "execution_count": 57
    }
   ],
   "source": [
    "common_real[:20]"
   ]
  },
  {
   "cell_type": "code",
   "execution_count": 58,
   "metadata": {},
   "outputs": [],
   "source": [
    "from gensim.models import LdaMulticore\n",
    "\n",
    "def compute_coherence_values(texts, start, step, limit, topn):\n",
    "    dictionary = Dictionary(texts) # get the vocabulary\n",
    "    dictionary.filter_extremes(no_below=5, no_above=0.5)\n",
    "    corpus = [dictionary.doc2bow(text) for text in texts]\n",
    "    \n",
    "    coherence_values = []\n",
    "    model_list = []\n",
    "    for num_topics in range(start, limit, step):\n",
    "        model = LdaMulticore( corpus=corpus, num_topics=num_topics, id2word=dictionary, alpha = 0.01, iterations = 400)\n",
    "        model_list.append(model)\n",
    "        coherencemodel = CoherenceModel(model=model, texts=texts, dictionary=dictionary, coherence='c_v', topn=topn)\n",
    "        coherence_values.append(coherencemodel.get_coherence())\n",
    "\n",
    "    return model_list, coherence_values"
   ]
  },
  {
   "cell_type": "code",
   "execution_count": 64,
   "metadata": {},
   "outputs": [],
   "source": [
    "model_list, coherence_values = compute_coherence_values(texts=tokenized_texts_fake, start=1, step=1, limit= 40, topn=5)\n"
   ]
  },
  {
   "cell_type": "code",
   "execution_count": 65,
   "metadata": {},
   "outputs": [
    {
     "output_type": "execute_result",
     "data": {
      "text/plain": [
       "[0.04194414277374631,\n",
       " 0.1741988946760286,\n",
       " 0.2581198754240313,\n",
       " 0.17443867888532397,\n",
       " 0.2541719610576217,\n",
       " 0.22402577790551556,\n",
       " 0.2765607481409097,\n",
       " 0.2988220797552694,\n",
       " 0.2818430761828567,\n",
       " 0.3058160371989837,\n",
       " 0.32158226074440355,\n",
       " 0.345310474448237,\n",
       " 0.31365346715282294,\n",
       " 0.30562627925886193,\n",
       " 0.3691568664011894,\n",
       " 0.3620641462280916,\n",
       " 0.39522878162478264,\n",
       " 0.35580273212279595,\n",
       " 0.3716378800677325,\n",
       " 0.34641160232521606,\n",
       " 0.379859201025418,\n",
       " 0.3754862473823561,\n",
       " 0.36588103676322264,\n",
       " 0.3917363329076456,\n",
       " 0.3620818202018071,\n",
       " 0.35084351019732235,\n",
       " 0.37255740333603304,\n",
       " 0.3555025889239515,\n",
       " 0.3861149520249198,\n",
       " 0.38419615533493057,\n",
       " 0.37606422084522445,\n",
       " 0.36389565043375,\n",
       " 0.3865796155653976,\n",
       " 0.3906310750004011,\n",
       " 0.38349588037582855,\n",
       " 0.34986749447711196,\n",
       " 0.38691455382429085,\n",
       " 0.3774641982767532,\n",
       " 0.3752120528946009]"
      ]
     },
     "metadata": {},
     "execution_count": 65
    }
   ],
   "source": [
    "coherence_values"
   ]
  },
  {
   "source": [
    "At this point the coherence scores are low, meaning there's not much confidence in the topics modelled. What if we merge the politifact dataset"
   ],
   "cell_type": "markdown",
   "metadata": {}
  },
  {
   "cell_type": "code",
   "execution_count": 377,
   "metadata": {},
   "outputs": [],
   "source": [
    "def cleanup(text):\n",
    "    res = remove_mention(text)\n",
    "    res = remove_non_ascii(text)\n",
    "    res = res.lower()\n",
    "    res = remove_urls(res)\n",
    "    res = remove_rt(res)\n",
    "    res = remove_single_char(res)\n",
    "    res = remove_numbers(res)\n",
    "    res = remove_emojis(res)\n",
    "    res = remove_nonalpha(res)\n",
    "    res = remove_extra_spaces(res)\n",
    "    return res"
   ]
  },
  {
   "cell_type": "code",
   "execution_count": 378,
   "metadata": {},
   "outputs": [],
   "source": [
    "pf = pd.read_csv('processed-data/tweet_times/politifact_fake_tweet_times.csv')"
   ]
  },
  {
   "cell_type": "code",
   "execution_count": 379,
   "metadata": {
    "tags": []
   },
   "outputs": [],
   "source": [
    "cleaned_pf_text = []\n",
    "for item in pf.text:\n",
    "    cleaned_pf_text.append(cleanup(item))\n",
    "pf.text = cleaned_pf_text"
   ]
  },
  {
   "cell_type": "code",
   "execution_count": 380,
   "metadata": {},
   "outputs": [],
   "source": []
  },
  {
   "cell_type": "code",
   "execution_count": 381,
   "metadata": {
    "tags": []
   },
   "outputs": [],
   "source": [
    "# cleaned_nd_text = []\n",
    "# for item in new_dataset.claim_text:\n",
    "#     cleaned_nd_text.append(cleanup(item))"
   ]
  },
  {
   "cell_type": "code",
   "execution_count": 219,
   "metadata": {},
   "outputs": [],
   "source": [
    "# new_dataset.claim_text = cleaned_nd_text"
   ]
  },
  {
   "cell_type": "code",
   "execution_count": 220,
   "metadata": {},
   "outputs": [
    {
     "output_type": "execute_result",
     "data": {
      "text/plain": [
       "25085"
      ]
     },
     "metadata": {},
     "execution_count": 220
    }
   ],
   "source": [
    "# len(new_dataset.claim_text.unique())"
   ]
  },
  {
   "cell_type": "code",
   "execution_count": 383,
   "metadata": {},
   "outputs": [],
   "source": [
    "pf = pf.drop_duplicates(subset=['text'], keep='first')\n",
    "pf = pf.sort_values('text')"
   ]
  },
  {
   "cell_type": "code",
   "execution_count": 384,
   "metadata": {
    "tags": []
   },
   "outputs": [],
   "source": [
    "pf.reset_index(drop=True, inplace=True)\n",
    "for index, item in pf.iterrows():\n",
    "    if index < len(pf)-1:\n",
    "        if similar(pf.loc[index,'text'], pf.loc[index+1,'text']) > 0.90:\n",
    "            pf.drop(index, inplace = True)\n"
   ]
  },
  {
   "cell_type": "code",
   "execution_count": 386,
   "metadata": {},
   "outputs": [],
   "source": [
    "pf = pf[pf.text.notnull()]\n",
    "pf = pf[pf.text != \"\"]\n",
    "pf = pf[pf.text.str.len() > 15]"
   ]
  },
  {
   "cell_type": "code",
   "execution_count": 387,
   "metadata": {},
   "outputs": [
    {
     "output_type": "execute_result",
     "data": {
      "text/plain": [
       "      Unnamed: 0                created_at  \\\n",
       "2          38867  2016-06-21T14:22:52.000Z   \n",
       "3          38940  2017-07-01T17:31:55.000Z   \n",
       "4          38944  2017-07-02T00:46:24.000Z   \n",
       "5          38905  2017-06-22T22:49:41.000Z   \n",
       "6          38911  2017-06-26T20:53:35.000Z   \n",
       "...          ...                       ...   \n",
       "37312      61015  2017-01-28T07:42:18.000Z   \n",
       "37313      16250  2018-04-11T14:13:38.000Z   \n",
       "37314      20730  2018-07-17T11:39:18.000Z   \n",
       "37316      25643  2018-07-20T15:51:21.000Z   \n",
       "37317      45603  2018-06-29T05:28:11.000Z   \n",
       "\n",
       "                                                    text           author_id  \\\n",
       "2       000pound great white shark captured in great ...          3301735767   \n",
       "3       000pound great white shark captured in great ...  878694851801436161   \n",
       "4       000pound great white shark captured in great ...            72577718   \n",
       "5       000pound great white shark captured in great ...           110370047   \n",
       "6       000pound great white shark captured in great ...            90688327   \n",
       "...                                                  ...                 ...   \n",
       "37312  zuckerberg takes on trump on immigration calls...  790883836276060161   \n",
       "37313  zuckerberg testifying before the us house of r...           630417033   \n",
       "37314                          zulumkhathini no problems  966951978172641280   \n",
       "37316  zz tops billy gibbons releases gritty muddy wa...           531242779   \n",
       "37317  zzz statement from sitting us presidentlisten ...          2493635959   \n",
       "\n",
       "                 id          news_id withheld  \n",
       "2      7.452607e+17  politifact14309      NaN  \n",
       "3      8.812037e+17  politifact14309      NaN  \n",
       "4      8.813131e+17  politifact14309      NaN  \n",
       "5      8.780222e+17  politifact14309      NaN  \n",
       "6      8.794425e+17  politifact14309      NaN  \n",
       "...             ...              ...      ...  \n",
       "37312  8.252476e+17  politifact15573      NaN  \n",
       "37313  9.840720e+17  politifact14548      NaN  \n",
       "37314  1.019185e+18  politifact14548      NaN  \n",
       "37316  1.020335e+18  politifact14548      NaN  \n",
       "37317  1.012568e+18  politifact14667      NaN  \n",
       "\n",
       "[34565 rows x 7 columns]"
      ],
      "text/html": "<div>\n<style scoped>\n    .dataframe tbody tr th:only-of-type {\n        vertical-align: middle;\n    }\n\n    .dataframe tbody tr th {\n        vertical-align: top;\n    }\n\n    .dataframe thead th {\n        text-align: right;\n    }\n</style>\n<table border=\"1\" class=\"dataframe\">\n  <thead>\n    <tr style=\"text-align: right;\">\n      <th></th>\n      <th>Unnamed: 0</th>\n      <th>created_at</th>\n      <th>text</th>\n      <th>author_id</th>\n      <th>id</th>\n      <th>news_id</th>\n      <th>withheld</th>\n    </tr>\n  </thead>\n  <tbody>\n    <tr>\n      <th>2</th>\n      <td>38867</td>\n      <td>2016-06-21T14:22:52.000Z</td>\n      <td>000pound great white shark captured in great ...</td>\n      <td>3301735767</td>\n      <td>7.452607e+17</td>\n      <td>politifact14309</td>\n      <td>NaN</td>\n    </tr>\n    <tr>\n      <th>3</th>\n      <td>38940</td>\n      <td>2017-07-01T17:31:55.000Z</td>\n      <td>000pound great white shark captured in great ...</td>\n      <td>878694851801436161</td>\n      <td>8.812037e+17</td>\n      <td>politifact14309</td>\n      <td>NaN</td>\n    </tr>\n    <tr>\n      <th>4</th>\n      <td>38944</td>\n      <td>2017-07-02T00:46:24.000Z</td>\n      <td>000pound great white shark captured in great ...</td>\n      <td>72577718</td>\n      <td>8.813131e+17</td>\n      <td>politifact14309</td>\n      <td>NaN</td>\n    </tr>\n    <tr>\n      <th>5</th>\n      <td>38905</td>\n      <td>2017-06-22T22:49:41.000Z</td>\n      <td>000pound great white shark captured in great ...</td>\n      <td>110370047</td>\n      <td>8.780222e+17</td>\n      <td>politifact14309</td>\n      <td>NaN</td>\n    </tr>\n    <tr>\n      <th>6</th>\n      <td>38911</td>\n      <td>2017-06-26T20:53:35.000Z</td>\n      <td>000pound great white shark captured in great ...</td>\n      <td>90688327</td>\n      <td>8.794425e+17</td>\n      <td>politifact14309</td>\n      <td>NaN</td>\n    </tr>\n    <tr>\n      <th>...</th>\n      <td>...</td>\n      <td>...</td>\n      <td>...</td>\n      <td>...</td>\n      <td>...</td>\n      <td>...</td>\n      <td>...</td>\n    </tr>\n    <tr>\n      <th>37312</th>\n      <td>61015</td>\n      <td>2017-01-28T07:42:18.000Z</td>\n      <td>zuckerberg takes on trump on immigration calls...</td>\n      <td>790883836276060161</td>\n      <td>8.252476e+17</td>\n      <td>politifact15573</td>\n      <td>NaN</td>\n    </tr>\n    <tr>\n      <th>37313</th>\n      <td>16250</td>\n      <td>2018-04-11T14:13:38.000Z</td>\n      <td>zuckerberg testifying before the us house of r...</td>\n      <td>630417033</td>\n      <td>9.840720e+17</td>\n      <td>politifact14548</td>\n      <td>NaN</td>\n    </tr>\n    <tr>\n      <th>37314</th>\n      <td>20730</td>\n      <td>2018-07-17T11:39:18.000Z</td>\n      <td>zulumkhathini no problems</td>\n      <td>966951978172641280</td>\n      <td>1.019185e+18</td>\n      <td>politifact14548</td>\n      <td>NaN</td>\n    </tr>\n    <tr>\n      <th>37316</th>\n      <td>25643</td>\n      <td>2018-07-20T15:51:21.000Z</td>\n      <td>zz tops billy gibbons releases gritty muddy wa...</td>\n      <td>531242779</td>\n      <td>1.020335e+18</td>\n      <td>politifact14548</td>\n      <td>NaN</td>\n    </tr>\n    <tr>\n      <th>37317</th>\n      <td>45603</td>\n      <td>2018-06-29T05:28:11.000Z</td>\n      <td>zzz statement from sitting us presidentlisten ...</td>\n      <td>2493635959</td>\n      <td>1.012568e+18</td>\n      <td>politifact14667</td>\n      <td>NaN</td>\n    </tr>\n  </tbody>\n</table>\n<p>34565 rows × 7 columns</p>\n</div>"
     },
     "metadata": {},
     "execution_count": 387
    }
   ],
   "source": [
    "pf"
   ]
  },
  {
   "cell_type": "code",
   "execution_count": 267,
   "metadata": {},
   "outputs": [],
   "source": [
    "cleaned_pf_text = []\n",
    "for item in pf.text:\n",
    "    cleaned_pf_text.append(cleanup(item))\n",
    "pf.text = cleaned_pf_text"
   ]
  },
  {
   "cell_type": "code",
   "execution_count": 335,
   "metadata": {
    "tags": []
   },
   "outputs": [
    {
     "output_type": "execute_result",
     "data": {
      "text/plain": [
       "                     created_at  \\\n",
       "0      2017-10-03T15:48:10.000Z   \n",
       "1      2017-10-03T16:19:10.000Z   \n",
       "2      2017-10-03T21:28:30.000Z   \n",
       "3      2017-10-03T21:28:51.000Z   \n",
       "4      2017-10-03T21:32:06.000Z   \n",
       "...                         ...   \n",
       "35331  2017-03-11T19:28:08.000Z   \n",
       "35332  2017-03-12T09:33:50.000Z   \n",
       "35333  2017-03-14T10:50:12.000Z   \n",
       "35334  2017-03-31T07:30:11.000Z   \n",
       "35335  2017-04-18T00:01:26.000Z   \n",
       "\n",
       "                                                    text           author_id  \\\n",
       "0      oh, gays for trump. calling on gays for trump!...            42013288   \n",
       "1      fyi trump admin voted for death penalty for ga...           250756569   \n",
       "2      breaking: trump votes for death penalty for be...           143618120   \n",
       "3      watch out, this is trump's america. us votes a...            26292109   \n",
       "4      trump administration votes against un resoluti...  716371621380890624   \n",
       "...                                                  ...                 ...   \n",
       "35331  chinese lunar rover finds no evidence of ameri...          2463640190   \n",
       "35332  chinese lunar rover finds no evidence of ameri...           421173069   \n",
       "35333  laugh - chinese lunar rover finds no evidence ...           228008431   \n",
       "35334   schischowwn1 . . chinese lunar rover finds no...          2320446493   \n",
       "35335  chinese lunar rover finds no evidence of ameri...  807276795670237185   \n",
       "\n",
       "                 id          news_id  \n",
       "0      9.152421e+17  politifact15371  \n",
       "1      9.152499e+17  politifact15371  \n",
       "2      9.153277e+17  politifact15371  \n",
       "3      9.153278e+17  politifact15371  \n",
       "4      9.153286e+17  politifact15371  \n",
       "...             ...              ...  \n",
       "35331  8.406455e+17  politifact14718  \n",
       "35332  8.408584e+17  politifact14718  \n",
       "35333  8.416024e+17  politifact14718  \n",
       "35334  8.477126e+17  politifact14718  \n",
       "35335  8.541227e+17  politifact14718  \n",
       "\n",
       "[34962 rows x 5 columns]"
      ],
      "text/html": "<div>\n<style scoped>\n    .dataframe tbody tr th:only-of-type {\n        vertical-align: middle;\n    }\n\n    .dataframe tbody tr th {\n        vertical-align: top;\n    }\n\n    .dataframe thead th {\n        text-align: right;\n    }\n</style>\n<table border=\"1\" class=\"dataframe\">\n  <thead>\n    <tr style=\"text-align: right;\">\n      <th></th>\n      <th>created_at</th>\n      <th>text</th>\n      <th>author_id</th>\n      <th>id</th>\n      <th>news_id</th>\n    </tr>\n  </thead>\n  <tbody>\n    <tr>\n      <th>0</th>\n      <td>2017-10-03T15:48:10.000Z</td>\n      <td>oh, gays for trump. calling on gays for trump!...</td>\n      <td>42013288</td>\n      <td>9.152421e+17</td>\n      <td>politifact15371</td>\n    </tr>\n    <tr>\n      <th>1</th>\n      <td>2017-10-03T16:19:10.000Z</td>\n      <td>fyi trump admin voted for death penalty for ga...</td>\n      <td>250756569</td>\n      <td>9.152499e+17</td>\n      <td>politifact15371</td>\n    </tr>\n    <tr>\n      <th>2</th>\n      <td>2017-10-03T21:28:30.000Z</td>\n      <td>breaking: trump votes for death penalty for be...</td>\n      <td>143618120</td>\n      <td>9.153277e+17</td>\n      <td>politifact15371</td>\n    </tr>\n    <tr>\n      <th>3</th>\n      <td>2017-10-03T21:28:51.000Z</td>\n      <td>watch out, this is trump's america. us votes a...</td>\n      <td>26292109</td>\n      <td>9.153278e+17</td>\n      <td>politifact15371</td>\n    </tr>\n    <tr>\n      <th>4</th>\n      <td>2017-10-03T21:32:06.000Z</td>\n      <td>trump administration votes against un resoluti...</td>\n      <td>716371621380890624</td>\n      <td>9.153286e+17</td>\n      <td>politifact15371</td>\n    </tr>\n    <tr>\n      <th>...</th>\n      <td>...</td>\n      <td>...</td>\n      <td>...</td>\n      <td>...</td>\n      <td>...</td>\n    </tr>\n    <tr>\n      <th>35331</th>\n      <td>2017-03-11T19:28:08.000Z</td>\n      <td>chinese lunar rover finds no evidence of ameri...</td>\n      <td>2463640190</td>\n      <td>8.406455e+17</td>\n      <td>politifact14718</td>\n    </tr>\n    <tr>\n      <th>35332</th>\n      <td>2017-03-12T09:33:50.000Z</td>\n      <td>chinese lunar rover finds no evidence of ameri...</td>\n      <td>421173069</td>\n      <td>8.408584e+17</td>\n      <td>politifact14718</td>\n    </tr>\n    <tr>\n      <th>35333</th>\n      <td>2017-03-14T10:50:12.000Z</td>\n      <td>laugh - chinese lunar rover finds no evidence ...</td>\n      <td>228008431</td>\n      <td>8.416024e+17</td>\n      <td>politifact14718</td>\n    </tr>\n    <tr>\n      <th>35334</th>\n      <td>2017-03-31T07:30:11.000Z</td>\n      <td>schischowwn1 . . chinese lunar rover finds no...</td>\n      <td>2320446493</td>\n      <td>8.477126e+17</td>\n      <td>politifact14718</td>\n    </tr>\n    <tr>\n      <th>35335</th>\n      <td>2017-04-18T00:01:26.000Z</td>\n      <td>chinese lunar rover finds no evidence of ameri...</td>\n      <td>807276795670237185</td>\n      <td>8.541227e+17</td>\n      <td>politifact14718</td>\n    </tr>\n  </tbody>\n</table>\n<p>34962 rows × 5 columns</p>\n</div>"
     },
     "metadata": {},
     "execution_count": 335
    }
   ],
   "source": []
  },
  {
   "cell_type": "code",
   "execution_count": 388,
   "metadata": {},
   "outputs": [],
   "source": [
    "pf.to_csv('processed-data/tweets_cleaned/pf.csv')"
   ]
  },
  {
   "cell_type": "code",
   "execution_count": 164,
   "metadata": {},
   "outputs": [],
   "source": [
    "combined_fake = np.append(pf_unique_text.ravel(),false.claim_text.unique().ravel())"
   ]
  },
  {
   "cell_type": "code",
   "execution_count": 139,
   "metadata": {},
   "outputs": [
    {
     "output_type": "execute_result",
     "data": {
      "text/plain": [
       "133        Robot security guards are patrolling a Microso...\n",
       "134        Robot security guards are patrolling a Microso...\n",
       "151        Amazon will open its first physical store in N...\n",
       "152        Comcast is telling customers Tor is illegal to...\n",
       "4740       Saudi Arabia's national airline will introduce...\n",
       "                                 ...                        \n",
       "2065466            Did a Cursed Mummy Sink with the Titanic?\n",
       "2065467            Did a Cursed Mummy Sink with the Titanic?\n",
       "2065468    Did the Chevrolet Nova Fail to Sell in Spanish...\n",
       "2065469    Does a Ghost Boy Appear in ‘Three Men and a Ba...\n",
       "2065470    Does a Ghost Boy Appear in ‘Three Men and a Ba...\n",
       "Name: claim_text, Length: 903380, dtype: object"
      ]
     },
     "metadata": {},
     "execution_count": 139
    }
   ],
   "source": [
    "false.claim_text"
   ]
  },
  {
   "cell_type": "code",
   "execution_count": 143,
   "metadata": {},
   "outputs": [],
   "source": []
  },
  {
   "cell_type": "code",
   "execution_count": 195,
   "metadata": {},
   "outputs": [],
   "source": []
  },
  {
   "cell_type": "code",
   "execution_count": null,
   "metadata": {},
   "outputs": [],
   "source": []
  }
 ]
}