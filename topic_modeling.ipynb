{
 "metadata": {
  "language_info": {
   "codemirror_mode": {
    "name": "ipython",
    "version": 3
   },
   "file_extension": ".py",
   "mimetype": "text/x-python",
   "name": "python",
   "nbconvert_exporter": "python",
   "pygments_lexer": "ipython3",
   "version": "3.9.2"
  },
  "orig_nbformat": 2,
  "kernelspec": {
   "name": "python392jvsc74a57bd0730a29a129caaf396252390d0f158bf1f8c297b87c9b8a65cd66b7ca36b66f6f",
   "display_name": "Python 3.9.2 64-bit ('base': conda)"
  },
  "metadata": {
   "interpreter": {
    "hash": "730a29a129caaf396252390d0f158bf1f8c297b87c9b8a65cd66b7ca36b66f6f"
   }
  }
 },
 "nbformat": 4,
 "nbformat_minor": 2,
 "cells": [
  {
   "cell_type": "code",
   "execution_count": 10,
   "metadata": {},
   "outputs": [],
   "source": [
    "import os\n",
    "os.environ['MALLET_HOME'] = 'mallet-2.0.8'\n",
    "# Imported from R.E.Lucassen Masters Thesis\n",
    "from regex import remove_single_char, remove_numbers, remove_urls, remove_emojis, remove_nonalpha, remove_extra_spaces, remove_rt\n"
   ]
  },
  {
   "cell_type": "code",
   "execution_count": 73,
   "metadata": {},
   "outputs": [],
   "source": [
    "from gensim.corpora import Dictionary\n",
    "\n",
    "MIN_DF = 1 # minium document frequency\n",
    "MAX_DF = 0.6 # maximum document frequency"
   ]
  },
  {
   "cell_type": "code",
   "execution_count": null,
   "metadata": {},
   "outputs": [],
   "source": [
    "dictionary = Dictionary(tokenized_texts) # get the vocabulary\n",
    "dictionary.filter_extremes(no_below=MIN_DF, \n",
    "                           no_above=MAX_DF)\n",
    "corpus = [dictionary.doc2bow(text) for text in tokenized_texts]"
   ]
  },
  {
   "cell_type": "code",
   "execution_count": null,
   "metadata": {},
   "outputs": [],
   "source": [
    "from gensim.models.wrappers import LdaMallet\n",
    "\n",
    "PATH_TO_MALLET = 'mallet-2.0.8/bin/mallet'\n",
    "N_TOPICS = 10\n",
    "N_ITERATIONS = 500\n",
    "\n",
    "lda = LdaMallet(mallet_path=PATH_TO_MALLET,\n",
    "                corpus=corpus,\n",
    "                id2word=dictionary,\n",
    "                num_topics=N_TOPICS,\n",
    "                iterations=N_ITERATIONS)"
   ]
  },
  {
   "cell_type": "code",
   "execution_count": null,
   "metadata": {},
   "outputs": [],
   "source": [
    "for topic in range(N_TOPICS):\n",
    "    words = lda.show_topic(topic, 10)\n",
    "    topic_n_words = ' '.join([word[0] for word in words])\n",
    "    print('Topic {}: {}'.format(str(topic), topic_n_words))"
   ]
  },
  {
   "cell_type": "code",
   "execution_count": 60,
   "metadata": {},
   "outputs": [],
   "source": [
    "import pandas as pd"
   ]
  },
  {
   "cell_type": "code",
   "execution_count": 27,
   "metadata": {},
   "outputs": [],
   "source": [
    "politifact_fake_with_scraped_text = pd.read_csv('processed-data/scraped_text/politifact_fake_with_scraped_text.csv')"
   ]
  },
  {
   "cell_type": "code",
   "execution_count": 24,
   "metadata": {},
   "outputs": [],
   "source": [
    "politifact_fake_with_scraped_text.reset_index(inplace=True)"
   ]
  },
  {
   "cell_type": "code",
   "execution_count": 25,
   "metadata": {},
   "outputs": [
    {
     "output_type": "execute_result",
     "data": {
      "text/plain": [
       "     index  Unnamed: 0               id  \\\n",
       "0        0           3  politifact14355   \n",
       "1        1           4  politifact15371   \n",
       "2        2           6  politifact13919   \n",
       "3        3           7  politifact14795   \n",
       "4        4           8  politifact14328   \n",
       "..     ...         ...              ...   \n",
       "228    228         419  politifact14169   \n",
       "229    229         421  politifact14992   \n",
       "230    230         422  politifact14158   \n",
       "231    231         427  politifact14944   \n",
       "232    232         428  politifact14071   \n",
       "\n",
       "                                              news_url  \\\n",
       "0    https://howafrica.com/oscar-pistorius-attempts...   \n",
       "1    http://washingtonsources.org/trump-votes-for-d...   \n",
       "2    http://blogs.trendolizer.com/2015/01/new-york-...   \n",
       "3    https://web.archive.org/web/20171027105356/htt...   \n",
       "4    https://web.archive.org/web/20170702174006/htt...   \n",
       "..                                                 ...   \n",
       "228  https://web.archive.org/web/20170528095037/htt...   \n",
       "229  http://www.trainnews.info/2018/01/rep-paul-gos...   \n",
       "230  https://web.archive.org/web/20170602190500/htt...   \n",
       "231  http://thehill.com/homenews/senate/369928-who-...   \n",
       "232  https://web.archive.org/web/20170322070001/htt...   \n",
       "\n",
       "                                                 title  \\\n",
       "0           Oscar Pistorius Attempts To Commit Suicide   \n",
       "1          Trump Votes For Death Penalty For Being Gay   \n",
       "2    New York Man Wanted For Infecting 240 Men And ...   \n",
       "3    Saudi Arabia to Behead 6 School Girls for Bein...   \n",
       "4    Malia Obama Fired From Cushy Internship At Spa...   \n",
       "..                                                 ...   \n",
       "228  Rubio: “Rape Victims Should Be In Custody If T...   \n",
       "229  Rep. Paul Gosar Asks Capitol Police to Arrest ...   \n",
       "230  WORSE THAN HITLER! Trey Gowdy’s Son Found In A...   \n",
       "231        Who is affected by the government shutdown?   \n",
       "232  Lindsey Graham Threatens To Convert To Democra...   \n",
       "\n",
       "                                             tweet_ids  text  \n",
       "0    886941526458347521\\t887011300278194176\\t887023...  None  \n",
       "1    915205698212040704\\t915242076681506816\\t915249...  None  \n",
       "2                                                  NaN  None  \n",
       "3    923126512458616832\\t923135295070990341\\t923189...  None  \n",
       "4    880455776107679747\\t880457763876462598\\t880461...  None  \n",
       "..                                                 ...   ...  \n",
       "228  663538460104392704\\t663757208031780864\\t663764...  None  \n",
       "229  958425300144218112\\t958428242528145409\\t958428...  None  \n",
       "230                                 865933040492703745  None  \n",
       "231  954602090462146560\\t954602093171609600\\t954650...  None  \n",
       "232  740351669834244096\\t740391312277573632\\t740474...  None  \n",
       "\n",
       "[233 rows x 7 columns]"
      ],
      "text/html": "<div>\n<style scoped>\n    .dataframe tbody tr th:only-of-type {\n        vertical-align: middle;\n    }\n\n    .dataframe tbody tr th {\n        vertical-align: top;\n    }\n\n    .dataframe thead th {\n        text-align: right;\n    }\n</style>\n<table border=\"1\" class=\"dataframe\">\n  <thead>\n    <tr style=\"text-align: right;\">\n      <th></th>\n      <th>index</th>\n      <th>Unnamed: 0</th>\n      <th>id</th>\n      <th>news_url</th>\n      <th>title</th>\n      <th>tweet_ids</th>\n      <th>text</th>\n    </tr>\n  </thead>\n  <tbody>\n    <tr>\n      <th>0</th>\n      <td>0</td>\n      <td>3</td>\n      <td>politifact14355</td>\n      <td>https://howafrica.com/oscar-pistorius-attempts...</td>\n      <td>Oscar Pistorius Attempts To Commit Suicide</td>\n      <td>886941526458347521\\t887011300278194176\\t887023...</td>\n      <td>None</td>\n    </tr>\n    <tr>\n      <th>1</th>\n      <td>1</td>\n      <td>4</td>\n      <td>politifact15371</td>\n      <td>http://washingtonsources.org/trump-votes-for-d...</td>\n      <td>Trump Votes For Death Penalty For Being Gay</td>\n      <td>915205698212040704\\t915242076681506816\\t915249...</td>\n      <td>None</td>\n    </tr>\n    <tr>\n      <th>2</th>\n      <td>2</td>\n      <td>6</td>\n      <td>politifact13919</td>\n      <td>http://blogs.trendolizer.com/2015/01/new-york-...</td>\n      <td>New York Man Wanted For Infecting 240 Men And ...</td>\n      <td>NaN</td>\n      <td>None</td>\n    </tr>\n    <tr>\n      <th>3</th>\n      <td>3</td>\n      <td>7</td>\n      <td>politifact14795</td>\n      <td>https://web.archive.org/web/20171027105356/htt...</td>\n      <td>Saudi Arabia to Behead 6 School Girls for Bein...</td>\n      <td>923126512458616832\\t923135295070990341\\t923189...</td>\n      <td>None</td>\n    </tr>\n    <tr>\n      <th>4</th>\n      <td>4</td>\n      <td>8</td>\n      <td>politifact14328</td>\n      <td>https://web.archive.org/web/20170702174006/htt...</td>\n      <td>Malia Obama Fired From Cushy Internship At Spa...</td>\n      <td>880455776107679747\\t880457763876462598\\t880461...</td>\n      <td>None</td>\n    </tr>\n    <tr>\n      <th>...</th>\n      <td>...</td>\n      <td>...</td>\n      <td>...</td>\n      <td>...</td>\n      <td>...</td>\n      <td>...</td>\n      <td>...</td>\n    </tr>\n    <tr>\n      <th>228</th>\n      <td>228</td>\n      <td>419</td>\n      <td>politifact14169</td>\n      <td>https://web.archive.org/web/20170528095037/htt...</td>\n      <td>Rubio: “Rape Victims Should Be In Custody If T...</td>\n      <td>663538460104392704\\t663757208031780864\\t663764...</td>\n      <td>None</td>\n    </tr>\n    <tr>\n      <th>229</th>\n      <td>229</td>\n      <td>421</td>\n      <td>politifact14992</td>\n      <td>http://www.trainnews.info/2018/01/rep-paul-gos...</td>\n      <td>Rep. Paul Gosar Asks Capitol Police to Arrest ...</td>\n      <td>958425300144218112\\t958428242528145409\\t958428...</td>\n      <td>None</td>\n    </tr>\n    <tr>\n      <th>230</th>\n      <td>230</td>\n      <td>422</td>\n      <td>politifact14158</td>\n      <td>https://web.archive.org/web/20170602190500/htt...</td>\n      <td>WORSE THAN HITLER! Trey Gowdy’s Son Found In A...</td>\n      <td>865933040492703745</td>\n      <td>None</td>\n    </tr>\n    <tr>\n      <th>231</th>\n      <td>231</td>\n      <td>427</td>\n      <td>politifact14944</td>\n      <td>http://thehill.com/homenews/senate/369928-who-...</td>\n      <td>Who is affected by the government shutdown?</td>\n      <td>954602090462146560\\t954602093171609600\\t954650...</td>\n      <td>None</td>\n    </tr>\n    <tr>\n      <th>232</th>\n      <td>232</td>\n      <td>428</td>\n      <td>politifact14071</td>\n      <td>https://web.archive.org/web/20170322070001/htt...</td>\n      <td>Lindsey Graham Threatens To Convert To Democra...</td>\n      <td>740351669834244096\\t740391312277573632\\t740474...</td>\n      <td>None</td>\n    </tr>\n  </tbody>\n</table>\n<p>233 rows × 7 columns</p>\n</div>"
     },
     "metadata": {},
     "execution_count": 25
    }
   ],
   "source": [
    "politifact_fake_with_scraped_text"
   ]
  },
  {
   "cell_type": "code",
   "execution_count": 65,
   "metadata": {},
   "outputs": [],
   "source": [
    "politifact_real_manually_checked = pd.read_excel('processed-data/scraped_text_filtered/politifact_real_manually_checked.xlsx', engine='openpyxl')"
   ]
  },
  {
   "cell_type": "code",
   "execution_count": 44,
   "metadata": {},
   "outputs": [],
   "source": [
    "def process_text(text):\n",
    "    res = remove_numbers(text)\n",
    "    res = remove_nonalpha(res)\n",
    "    res = remove_extra_spaces(res)\n",
    "    res = remove_urls(res)\n",
    "    res = remove_single_char(res)\n",
    "    return res"
   ]
  },
  {
   "cell_type": "code",
   "execution_count": 66,
   "metadata": {
    "tags": []
   },
   "outputs": [
    {
     "output_type": "stream",
     "name": "stderr",
     "text": [
      "/Users/vangelistrikoupis/miniforge3/lib/python3.9/site-packages/pandas/core/indexing.py:1637: SettingWithCopyWarning: \nA value is trying to be set on a copy of a slice from a DataFrame\n\nSee the caveats in the documentation: https://pandas.pydata.org/pandas-docs/stable/user_guide/indexing.html#returning-a-view-versus-a-copy\n  self._setitem_single_block(indexer, value, name)\n"
     ]
    }
   ],
   "source": [
    "for index, item in enumerate(politifact_real_manually_checked['text']):\n",
    "    politifact_real_manually_checked['text'].iloc[index] = process_text(item)\n",
    "    "
   ]
  },
  {
   "cell_type": "code",
   "execution_count": 70,
   "metadata": {},
   "outputs": [],
   "source": [
    "politifact_real_manually_checked.to_csv('processed-data/scraped_text_filtered/politifact_real_manually_checked.csv')"
   ]
  },
  {
   "cell_type": "code",
   "execution_count": 71,
   "metadata": {},
   "outputs": [
    {
     "output_type": "execute_result",
     "data": {
      "text/plain": [
       "    Unnamed: 0               id  \\\n",
       "0            0  politifact14984   \n",
       "1            4    politifact779   \n",
       "2            6  politifact14474   \n",
       "3            8   politifact1313   \n",
       "4            9    politifact937   \n",
       "..         ...              ...   \n",
       "86         585   politifact1202   \n",
       "87         587    politifact825   \n",
       "88         590    politifact582   \n",
       "89         606    politifact134   \n",
       "90         620    politifact329   \n",
       "\n",
       "                                             news_url  \\\n",
       "0                           http://www.nfib-sbet.org/   \n",
       "1   https://web.archive.org/web/20070820164107/htt...   \n",
       "2   https://www.law.cornell.edu/constitution/amend...   \n",
       "3   https://web.archive.org/web/20090913221204/htt...   \n",
       "4   https://web.archive.org/web/20080623122709/htt...   \n",
       "..                                                ...   \n",
       "86  https://web.archive.org/web/20090919163055/htt...   \n",
       "87  https://web.archive.org/web/20081030004908/htt...   \n",
       "88  https://web.archive.org/web/20070808173432/htt...   \n",
       "89  https://web.archive.org/web/20070625210514/htt...   \n",
       "90  https://web.archive.org/web/20080131000131/htt...   \n",
       "\n",
       "                                                title  \\\n",
       "0         National Federation of Independent Business   \n",
       "1     Budget of the United States Government, FY 2008   \n",
       "2                                      25th Amendment   \n",
       "3   Briefing by White House Press Secretary Robert...   \n",
       "4             A Solar Grand Plan: Scientific American   \n",
       "..                                                ...   \n",
       "86  Remarks by the First Lady on What Health Insur...   \n",
       "87                  Planned Parenthood® Action Center   \n",
       "88   Remarks of Senator Obama: The War We Need to Win   \n",
       "89  Hillary Rodham Clinton, Senator for New York: ...   \n",
       "90                           Change We Can Believe In   \n",
       "\n",
       "                                            tweet_ids  \\\n",
       "0   967132259869487105\\t967164368768196609\\t967215...   \n",
       "1   89804710374154240\\t91270460595109888\\t96039619...   \n",
       "2   1262604762\\t10969740933\\t11182364398\\t17507543...   \n",
       "3   13511762265\\t13512918230\\t13513835900\\t1351424...   \n",
       "4   140962137332920320\\t141057766704947200\\t141166...   \n",
       "..                                                ...   \n",
       "86  947952624434860032\\t948330095021830147\\t948344...   \n",
       "87  940786300\\t1275591701\\t1291944169\\t1722299975\\...   \n",
       "88  1012322058481668096\\t1020403660000583681\\t1027...   \n",
       "89  1934853248\\t133639311508766720\\t22818567097432...   \n",
       "90  634287923135909888\\t946743411100536832\\t946816...   \n",
       "\n",
       "                                                 text  Unnamed: 6  \n",
       "0   The NFIB Small Business Optimism Index rose to...         NaN  \n",
       "1   THE NATION’S FISCAL OUTLOOK The President’s Bu...         NaN  \n",
       "2    th Amendment The th Amendment, proposed by Co...         NaN  \n",
       "3   THE WHITE HOUSE Office of the Press Secretary ...         NaN  \n",
       "4   A Solar Grand Plan By solar power could end U....         NaN  \n",
       "..                                                ...         ...  \n",
       "86  MRS. OBAMA: Thank you. Thank you all. Please, ...         NaN  \n",
       "87  Introduction and summary Senator John McCain’s...         NaN  \n",
       "88  Remarks of Senator Obama: The War We Need to W...         NaN  \n",
       "89  Schumer, Clinton Announce Key Senate Panel App...         NaN  \n",
       "90  Remarks of Senator Barack Obama: The Past Vers...         NaN  \n",
       "\n",
       "[91 rows x 7 columns]"
      ],
      "text/html": "<div>\n<style scoped>\n    .dataframe tbody tr th:only-of-type {\n        vertical-align: middle;\n    }\n\n    .dataframe tbody tr th {\n        vertical-align: top;\n    }\n\n    .dataframe thead th {\n        text-align: right;\n    }\n</style>\n<table border=\"1\" class=\"dataframe\">\n  <thead>\n    <tr style=\"text-align: right;\">\n      <th></th>\n      <th>Unnamed: 0</th>\n      <th>id</th>\n      <th>news_url</th>\n      <th>title</th>\n      <th>tweet_ids</th>\n      <th>text</th>\n      <th>Unnamed: 6</th>\n    </tr>\n  </thead>\n  <tbody>\n    <tr>\n      <th>0</th>\n      <td>0</td>\n      <td>politifact14984</td>\n      <td>http://www.nfib-sbet.org/</td>\n      <td>National Federation of Independent Business</td>\n      <td>967132259869487105\\t967164368768196609\\t967215...</td>\n      <td>The NFIB Small Business Optimism Index rose to...</td>\n      <td>NaN</td>\n    </tr>\n    <tr>\n      <th>1</th>\n      <td>4</td>\n      <td>politifact779</td>\n      <td>https://web.archive.org/web/20070820164107/htt...</td>\n      <td>Budget of the United States Government, FY 2008</td>\n      <td>89804710374154240\\t91270460595109888\\t96039619...</td>\n      <td>THE NATION’S FISCAL OUTLOOK The President’s Bu...</td>\n      <td>NaN</td>\n    </tr>\n    <tr>\n      <th>2</th>\n      <td>6</td>\n      <td>politifact14474</td>\n      <td>https://www.law.cornell.edu/constitution/amend...</td>\n      <td>25th Amendment</td>\n      <td>1262604762\\t10969740933\\t11182364398\\t17507543...</td>\n      <td>th Amendment The th Amendment, proposed by Co...</td>\n      <td>NaN</td>\n    </tr>\n    <tr>\n      <th>3</th>\n      <td>8</td>\n      <td>politifact1313</td>\n      <td>https://web.archive.org/web/20090913221204/htt...</td>\n      <td>Briefing by White House Press Secretary Robert...</td>\n      <td>13511762265\\t13512918230\\t13513835900\\t1351424...</td>\n      <td>THE WHITE HOUSE Office of the Press Secretary ...</td>\n      <td>NaN</td>\n    </tr>\n    <tr>\n      <th>4</th>\n      <td>9</td>\n      <td>politifact937</td>\n      <td>https://web.archive.org/web/20080623122709/htt...</td>\n      <td>A Solar Grand Plan: Scientific American</td>\n      <td>140962137332920320\\t141057766704947200\\t141166...</td>\n      <td>A Solar Grand Plan By solar power could end U....</td>\n      <td>NaN</td>\n    </tr>\n    <tr>\n      <th>...</th>\n      <td>...</td>\n      <td>...</td>\n      <td>...</td>\n      <td>...</td>\n      <td>...</td>\n      <td>...</td>\n      <td>...</td>\n    </tr>\n    <tr>\n      <th>86</th>\n      <td>585</td>\n      <td>politifact1202</td>\n      <td>https://web.archive.org/web/20090919163055/htt...</td>\n      <td>Remarks by the First Lady on What Health Insur...</td>\n      <td>947952624434860032\\t948330095021830147\\t948344...</td>\n      <td>MRS. OBAMA: Thank you. Thank you all. Please, ...</td>\n      <td>NaN</td>\n    </tr>\n    <tr>\n      <th>87</th>\n      <td>587</td>\n      <td>politifact825</td>\n      <td>https://web.archive.org/web/20081030004908/htt...</td>\n      <td>Planned Parenthood® Action Center</td>\n      <td>940786300\\t1275591701\\t1291944169\\t1722299975\\...</td>\n      <td>Introduction and summary Senator John McCain’s...</td>\n      <td>NaN</td>\n    </tr>\n    <tr>\n      <th>88</th>\n      <td>590</td>\n      <td>politifact582</td>\n      <td>https://web.archive.org/web/20070808173432/htt...</td>\n      <td>Remarks of Senator Obama: The War We Need to Win</td>\n      <td>1012322058481668096\\t1020403660000583681\\t1027...</td>\n      <td>Remarks of Senator Obama: The War We Need to W...</td>\n      <td>NaN</td>\n    </tr>\n    <tr>\n      <th>89</th>\n      <td>606</td>\n      <td>politifact134</td>\n      <td>https://web.archive.org/web/20070625210514/htt...</td>\n      <td>Hillary Rodham Clinton, Senator for New York: ...</td>\n      <td>1934853248\\t133639311508766720\\t22818567097432...</td>\n      <td>Schumer, Clinton Announce Key Senate Panel App...</td>\n      <td>NaN</td>\n    </tr>\n    <tr>\n      <th>90</th>\n      <td>620</td>\n      <td>politifact329</td>\n      <td>https://web.archive.org/web/20080131000131/htt...</td>\n      <td>Change We Can Believe In</td>\n      <td>634287923135909888\\t946743411100536832\\t946816...</td>\n      <td>Remarks of Senator Barack Obama: The Past Vers...</td>\n      <td>NaN</td>\n    </tr>\n  </tbody>\n</table>\n<p>91 rows × 7 columns</p>\n</div>"
     },
     "metadata": {},
     "execution_count": 71
    }
   ],
   "source": [
    "politifact_real_manually_checked"
   ]
  },
  {
   "cell_type": "code",
   "execution_count": null,
   "metadata": {},
   "outputs": [],
   "source": []
  }
 ]
}