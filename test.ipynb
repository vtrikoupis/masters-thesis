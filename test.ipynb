{
 "metadata": {
  "language_info": {
   "codemirror_mode": {
    "name": "ipython",
    "version": 3
   },
   "file_extension": ".py",
   "mimetype": "text/x-python",
   "name": "python",
   "nbconvert_exporter": "python",
   "pygments_lexer": "ipython3",
   "version": "3.9.2"
  },
  "orig_nbformat": 2,
  "kernelspec": {
   "name": "python392jvsc74a57bd0730a29a129caaf396252390d0f158bf1f8c297b87c9b8a65cd66b7ca36b66f6f",
   "display_name": "Python 3.9.2 64-bit ('base': conda)"
  },
  "metadata": {
   "interpreter": {
    "hash": "730a29a129caaf396252390d0f158bf1f8c297b87c9b8a65cd66b7ca36b66f6f"
   }
  }
 },
 "nbformat": 4,
 "nbformat_minor": 2,
 "cells": [
  {
   "cell_type": "code",
   "execution_count": 364,
   "metadata": {},
   "outputs": [],
   "source": [
    "import pandas as pd\n",
    "import re\n",
    "from tqdm import notebook\n",
    "from re import compile\n",
    "from regex_fx import remove_single_char, remove_numbers, remove_urls, remove_emojis, remove_extra_spaces, remove_rt\n",
    "from collections import Counter\n",
    "import spacy\n",
    "nlp = spacy.load(\"en_core_web_sm\")\n",
    "from gensim.corpora import Dictionary\n",
    "from gensim.models.coherencemodel import CoherenceModel\n",
    "\n"
   ]
  },
  {
   "cell_type": "code",
   "execution_count": 360,
   "metadata": {},
   "outputs": [],
   "source": [
    "def strip_list_noempty(mylist):\n",
    "    newlist = (item.strip() if hasattr(item, 'strip') else item for item in mylist)\n",
    "    return [item for item in newlist if item != '']\n"
   ]
  },
  {
   "cell_type": "code",
   "execution_count": 361,
   "metadata": {},
   "outputs": [],
   "source": [
    "def remove_special_names(text):\n",
    "    stopwords = ['trump', 'new', 'year', 'say', 'clinton', 'obama', 'kardashian', 'donald', 'kim', 'hillary', 'brad_pitt', 'pitt', 'jenner', 'jennifer', 'angelina', '']\n",
    "    for word in stopwords:\n",
    "        text = text.replace(word, '')\n",
    "    return text"
   ]
  },
  {
   "cell_type": "code",
   "execution_count": 362,
   "metadata": {},
   "outputs": [],
   "source": [
    "def remove_nonalpha(text):\n",
    "    # non_alpha_pattern = re.compile('[\\W_]+', re.UNICODE)\n",
    "    # without_nonalpha = non_alpha_pattern.sub(r'',text)\n",
    "    res = re.sub(r'[^A-Za-z0-9 ]+', '', text)\n",
    "    return res"
   ]
  },
  {
   "cell_type": "code",
   "execution_count": 376,
   "metadata": {},
   "outputs": [],
   "source": [
    "def remove_mention(text):\n",
    "    res = re.sub('@[^\\s]+','',text)\n",
    "    return res"
   ]
  },
  {
   "cell_type": "code",
   "execution_count": 346,
   "metadata": {},
   "outputs": [],
   "source": [
    "def remove_non_ascii(text):\n",
    "    return text.encode(\"ascii\", errors=\"ignore\").decode()"
   ]
  },
  {
   "cell_type": "code",
   "execution_count": 197,
   "metadata": {},
   "outputs": [],
   "source": [
    "new_dataset = pd.read_pickle('all_collected_users_en')\n",
    "true = new_dataset[new_dataset['claim_label']=='true']\n",
    "false = new_dataset[new_dataset['claim_label']=='false']"
   ]
  },
  {
   "cell_type": "code",
   "execution_count": 3,
   "metadata": {},
   "outputs": [
    {
     "output_type": "execute_result",
     "data": {
      "text/plain": [
       "     source       user claim_label claim_id  \\\n",
       "0  emergent  @kenradio        true        2   \n",
       "\n",
       "                                          claim_text  \\\n",
       "0  A Saudi cleric declared that snowmen are anti-...   \n",
       "\n",
       "                              tweet_id             tweet_date  \\\n",
       "0  /kenradio/status/895827947017256960  7:03 PM - 10 Aug 2017   \n",
       "\n",
       "                                          tweet_Text  \n",
       "0  A Saudi cleric declared that snowmen are anti-...  "
      ],
      "text/html": "<div>\n<style scoped>\n    .dataframe tbody tr th:only-of-type {\n        vertical-align: middle;\n    }\n\n    .dataframe tbody tr th {\n        vertical-align: top;\n    }\n\n    .dataframe thead th {\n        text-align: right;\n    }\n</style>\n<table border=\"1\" class=\"dataframe\">\n  <thead>\n    <tr style=\"text-align: right;\">\n      <th></th>\n      <th>source</th>\n      <th>user</th>\n      <th>claim_label</th>\n      <th>claim_id</th>\n      <th>claim_text</th>\n      <th>tweet_id</th>\n      <th>tweet_date</th>\n      <th>tweet_Text</th>\n    </tr>\n  </thead>\n  <tbody>\n    <tr>\n      <th>0</th>\n      <td>emergent</td>\n      <td>@kenradio</td>\n      <td>true</td>\n      <td>2</td>\n      <td>A Saudi cleric declared that snowmen are anti-...</td>\n      <td>/kenradio/status/895827947017256960</td>\n      <td>7:03 PM - 10 Aug 2017</td>\n      <td>A Saudi cleric declared that snowmen are anti-...</td>\n    </tr>\n  </tbody>\n</table>\n</div>"
     },
     "metadata": {},
     "execution_count": 3
    }
   ],
   "source": [
    "true.head(1)"
   ]
  },
  {
   "cell_type": "code",
   "execution_count": 114,
   "metadata": {},
   "outputs": [
    {
     "output_type": "stream",
     "name": "stdout",
     "text": [
      "<class 'pandas.core.frame.DataFrame'>\nRangeIndex: 2065471 entries, 0 to 2065470\nData columns (total 8 columns):\n #   Column       Dtype \n---  ------       ----- \n 0   source       object\n 1   user         object\n 2   claim_label  object\n 3   claim_id     object\n 4   claim_text   object\n 5   tweet_id     object\n 6   tweet_date   object\n 7   tweet_Text   object\ndtypes: object(8)\nmemory usage: 126.1+ MB\n"
     ]
    }
   ],
   "source": [
    "new_dataset.info()"
   ]
  },
  {
   "cell_type": "code",
   "execution_count": 4,
   "metadata": {},
   "outputs": [
    {
     "output_type": "stream",
     "name": "stdout",
     "text": [
      "<class 'pandas.core.frame.DataFrame'>\nInt64Index: 1162091 entries, 0 to 2065465\nData columns (total 8 columns):\n #   Column       Non-Null Count    Dtype \n---  ------       --------------    ----- \n 0   source       1162091 non-null  object\n 1   user         1162091 non-null  object\n 2   claim_label  1162091 non-null  object\n 3   claim_id     1162091 non-null  object\n 4   claim_text   1162091 non-null  object\n 5   tweet_id     1162091 non-null  object\n 6   tweet_date   1162091 non-null  object\n 7   tweet_Text   1162091 non-null  object\ndtypes: object(8)\nmemory usage: 79.8+ MB\n"
     ]
    }
   ],
   "source": [
    "true.info()"
   ]
  },
  {
   "cell_type": "code",
   "execution_count": 113,
   "metadata": {},
   "outputs": [
    {
     "output_type": "stream",
     "name": "stdout",
     "text": [
      "14085\n11008\n"
     ]
    }
   ],
   "source": [
    "print(len(true.claim_text.unique()))\n",
    "print(len(false.claim_text.unique()))"
   ]
  },
  {
   "cell_type": "code",
   "execution_count": 10,
   "metadata": {},
   "outputs": [],
   "source": [
    "true_text_list = true.claim_text.unique()\n",
    "false_text_list = false.claim_text.unique()"
   ]
  },
  {
   "source": [
    "Extra regex"
   ],
   "cell_type": "markdown",
   "metadata": {}
  },
  {
   "cell_type": "code",
   "execution_count": null,
   "metadata": {},
   "outputs": [],
   "source": []
  },
  {
   "cell_type": "code",
   "execution_count": 7,
   "metadata": {},
   "outputs": [],
   "source": [
    "def process_text(text):\n",
    "    res = remove_numbers(text)\n",
    "    res = remove_nonalpha(res)\n",
    "    res = remove_extra_spaces(res)\n",
    "    res = remove_urls(res)\n",
    "    res = remove_single_char(res)\n",
    "    return res"
   ]
  },
  {
   "cell_type": "code",
   "execution_count": 8,
   "metadata": {},
   "outputs": [
    {
     "output_type": "display_data",
     "data": {
      "text/plain": "  0%|          | 0/14085 [00:00<?, ?it/s]",
      "application/vnd.jupyter.widget-view+json": {
       "version_major": 2,
       "version_minor": 0,
       "model_id": "cdeae41795374465b7f5cf5a37249694"
      }
     },
     "metadata": {}
    },
    {
     "output_type": "display_data",
     "data": {
      "text/plain": "  0%|          | 0/11008 [00:00<?, ?it/s]",
      "application/vnd.jupyter.widget-view+json": {
       "version_major": 2,
       "version_minor": 0,
       "model_id": "5167cc82ba984821a9c4e4851b1d00c2"
      }
     },
     "metadata": {}
    }
   ],
   "source": [
    "\n",
    "processed_true_text = []\n",
    "\n",
    "for index, item in enumerate(notebook.tqdm(true_text_list)):\n",
    "    processed_true_text.append(process_text(item))\n",
    "\n",
    "\n",
    "processed_false_text = []\n",
    "\n",
    "for index, item in enumerate(notebook.tqdm(false_text_list)):\n",
    "    processed_false_text.append(process_text(item))\n",
    "\n",
    "        "
   ]
  },
  {
   "cell_type": "code",
   "execution_count": 9,
   "metadata": {},
   "outputs": [
    {
     "output_type": "display_data",
     "data": {
      "text/plain": "  0%|          | 0/11008 [00:00<?, ?it/s]",
      "application/vnd.jupyter.widget-view+json": {
       "version_major": 2,
       "version_minor": 0,
       "model_id": "c5c81876eaa749328160ce6e4533ffc6"
      }
     },
     "metadata": {}
    }
   ],
   "source": [
    "processed_texts_false = [text for text in notebook.tqdm(nlp.pipe(false_text_list, \n",
    "                                                n_process=-1, # maximum number of threads\n",
    "                                                disable=[\"ner\", \"parser\"]),\n",
    "                                                total=len(false_text_list))]"
   ]
  },
  {
   "cell_type": "code",
   "execution_count": 10,
   "metadata": {},
   "outputs": [
    {
     "output_type": "display_data",
     "data": {
      "text/plain": "  0%|          | 0/14085 [00:00<?, ?it/s]",
      "application/vnd.jupyter.widget-view+json": {
       "version_major": 2,
       "version_minor": 0,
       "model_id": "32001a4972014167b872df6c20a8540e"
      }
     },
     "metadata": {}
    }
   ],
   "source": [
    "processed_texts_true = [text for text in notebook.tqdm(nlp.pipe(processed_true_text, \n",
    "                                                n_process=-1, # maximum number of threads\n",
    "                                                disable=[\"ner\", \"parser\"]),\n",
    "                                                total=len(false_text_list))]"
   ]
  },
  {
   "cell_type": "code",
   "execution_count": 11,
   "metadata": {},
   "outputs": [
    {
     "output_type": "display_data",
     "data": {
      "text/plain": "  0%|          | 0/11008 [00:00<?, ?it/s]",
      "application/vnd.jupyter.widget-view+json": {
       "version_major": 2,
       "version_minor": 0,
       "model_id": "7d56da9bef00411a8682dac1cc0d4e3f"
      }
     },
     "metadata": {}
    }
   ],
   "source": [
    "tokenized_texts_false = [[word.lemma_ for word in lemma_ if not word.is_punct if not word.is_stop] for lemma_ in notebook.tqdm(processed_texts_false)]"
   ]
  },
  {
   "cell_type": "code",
   "execution_count": 12,
   "metadata": {},
   "outputs": [
    {
     "output_type": "display_data",
     "data": {
      "text/plain": "  0%|          | 0/14085 [00:00<?, ?it/s]",
      "application/vnd.jupyter.widget-view+json": {
       "version_major": 2,
       "version_minor": 0,
       "model_id": "d6bb9fa5dd4a4e8085c9477b5efd36f4"
      }
     },
     "metadata": {}
    }
   ],
   "source": [
    "tokenized_texts_true = [[word.lemma_ for word in lemma_ if not word.is_punct if not word.is_stop] for lemma_ in notebook.tqdm(processed_texts_true)]"
   ]
  },
  {
   "cell_type": "code",
   "execution_count": 32,
   "metadata": {},
   "outputs": [
    {
     "output_type": "display_data",
     "data": {
      "text/plain": "  0%|          | 0/11008 [00:00<?, ?it/s]",
      "application/vnd.jupyter.widget-view+json": {
       "version_major": 2,
       "version_minor": 0,
       "model_id": "30e829efae394492ae482ce0a9ebc1c2"
      }
     },
     "metadata": {}
    }
   ],
   "source": [
    "from gensim.corpora import Dictionary\n",
    "\n",
    "MIN_DF = 5 # minium document frequency\n",
    "MAX_DF = 0.5 # maximum document frequency\n",
    "\n",
    "dictionary_false = Dictionary(tokenized_texts_false) # get the vocabulary\n",
    "dictionary_false.filter_extremes(no_below=MIN_DF, no_above=MAX_DF)\n",
    "corpus_false = [dictionary_false.doc2bow(text) for text in notebook.tqdm(tokenized_texts_false)]"
   ]
  },
  {
   "cell_type": "code",
   "execution_count": 33,
   "metadata": {},
   "outputs": [
    {
     "output_type": "display_data",
     "data": {
      "text/plain": "  0%|          | 0/14085 [00:00<?, ?it/s]",
      "application/vnd.jupyter.widget-view+json": {
       "version_major": 2,
       "version_minor": 0,
       "model_id": "0c01ab96a431458f93755ae7bdac7475"
      }
     },
     "metadata": {}
    }
   ],
   "source": [
    "\n",
    "MIN_DF = 5 # minium document frequency\n",
    "MAX_DF = 0.5 # maximum document frequency\n",
    "\n",
    "dictionary_true = Dictionary(tokenized_texts_true) # get the vocabulary\n",
    "dictionary_true.filter_extremes(no_below=MIN_DF, \n",
    "                           no_above=MAX_DF)\n",
    "corpus_true = [dictionary_true.doc2bow(text) for text in notebook.tqdm(tokenized_texts_true)]"
   ]
  },
  {
   "cell_type": "code",
   "execution_count": 24,
   "metadata": {},
   "outputs": [],
   "source": []
  },
  {
   "cell_type": "code",
   "execution_count": 36,
   "metadata": {},
   "outputs": [],
   "source": [
    "N_TOPICS = 5\n",
    "N_ITERATIONS = 1000\n",
    "\n",
    "lda_true = LdaMulticore(\n",
    "                corpus=corpus_true,\n",
    "                id2word=dictionary_true,\n",
    "                num_topics=N_TOPICS,\n",
    "                iterations=N_ITERATIONS)\n",
    "                \n",
    "for topic in range(N_TOPICS):\n",
    "    words = lda_true.show_topic(topic, 10)\n",
    "    topic_n_words = ' '.join([word[0] for word in words])\n",
    "    print('Topic {}: {}'.format(str(topic), topic_n_words))"
   ]
  },
  {
   "cell_type": "code",
   "execution_count": 37,
   "metadata": {},
   "outputs": [
    {
     "output_type": "stream",
     "name": "stdout",
     "text": [
      "Topic 0:   New Season Awards year watch Star Taylor Baby Swift\nTopic 1:   say reveal Jenner Kardashian New year Baby Taylor give\nTopic 2:   reveal Baby Justin Kardashian Jennifer Prince Awards Meghan Harry\nTopic 3:   year say Meghan Trump Markle Kim Star Kardashian Prince\nTopic 4:   say New Kardashian reveal Kim get Prince Trump Jennifer\n"
     ]
    }
   ],
   "source": [
    "for topic in range(N_TOPICS):\n",
    "    words = lda_true.show_topic(topic, 10)\n",
    "    topic_n_words = ' '.join([word[0] for word in words])\n",
    "    print('Topic {}: {}'.format(str(topic), topic_n_words))"
   ]
  },
  {
   "cell_type": "code",
   "execution_count": 28,
   "metadata": {},
   "outputs": [],
   "source": [
    "from gensim.models import LdaMulticore\n",
    "\n",
    "PATH_TO_MALLET = 'mallet-2.0.8/bin/mallet'\n",
    "N_TOPICS = 30\n",
    "N_ITERATIONS = 1000\n",
    "\n",
    "lda_false = LdaMulticore(\n",
    "                corpus=corpus_false,\n",
    "                id2word=dictionary_false,\n",
    "                num_topics=N_TOPICS,\n",
    "                iterations=N_ITERATIONS)"
   ]
  },
  {
   "cell_type": "code",
   "execution_count": 38,
   "metadata": {},
   "outputs": [],
   "source": [
    "from gensim.models.coherencemodel import CoherenceModel"
   ]
  },
  {
   "cell_type": "code",
   "execution_count": 67,
   "metadata": {},
   "outputs": [],
   "source": [
    "dictionary = Dictionary(tokenized_texts_false) # get the vocabulary\n",
    "dictionary.filter_extremes(no_below=5, no_above=0.5)\n",
    "corpus = [dictionary.doc2bow(text) for text in tokenized_texts_false]\n",
    "model = LdaMulticore(corpus=corpus, num_topics=5, id2word=dictionary, alpha = 0.1, iterations = 400)\n",
    "coherencemodel = CoherenceModel(model=model, texts=tokenized_texts_false, dictionary=dictionary, coherence='c_v', topn=3)"
   ]
  },
  {
   "cell_type": "code",
   "execution_count": 6,
   "metadata": {},
   "outputs": [],
   "source": [
    "from gensim.models import Phrases\n",
    "def make_n_grams(docs):\n",
    "    # Add bigrams and trigrams to docs (only ones that appear 20 times or more).\n",
    "    bigram = Phrases(docs, min_count=1)\n",
    "    for idx in range(len(docs)):\n",
    "        for token in bigram[docs[idx]]:\n",
    "            if '_' in token:\n",
    "                # Token is a bigram, add to document.\n",
    "                docs[idx].append(token)\n",
    "    return docs"
   ]
  },
  {
   "cell_type": "code",
   "execution_count": 115,
   "metadata": {},
   "outputs": [],
   "source": [
    "def pre_processer_fake(corpus):\n",
    "    corpus = [text.lower() for text in corpus]\n",
    "    corpus = [remove_urls(text) for text in corpus]\n",
    "    corpus = [remove_numbers(text) for text in corpus]\n",
    "    corpus = [remove_emojis(text) for text in corpus]\n",
    "    corpus = [remove_nonalpha(text) for text in corpus]\n",
    "    # corpus = [remove_special_names(text) for text in corpus]\n",
    "    corpus = [remove_single_char(text) for text in corpus]\n",
    "    corpus = [text.encode(\"ascii\", \"ignore\") for text in corpus]\n",
    "    corpus = [text.decode() for text in corpus]\n",
    "    corpus = [remove_extra_spaces(text) for text in corpus]\n",
    "\n",
    "    corpus = strip_list_noempty(corpus)\n",
    "\n",
    "    processed_texts = [text for text in nlp.pipe(corpus,  disable=[\"ner\", \"parser\"])]\n",
    "    tokenized_texts = [[word.lemma_ for word in lemma_ if not word.is_punct if not word.is_stop] for lemma_ in notebook.tqdm(processed_texts)]\n",
    "    tokenized_texts = make_n_grams(tokenized_texts)\n",
    "\n",
    "    flatten = lambda t: [item for sublist in t for item in sublist]\n",
    "    flat_fake = flatten(tokenized_texts)\n",
    "    counts = Counter(flat_fake)\n",
    "    total_words = sum(counts.values()) \n",
    "    for word in counts:\n",
    "        counts[word] = counts[word] #* (10000) / total_words\n",
    "    return counts, counts.most_common(), flat_fake, tokenized_texts"
   ]
  },
  {
   "cell_type": "code",
   "execution_count": 116,
   "metadata": {
    "tags": []
   },
   "outputs": [
    {
     "output_type": "display_data",
     "data": {
      "text/plain": "  0%|          | 0/11008 [00:00<?, ?it/s]",
      "application/vnd.jupyter.widget-view+json": {
       "version_major": 2,
       "version_minor": 0,
       "model_id": "88138176215840299989f89035c38bff"
      }
     },
     "metadata": {}
    }
   ],
   "source": [
    "fake = pre_processer_fake(false_text_list)"
   ]
  },
  {
   "cell_type": "code",
   "execution_count": 117,
   "metadata": {},
   "outputs": [],
   "source": [
    "counts_fake, common_fake, flat_fake, tokenized_texts_fake = fake"
   ]
  },
  {
   "cell_type": "code",
   "execution_count": 118,
   "metadata": {},
   "outputs": [
    {
     "output_type": "execute_result",
     "data": {
      "text/plain": [
       "[('trump', 974),\n",
       " ('say', 858),\n",
       " ('obama', 466),\n",
       " ('president', 456),\n",
       " ('year', 415),\n",
       " ('new', 396),\n",
       " ('clinton', 365),\n",
       " ('man', 355),\n",
       " ('kardashian', 343),\n",
       " ('state', 330),\n",
       " ('donald', 319),\n",
       " ('jennifer', 313),\n",
       " ('nt', 285),\n",
       " ('woman', 282),\n",
       " ('jenner', 276),\n",
       " ('donald_trump', 269),\n",
       " ('brad', 265),\n",
       " ('report', 262),\n",
       " ('justin', 257),\n",
       " ('people', 255)]"
      ]
     },
     "metadata": {},
     "execution_count": 118
    }
   ],
   "source": [
    "common_fake[:20]"
   ]
  },
  {
   "cell_type": "code",
   "execution_count": 119,
   "metadata": {},
   "outputs": [
    {
     "output_type": "display_data",
     "data": {
      "text/plain": "<Figure size 432x288 with 1 Axes>",
      "image/svg+xml": "<?xml version=\"1.0\" encoding=\"utf-8\" standalone=\"no\"?>\n<!DOCTYPE svg PUBLIC \"-//W3C//DTD SVG 1.1//EN\"\n  \"http://www.w3.org/Graphics/SVG/1.1/DTD/svg11.dtd\">\n<svg height=\"348.383125pt\" version=\"1.1\" viewBox=\"0 0 395.328125 348.383125\" width=\"395.328125pt\" xmlns=\"http://www.w3.org/2000/svg\" xmlns:xlink=\"http://www.w3.org/1999/xlink\">\n <metadata>\n  <rdf:RDF xmlns:cc=\"http://creativecommons.org/ns#\" xmlns:dc=\"http://purl.org/dc/elements/1.1/\" xmlns:rdf=\"http://www.w3.org/1999/02/22-rdf-syntax-ns#\">\n   <cc:Work>\n    <dc:type rdf:resource=\"http://purl.org/dc/dcmitype/StillImage\"/>\n    <dc:date>2021-06-13T13:32:08.814908</dc:date>\n    <dc:format>image/svg+xml</dc:format>\n    <dc:creator>\n     <cc:Agent>\n      <dc:title>Matplotlib v3.4.2, https://matplotlib.org/</dc:title>\n     </cc:Agent>\n    </dc:creator>\n   </cc:Work>\n  </rdf:RDF>\n </metadata>\n <defs>\n  <style type=\"text/css\">*{stroke-linecap:butt;stroke-linejoin:round;}</style>\n </defs>\n <g id=\"figure_1\">\n  <g id=\"patch_1\">\n   <path d=\"M 0 348.383125 \nL 395.328125 348.383125 \nL 395.328125 0 \nL 0 0 \nz\n\" style=\"fill:none;\"/>\n  </g>\n  <g id=\"axes_1\">\n   <g id=\"patch_2\">\n    <path d=\"M 53.328125 239.758125 \nL 388.128125 239.758125 \nL 388.128125 22.318125 \nL 53.328125 22.318125 \nz\n\" style=\"fill:#ffffff;\"/>\n   </g>\n   <g id=\"matplotlib.axis_1\">\n    <g id=\"xtick_1\">\n     <g id=\"line2d_1\">\n      <path clip-path=\"url(#paba0ad55b7)\" d=\"M 68.546307 239.758125 \nL 68.546307 22.318125 \n\" style=\"fill:none;stroke:#c0c0c0;stroke-linecap:square;stroke-width:0.8;\"/>\n     </g>\n     <g id=\"line2d_2\">\n      <defs>\n       <path d=\"M 0 0 \nL 0 3.5 \n\" id=\"mb05f71a864\" style=\"stroke:#000000;stroke-width:0.8;\"/>\n      </defs>\n      <g>\n       <use style=\"stroke:#000000;stroke-width:0.8;\" x=\"68.546307\" xlink:href=\"#mb05f71a864\" y=\"239.758125\"/>\n      </g>\n     </g>\n     <g id=\"text_1\">\n      <!-- trump -->\n      <g transform=\"translate(71.305682 277.215937)rotate(-90)scale(0.1 -0.1)\">\n       <defs>\n        <path d=\"M 1172 4494 \nL 1172 3500 \nL 2356 3500 \nL 2356 3053 \nL 1172 3053 \nL 1172 1153 \nQ 1172 725 1289 603 \nQ 1406 481 1766 481 \nL 2356 481 \nL 2356 0 \nL 1766 0 \nQ 1100 0 847 248 \nQ 594 497 594 1153 \nL 594 3053 \nL 172 3053 \nL 172 3500 \nL 594 3500 \nL 594 4494 \nL 1172 4494 \nz\n\" id=\"DejaVuSans-74\" transform=\"scale(0.015625)\"/>\n        <path d=\"M 2631 2963 \nQ 2534 3019 2420 3045 \nQ 2306 3072 2169 3072 \nQ 1681 3072 1420 2755 \nQ 1159 2438 1159 1844 \nL 1159 0 \nL 581 0 \nL 581 3500 \nL 1159 3500 \nL 1159 2956 \nQ 1341 3275 1631 3429 \nQ 1922 3584 2338 3584 \nQ 2397 3584 2469 3576 \nQ 2541 3569 2628 3553 \nL 2631 2963 \nz\n\" id=\"DejaVuSans-72\" transform=\"scale(0.015625)\"/>\n        <path d=\"M 544 1381 \nL 544 3500 \nL 1119 3500 \nL 1119 1403 \nQ 1119 906 1312 657 \nQ 1506 409 1894 409 \nQ 2359 409 2629 706 \nQ 2900 1003 2900 1516 \nL 2900 3500 \nL 3475 3500 \nL 3475 0 \nL 2900 0 \nL 2900 538 \nQ 2691 219 2414 64 \nQ 2138 -91 1772 -91 \nQ 1169 -91 856 284 \nQ 544 659 544 1381 \nz\nM 1991 3584 \nL 1991 3584 \nz\n\" id=\"DejaVuSans-75\" transform=\"scale(0.015625)\"/>\n        <path d=\"M 3328 2828 \nQ 3544 3216 3844 3400 \nQ 4144 3584 4550 3584 \nQ 5097 3584 5394 3201 \nQ 5691 2819 5691 2113 \nL 5691 0 \nL 5113 0 \nL 5113 2094 \nQ 5113 2597 4934 2840 \nQ 4756 3084 4391 3084 \nQ 3944 3084 3684 2787 \nQ 3425 2491 3425 1978 \nL 3425 0 \nL 2847 0 \nL 2847 2094 \nQ 2847 2600 2669 2842 \nQ 2491 3084 2119 3084 \nQ 1678 3084 1418 2786 \nQ 1159 2488 1159 1978 \nL 1159 0 \nL 581 0 \nL 581 3500 \nL 1159 3500 \nL 1159 2956 \nQ 1356 3278 1631 3431 \nQ 1906 3584 2284 3584 \nQ 2666 3584 2933 3390 \nQ 3200 3197 3328 2828 \nz\n\" id=\"DejaVuSans-6d\" transform=\"scale(0.015625)\"/>\n        <path d=\"M 1159 525 \nL 1159 -1331 \nL 581 -1331 \nL 581 3500 \nL 1159 3500 \nL 1159 2969 \nQ 1341 3281 1617 3432 \nQ 1894 3584 2278 3584 \nQ 2916 3584 3314 3078 \nQ 3713 2572 3713 1747 \nQ 3713 922 3314 415 \nQ 2916 -91 2278 -91 \nQ 1894 -91 1617 61 \nQ 1341 213 1159 525 \nz\nM 3116 1747 \nQ 3116 2381 2855 2742 \nQ 2594 3103 2138 3103 \nQ 1681 3103 1420 2742 \nQ 1159 2381 1159 1747 \nQ 1159 1113 1420 752 \nQ 1681 391 2138 391 \nQ 2594 391 2855 752 \nQ 3116 1113 3116 1747 \nz\n\" id=\"DejaVuSans-70\" transform=\"scale(0.015625)\"/>\n       </defs>\n       <use xlink:href=\"#DejaVuSans-74\"/>\n       <use x=\"39.208984\" xlink:href=\"#DejaVuSans-72\"/>\n       <use x=\"80.322266\" xlink:href=\"#DejaVuSans-75\"/>\n       <use x=\"143.701172\" xlink:href=\"#DejaVuSans-6d\"/>\n       <use x=\"241.113281\" xlink:href=\"#DejaVuSans-70\"/>\n      </g>\n     </g>\n    </g>\n    <g id=\"xtick_2\">\n     <g id=\"line2d_3\">\n      <path clip-path=\"url(#paba0ad55b7)\" d=\"M 72.957374 239.758125 \nL 72.957374 22.318125 \n\" style=\"fill:none;stroke:#c0c0c0;stroke-linecap:square;stroke-width:0.8;\"/>\n     </g>\n     <g id=\"line2d_4\">\n      <g>\n       <use style=\"stroke:#000000;stroke-width:0.8;\" x=\"72.957374\" xlink:href=\"#mb05f71a864\" y=\"239.758125\"/>\n      </g>\n     </g>\n     <g id=\"text_2\">\n      <!-- say -->\n      <g transform=\"translate(75.716749 264.014375)rotate(-90)scale(0.1 -0.1)\">\n       <defs>\n        <path d=\"M 2834 3397 \nL 2834 2853 \nQ 2591 2978 2328 3040 \nQ 2066 3103 1784 3103 \nQ 1356 3103 1142 2972 \nQ 928 2841 928 2578 \nQ 928 2378 1081 2264 \nQ 1234 2150 1697 2047 \nL 1894 2003 \nQ 2506 1872 2764 1633 \nQ 3022 1394 3022 966 \nQ 3022 478 2636 193 \nQ 2250 -91 1575 -91 \nQ 1294 -91 989 -36 \nQ 684 19 347 128 \nL 347 722 \nQ 666 556 975 473 \nQ 1284 391 1588 391 \nQ 1994 391 2212 530 \nQ 2431 669 2431 922 \nQ 2431 1156 2273 1281 \nQ 2116 1406 1581 1522 \nL 1381 1569 \nQ 847 1681 609 1914 \nQ 372 2147 372 2553 \nQ 372 3047 722 3315 \nQ 1072 3584 1716 3584 \nQ 2034 3584 2315 3537 \nQ 2597 3491 2834 3397 \nz\n\" id=\"DejaVuSans-73\" transform=\"scale(0.015625)\"/>\n        <path d=\"M 2194 1759 \nQ 1497 1759 1228 1600 \nQ 959 1441 959 1056 \nQ 959 750 1161 570 \nQ 1363 391 1709 391 \nQ 2188 391 2477 730 \nQ 2766 1069 2766 1631 \nL 2766 1759 \nL 2194 1759 \nz\nM 3341 1997 \nL 3341 0 \nL 2766 0 \nL 2766 531 \nQ 2569 213 2275 61 \nQ 1981 -91 1556 -91 \nQ 1019 -91 701 211 \nQ 384 513 384 1019 \nQ 384 1609 779 1909 \nQ 1175 2209 1959 2209 \nL 2766 2209 \nL 2766 2266 \nQ 2766 2663 2505 2880 \nQ 2244 3097 1772 3097 \nQ 1472 3097 1187 3025 \nQ 903 2953 641 2809 \nL 641 3341 \nQ 956 3463 1253 3523 \nQ 1550 3584 1831 3584 \nQ 2591 3584 2966 3190 \nQ 3341 2797 3341 1997 \nz\n\" id=\"DejaVuSans-61\" transform=\"scale(0.015625)\"/>\n        <path d=\"M 2059 -325 \nQ 1816 -950 1584 -1140 \nQ 1353 -1331 966 -1331 \nL 506 -1331 \nL 506 -850 \nL 844 -850 \nQ 1081 -850 1212 -737 \nQ 1344 -625 1503 -206 \nL 1606 56 \nL 191 3500 \nL 800 3500 \nL 1894 763 \nL 2988 3500 \nL 3597 3500 \nL 2059 -325 \nz\n\" id=\"DejaVuSans-79\" transform=\"scale(0.015625)\"/>\n       </defs>\n       <use xlink:href=\"#DejaVuSans-73\"/>\n       <use x=\"52.099609\" xlink:href=\"#DejaVuSans-61\"/>\n       <use x=\"113.378906\" xlink:href=\"#DejaVuSans-79\"/>\n      </g>\n     </g>\n    </g>\n    <g id=\"xtick_3\">\n     <g id=\"line2d_5\">\n      <path clip-path=\"url(#paba0ad55b7)\" d=\"M 77.368441 239.758125 \nL 77.368441 22.318125 \n\" style=\"fill:none;stroke:#c0c0c0;stroke-linecap:square;stroke-width:0.8;\"/>\n     </g>\n     <g id=\"line2d_6\">\n      <g>\n       <use style=\"stroke:#000000;stroke-width:0.8;\" x=\"77.368441\" xlink:href=\"#mb05f71a864\" y=\"239.758125\"/>\n      </g>\n     </g>\n     <g id=\"text_3\">\n      <!-- obama -->\n      <g transform=\"translate(80.127816 281.222188)rotate(-90)scale(0.1 -0.1)\">\n       <defs>\n        <path d=\"M 1959 3097 \nQ 1497 3097 1228 2736 \nQ 959 2375 959 1747 \nQ 959 1119 1226 758 \nQ 1494 397 1959 397 \nQ 2419 397 2687 759 \nQ 2956 1122 2956 1747 \nQ 2956 2369 2687 2733 \nQ 2419 3097 1959 3097 \nz\nM 1959 3584 \nQ 2709 3584 3137 3096 \nQ 3566 2609 3566 1747 \nQ 3566 888 3137 398 \nQ 2709 -91 1959 -91 \nQ 1206 -91 779 398 \nQ 353 888 353 1747 \nQ 353 2609 779 3096 \nQ 1206 3584 1959 3584 \nz\n\" id=\"DejaVuSans-6f\" transform=\"scale(0.015625)\"/>\n        <path d=\"M 3116 1747 \nQ 3116 2381 2855 2742 \nQ 2594 3103 2138 3103 \nQ 1681 3103 1420 2742 \nQ 1159 2381 1159 1747 \nQ 1159 1113 1420 752 \nQ 1681 391 2138 391 \nQ 2594 391 2855 752 \nQ 3116 1113 3116 1747 \nz\nM 1159 2969 \nQ 1341 3281 1617 3432 \nQ 1894 3584 2278 3584 \nQ 2916 3584 3314 3078 \nQ 3713 2572 3713 1747 \nQ 3713 922 3314 415 \nQ 2916 -91 2278 -91 \nQ 1894 -91 1617 61 \nQ 1341 213 1159 525 \nL 1159 0 \nL 581 0 \nL 581 4863 \nL 1159 4863 \nL 1159 2969 \nz\n\" id=\"DejaVuSans-62\" transform=\"scale(0.015625)\"/>\n       </defs>\n       <use xlink:href=\"#DejaVuSans-6f\"/>\n       <use x=\"61.181641\" xlink:href=\"#DejaVuSans-62\"/>\n       <use x=\"124.658203\" xlink:href=\"#DejaVuSans-61\"/>\n       <use x=\"185.9375\" xlink:href=\"#DejaVuSans-6d\"/>\n       <use x=\"283.349609\" xlink:href=\"#DejaVuSans-61\"/>\n      </g>\n     </g>\n    </g>\n    <g id=\"xtick_4\">\n     <g id=\"line2d_7\">\n      <path clip-path=\"url(#paba0ad55b7)\" d=\"M 81.779508 239.758125 \nL 81.779508 22.318125 \n\" style=\"fill:none;stroke:#c0c0c0;stroke-linecap:square;stroke-width:0.8;\"/>\n     </g>\n     <g id=\"line2d_8\">\n      <g>\n       <use style=\"stroke:#000000;stroke-width:0.8;\" x=\"81.779508\" xlink:href=\"#mb05f71a864\" y=\"239.758125\"/>\n      </g>\n     </g>\n     <g id=\"text_4\">\n      <!-- president -->\n      <g transform=\"translate(84.538883 293.8925)rotate(-90)scale(0.1 -0.1)\">\n       <defs>\n        <path d=\"M 3597 1894 \nL 3597 1613 \nL 953 1613 \nQ 991 1019 1311 708 \nQ 1631 397 2203 397 \nQ 2534 397 2845 478 \nQ 3156 559 3463 722 \nL 3463 178 \nQ 3153 47 2828 -22 \nQ 2503 -91 2169 -91 \nQ 1331 -91 842 396 \nQ 353 884 353 1716 \nQ 353 2575 817 3079 \nQ 1281 3584 2069 3584 \nQ 2775 3584 3186 3129 \nQ 3597 2675 3597 1894 \nz\nM 3022 2063 \nQ 3016 2534 2758 2815 \nQ 2500 3097 2075 3097 \nQ 1594 3097 1305 2825 \nQ 1016 2553 972 2059 \nL 3022 2063 \nz\n\" id=\"DejaVuSans-65\" transform=\"scale(0.015625)\"/>\n        <path d=\"M 603 3500 \nL 1178 3500 \nL 1178 0 \nL 603 0 \nL 603 3500 \nz\nM 603 4863 \nL 1178 4863 \nL 1178 4134 \nL 603 4134 \nL 603 4863 \nz\n\" id=\"DejaVuSans-69\" transform=\"scale(0.015625)\"/>\n        <path d=\"M 2906 2969 \nL 2906 4863 \nL 3481 4863 \nL 3481 0 \nL 2906 0 \nL 2906 525 \nQ 2725 213 2448 61 \nQ 2172 -91 1784 -91 \nQ 1150 -91 751 415 \nQ 353 922 353 1747 \nQ 353 2572 751 3078 \nQ 1150 3584 1784 3584 \nQ 2172 3584 2448 3432 \nQ 2725 3281 2906 2969 \nz\nM 947 1747 \nQ 947 1113 1208 752 \nQ 1469 391 1925 391 \nQ 2381 391 2643 752 \nQ 2906 1113 2906 1747 \nQ 2906 2381 2643 2742 \nQ 2381 3103 1925 3103 \nQ 1469 3103 1208 2742 \nQ 947 2381 947 1747 \nz\n\" id=\"DejaVuSans-64\" transform=\"scale(0.015625)\"/>\n        <path d=\"M 3513 2113 \nL 3513 0 \nL 2938 0 \nL 2938 2094 \nQ 2938 2591 2744 2837 \nQ 2550 3084 2163 3084 \nQ 1697 3084 1428 2787 \nQ 1159 2491 1159 1978 \nL 1159 0 \nL 581 0 \nL 581 3500 \nL 1159 3500 \nL 1159 2956 \nQ 1366 3272 1645 3428 \nQ 1925 3584 2291 3584 \nQ 2894 3584 3203 3211 \nQ 3513 2838 3513 2113 \nz\n\" id=\"DejaVuSans-6e\" transform=\"scale(0.015625)\"/>\n       </defs>\n       <use xlink:href=\"#DejaVuSans-70\"/>\n       <use x=\"63.476562\" xlink:href=\"#DejaVuSans-72\"/>\n       <use x=\"102.339844\" xlink:href=\"#DejaVuSans-65\"/>\n       <use x=\"163.863281\" xlink:href=\"#DejaVuSans-73\"/>\n       <use x=\"215.962891\" xlink:href=\"#DejaVuSans-69\"/>\n       <use x=\"243.746094\" xlink:href=\"#DejaVuSans-64\"/>\n       <use x=\"307.222656\" xlink:href=\"#DejaVuSans-65\"/>\n       <use x=\"368.746094\" xlink:href=\"#DejaVuSans-6e\"/>\n       <use x=\"432.125\" xlink:href=\"#DejaVuSans-74\"/>\n      </g>\n     </g>\n    </g>\n    <g id=\"xtick_5\">\n     <g id=\"line2d_9\">\n      <path clip-path=\"url(#paba0ad55b7)\" d=\"M 86.190576 239.758125 \nL 86.190576 22.318125 \n\" style=\"fill:none;stroke:#c0c0c0;stroke-linecap:square;stroke-width:0.8;\"/>\n     </g>\n     <g id=\"line2d_10\">\n      <g>\n       <use style=\"stroke:#000000;stroke-width:0.8;\" x=\"86.190576\" xlink:href=\"#mb05f71a864\" y=\"239.758125\"/>\n      </g>\n     </g>\n     <g id=\"text_5\">\n      <!-- year -->\n      <g transform=\"translate(88.949951 269.069062)rotate(-90)scale(0.1 -0.1)\">\n       <use xlink:href=\"#DejaVuSans-79\"/>\n       <use x=\"59.179688\" xlink:href=\"#DejaVuSans-65\"/>\n       <use x=\"120.703125\" xlink:href=\"#DejaVuSans-61\"/>\n       <use x=\"181.982422\" xlink:href=\"#DejaVuSans-72\"/>\n      </g>\n     </g>\n    </g>\n    <g id=\"xtick_6\">\n     <g id=\"line2d_11\">\n      <path clip-path=\"url(#paba0ad55b7)\" d=\"M 90.601643 239.758125 \nL 90.601643 22.318125 \n\" style=\"fill:none;stroke:#c0c0c0;stroke-linecap:square;stroke-width:0.8;\"/>\n     </g>\n     <g id=\"line2d_12\">\n      <g>\n       <use style=\"stroke:#000000;stroke-width:0.8;\" x=\"90.601643\" xlink:href=\"#mb05f71a864\" y=\"239.758125\"/>\n      </g>\n     </g>\n     <g id=\"text_6\">\n      <!-- new -->\n      <g transform=\"translate(93.361018 267.426875)rotate(-90)scale(0.1 -0.1)\">\n       <defs>\n        <path d=\"M 269 3500 \nL 844 3500 \nL 1563 769 \nL 2278 3500 \nL 2956 3500 \nL 3675 769 \nL 4391 3500 \nL 4966 3500 \nL 4050 0 \nL 3372 0 \nL 2619 2869 \nL 1863 0 \nL 1184 0 \nL 269 3500 \nz\n\" id=\"DejaVuSans-77\" transform=\"scale(0.015625)\"/>\n       </defs>\n       <use xlink:href=\"#DejaVuSans-6e\"/>\n       <use x=\"63.378906\" xlink:href=\"#DejaVuSans-65\"/>\n       <use x=\"124.902344\" xlink:href=\"#DejaVuSans-77\"/>\n      </g>\n     </g>\n    </g>\n    <g id=\"xtick_7\">\n     <g id=\"line2d_13\">\n      <path clip-path=\"url(#paba0ad55b7)\" d=\"M 95.01271 239.758125 \nL 95.01271 22.318125 \n\" style=\"fill:none;stroke:#c0c0c0;stroke-linecap:square;stroke-width:0.8;\"/>\n     </g>\n     <g id=\"line2d_14\">\n      <g>\n       <use style=\"stroke:#000000;stroke-width:0.8;\" x=\"95.01271\" xlink:href=\"#mb05f71a864\" y=\"239.758125\"/>\n      </g>\n     </g>\n     <g id=\"text_7\">\n      <!-- clinton -->\n      <g transform=\"translate(97.772085 280.526875)rotate(-90)scale(0.1 -0.1)\">\n       <defs>\n        <path d=\"M 3122 3366 \nL 3122 2828 \nQ 2878 2963 2633 3030 \nQ 2388 3097 2138 3097 \nQ 1578 3097 1268 2742 \nQ 959 2388 959 1747 \nQ 959 1106 1268 751 \nQ 1578 397 2138 397 \nQ 2388 397 2633 464 \nQ 2878 531 3122 666 \nL 3122 134 \nQ 2881 22 2623 -34 \nQ 2366 -91 2075 -91 \nQ 1284 -91 818 406 \nQ 353 903 353 1747 \nQ 353 2603 823 3093 \nQ 1294 3584 2113 3584 \nQ 2378 3584 2631 3529 \nQ 2884 3475 3122 3366 \nz\n\" id=\"DejaVuSans-63\" transform=\"scale(0.015625)\"/>\n        <path d=\"M 603 4863 \nL 1178 4863 \nL 1178 0 \nL 603 0 \nL 603 4863 \nz\n\" id=\"DejaVuSans-6c\" transform=\"scale(0.015625)\"/>\n       </defs>\n       <use xlink:href=\"#DejaVuSans-63\"/>\n       <use x=\"54.980469\" xlink:href=\"#DejaVuSans-6c\"/>\n       <use x=\"82.763672\" xlink:href=\"#DejaVuSans-69\"/>\n       <use x=\"110.546875\" xlink:href=\"#DejaVuSans-6e\"/>\n       <use x=\"173.925781\" xlink:href=\"#DejaVuSans-74\"/>\n       <use x=\"213.134766\" xlink:href=\"#DejaVuSans-6f\"/>\n       <use x=\"274.316406\" xlink:href=\"#DejaVuSans-6e\"/>\n      </g>\n     </g>\n    </g>\n    <g id=\"xtick_8\">\n     <g id=\"line2d_15\">\n      <path clip-path=\"url(#paba0ad55b7)\" d=\"M 99.423777 239.758125 \nL 99.423777 22.318125 \n\" style=\"fill:none;stroke:#c0c0c0;stroke-linecap:square;stroke-width:0.8;\"/>\n     </g>\n     <g id=\"line2d_16\">\n      <g>\n       <use style=\"stroke:#000000;stroke-width:0.8;\" x=\"99.423777\" xlink:href=\"#mb05f71a864\" y=\"239.758125\"/>\n      </g>\n     </g>\n     <g id=\"text_8\">\n      <!-- man -->\n      <g transform=\"translate(102.183152 268.964375)rotate(-90)scale(0.1 -0.1)\">\n       <use xlink:href=\"#DejaVuSans-6d\"/>\n       <use x=\"97.412109\" xlink:href=\"#DejaVuSans-61\"/>\n       <use x=\"158.691406\" xlink:href=\"#DejaVuSans-6e\"/>\n      </g>\n     </g>\n    </g>\n    <g id=\"xtick_9\">\n     <g id=\"line2d_17\">\n      <path clip-path=\"url(#paba0ad55b7)\" d=\"M 103.834844 239.758125 \nL 103.834844 22.318125 \n\" style=\"fill:none;stroke:#c0c0c0;stroke-linecap:square;stroke-width:0.8;\"/>\n     </g>\n     <g id=\"line2d_18\">\n      <g>\n       <use style=\"stroke:#000000;stroke-width:0.8;\" x=\"103.834844\" xlink:href=\"#mb05f71a864\" y=\"239.758125\"/>\n      </g>\n     </g>\n     <g id=\"text_9\">\n      <!-- kardashian -->\n      <g transform=\"translate(106.594219 301.705)rotate(-90)scale(0.1 -0.1)\">\n       <defs>\n        <path d=\"M 581 4863 \nL 1159 4863 \nL 1159 1991 \nL 2875 3500 \nL 3609 3500 \nL 1753 1863 \nL 3688 0 \nL 2938 0 \nL 1159 1709 \nL 1159 0 \nL 581 0 \nL 581 4863 \nz\n\" id=\"DejaVuSans-6b\" transform=\"scale(0.015625)\"/>\n        <path d=\"M 3513 2113 \nL 3513 0 \nL 2938 0 \nL 2938 2094 \nQ 2938 2591 2744 2837 \nQ 2550 3084 2163 3084 \nQ 1697 3084 1428 2787 \nQ 1159 2491 1159 1978 \nL 1159 0 \nL 581 0 \nL 581 4863 \nL 1159 4863 \nL 1159 2956 \nQ 1366 3272 1645 3428 \nQ 1925 3584 2291 3584 \nQ 2894 3584 3203 3211 \nQ 3513 2838 3513 2113 \nz\n\" id=\"DejaVuSans-68\" transform=\"scale(0.015625)\"/>\n       </defs>\n       <use xlink:href=\"#DejaVuSans-6b\"/>\n       <use x=\"56.160156\" xlink:href=\"#DejaVuSans-61\"/>\n       <use x=\"117.439453\" xlink:href=\"#DejaVuSans-72\"/>\n       <use x=\"156.802734\" xlink:href=\"#DejaVuSans-64\"/>\n       <use x=\"220.279297\" xlink:href=\"#DejaVuSans-61\"/>\n       <use x=\"281.558594\" xlink:href=\"#DejaVuSans-73\"/>\n       <use x=\"333.658203\" xlink:href=\"#DejaVuSans-68\"/>\n       <use x=\"397.037109\" xlink:href=\"#DejaVuSans-69\"/>\n       <use x=\"424.820312\" xlink:href=\"#DejaVuSans-61\"/>\n       <use x=\"486.099609\" xlink:href=\"#DejaVuSans-6e\"/>\n      </g>\n     </g>\n    </g>\n    <g id=\"xtick_10\">\n     <g id=\"line2d_19\">\n      <path clip-path=\"url(#paba0ad55b7)\" d=\"M 108.245912 239.758125 \nL 108.245912 22.318125 \n\" style=\"fill:none;stroke:#c0c0c0;stroke-linecap:square;stroke-width:0.8;\"/>\n     </g>\n     <g id=\"line2d_20\">\n      <g>\n       <use style=\"stroke:#000000;stroke-width:0.8;\" x=\"108.245912\" xlink:href=\"#mb05f71a864\" y=\"239.758125\"/>\n      </g>\n     </g>\n     <g id=\"text_10\">\n      <!-- state -->\n      <g transform=\"translate(111.005287 272.089375)rotate(-90)scale(0.1 -0.1)\">\n       <use xlink:href=\"#DejaVuSans-73\"/>\n       <use x=\"52.099609\" xlink:href=\"#DejaVuSans-74\"/>\n       <use x=\"91.308594\" xlink:href=\"#DejaVuSans-61\"/>\n       <use x=\"152.587891\" xlink:href=\"#DejaVuSans-74\"/>\n       <use x=\"191.796875\" xlink:href=\"#DejaVuSans-65\"/>\n      </g>\n     </g>\n    </g>\n    <g id=\"xtick_11\">\n     <g id=\"line2d_21\">\n      <path clip-path=\"url(#paba0ad55b7)\" d=\"M 112.656979 239.758125 \nL 112.656979 22.318125 \n\" style=\"fill:none;stroke:#c0c0c0;stroke-linecap:square;stroke-width:0.8;\"/>\n     </g>\n     <g id=\"line2d_22\">\n      <g>\n       <use style=\"stroke:#000000;stroke-width:0.8;\" x=\"112.656979\" xlink:href=\"#mb05f71a864\" y=\"239.758125\"/>\n      </g>\n     </g>\n     <g id=\"text_11\">\n      <!-- donald -->\n      <g transform=\"translate(115.416354 280.8175)rotate(-90)scale(0.1 -0.1)\">\n       <use xlink:href=\"#DejaVuSans-64\"/>\n       <use x=\"63.476562\" xlink:href=\"#DejaVuSans-6f\"/>\n       <use x=\"124.658203\" xlink:href=\"#DejaVuSans-6e\"/>\n       <use x=\"188.037109\" xlink:href=\"#DejaVuSans-61\"/>\n       <use x=\"249.316406\" xlink:href=\"#DejaVuSans-6c\"/>\n       <use x=\"277.099609\" xlink:href=\"#DejaVuSans-64\"/>\n      </g>\n     </g>\n    </g>\n    <g id=\"xtick_12\">\n     <g id=\"line2d_23\">\n      <path clip-path=\"url(#paba0ad55b7)\" d=\"M 117.068046 239.758125 \nL 117.068046 22.318125 \n\" style=\"fill:none;stroke:#c0c0c0;stroke-linecap:square;stroke-width:0.8;\"/>\n     </g>\n     <g id=\"line2d_24\">\n      <g>\n       <use style=\"stroke:#000000;stroke-width:0.8;\" x=\"117.068046\" xlink:href=\"#mb05f71a864\" y=\"239.758125\"/>\n      </g>\n     </g>\n     <g id=\"text_12\">\n      <!-- jennifer -->\n      <g transform=\"translate(119.827421 284.926875)rotate(-90)scale(0.1 -0.1)\">\n       <defs>\n        <path d=\"M 603 3500 \nL 1178 3500 \nL 1178 -63 \nQ 1178 -731 923 -1031 \nQ 669 -1331 103 -1331 \nL -116 -1331 \nL -116 -844 \nL 38 -844 \nQ 366 -844 484 -692 \nQ 603 -541 603 -63 \nL 603 3500 \nz\nM 603 4863 \nL 1178 4863 \nL 1178 4134 \nL 603 4134 \nL 603 4863 \nz\n\" id=\"DejaVuSans-6a\" transform=\"scale(0.015625)\"/>\n        <path d=\"M 2375 4863 \nL 2375 4384 \nL 1825 4384 \nQ 1516 4384 1395 4259 \nQ 1275 4134 1275 3809 \nL 1275 3500 \nL 2222 3500 \nL 2222 3053 \nL 1275 3053 \nL 1275 0 \nL 697 0 \nL 697 3053 \nL 147 3053 \nL 147 3500 \nL 697 3500 \nL 697 3744 \nQ 697 4328 969 4595 \nQ 1241 4863 1831 4863 \nL 2375 4863 \nz\n\" id=\"DejaVuSans-66\" transform=\"scale(0.015625)\"/>\n       </defs>\n       <use xlink:href=\"#DejaVuSans-6a\"/>\n       <use x=\"27.783203\" xlink:href=\"#DejaVuSans-65\"/>\n       <use x=\"89.306641\" xlink:href=\"#DejaVuSans-6e\"/>\n       <use x=\"152.685547\" xlink:href=\"#DejaVuSans-6e\"/>\n       <use x=\"216.064453\" xlink:href=\"#DejaVuSans-69\"/>\n       <use x=\"243.847656\" xlink:href=\"#DejaVuSans-66\"/>\n       <use x=\"279.052734\" xlink:href=\"#DejaVuSans-65\"/>\n       <use x=\"340.576172\" xlink:href=\"#DejaVuSans-72\"/>\n      </g>\n     </g>\n    </g>\n    <g id=\"xtick_13\">\n     <g id=\"line2d_25\">\n      <path clip-path=\"url(#paba0ad55b7)\" d=\"M 121.479113 239.758125 \nL 121.479113 22.318125 \n\" style=\"fill:none;stroke:#c0c0c0;stroke-linecap:square;stroke-width:0.8;\"/>\n     </g>\n     <g id=\"line2d_26\">\n      <g>\n       <use style=\"stroke:#000000;stroke-width:0.8;\" x=\"121.479113\" xlink:href=\"#mb05f71a864\" y=\"239.758125\"/>\n      </g>\n     </g>\n     <g id=\"text_13\">\n      <!-- nt -->\n      <g transform=\"translate(124.238488 257.015938)rotate(-90)scale(0.1 -0.1)\">\n       <use xlink:href=\"#DejaVuSans-6e\"/>\n       <use x=\"63.378906\" xlink:href=\"#DejaVuSans-74\"/>\n      </g>\n     </g>\n    </g>\n    <g id=\"xtick_14\">\n     <g id=\"line2d_27\">\n      <path clip-path=\"url(#paba0ad55b7)\" d=\"M 125.89018 239.758125 \nL 125.89018 22.318125 \n\" style=\"fill:none;stroke:#c0c0c0;stroke-linecap:square;stroke-width:0.8;\"/>\n     </g>\n     <g id=\"line2d_28\">\n      <g>\n       <use style=\"stroke:#000000;stroke-width:0.8;\" x=\"125.89018\" xlink:href=\"#mb05f71a864\" y=\"239.758125\"/>\n      </g>\n     </g>\n     <g id=\"text_14\">\n      <!-- woman -->\n      <g transform=\"translate(128.649555 283.26125)rotate(-90)scale(0.1 -0.1)\">\n       <use xlink:href=\"#DejaVuSans-77\"/>\n       <use x=\"81.787109\" xlink:href=\"#DejaVuSans-6f\"/>\n       <use x=\"142.96875\" xlink:href=\"#DejaVuSans-6d\"/>\n       <use x=\"240.380859\" xlink:href=\"#DejaVuSans-61\"/>\n       <use x=\"301.660156\" xlink:href=\"#DejaVuSans-6e\"/>\n      </g>\n     </g>\n    </g>\n    <g id=\"xtick_15\">\n     <g id=\"line2d_29\">\n      <path clip-path=\"url(#paba0ad55b7)\" d=\"M 130.301248 239.758125 \nL 130.301248 22.318125 \n\" style=\"fill:none;stroke:#c0c0c0;stroke-linecap:square;stroke-width:0.8;\"/>\n     </g>\n     <g id=\"line2d_30\">\n      <g>\n       <use style=\"stroke:#000000;stroke-width:0.8;\" x=\"130.301248\" xlink:href=\"#mb05f71a864\" y=\"239.758125\"/>\n      </g>\n     </g>\n     <g id=\"text_15\">\n      <!-- jenner -->\n      <g transform=\"translate(133.060623 278.628438)rotate(-90)scale(0.1 -0.1)\">\n       <use xlink:href=\"#DejaVuSans-6a\"/>\n       <use x=\"27.783203\" xlink:href=\"#DejaVuSans-65\"/>\n       <use x=\"89.306641\" xlink:href=\"#DejaVuSans-6e\"/>\n       <use x=\"152.685547\" xlink:href=\"#DejaVuSans-6e\"/>\n       <use x=\"216.064453\" xlink:href=\"#DejaVuSans-65\"/>\n       <use x=\"277.587891\" xlink:href=\"#DejaVuSans-72\"/>\n      </g>\n     </g>\n    </g>\n    <g id=\"xtick_16\">\n     <g id=\"line2d_31\">\n      <path clip-path=\"url(#paba0ad55b7)\" d=\"M 134.712315 239.758125 \nL 134.712315 22.318125 \n\" style=\"fill:none;stroke:#c0c0c0;stroke-linecap:square;stroke-width:0.8;\"/>\n     </g>\n     <g id=\"line2d_32\">\n      <g>\n       <use style=\"stroke:#000000;stroke-width:0.8;\" x=\"134.712315\" xlink:href=\"#mb05f71a864\" y=\"239.758125\"/>\n      </g>\n     </g>\n     <g id=\"text_16\">\n      <!-- donald_trump -->\n      <g transform=\"translate(137.332627 316.275312)rotate(-90)scale(0.1 -0.1)\">\n       <defs>\n        <path d=\"M 3263 -1063 \nL 3263 -1509 \nL -63 -1509 \nL -63 -1063 \nL 3263 -1063 \nz\n\" id=\"DejaVuSans-5f\" transform=\"scale(0.015625)\"/>\n       </defs>\n       <use xlink:href=\"#DejaVuSans-64\"/>\n       <use x=\"63.476562\" xlink:href=\"#DejaVuSans-6f\"/>\n       <use x=\"124.658203\" xlink:href=\"#DejaVuSans-6e\"/>\n       <use x=\"188.037109\" xlink:href=\"#DejaVuSans-61\"/>\n       <use x=\"249.316406\" xlink:href=\"#DejaVuSans-6c\"/>\n       <use x=\"277.099609\" xlink:href=\"#DejaVuSans-64\"/>\n       <use x=\"340.576172\" xlink:href=\"#DejaVuSans-5f\"/>\n       <use x=\"390.576172\" xlink:href=\"#DejaVuSans-74\"/>\n       <use x=\"429.785156\" xlink:href=\"#DejaVuSans-72\"/>\n       <use x=\"470.898438\" xlink:href=\"#DejaVuSans-75\"/>\n       <use x=\"534.277344\" xlink:href=\"#DejaVuSans-6d\"/>\n       <use x=\"631.689453\" xlink:href=\"#DejaVuSans-70\"/>\n      </g>\n     </g>\n    </g>\n    <g id=\"xtick_17\">\n     <g id=\"line2d_33\">\n      <path clip-path=\"url(#paba0ad55b7)\" d=\"M 139.123382 239.758125 \nL 139.123382 22.318125 \n\" style=\"fill:none;stroke:#c0c0c0;stroke-linecap:square;stroke-width:0.8;\"/>\n     </g>\n     <g id=\"line2d_34\">\n      <g>\n       <use style=\"stroke:#000000;stroke-width:0.8;\" x=\"139.123382\" xlink:href=\"#mb05f71a864\" y=\"239.758125\"/>\n      </g>\n     </g>\n     <g id=\"text_17\">\n      <!-- brad -->\n      <g transform=\"translate(141.882757 269.694062)rotate(-90)scale(0.1 -0.1)\">\n       <use xlink:href=\"#DejaVuSans-62\"/>\n       <use x=\"63.476562\" xlink:href=\"#DejaVuSans-72\"/>\n       <use x=\"104.589844\" xlink:href=\"#DejaVuSans-61\"/>\n       <use x=\"165.869141\" xlink:href=\"#DejaVuSans-64\"/>\n      </g>\n     </g>\n    </g>\n    <g id=\"xtick_18\">\n     <g id=\"line2d_35\">\n      <path clip-path=\"url(#paba0ad55b7)\" d=\"M 143.534449 239.758125 \nL 143.534449 22.318125 \n\" style=\"fill:none;stroke:#c0c0c0;stroke-linecap:square;stroke-width:0.8;\"/>\n     </g>\n     <g id=\"line2d_36\">\n      <g>\n       <use style=\"stroke:#000000;stroke-width:0.8;\" x=\"143.534449\" xlink:href=\"#mb05f71a864\" y=\"239.758125\"/>\n      </g>\n     </g>\n     <g id=\"text_18\">\n      <!-- report -->\n      <g transform=\"translate(146.293824 277.295625)rotate(-90)scale(0.1 -0.1)\">\n       <use xlink:href=\"#DejaVuSans-72\"/>\n       <use x=\"38.863281\" xlink:href=\"#DejaVuSans-65\"/>\n       <use x=\"100.386719\" xlink:href=\"#DejaVuSans-70\"/>\n       <use x=\"163.863281\" xlink:href=\"#DejaVuSans-6f\"/>\n       <use x=\"225.044922\" xlink:href=\"#DejaVuSans-72\"/>\n       <use x=\"266.158203\" xlink:href=\"#DejaVuSans-74\"/>\n      </g>\n     </g>\n    </g>\n    <g id=\"xtick_19\">\n     <g id=\"line2d_37\">\n      <path clip-path=\"url(#paba0ad55b7)\" d=\"M 147.945516 239.758125 \nL 147.945516 22.318125 \n\" style=\"fill:none;stroke:#c0c0c0;stroke-linecap:square;stroke-width:0.8;\"/>\n     </g>\n     <g id=\"line2d_38\">\n      <g>\n       <use style=\"stroke:#000000;stroke-width:0.8;\" x=\"147.945516\" xlink:href=\"#mb05f71a864\" y=\"239.758125\"/>\n      </g>\n     </g>\n     <g id=\"text_19\">\n      <!-- justin -->\n      <g transform=\"translate(150.704891 274.119062)rotate(-90)scale(0.1 -0.1)\">\n       <use xlink:href=\"#DejaVuSans-6a\"/>\n       <use x=\"27.783203\" xlink:href=\"#DejaVuSans-75\"/>\n       <use x=\"91.162109\" xlink:href=\"#DejaVuSans-73\"/>\n       <use x=\"143.261719\" xlink:href=\"#DejaVuSans-74\"/>\n       <use x=\"182.470703\" xlink:href=\"#DejaVuSans-69\"/>\n       <use x=\"210.253906\" xlink:href=\"#DejaVuSans-6e\"/>\n      </g>\n     </g>\n    </g>\n    <g id=\"xtick_20\">\n     <g id=\"line2d_39\">\n      <path clip-path=\"url(#paba0ad55b7)\" d=\"M 152.356583 239.758125 \nL 152.356583 22.318125 \n\" style=\"fill:none;stroke:#c0c0c0;stroke-linecap:square;stroke-width:0.8;\"/>\n     </g>\n     <g id=\"line2d_40\">\n      <g>\n       <use style=\"stroke:#000000;stroke-width:0.8;\" x=\"152.356583\" xlink:href=\"#mb05f71a864\" y=\"239.758125\"/>\n      </g>\n     </g>\n     <g id=\"text_20\">\n      <!-- people -->\n      <g transform=\"translate(155.115958 280.658125)rotate(-90)scale(0.1 -0.1)\">\n       <use xlink:href=\"#DejaVuSans-70\"/>\n       <use x=\"63.476562\" xlink:href=\"#DejaVuSans-65\"/>\n       <use x=\"125\" xlink:href=\"#DejaVuSans-6f\"/>\n       <use x=\"186.181641\" xlink:href=\"#DejaVuSans-70\"/>\n       <use x=\"249.658203\" xlink:href=\"#DejaVuSans-6c\"/>\n       <use x=\"277.441406\" xlink:href=\"#DejaVuSans-65\"/>\n      </g>\n     </g>\n    </g>\n    <g id=\"xtick_21\">\n     <g id=\"line2d_41\">\n      <path clip-path=\"url(#paba0ad55b7)\" d=\"M 156.767651 239.758125 \nL 156.767651 22.318125 \n\" style=\"fill:none;stroke:#c0c0c0;stroke-linecap:square;stroke-width:0.8;\"/>\n     </g>\n     <g id=\"line2d_42\">\n      <g>\n       <use style=\"stroke:#000000;stroke-width:0.8;\" x=\"156.767651\" xlink:href=\"#mb05f71a864\" y=\"239.758125\"/>\n      </g>\n     </g>\n     <g id=\"text_21\">\n      <!-- pitt -->\n      <g transform=\"translate(159.527026 263.725312)rotate(-90)scale(0.1 -0.1)\">\n       <use xlink:href=\"#DejaVuSans-70\"/>\n       <use x=\"63.476562\" xlink:href=\"#DejaVuSans-69\"/>\n       <use x=\"91.259766\" xlink:href=\"#DejaVuSans-74\"/>\n       <use x=\"130.46875\" xlink:href=\"#DejaVuSans-74\"/>\n      </g>\n     </g>\n    </g>\n    <g id=\"xtick_22\">\n     <g id=\"line2d_43\">\n      <path clip-path=\"url(#paba0ad55b7)\" d=\"M 161.178718 239.758125 \nL 161.178718 22.318125 \n\" style=\"fill:none;stroke:#c0c0c0;stroke-linecap:square;stroke-width:0.8;\"/>\n     </g>\n     <g id=\"line2d_44\">\n      <g>\n       <use style=\"stroke:#000000;stroke-width:0.8;\" x=\"161.178718\" xlink:href=\"#mb05f71a864\" y=\"239.758125\"/>\n      </g>\n     </g>\n     <g id=\"text_22\">\n      <!-- brad_pitt -->\n      <g transform=\"translate(163.79903 291.66125)rotate(-90)scale(0.1 -0.1)\">\n       <use xlink:href=\"#DejaVuSans-62\"/>\n       <use x=\"63.476562\" xlink:href=\"#DejaVuSans-72\"/>\n       <use x=\"104.589844\" xlink:href=\"#DejaVuSans-61\"/>\n       <use x=\"165.869141\" xlink:href=\"#DejaVuSans-64\"/>\n       <use x=\"229.345703\" xlink:href=\"#DejaVuSans-5f\"/>\n       <use x=\"279.345703\" xlink:href=\"#DejaVuSans-70\"/>\n       <use x=\"342.822266\" xlink:href=\"#DejaVuSans-69\"/>\n       <use x=\"370.605469\" xlink:href=\"#DejaVuSans-74\"/>\n       <use x=\"409.814453\" xlink:href=\"#DejaVuSans-74\"/>\n      </g>\n     </g>\n    </g>\n    <g id=\"xtick_23\">\n     <g id=\"line2d_45\">\n      <path clip-path=\"url(#paba0ad55b7)\" d=\"M 165.589785 239.758125 \nL 165.589785 22.318125 \n\" style=\"fill:none;stroke:#c0c0c0;stroke-linecap:square;stroke-width:0.8;\"/>\n     </g>\n     <g id=\"line2d_46\">\n      <g>\n       <use style=\"stroke:#000000;stroke-width:0.8;\" x=\"165.589785\" xlink:href=\"#mb05f71a864\" y=\"239.758125\"/>\n      </g>\n     </g>\n     <g id=\"text_23\">\n      <!-- hillary -->\n      <g transform=\"translate(168.34916 277.587812)rotate(-90)scale(0.1 -0.1)\">\n       <use xlink:href=\"#DejaVuSans-68\"/>\n       <use x=\"63.378906\" xlink:href=\"#DejaVuSans-69\"/>\n       <use x=\"91.162109\" xlink:href=\"#DejaVuSans-6c\"/>\n       <use x=\"118.945312\" xlink:href=\"#DejaVuSans-6c\"/>\n       <use x=\"146.728516\" xlink:href=\"#DejaVuSans-61\"/>\n       <use x=\"208.007812\" xlink:href=\"#DejaVuSans-72\"/>\n       <use x=\"249.121094\" xlink:href=\"#DejaVuSans-79\"/>\n      </g>\n     </g>\n    </g>\n    <g id=\"xtick_24\">\n     <g id=\"line2d_47\">\n      <path clip-path=\"url(#paba0ad55b7)\" d=\"M 170.000852 239.758125 \nL 170.000852 22.318125 \n\" style=\"fill:none;stroke:#c0c0c0;stroke-linecap:square;stroke-width:0.8;\"/>\n     </g>\n     <g id=\"line2d_48\">\n      <g>\n       <use style=\"stroke:#000000;stroke-width:0.8;\" x=\"170.000852\" xlink:href=\"#mb05f71a864\" y=\"239.758125\"/>\n      </g>\n     </g>\n     <g id=\"text_24\">\n      <!-- baby -->\n      <g transform=\"translate(172.760227 271.501875)rotate(-90)scale(0.1 -0.1)\">\n       <use xlink:href=\"#DejaVuSans-62\"/>\n       <use x=\"63.476562\" xlink:href=\"#DejaVuSans-61\"/>\n       <use x=\"124.755859\" xlink:href=\"#DejaVuSans-62\"/>\n       <use x=\"188.232422\" xlink:href=\"#DejaVuSans-79\"/>\n      </g>\n     </g>\n    </g>\n    <g id=\"xtick_25\">\n     <g id=\"line2d_49\">\n      <path clip-path=\"url(#paba0ad55b7)\" d=\"M 174.411919 239.758125 \nL 174.411919 22.318125 \n\" style=\"fill:none;stroke:#c0c0c0;stroke-linecap:square;stroke-width:0.8;\"/>\n     </g>\n     <g id=\"line2d_50\">\n      <g>\n       <use style=\"stroke:#000000;stroke-width:0.8;\" x=\"174.411919\" xlink:href=\"#mb05f71a864\" y=\"239.758125\"/>\n      </g>\n     </g>\n     <g id=\"text_25\">\n      <!-- million -->\n      <g transform=\"translate(177.171294 280.0675)rotate(-90)scale(0.1 -0.1)\">\n       <use xlink:href=\"#DejaVuSans-6d\"/>\n       <use x=\"97.412109\" xlink:href=\"#DejaVuSans-69\"/>\n       <use x=\"125.195312\" xlink:href=\"#DejaVuSans-6c\"/>\n       <use x=\"152.978516\" xlink:href=\"#DejaVuSans-6c\"/>\n       <use x=\"180.761719\" xlink:href=\"#DejaVuSans-69\"/>\n       <use x=\"208.544922\" xlink:href=\"#DejaVuSans-6f\"/>\n       <use x=\"269.726562\" xlink:href=\"#DejaVuSans-6e\"/>\n      </g>\n     </g>\n    </g>\n    <g id=\"xtick_26\">\n     <g id=\"line2d_51\">\n      <path clip-path=\"url(#paba0ad55b7)\" d=\"M 178.822987 239.758125 \nL 178.822987 22.318125 \n\" style=\"fill:none;stroke:#c0c0c0;stroke-linecap:square;stroke-width:0.8;\"/>\n     </g>\n     <g id=\"line2d_52\">\n      <g>\n       <use style=\"stroke:#000000;stroke-width:0.8;\" x=\"178.822987\" xlink:href=\"#mb05f71a864\" y=\"239.758125\"/>\n      </g>\n     </g>\n     <g id=\"text_26\">\n      <!-- arrest -->\n      <g transform=\"translate(181.582362 275.990937)rotate(-90)scale(0.1 -0.1)\">\n       <use xlink:href=\"#DejaVuSans-61\"/>\n       <use x=\"61.279297\" xlink:href=\"#DejaVuSans-72\"/>\n       <use x=\"100.642578\" xlink:href=\"#DejaVuSans-72\"/>\n       <use x=\"139.505859\" xlink:href=\"#DejaVuSans-65\"/>\n       <use x=\"201.029297\" xlink:href=\"#DejaVuSans-73\"/>\n       <use x=\"253.128906\" xlink:href=\"#DejaVuSans-74\"/>\n      </g>\n     </g>\n    </g>\n    <g id=\"xtick_27\">\n     <g id=\"line2d_53\">\n      <path clip-path=\"url(#paba0ad55b7)\" d=\"M 183.234054 239.758125 \nL 183.234054 22.318125 \n\" style=\"fill:none;stroke:#c0c0c0;stroke-linecap:square;stroke-width:0.8;\"/>\n     </g>\n     <g id=\"line2d_54\">\n      <g>\n       <use style=\"stroke:#000000;stroke-width:0.8;\" x=\"183.234054\" xlink:href=\"#mb05f71a864\" y=\"239.758125\"/>\n      </g>\n     </g>\n     <g id=\"text_27\">\n      <!-- kim -->\n      <g transform=\"translate(185.993429 265.0675)rotate(-90)scale(0.1 -0.1)\">\n       <use xlink:href=\"#DejaVuSans-6b\"/>\n       <use x=\"57.910156\" xlink:href=\"#DejaVuSans-69\"/>\n       <use x=\"85.693359\" xlink:href=\"#DejaVuSans-6d\"/>\n      </g>\n     </g>\n    </g>\n    <g id=\"xtick_28\">\n     <g id=\"line2d_55\">\n      <path clip-path=\"url(#paba0ad55b7)\" d=\"M 187.645121 239.758125 \nL 187.645121 22.318125 \n\" style=\"fill:none;stroke:#c0c0c0;stroke-linecap:square;stroke-width:0.8;\"/>\n     </g>\n     <g id=\"line2d_56\">\n      <g>\n       <use style=\"stroke:#000000;stroke-width:0.8;\" x=\"187.645121\" xlink:href=\"#mb05f71a864\" y=\"239.758125\"/>\n      </g>\n     </g>\n     <g id=\"text_28\">\n      <!-- white -->\n      <g transform=\"translate(190.404496 274.125313)rotate(-90)scale(0.1 -0.1)\">\n       <use xlink:href=\"#DejaVuSans-77\"/>\n       <use x=\"81.787109\" xlink:href=\"#DejaVuSans-68\"/>\n       <use x=\"145.166016\" xlink:href=\"#DejaVuSans-69\"/>\n       <use x=\"172.949219\" xlink:href=\"#DejaVuSans-74\"/>\n       <use x=\"212.158203\" xlink:href=\"#DejaVuSans-65\"/>\n      </g>\n     </g>\n    </g>\n    <g id=\"xtick_29\">\n     <g id=\"line2d_57\">\n      <path clip-path=\"url(#paba0ad55b7)\" d=\"M 192.056188 239.758125 \nL 192.056188 22.318125 \n\" style=\"fill:none;stroke:#c0c0c0;stroke-linecap:square;stroke-width:0.8;\"/>\n     </g>\n     <g id=\"line2d_58\">\n      <g>\n       <use style=\"stroke:#000000;stroke-width:0.8;\" x=\"192.056188\" xlink:href=\"#mb05f71a864\" y=\"239.758125\"/>\n      </g>\n     </g>\n     <g id=\"text_29\">\n      <!-- child -->\n      <g transform=\"translate(194.815563 270.49875)rotate(-90)scale(0.1 -0.1)\">\n       <use xlink:href=\"#DejaVuSans-63\"/>\n       <use x=\"54.980469\" xlink:href=\"#DejaVuSans-68\"/>\n       <use x=\"118.359375\" xlink:href=\"#DejaVuSans-69\"/>\n       <use x=\"146.142578\" xlink:href=\"#DejaVuSans-6c\"/>\n       <use x=\"173.925781\" xlink:href=\"#DejaVuSans-64\"/>\n      </g>\n     </g>\n    </g>\n    <g id=\"xtick_30\">\n     <g id=\"line2d_59\">\n      <path clip-path=\"url(#paba0ad55b7)\" d=\"M 196.467255 239.758125 \nL 196.467255 22.318125 \n\" style=\"fill:none;stroke:#c0c0c0;stroke-linecap:square;stroke-width:0.8;\"/>\n     </g>\n     <g id=\"line2d_60\">\n      <g>\n       <use style=\"stroke:#000000;stroke-width:0.8;\" x=\"196.467255\" xlink:href=\"#mb05f71a864\" y=\"239.758125\"/>\n      </g>\n     </g>\n     <g id=\"text_30\">\n      <!-- vote -->\n      <g transform=\"translate(199.22663 268.869062)rotate(-90)scale(0.1 -0.1)\">\n       <defs>\n        <path d=\"M 191 3500 \nL 800 3500 \nL 1894 563 \nL 2988 3500 \nL 3597 3500 \nL 2284 0 \nL 1503 0 \nL 191 3500 \nz\n\" id=\"DejaVuSans-76\" transform=\"scale(0.015625)\"/>\n       </defs>\n       <use xlink:href=\"#DejaVuSans-76\"/>\n       <use x=\"59.179688\" xlink:href=\"#DejaVuSans-6f\"/>\n       <use x=\"120.361328\" xlink:href=\"#DejaVuSans-74\"/>\n       <use x=\"159.570312\" xlink:href=\"#DejaVuSans-65\"/>\n      </g>\n     </g>\n    </g>\n    <g id=\"xtick_31\">\n     <g id=\"line2d_61\">\n      <path clip-path=\"url(#paba0ad55b7)\" d=\"M 200.878323 239.758125 \nL 200.878323 22.318125 \n\" style=\"fill:none;stroke:#c0c0c0;stroke-linecap:square;stroke-width:0.8;\"/>\n     </g>\n     <g id=\"line2d_62\">\n      <g>\n       <use style=\"stroke:#000000;stroke-width:0.8;\" x=\"200.878323\" xlink:href=\"#mb05f71a864\" y=\"239.758125\"/>\n      </g>\n     </g>\n     <g id=\"text_31\">\n      <!-- want -->\n      <g transform=\"translate(203.637698 271.322187)rotate(-90)scale(0.1 -0.1)\">\n       <use xlink:href=\"#DejaVuSans-77\"/>\n       <use x=\"81.787109\" xlink:href=\"#DejaVuSans-61\"/>\n       <use x=\"143.066406\" xlink:href=\"#DejaVuSans-6e\"/>\n       <use x=\"206.445312\" xlink:href=\"#DejaVuSans-74\"/>\n      </g>\n     </g>\n    </g>\n    <g id=\"xtick_32\">\n     <g id=\"line2d_63\">\n      <path clip-path=\"url(#paba0ad55b7)\" d=\"M 205.28939 239.758125 \nL 205.28939 22.318125 \n\" style=\"fill:none;stroke:#c0c0c0;stroke-linecap:square;stroke-width:0.8;\"/>\n     </g>\n     <g id=\"line2d_64\">\n      <g>\n       <use style=\"stroke:#000000;stroke-width:0.8;\" x=\"205.28939\" xlink:href=\"#mb05f71a864\" y=\"239.758125\"/>\n      </g>\n     </g>\n     <g id=\"text_32\">\n      <!-- american -->\n      <g transform=\"translate(208.048765 293.633125)rotate(-90)scale(0.1 -0.1)\">\n       <use xlink:href=\"#DejaVuSans-61\"/>\n       <use x=\"61.279297\" xlink:href=\"#DejaVuSans-6d\"/>\n       <use x=\"158.691406\" xlink:href=\"#DejaVuSans-65\"/>\n       <use x=\"220.214844\" xlink:href=\"#DejaVuSans-72\"/>\n       <use x=\"261.328125\" xlink:href=\"#DejaVuSans-69\"/>\n       <use x=\"289.111328\" xlink:href=\"#DejaVuSans-63\"/>\n       <use x=\"344.091797\" xlink:href=\"#DejaVuSans-61\"/>\n       <use x=\"405.371094\" xlink:href=\"#DejaVuSans-6e\"/>\n      </g>\n     </g>\n    </g>\n    <g id=\"xtick_33\">\n     <g id=\"line2d_65\">\n      <path clip-path=\"url(#paba0ad55b7)\" d=\"M 209.700457 239.758125 \nL 209.700457 22.318125 \n\" style=\"fill:none;stroke:#c0c0c0;stroke-linecap:square;stroke-width:0.8;\"/>\n     </g>\n     <g id=\"line2d_66\">\n      <g>\n       <use style=\"stroke:#000000;stroke-width:0.8;\" x=\"209.700457\" xlink:href=\"#mb05f71a864\" y=\"239.758125\"/>\n      </g>\n     </g>\n     <g id=\"text_33\">\n      <!-- angelina -->\n      <g transform=\"translate(212.459832 289.747187)rotate(-90)scale(0.1 -0.1)\">\n       <defs>\n        <path d=\"M 2906 1791 \nQ 2906 2416 2648 2759 \nQ 2391 3103 1925 3103 \nQ 1463 3103 1205 2759 \nQ 947 2416 947 1791 \nQ 947 1169 1205 825 \nQ 1463 481 1925 481 \nQ 2391 481 2648 825 \nQ 2906 1169 2906 1791 \nz\nM 3481 434 \nQ 3481 -459 3084 -895 \nQ 2688 -1331 1869 -1331 \nQ 1566 -1331 1297 -1286 \nQ 1028 -1241 775 -1147 \nL 775 -588 \nQ 1028 -725 1275 -790 \nQ 1522 -856 1778 -856 \nQ 2344 -856 2625 -561 \nQ 2906 -266 2906 331 \nL 2906 616 \nQ 2728 306 2450 153 \nQ 2172 0 1784 0 \nQ 1141 0 747 490 \nQ 353 981 353 1791 \nQ 353 2603 747 3093 \nQ 1141 3584 1784 3584 \nQ 2172 3584 2450 3431 \nQ 2728 3278 2906 2969 \nL 2906 3500 \nL 3481 3500 \nL 3481 434 \nz\n\" id=\"DejaVuSans-67\" transform=\"scale(0.015625)\"/>\n       </defs>\n       <use xlink:href=\"#DejaVuSans-61\"/>\n       <use x=\"61.279297\" xlink:href=\"#DejaVuSans-6e\"/>\n       <use x=\"124.658203\" xlink:href=\"#DejaVuSans-67\"/>\n       <use x=\"188.134766\" xlink:href=\"#DejaVuSans-65\"/>\n       <use x=\"249.658203\" xlink:href=\"#DejaVuSans-6c\"/>\n       <use x=\"277.441406\" xlink:href=\"#DejaVuSans-69\"/>\n       <use x=\"305.224609\" xlink:href=\"#DejaVuSans-6e\"/>\n       <use x=\"368.603516\" xlink:href=\"#DejaVuSans-61\"/>\n      </g>\n     </g>\n    </g>\n    <g id=\"xtick_34\">\n     <g id=\"line2d_67\">\n      <path clip-path=\"url(#paba0ad55b7)\" d=\"M 214.111524 239.758125 \nL 214.111524 22.318125 \n\" style=\"fill:none;stroke:#c0c0c0;stroke-linecap:square;stroke-width:0.8;\"/>\n     </g>\n     <g id=\"line2d_68\">\n      <g>\n       <use style=\"stroke:#000000;stroke-width:0.8;\" x=\"214.111524\" xlink:href=\"#mb05f71a864\" y=\"239.758125\"/>\n      </g>\n     </g>\n     <g id=\"text_34\">\n      <!-- find -->\n      <g transform=\"translate(216.870899 265.7425)rotate(-90)scale(0.1 -0.1)\">\n       <use xlink:href=\"#DejaVuSans-66\"/>\n       <use x=\"35.205078\" xlink:href=\"#DejaVuSans-69\"/>\n       <use x=\"62.988281\" xlink:href=\"#DejaVuSans-6e\"/>\n       <use x=\"126.367188\" xlink:href=\"#DejaVuSans-64\"/>\n      </g>\n     </g>\n    </g>\n    <g id=\"xtick_35\">\n     <g id=\"line2d_69\">\n      <path clip-path=\"url(#paba0ad55b7)\" d=\"M 218.522591 239.758125 \nL 218.522591 22.318125 \n\" style=\"fill:none;stroke:#c0c0c0;stroke-linecap:square;stroke-width:0.8;\"/>\n     </g>\n     <g id=\"line2d_70\">\n      <g>\n       <use style=\"stroke:#000000;stroke-width:0.8;\" x=\"218.522591\" xlink:href=\"#mb05f71a864\" y=\"239.758125\"/>\n      </g>\n     </g>\n     <g id=\"text_35\">\n      <!-- u.s -->\n      <g transform=\"translate(221.281966 261.483125)rotate(-90)scale(0.1 -0.1)\">\n       <defs>\n        <path d=\"M 684 794 \nL 1344 794 \nL 1344 0 \nL 684 0 \nL 684 794 \nz\n\" id=\"DejaVuSans-2e\" transform=\"scale(0.015625)\"/>\n       </defs>\n       <use xlink:href=\"#DejaVuSans-75\"/>\n       <use x=\"63.378906\" xlink:href=\"#DejaVuSans-2e\"/>\n       <use x=\"95.166016\" xlink:href=\"#DejaVuSans-73\"/>\n      </g>\n     </g>\n    </g>\n    <g id=\"xtick_36\">\n     <g id=\"line2d_71\">\n      <path clip-path=\"url(#paba0ad55b7)\" d=\"M 222.933659 239.758125 \nL 222.933659 22.318125 \n\" style=\"fill:none;stroke:#c0c0c0;stroke-linecap:square;stroke-width:0.8;\"/>\n     </g>\n     <g id=\"line2d_72\">\n      <g>\n       <use style=\"stroke:#000000;stroke-width:0.8;\" x=\"222.933659\" xlink:href=\"#mb05f71a864\" y=\"239.758125\"/>\n      </g>\n     </g>\n     <g id=\"text_36\">\n      <!-- jolie -->\n      <g transform=\"translate(225.693034 267.364375)rotate(-90)scale(0.1 -0.1)\">\n       <use xlink:href=\"#DejaVuSans-6a\"/>\n       <use x=\"27.783203\" xlink:href=\"#DejaVuSans-6f\"/>\n       <use x=\"88.964844\" xlink:href=\"#DejaVuSans-6c\"/>\n       <use x=\"116.748047\" xlink:href=\"#DejaVuSans-69\"/>\n       <use x=\"144.53125\" xlink:href=\"#DejaVuSans-65\"/>\n      </g>\n     </g>\n    </g>\n    <g id=\"xtick_37\">\n     <g id=\"line2d_73\">\n      <path clip-path=\"url(#paba0ad55b7)\" d=\"M 227.344726 239.758125 \nL 227.344726 22.318125 \n\" style=\"fill:none;stroke:#c0c0c0;stroke-linecap:square;stroke-width:0.8;\"/>\n     </g>\n     <g id=\"line2d_74\">\n      <g>\n       <use style=\"stroke:#000000;stroke-width:0.8;\" x=\"227.344726\" xlink:href=\"#mb05f71a864\" y=\"239.758125\"/>\n      </g>\n     </g>\n     <g id=\"text_37\">\n      <!-- angelina_jolie -->\n      <g transform=\"translate(229.965038 315.353437)rotate(-90)scale(0.1 -0.1)\">\n       <use xlink:href=\"#DejaVuSans-61\"/>\n       <use x=\"61.279297\" xlink:href=\"#DejaVuSans-6e\"/>\n       <use x=\"124.658203\" xlink:href=\"#DejaVuSans-67\"/>\n       <use x=\"188.134766\" xlink:href=\"#DejaVuSans-65\"/>\n       <use x=\"249.658203\" xlink:href=\"#DejaVuSans-6c\"/>\n       <use x=\"277.441406\" xlink:href=\"#DejaVuSans-69\"/>\n       <use x=\"305.224609\" xlink:href=\"#DejaVuSans-6e\"/>\n       <use x=\"368.603516\" xlink:href=\"#DejaVuSans-61\"/>\n       <use x=\"429.882812\" xlink:href=\"#DejaVuSans-5f\"/>\n       <use x=\"479.882812\" xlink:href=\"#DejaVuSans-6a\"/>\n       <use x=\"507.666016\" xlink:href=\"#DejaVuSans-6f\"/>\n       <use x=\"568.847656\" xlink:href=\"#DejaVuSans-6c\"/>\n       <use x=\"596.630859\" xlink:href=\"#DejaVuSans-69\"/>\n       <use x=\"624.414062\" xlink:href=\"#DejaVuSans-65\"/>\n      </g>\n     </g>\n    </g>\n    <g id=\"xtick_38\">\n     <g id=\"line2d_75\">\n      <path clip-path=\"url(#paba0ad55b7)\" d=\"M 231.755793 239.758125 \nL 231.755793 22.318125 \n\" style=\"fill:none;stroke:#c0c0c0;stroke-linecap:square;stroke-width:0.8;\"/>\n     </g>\n     <g id=\"line2d_76\">\n      <g>\n       <use style=\"stroke:#000000;stroke-width:0.8;\" x=\"231.755793\" xlink:href=\"#mb05f71a864\" y=\"239.758125\"/>\n      </g>\n     </g>\n     <g id=\"text_38\">\n      <!-- plan -->\n      <g transform=\"translate(234.515168 268.350312)rotate(-90)scale(0.1 -0.1)\">\n       <use xlink:href=\"#DejaVuSans-70\"/>\n       <use x=\"63.476562\" xlink:href=\"#DejaVuSans-6c\"/>\n       <use x=\"91.259766\" xlink:href=\"#DejaVuSans-61\"/>\n       <use x=\"152.539062\" xlink:href=\"#DejaVuSans-6e\"/>\n      </g>\n     </g>\n    </g>\n    <g id=\"xtick_39\">\n     <g id=\"line2d_77\">\n      <path clip-path=\"url(#paba0ad55b7)\" d=\"M 236.16686 239.758125 \nL 236.16686 22.318125 \n\" style=\"fill:none;stroke:#c0c0c0;stroke-linecap:square;stroke-width:0.8;\"/>\n     </g>\n     <g id=\"line2d_78\">\n      <g>\n       <use style=\"stroke:#000000;stroke-width:0.8;\" x=\"236.16686\" xlink:href=\"#mb05f71a864\" y=\"239.758125\"/>\n      </g>\n     </g>\n     <g id=\"text_39\">\n      <!-- muslim -->\n      <g transform=\"translate(238.926235 283.3425)rotate(-90)scale(0.1 -0.1)\">\n       <use xlink:href=\"#DejaVuSans-6d\"/>\n       <use x=\"97.412109\" xlink:href=\"#DejaVuSans-75\"/>\n       <use x=\"160.791016\" xlink:href=\"#DejaVuSans-73\"/>\n       <use x=\"212.890625\" xlink:href=\"#DejaVuSans-6c\"/>\n       <use x=\"240.673828\" xlink:href=\"#DejaVuSans-69\"/>\n       <use x=\"268.457031\" xlink:href=\"#DejaVuSans-6d\"/>\n      </g>\n     </g>\n    </g>\n    <g id=\"xtick_40\">\n     <g id=\"line2d_79\">\n      <path clip-path=\"url(#paba0ad55b7)\" d=\"M 240.577927 239.758125 \nL 240.577927 22.318125 \n\" style=\"fill:none;stroke:#c0c0c0;stroke-linecap:square;stroke-width:0.8;\"/>\n     </g>\n     <g id=\"line2d_80\">\n      <g>\n       <use style=\"stroke:#000000;stroke-width:0.8;\" x=\"240.577927\" xlink:href=\"#mb05f71a864\" y=\"239.758125\"/>\n      </g>\n     </g>\n     <g id=\"text_40\">\n      <!-- get -->\n      <g transform=\"translate(243.337302 263.18)rotate(-90)scale(0.1 -0.1)\">\n       <use xlink:href=\"#DejaVuSans-67\"/>\n       <use x=\"63.476562\" xlink:href=\"#DejaVuSans-65\"/>\n       <use x=\"125\" xlink:href=\"#DejaVuSans-74\"/>\n      </g>\n     </g>\n    </g>\n    <g id=\"xtick_41\">\n     <g id=\"line2d_81\">\n      <path clip-path=\"url(#paba0ad55b7)\" d=\"M 244.988995 239.758125 \nL 244.988995 22.318125 \n\" style=\"fill:none;stroke:#c0c0c0;stroke-linecap:square;stroke-width:0.8;\"/>\n     </g>\n     <g id=\"line2d_82\">\n      <g>\n       <use style=\"stroke:#000000;stroke-width:0.8;\" x=\"244.988995\" xlink:href=\"#mb05f71a864\" y=\"239.758125\"/>\n      </g>\n     </g>\n     <g id=\"text_41\">\n      <!-- dead -->\n      <g transform=\"translate(247.74837 271.73625)rotate(-90)scale(0.1 -0.1)\">\n       <use xlink:href=\"#DejaVuSans-64\"/>\n       <use x=\"63.476562\" xlink:href=\"#DejaVuSans-65\"/>\n       <use x=\"125\" xlink:href=\"#DejaVuSans-61\"/>\n       <use x=\"186.279297\" xlink:href=\"#DejaVuSans-64\"/>\n      </g>\n     </g>\n    </g>\n    <g id=\"xtick_42\">\n     <g id=\"line2d_83\">\n      <path clip-path=\"url(#paba0ad55b7)\" d=\"M 249.400062 239.758125 \nL 249.400062 22.318125 \n\" style=\"fill:none;stroke:#c0c0c0;stroke-linecap:square;stroke-width:0.8;\"/>\n     </g>\n     <g id=\"line2d_84\">\n      <g>\n       <use style=\"stroke:#000000;stroke-width:0.8;\" x=\"249.400062\" xlink:href=\"#mb05f71a864\" y=\"239.758125\"/>\n      </g>\n     </g>\n     <g id=\"text_42\">\n      <!-- aniston -->\n      <g transform=\"translate(252.159437 283.587812)rotate(-90)scale(0.1 -0.1)\">\n       <use xlink:href=\"#DejaVuSans-61\"/>\n       <use x=\"61.279297\" xlink:href=\"#DejaVuSans-6e\"/>\n       <use x=\"124.658203\" xlink:href=\"#DejaVuSans-69\"/>\n       <use x=\"152.441406\" xlink:href=\"#DejaVuSans-73\"/>\n       <use x=\"204.541016\" xlink:href=\"#DejaVuSans-74\"/>\n       <use x=\"243.75\" xlink:href=\"#DejaVuSans-6f\"/>\n       <use x=\"304.931641\" xlink:href=\"#DejaVuSans-6e\"/>\n      </g>\n     </g>\n    </g>\n    <g id=\"xtick_43\">\n     <g id=\"line2d_85\">\n      <path clip-path=\"url(#paba0ad55b7)\" d=\"M 253.811129 239.758125 \nL 253.811129 22.318125 \n\" style=\"fill:none;stroke:#c0c0c0;stroke-linecap:square;stroke-width:0.8;\"/>\n     </g>\n     <g id=\"line2d_86\">\n      <g>\n       <use style=\"stroke:#000000;stroke-width:0.8;\" x=\"253.811129\" xlink:href=\"#mb05f71a864\" y=\"239.758125\"/>\n      </g>\n     </g>\n     <g id=\"text_43\">\n      <!-- selena -->\n      <g transform=\"translate(256.570504 279.5175)rotate(-90)scale(0.1 -0.1)\">\n       <use xlink:href=\"#DejaVuSans-73\"/>\n       <use x=\"52.099609\" xlink:href=\"#DejaVuSans-65\"/>\n       <use x=\"113.623047\" xlink:href=\"#DejaVuSans-6c\"/>\n       <use x=\"141.40625\" xlink:href=\"#DejaVuSans-65\"/>\n       <use x=\"202.929688\" xlink:href=\"#DejaVuSans-6e\"/>\n       <use x=\"266.308594\" xlink:href=\"#DejaVuSans-61\"/>\n      </g>\n     </g>\n    </g>\n    <g id=\"xtick_44\">\n     <g id=\"line2d_87\">\n      <path clip-path=\"url(#paba0ad55b7)\" d=\"M 258.222196 239.758125 \nL 258.222196 22.318125 \n\" style=\"fill:none;stroke:#c0c0c0;stroke-linecap:square;stroke-width:0.8;\"/>\n     </g>\n     <g id=\"line2d_88\">\n      <g>\n       <use style=\"stroke:#000000;stroke-width:0.8;\" x=\"258.222196\" xlink:href=\"#mb05f71a864\" y=\"239.758125\"/>\n      </g>\n     </g>\n     <g id=\"text_44\">\n      <!-- kill -->\n      <g transform=\"translate(260.981571 260.883125)rotate(-90)scale(0.1 -0.1)\">\n       <use xlink:href=\"#DejaVuSans-6b\"/>\n       <use x=\"57.910156\" xlink:href=\"#DejaVuSans-69\"/>\n       <use x=\"85.693359\" xlink:href=\"#DejaVuSans-6c\"/>\n       <use x=\"113.476562\" xlink:href=\"#DejaVuSans-6c\"/>\n      </g>\n     </g>\n    </g>\n    <g id=\"xtick_45\">\n     <g id=\"line2d_89\">\n      <path clip-path=\"url(#paba0ad55b7)\" d=\"M 262.633263 239.758125 \nL 262.633263 22.318125 \n\" style=\"fill:none;stroke:#c0c0c0;stroke-linecap:square;stroke-width:0.8;\"/>\n     </g>\n     <g id=\"line2d_90\">\n      <g>\n       <use style=\"stroke:#000000;stroke-width:0.8;\" x=\"262.633263\" xlink:href=\"#mb05f71a864\" y=\"239.758125\"/>\n      </g>\n     </g>\n     <g id=\"text_45\">\n      <!-- time -->\n      <g transform=\"translate(265.392638 269.350312)rotate(-90)scale(0.1 -0.1)\">\n       <use xlink:href=\"#DejaVuSans-74\"/>\n       <use x=\"39.208984\" xlink:href=\"#DejaVuSans-69\"/>\n       <use x=\"66.992188\" xlink:href=\"#DejaVuSans-6d\"/>\n       <use x=\"164.404297\" xlink:href=\"#DejaVuSans-65\"/>\n      </g>\n     </g>\n    </g>\n    <g id=\"xtick_46\">\n     <g id=\"line2d_91\">\n      <path clip-path=\"url(#paba0ad55b7)\" d=\"M 267.044331 239.758125 \nL 267.044331 22.318125 \n\" style=\"fill:none;stroke:#c0c0c0;stroke-linecap:square;stroke-width:0.8;\"/>\n     </g>\n     <g id=\"line2d_92\">\n      <g>\n       <use style=\"stroke:#000000;stroke-width:0.8;\" x=\"267.044331\" xlink:href=\"#mb05f71a864\" y=\"239.758125\"/>\n      </g>\n     </g>\n     <g id=\"text_46\">\n      <!-- bill -->\n      <g transform=\"translate(269.803706 261.440938)rotate(-90)scale(0.1 -0.1)\">\n       <use xlink:href=\"#DejaVuSans-62\"/>\n       <use x=\"63.476562\" xlink:href=\"#DejaVuSans-69\"/>\n       <use x=\"91.259766\" xlink:href=\"#DejaVuSans-6c\"/>\n       <use x=\"119.042969\" xlink:href=\"#DejaVuSans-6c\"/>\n      </g>\n     </g>\n    </g>\n    <g id=\"xtick_47\">\n     <g id=\"line2d_93\">\n      <path clip-path=\"url(#paba0ad55b7)\" d=\"M 271.455398 239.758125 \nL 271.455398 22.318125 \n\" style=\"fill:none;stroke:#c0c0c0;stroke-linecap:square;stroke-width:0.8;\"/>\n     </g>\n     <g id=\"line2d_94\">\n      <g>\n       <use style=\"stroke:#000000;stroke-width:0.8;\" x=\"271.455398\" xlink:href=\"#mb05f71a864\" y=\"239.758125\"/>\n      </g>\n     </g>\n     <g id=\"text_47\">\n      <!-- go -->\n      <g transform=\"translate(274.214773 259.225312)rotate(-90)scale(0.1 -0.1)\">\n       <use xlink:href=\"#DejaVuSans-67\"/>\n       <use x=\"63.476562\" xlink:href=\"#DejaVuSans-6f\"/>\n      </g>\n     </g>\n    </g>\n    <g id=\"xtick_48\">\n     <g id=\"line2d_95\">\n      <path clip-path=\"url(#paba0ad55b7)\" d=\"M 275.866465 239.758125 \nL 275.866465 22.318125 \n\" style=\"fill:none;stroke:#c0c0c0;stroke-linecap:square;stroke-width:0.8;\"/>\n     </g>\n     <g id=\"line2d_96\">\n      <g>\n       <use style=\"stroke:#000000;stroke-width:0.8;\" x=\"275.866465\" xlink:href=\"#mb05f71a864\" y=\"239.758125\"/>\n      </g>\n     </g>\n     <g id=\"text_48\">\n      <!-- jennifer_aniston -->\n      <g transform=\"translate(278.486777 326.756562)rotate(-90)scale(0.1 -0.1)\">\n       <use xlink:href=\"#DejaVuSans-6a\"/>\n       <use x=\"27.783203\" xlink:href=\"#DejaVuSans-65\"/>\n       <use x=\"89.306641\" xlink:href=\"#DejaVuSans-6e\"/>\n       <use x=\"152.685547\" xlink:href=\"#DejaVuSans-6e\"/>\n       <use x=\"216.064453\" xlink:href=\"#DejaVuSans-69\"/>\n       <use x=\"243.847656\" xlink:href=\"#DejaVuSans-66\"/>\n       <use x=\"279.052734\" xlink:href=\"#DejaVuSans-65\"/>\n       <use x=\"340.576172\" xlink:href=\"#DejaVuSans-72\"/>\n       <use x=\"381.689453\" xlink:href=\"#DejaVuSans-5f\"/>\n       <use x=\"431.689453\" xlink:href=\"#DejaVuSans-61\"/>\n       <use x=\"492.96875\" xlink:href=\"#DejaVuSans-6e\"/>\n       <use x=\"556.347656\" xlink:href=\"#DejaVuSans-69\"/>\n       <use x=\"584.130859\" xlink:href=\"#DejaVuSans-73\"/>\n       <use x=\"636.230469\" xlink:href=\"#DejaVuSans-74\"/>\n       <use x=\"675.439453\" xlink:href=\"#DejaVuSans-6f\"/>\n       <use x=\"736.621094\" xlink:href=\"#DejaVuSans-6e\"/>\n      </g>\n     </g>\n    </g>\n    <g id=\"xtick_49\">\n     <g id=\"line2d_97\">\n      <path clip-path=\"url(#paba0ad55b7)\" d=\"M 280.277532 239.758125 \nL 280.277532 22.318125 \n\" style=\"fill:none;stroke:#c0c0c0;stroke-linecap:square;stroke-width:0.8;\"/>\n     </g>\n     <g id=\"line2d_98\">\n      <g>\n       <use style=\"stroke:#000000;stroke-width:0.8;\" x=\"280.277532\" xlink:href=\"#mb05f71a864\" y=\"239.758125\"/>\n      </g>\n     </g>\n     <g id=\"text_49\">\n      <!-- kim_kardashian -->\n      <g transform=\"translate(282.897845 325.014375)rotate(-90)scale(0.1 -0.1)\">\n       <use xlink:href=\"#DejaVuSans-6b\"/>\n       <use x=\"57.910156\" xlink:href=\"#DejaVuSans-69\"/>\n       <use x=\"85.693359\" xlink:href=\"#DejaVuSans-6d\"/>\n       <use x=\"183.105469\" xlink:href=\"#DejaVuSans-5f\"/>\n       <use x=\"233.105469\" xlink:href=\"#DejaVuSans-6b\"/>\n       <use x=\"289.265625\" xlink:href=\"#DejaVuSans-61\"/>\n       <use x=\"350.544922\" xlink:href=\"#DejaVuSans-72\"/>\n       <use x=\"389.908203\" xlink:href=\"#DejaVuSans-64\"/>\n       <use x=\"453.384766\" xlink:href=\"#DejaVuSans-61\"/>\n       <use x=\"514.664062\" xlink:href=\"#DejaVuSans-73\"/>\n       <use x=\"566.763672\" xlink:href=\"#DejaVuSans-68\"/>\n       <use x=\"630.142578\" xlink:href=\"#DejaVuSans-69\"/>\n       <use x=\"657.925781\" xlink:href=\"#DejaVuSans-61\"/>\n       <use x=\"719.205078\" xlink:href=\"#DejaVuSans-6e\"/>\n      </g>\n     </g>\n    </g>\n    <g id=\"xtick_50\">\n     <g id=\"line2d_99\">\n      <path clip-path=\"url(#paba0ad55b7)\" d=\"M 284.688599 239.758125 \nL 284.688599 22.318125 \n\" style=\"fill:none;stroke:#c0c0c0;stroke-linecap:square;stroke-width:0.8;\"/>\n     </g>\n     <g id=\"line2d_100\">\n      <g>\n       <use style=\"stroke:#000000;stroke-width:0.8;\" x=\"284.688599\" xlink:href=\"#mb05f71a864\" y=\"239.758125\"/>\n      </g>\n     </g>\n     <g id=\"text_50\">\n      <!-- ban -->\n      <g transform=\"translate(287.447974 265.572187)rotate(-90)scale(0.1 -0.1)\">\n       <use xlink:href=\"#DejaVuSans-62\"/>\n       <use x=\"63.476562\" xlink:href=\"#DejaVuSans-61\"/>\n       <use x=\"124.755859\" xlink:href=\"#DejaVuSans-6e\"/>\n      </g>\n     </g>\n    </g>\n    <g id=\"xtick_51\">\n     <g id=\"line2d_101\">\n      <path clip-path=\"url(#paba0ad55b7)\" d=\"M 289.099667 239.758125 \nL 289.099667 22.318125 \n\" style=\"fill:none;stroke:#c0c0c0;stroke-linecap:square;stroke-width:0.8;\"/>\n     </g>\n     <g id=\"line2d_102\">\n      <g>\n       <use style=\"stroke:#000000;stroke-width:0.8;\" x=\"289.099667\" xlink:href=\"#mb05f71a864\" y=\"239.758125\"/>\n      </g>\n     </g>\n     <g id=\"text_51\">\n      <!-- tax -->\n      <g transform=\"translate(291.859042 262.725312)rotate(-90)scale(0.1 -0.1)\">\n       <defs>\n        <path d=\"M 3513 3500 \nL 2247 1797 \nL 3578 0 \nL 2900 0 \nL 1881 1375 \nL 863 0 \nL 184 0 \nL 1544 1831 \nL 300 3500 \nL 978 3500 \nL 1906 2253 \nL 2834 3500 \nL 3513 3500 \nz\n\" id=\"DejaVuSans-78\" transform=\"scale(0.015625)\"/>\n       </defs>\n       <use xlink:href=\"#DejaVuSans-74\"/>\n       <use x=\"39.208984\" xlink:href=\"#DejaVuSans-61\"/>\n       <use x=\"100.488281\" xlink:href=\"#DejaVuSans-78\"/>\n      </g>\n     </g>\n    </g>\n    <g id=\"xtick_52\">\n     <g id=\"line2d_103\">\n      <path clip-path=\"url(#paba0ad55b7)\" d=\"M 293.510734 239.758125 \nL 293.510734 22.318125 \n\" style=\"fill:none;stroke:#c0c0c0;stroke-linecap:square;stroke-width:0.8;\"/>\n     </g>\n     <g id=\"line2d_104\">\n      <g>\n       <use style=\"stroke:#000000;stroke-width:0.8;\" x=\"293.510734\" xlink:href=\"#mb05f71a864\" y=\"239.758125\"/>\n      </g>\n     </g>\n     <g id=\"text_52\">\n      <!-- meghan -->\n      <g transform=\"translate(296.270109 287.803437)rotate(-90)scale(0.1 -0.1)\">\n       <use xlink:href=\"#DejaVuSans-6d\"/>\n       <use x=\"97.412109\" xlink:href=\"#DejaVuSans-65\"/>\n       <use x=\"158.935547\" xlink:href=\"#DejaVuSans-67\"/>\n       <use x=\"222.412109\" xlink:href=\"#DejaVuSans-68\"/>\n       <use x=\"285.791016\" xlink:href=\"#DejaVuSans-61\"/>\n       <use x=\"347.070312\" xlink:href=\"#DejaVuSans-6e\"/>\n      </g>\n     </g>\n    </g>\n    <g id=\"xtick_53\">\n     <g id=\"line2d_105\">\n      <path clip-path=\"url(#paba0ad55b7)\" d=\"M 297.921801 239.758125 \nL 297.921801 22.318125 \n\" style=\"fill:none;stroke:#c0c0c0;stroke-linecap:square;stroke-width:0.8;\"/>\n     </g>\n     <g id=\"line2d_106\">\n      <g>\n       <use style=\"stroke:#000000;stroke-width:0.8;\" x=\"297.921801\" xlink:href=\"#mb05f71a864\" y=\"239.758125\"/>\n      </g>\n     </g>\n     <g id=\"text_53\">\n      <!-- gomez -->\n      <g transform=\"translate(300.681176 280.3675)rotate(-90)scale(0.1 -0.1)\">\n       <defs>\n        <path d=\"M 353 3500 \nL 3084 3500 \nL 3084 2975 \nL 922 459 \nL 3084 459 \nL 3084 0 \nL 275 0 \nL 275 525 \nL 2438 3041 \nL 353 3041 \nL 353 3500 \nz\n\" id=\"DejaVuSans-7a\" transform=\"scale(0.015625)\"/>\n       </defs>\n       <use xlink:href=\"#DejaVuSans-67\"/>\n       <use x=\"63.476562\" xlink:href=\"#DejaVuSans-6f\"/>\n       <use x=\"124.658203\" xlink:href=\"#DejaVuSans-6d\"/>\n       <use x=\"222.070312\" xlink:href=\"#DejaVuSans-65\"/>\n       <use x=\"283.59375\" xlink:href=\"#DejaVuSans-7a\"/>\n      </g>\n     </g>\n    </g>\n    <g id=\"xtick_54\">\n     <g id=\"line2d_107\">\n      <path clip-path=\"url(#paba0ad55b7)\" d=\"M 302.332868 239.758125 \nL 302.332868 22.318125 \n\" style=\"fill:none;stroke:#c0c0c0;stroke-linecap:square;stroke-width:0.8;\"/>\n     </g>\n     <g id=\"line2d_108\">\n      <g>\n       <use style=\"stroke:#000000;stroke-width:0.8;\" x=\"302.332868\" xlink:href=\"#mb05f71a864\" y=\"239.758125\"/>\n      </g>\n     </g>\n     <g id=\"text_54\">\n      <!-- rumor -->\n      <g transform=\"translate(305.092243 277.176875)rotate(-90)scale(0.1 -0.1)\">\n       <use xlink:href=\"#DejaVuSans-72\"/>\n       <use x=\"41.113281\" xlink:href=\"#DejaVuSans-75\"/>\n       <use x=\"104.492188\" xlink:href=\"#DejaVuSans-6d\"/>\n       <use x=\"201.904297\" xlink:href=\"#DejaVuSans-6f\"/>\n       <use x=\"263.085938\" xlink:href=\"#DejaVuSans-72\"/>\n      </g>\n     </g>\n    </g>\n    <g id=\"xtick_55\">\n     <g id=\"line2d_109\">\n      <path clip-path=\"url(#paba0ad55b7)\" d=\"M 306.743935 239.758125 \nL 306.743935 22.318125 \n\" style=\"fill:none;stroke:#c0c0c0;stroke-linecap:square;stroke-width:0.8;\"/>\n     </g>\n     <g id=\"line2d_110\">\n      <g>\n       <use style=\"stroke:#000000;stroke-width:0.8;\" x=\"306.743935\" xlink:href=\"#mb05f71a864\" y=\"239.758125\"/>\n      </g>\n     </g>\n     <g id=\"text_55\">\n      <!-- hillary_clinton -->\n      <g transform=\"translate(309.364248 316.356562)rotate(-90)scale(0.1 -0.1)\">\n       <use xlink:href=\"#DejaVuSans-68\"/>\n       <use x=\"63.378906\" xlink:href=\"#DejaVuSans-69\"/>\n       <use x=\"91.162109\" xlink:href=\"#DejaVuSans-6c\"/>\n       <use x=\"118.945312\" xlink:href=\"#DejaVuSans-6c\"/>\n       <use x=\"146.728516\" xlink:href=\"#DejaVuSans-61\"/>\n       <use x=\"208.007812\" xlink:href=\"#DejaVuSans-72\"/>\n       <use x=\"249.121094\" xlink:href=\"#DejaVuSans-79\"/>\n       <use x=\"308.300781\" xlink:href=\"#DejaVuSans-5f\"/>\n       <use x=\"358.300781\" xlink:href=\"#DejaVuSans-63\"/>\n       <use x=\"413.28125\" xlink:href=\"#DejaVuSans-6c\"/>\n       <use x=\"441.064453\" xlink:href=\"#DejaVuSans-69\"/>\n       <use x=\"468.847656\" xlink:href=\"#DejaVuSans-6e\"/>\n       <use x=\"532.226562\" xlink:href=\"#DejaVuSans-74\"/>\n       <use x=\"571.435547\" xlink:href=\"#DejaVuSans-6f\"/>\n       <use x=\"632.617188\" xlink:href=\"#DejaVuSans-6e\"/>\n      </g>\n     </g>\n    </g>\n    <g id=\"xtick_56\">\n     <g id=\"line2d_111\">\n      <path clip-path=\"url(#paba0ad55b7)\" d=\"M 311.155002 239.758125 \nL 311.155002 22.318125 \n\" style=\"fill:none;stroke:#c0c0c0;stroke-linecap:square;stroke-width:0.8;\"/>\n     </g>\n     <g id=\"line2d_112\">\n      <g>\n       <use style=\"stroke:#000000;stroke-width:0.8;\" x=\"311.155002\" xlink:href=\"#mb05f71a864\" y=\"239.758125\"/>\n      </g>\n     </g>\n     <g id=\"text_56\">\n      <!-- pay -->\n      <g transform=\"translate(313.914377 265.153437)rotate(-90)scale(0.1 -0.1)\">\n       <use xlink:href=\"#DejaVuSans-70\"/>\n       <use x=\"63.476562\" xlink:href=\"#DejaVuSans-61\"/>\n       <use x=\"124.755859\" xlink:href=\"#DejaVuSans-79\"/>\n      </g>\n     </g>\n    </g>\n    <g id=\"xtick_57\">\n     <g id=\"line2d_113\">\n      <path clip-path=\"url(#paba0ad55b7)\" d=\"M 315.56607 239.758125 \nL 315.56607 22.318125 \n\" style=\"fill:none;stroke:#c0c0c0;stroke-linecap:square;stroke-width:0.8;\"/>\n     </g>\n     <g id=\"line2d_114\">\n      <g>\n       <use style=\"stroke:#000000;stroke-width:0.8;\" x=\"315.56607\" xlink:href=\"#mb05f71a864\" y=\"239.758125\"/>\n      </g>\n     </g>\n     <g id=\"text_57\">\n      <!-- selena_gomez -->\n      <g transform=\"translate(318.186382 318.126875)rotate(-90)scale(0.1 -0.1)\">\n       <use xlink:href=\"#DejaVuSans-73\"/>\n       <use x=\"52.099609\" xlink:href=\"#DejaVuSans-65\"/>\n       <use x=\"113.623047\" xlink:href=\"#DejaVuSans-6c\"/>\n       <use x=\"141.40625\" xlink:href=\"#DejaVuSans-65\"/>\n       <use x=\"202.929688\" xlink:href=\"#DejaVuSans-6e\"/>\n       <use x=\"266.308594\" xlink:href=\"#DejaVuSans-61\"/>\n       <use x=\"327.587891\" xlink:href=\"#DejaVuSans-5f\"/>\n       <use x=\"377.587891\" xlink:href=\"#DejaVuSans-67\"/>\n       <use x=\"441.064453\" xlink:href=\"#DejaVuSans-6f\"/>\n       <use x=\"502.246094\" xlink:href=\"#DejaVuSans-6d\"/>\n       <use x=\"599.658203\" xlink:href=\"#DejaVuSans-65\"/>\n       <use x=\"661.181641\" xlink:href=\"#DejaVuSans-7a\"/>\n      </g>\n     </g>\n    </g>\n    <g id=\"xtick_58\">\n     <g id=\"line2d_115\">\n      <path clip-path=\"url(#paba0ad55b7)\" d=\"M 319.977137 239.758125 \nL 319.977137 22.318125 \n\" style=\"fill:none;stroke:#c0c0c0;stroke-linecap:square;stroke-width:0.8;\"/>\n     </g>\n     <g id=\"line2d_116\">\n      <g>\n       <use style=\"stroke:#000000;stroke-width:0.8;\" x=\"319.977137\" xlink:href=\"#mb05f71a864\" y=\"239.758125\"/>\n      </g>\n     </g>\n     <g id=\"text_58\">\n      <!-- date -->\n      <g transform=\"translate(322.736512 269.308125)rotate(-90)scale(0.1 -0.1)\">\n       <use xlink:href=\"#DejaVuSans-64\"/>\n       <use x=\"63.476562\" xlink:href=\"#DejaVuSans-61\"/>\n       <use x=\"124.755859\" xlink:href=\"#DejaVuSans-74\"/>\n       <use x=\"163.964844\" xlink:href=\"#DejaVuSans-65\"/>\n      </g>\n     </g>\n    </g>\n    <g id=\"xtick_59\">\n     <g id=\"line2d_117\">\n      <path clip-path=\"url(#paba0ad55b7)\" d=\"M 324.388204 239.758125 \nL 324.388204 22.318125 \n\" style=\"fill:none;stroke:#c0c0c0;stroke-linecap:square;stroke-width:0.8;\"/>\n     </g>\n     <g id=\"line2d_118\">\n      <g>\n       <use style=\"stroke:#000000;stroke-width:0.8;\" x=\"324.388204\" xlink:href=\"#mb05f71a864\" y=\"239.758125\"/>\n      </g>\n     </g>\n     <g id=\"text_59\">\n      <!-- scott -->\n      <g transform=\"translate(327.147579 271.425313)rotate(-90)scale(0.1 -0.1)\">\n       <use xlink:href=\"#DejaVuSans-73\"/>\n       <use x=\"52.099609\" xlink:href=\"#DejaVuSans-63\"/>\n       <use x=\"107.080078\" xlink:href=\"#DejaVuSans-6f\"/>\n       <use x=\"168.261719\" xlink:href=\"#DejaVuSans-74\"/>\n       <use x=\"207.470703\" xlink:href=\"#DejaVuSans-74\"/>\n      </g>\n     </g>\n    </g>\n    <g id=\"xtick_60\">\n     <g id=\"line2d_119\">\n      <path clip-path=\"url(#paba0ad55b7)\" d=\"M 328.799271 239.758125 \nL 328.799271 22.318125 \n\" style=\"fill:none;stroke:#c0c0c0;stroke-linecap:square;stroke-width:0.8;\"/>\n     </g>\n     <g id=\"line2d_120\">\n      <g>\n       <use style=\"stroke:#000000;stroke-width:0.8;\" x=\"328.799271\" xlink:href=\"#mb05f71a864\" y=\"239.758125\"/>\n      </g>\n     </g>\n     <g id=\"text_60\">\n      <!-- bieber -->\n      <g transform=\"translate(331.558646 278.650312)rotate(-90)scale(0.1 -0.1)\">\n       <use xlink:href=\"#DejaVuSans-62\"/>\n       <use x=\"63.476562\" xlink:href=\"#DejaVuSans-69\"/>\n       <use x=\"91.259766\" xlink:href=\"#DejaVuSans-65\"/>\n       <use x=\"152.783203\" xlink:href=\"#DejaVuSans-62\"/>\n       <use x=\"216.259766\" xlink:href=\"#DejaVuSans-65\"/>\n       <use x=\"277.783203\" xlink:href=\"#DejaVuSans-72\"/>\n      </g>\n     </g>\n    </g>\n    <g id=\"xtick_61\">\n     <g id=\"line2d_121\">\n      <path clip-path=\"url(#paba0ad55b7)\" d=\"M 333.210338 239.758125 \nL 333.210338 22.318125 \n\" style=\"fill:none;stroke:#c0c0c0;stroke-linecap:square;stroke-width:0.8;\"/>\n     </g>\n     <g id=\"line2d_122\">\n      <g>\n       <use style=\"stroke:#000000;stroke-width:0.8;\" x=\"333.210338\" xlink:href=\"#mb05f71a864\" y=\"239.758125\"/>\n      </g>\n     </g>\n     <g id=\"text_61\">\n      <!-- house -->\n      <g transform=\"translate(335.969713 276.914375)rotate(-90)scale(0.1 -0.1)\">\n       <use xlink:href=\"#DejaVuSans-68\"/>\n       <use x=\"63.378906\" xlink:href=\"#DejaVuSans-6f\"/>\n       <use x=\"124.560547\" xlink:href=\"#DejaVuSans-75\"/>\n       <use x=\"187.939453\" xlink:href=\"#DejaVuSans-73\"/>\n       <use x=\"240.039062\" xlink:href=\"#DejaVuSans-65\"/>\n      </g>\n     </g>\n    </g>\n    <g id=\"xtick_62\">\n     <g id=\"line2d_123\">\n      <path clip-path=\"url(#paba0ad55b7)\" d=\"M 337.621406 239.758125 \nL 337.621406 22.318125 \n\" style=\"fill:none;stroke:#c0c0c0;stroke-linecap:square;stroke-width:0.8;\"/>\n     </g>\n     <g id=\"line2d_124\">\n      <g>\n       <use style=\"stroke:#000000;stroke-width:0.8;\" x=\"337.621406\" xlink:href=\"#mb05f71a864\" y=\"239.758125\"/>\n      </g>\n     </g>\n     <g id=\"text_62\">\n      <!-- percent -->\n      <g transform=\"translate(340.380781 285.055)rotate(-90)scale(0.1 -0.1)\">\n       <use xlink:href=\"#DejaVuSans-70\"/>\n       <use x=\"63.476562\" xlink:href=\"#DejaVuSans-65\"/>\n       <use x=\"125\" xlink:href=\"#DejaVuSans-72\"/>\n       <use x=\"163.863281\" xlink:href=\"#DejaVuSans-63\"/>\n       <use x=\"218.84375\" xlink:href=\"#DejaVuSans-65\"/>\n       <use x=\"280.367188\" xlink:href=\"#DejaVuSans-6e\"/>\n       <use x=\"343.746094\" xlink:href=\"#DejaVuSans-74\"/>\n      </g>\n     </g>\n    </g>\n    <g id=\"xtick_63\">\n     <g id=\"line2d_125\">\n      <path clip-path=\"url(#paba0ad55b7)\" d=\"M 342.032473 239.758125 \nL 342.032473 22.318125 \n\" style=\"fill:none;stroke:#c0c0c0;stroke-linecap:square;stroke-width:0.8;\"/>\n     </g>\n     <g id=\"line2d_126\">\n      <g>\n       <use style=\"stroke:#000000;stroke-width:0.8;\" x=\"342.032473\" xlink:href=\"#mb05f71a864\" y=\"239.758125\"/>\n      </g>\n     </g>\n     <g id=\"text_63\">\n      <!-- justin_bieber -->\n      <g transform=\"translate(344.652785 311.01125)rotate(-90)scale(0.1 -0.1)\">\n       <use xlink:href=\"#DejaVuSans-6a\"/>\n       <use x=\"27.783203\" xlink:href=\"#DejaVuSans-75\"/>\n       <use x=\"91.162109\" xlink:href=\"#DejaVuSans-73\"/>\n       <use x=\"143.261719\" xlink:href=\"#DejaVuSans-74\"/>\n       <use x=\"182.470703\" xlink:href=\"#DejaVuSans-69\"/>\n       <use x=\"210.253906\" xlink:href=\"#DejaVuSans-6e\"/>\n       <use x=\"273.632812\" xlink:href=\"#DejaVuSans-5f\"/>\n       <use x=\"323.632812\" xlink:href=\"#DejaVuSans-62\"/>\n       <use x=\"387.109375\" xlink:href=\"#DejaVuSans-69\"/>\n       <use x=\"414.892578\" xlink:href=\"#DejaVuSans-65\"/>\n       <use x=\"476.416016\" xlink:href=\"#DejaVuSans-62\"/>\n       <use x=\"539.892578\" xlink:href=\"#DejaVuSans-65\"/>\n       <use x=\"601.416016\" xlink:href=\"#DejaVuSans-72\"/>\n      </g>\n     </g>\n    </g>\n    <g id=\"xtick_64\">\n     <g id=\"line2d_127\">\n      <path clip-path=\"url(#paba0ad55b7)\" d=\"M 346.44354 239.758125 \nL 346.44354 22.318125 \n\" style=\"fill:none;stroke:#c0c0c0;stroke-linecap:square;stroke-width:0.8;\"/>\n     </g>\n     <g id=\"line2d_128\">\n      <g>\n       <use style=\"stroke:#000000;stroke-width:0.8;\" x=\"346.44354\" xlink:href=\"#mb05f71a864\" y=\"239.758125\"/>\n      </g>\n     </g>\n     <g id=\"text_64\">\n      <!-- markle -->\n      <g transform=\"translate(349.202915 281.459687)rotate(-90)scale(0.1 -0.1)\">\n       <use xlink:href=\"#DejaVuSans-6d\"/>\n       <use x=\"97.412109\" xlink:href=\"#DejaVuSans-61\"/>\n       <use x=\"158.691406\" xlink:href=\"#DejaVuSans-72\"/>\n       <use x=\"199.804688\" xlink:href=\"#DejaVuSans-6b\"/>\n       <use x=\"257.714844\" xlink:href=\"#DejaVuSans-6c\"/>\n       <use x=\"285.498047\" xlink:href=\"#DejaVuSans-65\"/>\n      </g>\n     </g>\n    </g>\n    <g id=\"xtick_65\">\n     <g id=\"line2d_129\">\n      <path clip-path=\"url(#paba0ad55b7)\" d=\"M 350.854607 239.758125 \nL 350.854607 22.318125 \n\" style=\"fill:none;stroke:#c0c0c0;stroke-linecap:square;stroke-width:0.8;\"/>\n     </g>\n     <g id=\"line2d_130\">\n      <g>\n       <use style=\"stroke:#000000;stroke-width:0.8;\" x=\"350.854607\" xlink:href=\"#mb05f71a864\" y=\"239.758125\"/>\n      </g>\n     </g>\n     <g id=\"text_65\">\n      <!-- black -->\n      <g transform=\"translate(353.613982 273.301875)rotate(-90)scale(0.1 -0.1)\">\n       <use xlink:href=\"#DejaVuSans-62\"/>\n       <use x=\"63.476562\" xlink:href=\"#DejaVuSans-6c\"/>\n       <use x=\"91.259766\" xlink:href=\"#DejaVuSans-61\"/>\n       <use x=\"152.539062\" xlink:href=\"#DejaVuSans-63\"/>\n       <use x=\"207.519531\" xlink:href=\"#DejaVuSans-6b\"/>\n      </g>\n     </g>\n    </g>\n    <g id=\"xtick_66\">\n     <g id=\"line2d_131\">\n      <path clip-path=\"url(#paba0ad55b7)\" d=\"M 355.265674 239.758125 \nL 355.265674 22.318125 \n\" style=\"fill:none;stroke:#c0c0c0;stroke-linecap:square;stroke-width:0.8;\"/>\n     </g>\n     <g id=\"line2d_132\">\n      <g>\n       <use style=\"stroke:#000000;stroke-width:0.8;\" x=\"355.265674\" xlink:href=\"#mb05f71a864\" y=\"239.758125\"/>\n      </g>\n     </g>\n     <g id=\"text_66\">\n      <!-- meghan_markle -->\n      <g transform=\"translate(357.885987 327.505)rotate(-90)scale(0.1 -0.1)\">\n       <use xlink:href=\"#DejaVuSans-6d\"/>\n       <use x=\"97.412109\" xlink:href=\"#DejaVuSans-65\"/>\n       <use x=\"158.935547\" xlink:href=\"#DejaVuSans-67\"/>\n       <use x=\"222.412109\" xlink:href=\"#DejaVuSans-68\"/>\n       <use x=\"285.791016\" xlink:href=\"#DejaVuSans-61\"/>\n       <use x=\"347.070312\" xlink:href=\"#DejaVuSans-6e\"/>\n       <use x=\"410.449219\" xlink:href=\"#DejaVuSans-5f\"/>\n       <use x=\"460.449219\" xlink:href=\"#DejaVuSans-6d\"/>\n       <use x=\"557.861328\" xlink:href=\"#DejaVuSans-61\"/>\n       <use x=\"619.140625\" xlink:href=\"#DejaVuSans-72\"/>\n       <use x=\"660.253906\" xlink:href=\"#DejaVuSans-6b\"/>\n       <use x=\"718.164062\" xlink:href=\"#DejaVuSans-6c\"/>\n       <use x=\"745.947266\" xlink:href=\"#DejaVuSans-65\"/>\n      </g>\n     </g>\n    </g>\n    <g id=\"xtick_67\">\n     <g id=\"line2d_133\">\n      <path clip-path=\"url(#paba0ad55b7)\" d=\"M 359.676742 239.758125 \nL 359.676742 22.318125 \n\" style=\"fill:none;stroke:#c0c0c0;stroke-linecap:square;stroke-width:0.8;\"/>\n     </g>\n     <g id=\"line2d_134\">\n      <g>\n       <use style=\"stroke:#000000;stroke-width:0.8;\" x=\"359.676742\" xlink:href=\"#mb05f71a864\" y=\"239.758125\"/>\n      </g>\n     </g>\n     <g id=\"text_67\">\n      <!-- family -->\n      <g transform=\"translate(362.436117 277.622187)rotate(-90)scale(0.1 -0.1)\">\n       <use xlink:href=\"#DejaVuSans-66\"/>\n       <use x=\"35.205078\" xlink:href=\"#DejaVuSans-61\"/>\n       <use x=\"96.484375\" xlink:href=\"#DejaVuSans-6d\"/>\n       <use x=\"193.896484\" xlink:href=\"#DejaVuSans-69\"/>\n       <use x=\"221.679688\" xlink:href=\"#DejaVuSans-6c\"/>\n       <use x=\"249.462891\" xlink:href=\"#DejaVuSans-79\"/>\n      </g>\n     </g>\n    </g>\n    <g id=\"xtick_68\">\n     <g id=\"line2d_135\">\n      <path clip-path=\"url(#paba0ad55b7)\" d=\"M 364.087809 239.758125 \nL 364.087809 22.318125 \n\" style=\"fill:none;stroke:#c0c0c0;stroke-linecap:square;stroke-width:0.8;\"/>\n     </g>\n     <g id=\"line2d_136\">\n      <g>\n       <use style=\"stroke:#000000;stroke-width:0.8;\" x=\"364.087809\" xlink:href=\"#mb05f71a864\" y=\"239.758125\"/>\n      </g>\n     </g>\n     <g id=\"text_68\">\n      <!-- illegal -->\n      <g transform=\"translate(366.847184 276.500313)rotate(-90)scale(0.1 -0.1)\">\n       <use xlink:href=\"#DejaVuSans-69\"/>\n       <use x=\"27.783203\" xlink:href=\"#DejaVuSans-6c\"/>\n       <use x=\"55.566406\" xlink:href=\"#DejaVuSans-6c\"/>\n       <use x=\"83.349609\" xlink:href=\"#DejaVuSans-65\"/>\n       <use x=\"144.873047\" xlink:href=\"#DejaVuSans-67\"/>\n       <use x=\"208.349609\" xlink:href=\"#DejaVuSans-61\"/>\n       <use x=\"269.628906\" xlink:href=\"#DejaVuSans-6c\"/>\n      </g>\n     </g>\n    </g>\n    <g id=\"xtick_69\">\n     <g id=\"line2d_137\">\n      <path clip-path=\"url(#paba0ad55b7)\" d=\"M 368.498876 239.758125 \nL 368.498876 22.318125 \n\" style=\"fill:none;stroke:#c0c0c0;stroke-linecap:square;stroke-width:0.8;\"/>\n     </g>\n     <g id=\"line2d_138\">\n      <g>\n       <use style=\"stroke:#000000;stroke-width:0.8;\" x=\"368.498876\" xlink:href=\"#mb05f71a864\" y=\"239.758125\"/>\n      </g>\n     </g>\n     <g id=\"text_69\">\n      <!-- s -->\n      <g transform=\"translate(371.258251 251.9675)rotate(-90)scale(0.1 -0.1)\">\n       <use xlink:href=\"#DejaVuSans-73\"/>\n      </g>\n     </g>\n    </g>\n    <g id=\"xtick_70\">\n     <g id=\"line2d_139\">\n      <path clip-path=\"url(#paba0ad55b7)\" d=\"M 372.909943 239.758125 \nL 372.909943 22.318125 \n\" style=\"fill:none;stroke:#c0c0c0;stroke-linecap:square;stroke-width:0.8;\"/>\n     </g>\n     <g id=\"line2d_140\">\n      <g>\n       <use style=\"stroke:#000000;stroke-width:0.8;\" x=\"372.909943\" xlink:href=\"#mb05f71a864\" y=\"239.758125\"/>\n      </g>\n     </g>\n     <g id=\"text_70\">\n      <!-- news -->\n      <g transform=\"translate(375.669318 272.63625)rotate(-90)scale(0.1 -0.1)\">\n       <use xlink:href=\"#DejaVuSans-6e\"/>\n       <use x=\"63.378906\" xlink:href=\"#DejaVuSans-65\"/>\n       <use x=\"124.902344\" xlink:href=\"#DejaVuSans-77\"/>\n       <use x=\"206.689453\" xlink:href=\"#DejaVuSans-73\"/>\n      </g>\n     </g>\n    </g>\n    <g id=\"text_71\">\n     <!-- Samples -->\n     <g transform=\"translate(199.375 339.103437)scale(0.1 -0.1)\">\n      <defs>\n       <path d=\"M 3425 4513 \nL 3425 3897 \nQ 3066 4069 2747 4153 \nQ 2428 4238 2131 4238 \nQ 1616 4238 1336 4038 \nQ 1056 3838 1056 3469 \nQ 1056 3159 1242 3001 \nQ 1428 2844 1947 2747 \nL 2328 2669 \nQ 3034 2534 3370 2195 \nQ 3706 1856 3706 1288 \nQ 3706 609 3251 259 \nQ 2797 -91 1919 -91 \nQ 1588 -91 1214 -16 \nQ 841 59 441 206 \nL 441 856 \nQ 825 641 1194 531 \nQ 1563 422 1919 422 \nQ 2459 422 2753 634 \nQ 3047 847 3047 1241 \nQ 3047 1584 2836 1778 \nQ 2625 1972 2144 2069 \nL 1759 2144 \nQ 1053 2284 737 2584 \nQ 422 2884 422 3419 \nQ 422 4038 858 4394 \nQ 1294 4750 2059 4750 \nQ 2388 4750 2728 4690 \nQ 3069 4631 3425 4513 \nz\n\" id=\"DejaVuSans-53\" transform=\"scale(0.015625)\"/>\n      </defs>\n      <use xlink:href=\"#DejaVuSans-53\"/>\n      <use x=\"63.476562\" xlink:href=\"#DejaVuSans-61\"/>\n      <use x=\"124.755859\" xlink:href=\"#DejaVuSans-6d\"/>\n      <use x=\"222.167969\" xlink:href=\"#DejaVuSans-70\"/>\n      <use x=\"285.644531\" xlink:href=\"#DejaVuSans-6c\"/>\n      <use x=\"313.427734\" xlink:href=\"#DejaVuSans-65\"/>\n      <use x=\"374.951172\" xlink:href=\"#DejaVuSans-73\"/>\n     </g>\n    </g>\n   </g>\n   <g id=\"matplotlib.axis_2\">\n    <g id=\"ytick_1\">\n     <g id=\"line2d_141\">\n      <path clip-path=\"url(#paba0ad55b7)\" d=\"M 53.328125 215.433727 \nL 388.128125 215.433727 \n\" style=\"fill:none;stroke:#c0c0c0;stroke-linecap:square;stroke-width:0.8;\"/>\n     </g>\n     <g id=\"line2d_142\">\n      <defs>\n       <path d=\"M 0 0 \nL -3.5 0 \n\" id=\"m2d57eca5d0\" style=\"stroke:#000000;stroke-width:0.8;\"/>\n      </defs>\n      <g>\n       <use style=\"stroke:#000000;stroke-width:0.8;\" x=\"53.328125\" xlink:href=\"#m2d57eca5d0\" y=\"215.433727\"/>\n      </g>\n     </g>\n     <g id=\"text_72\">\n      <!-- 200 -->\n      <g transform=\"translate(27.240625 219.232945)scale(0.1 -0.1)\">\n       <defs>\n        <path d=\"M 1228 531 \nL 3431 531 \nL 3431 0 \nL 469 0 \nL 469 531 \nQ 828 903 1448 1529 \nQ 2069 2156 2228 2338 \nQ 2531 2678 2651 2914 \nQ 2772 3150 2772 3378 \nQ 2772 3750 2511 3984 \nQ 2250 4219 1831 4219 \nQ 1534 4219 1204 4116 \nQ 875 4013 500 3803 \nL 500 4441 \nQ 881 4594 1212 4672 \nQ 1544 4750 1819 4750 \nQ 2544 4750 2975 4387 \nQ 3406 4025 3406 3419 \nQ 3406 3131 3298 2873 \nQ 3191 2616 2906 2266 \nQ 2828 2175 2409 1742 \nQ 1991 1309 1228 531 \nz\n\" id=\"DejaVuSans-32\" transform=\"scale(0.015625)\"/>\n        <path d=\"M 2034 4250 \nQ 1547 4250 1301 3770 \nQ 1056 3291 1056 2328 \nQ 1056 1369 1301 889 \nQ 1547 409 2034 409 \nQ 2525 409 2770 889 \nQ 3016 1369 3016 2328 \nQ 3016 3291 2770 3770 \nQ 2525 4250 2034 4250 \nz\nM 2034 4750 \nQ 2819 4750 3233 4129 \nQ 3647 3509 3647 2328 \nQ 3647 1150 3233 529 \nQ 2819 -91 2034 -91 \nQ 1250 -91 836 529 \nQ 422 1150 422 2328 \nQ 422 3509 836 4129 \nQ 1250 4750 2034 4750 \nz\n\" id=\"DejaVuSans-30\" transform=\"scale(0.015625)\"/>\n       </defs>\n       <use xlink:href=\"#DejaVuSans-32\"/>\n       <use x=\"63.623047\" xlink:href=\"#DejaVuSans-30\"/>\n       <use x=\"127.246094\" xlink:href=\"#DejaVuSans-30\"/>\n      </g>\n     </g>\n    </g>\n    <g id=\"ytick_2\">\n     <g id=\"line2d_143\">\n      <path clip-path=\"url(#paba0ad55b7)\" d=\"M 53.328125 168.086966 \nL 388.128125 168.086966 \n\" style=\"fill:none;stroke:#c0c0c0;stroke-linecap:square;stroke-width:0.8;\"/>\n     </g>\n     <g id=\"line2d_144\">\n      <g>\n       <use style=\"stroke:#000000;stroke-width:0.8;\" x=\"53.328125\" xlink:href=\"#m2d57eca5d0\" y=\"168.086966\"/>\n      </g>\n     </g>\n     <g id=\"text_73\">\n      <!-- 400 -->\n      <g transform=\"translate(27.240625 171.886184)scale(0.1 -0.1)\">\n       <defs>\n        <path d=\"M 2419 4116 \nL 825 1625 \nL 2419 1625 \nL 2419 4116 \nz\nM 2253 4666 \nL 3047 4666 \nL 3047 1625 \nL 3713 1625 \nL 3713 1100 \nL 3047 1100 \nL 3047 0 \nL 2419 0 \nL 2419 1100 \nL 313 1100 \nL 313 1709 \nL 2253 4666 \nz\n\" id=\"DejaVuSans-34\" transform=\"scale(0.015625)\"/>\n       </defs>\n       <use xlink:href=\"#DejaVuSans-34\"/>\n       <use x=\"63.623047\" xlink:href=\"#DejaVuSans-30\"/>\n       <use x=\"127.246094\" xlink:href=\"#DejaVuSans-30\"/>\n      </g>\n     </g>\n    </g>\n    <g id=\"ytick_3\">\n     <g id=\"line2d_145\">\n      <path clip-path=\"url(#paba0ad55b7)\" d=\"M 53.328125 120.740204 \nL 388.128125 120.740204 \n\" style=\"fill:none;stroke:#c0c0c0;stroke-linecap:square;stroke-width:0.8;\"/>\n     </g>\n     <g id=\"line2d_146\">\n      <g>\n       <use style=\"stroke:#000000;stroke-width:0.8;\" x=\"53.328125\" xlink:href=\"#m2d57eca5d0\" y=\"120.740204\"/>\n      </g>\n     </g>\n     <g id=\"text_74\">\n      <!-- 600 -->\n      <g transform=\"translate(27.240625 124.539423)scale(0.1 -0.1)\">\n       <defs>\n        <path d=\"M 2113 2584 \nQ 1688 2584 1439 2293 \nQ 1191 2003 1191 1497 \nQ 1191 994 1439 701 \nQ 1688 409 2113 409 \nQ 2538 409 2786 701 \nQ 3034 994 3034 1497 \nQ 3034 2003 2786 2293 \nQ 2538 2584 2113 2584 \nz\nM 3366 4563 \nL 3366 3988 \nQ 3128 4100 2886 4159 \nQ 2644 4219 2406 4219 \nQ 1781 4219 1451 3797 \nQ 1122 3375 1075 2522 \nQ 1259 2794 1537 2939 \nQ 1816 3084 2150 3084 \nQ 2853 3084 3261 2657 \nQ 3669 2231 3669 1497 \nQ 3669 778 3244 343 \nQ 2819 -91 2113 -91 \nQ 1303 -91 875 529 \nQ 447 1150 447 2328 \nQ 447 3434 972 4092 \nQ 1497 4750 2381 4750 \nQ 2619 4750 2861 4703 \nQ 3103 4656 3366 4563 \nz\n\" id=\"DejaVuSans-36\" transform=\"scale(0.015625)\"/>\n       </defs>\n       <use xlink:href=\"#DejaVuSans-36\"/>\n       <use x=\"63.623047\" xlink:href=\"#DejaVuSans-30\"/>\n       <use x=\"127.246094\" xlink:href=\"#DejaVuSans-30\"/>\n      </g>\n     </g>\n    </g>\n    <g id=\"ytick_4\">\n     <g id=\"line2d_147\">\n      <path clip-path=\"url(#paba0ad55b7)\" d=\"M 53.328125 73.393443 \nL 388.128125 73.393443 \n\" style=\"fill:none;stroke:#c0c0c0;stroke-linecap:square;stroke-width:0.8;\"/>\n     </g>\n     <g id=\"line2d_148\">\n      <g>\n       <use style=\"stroke:#000000;stroke-width:0.8;\" x=\"53.328125\" xlink:href=\"#m2d57eca5d0\" y=\"73.393443\"/>\n      </g>\n     </g>\n     <g id=\"text_75\">\n      <!-- 800 -->\n      <g transform=\"translate(27.240625 77.192662)scale(0.1 -0.1)\">\n       <defs>\n        <path d=\"M 2034 2216 \nQ 1584 2216 1326 1975 \nQ 1069 1734 1069 1313 \nQ 1069 891 1326 650 \nQ 1584 409 2034 409 \nQ 2484 409 2743 651 \nQ 3003 894 3003 1313 \nQ 3003 1734 2745 1975 \nQ 2488 2216 2034 2216 \nz\nM 1403 2484 \nQ 997 2584 770 2862 \nQ 544 3141 544 3541 \nQ 544 4100 942 4425 \nQ 1341 4750 2034 4750 \nQ 2731 4750 3128 4425 \nQ 3525 4100 3525 3541 \nQ 3525 3141 3298 2862 \nQ 3072 2584 2669 2484 \nQ 3125 2378 3379 2068 \nQ 3634 1759 3634 1313 \nQ 3634 634 3220 271 \nQ 2806 -91 2034 -91 \nQ 1263 -91 848 271 \nQ 434 634 434 1313 \nQ 434 1759 690 2068 \nQ 947 2378 1403 2484 \nz\nM 1172 3481 \nQ 1172 3119 1398 2916 \nQ 1625 2713 2034 2713 \nQ 2441 2713 2670 2916 \nQ 2900 3119 2900 3481 \nQ 2900 3844 2670 4047 \nQ 2441 4250 2034 4250 \nQ 1625 4250 1398 4047 \nQ 1172 3844 1172 3481 \nz\n\" id=\"DejaVuSans-38\" transform=\"scale(0.015625)\"/>\n       </defs>\n       <use xlink:href=\"#DejaVuSans-38\"/>\n       <use x=\"63.623047\" xlink:href=\"#DejaVuSans-30\"/>\n       <use x=\"127.246094\" xlink:href=\"#DejaVuSans-30\"/>\n      </g>\n     </g>\n    </g>\n    <g id=\"ytick_5\">\n     <g id=\"line2d_149\">\n      <path clip-path=\"url(#paba0ad55b7)\" d=\"M 53.328125 26.046682 \nL 388.128125 26.046682 \n\" style=\"fill:none;stroke:#c0c0c0;stroke-linecap:square;stroke-width:0.8;\"/>\n     </g>\n     <g id=\"line2d_150\">\n      <g>\n       <use style=\"stroke:#000000;stroke-width:0.8;\" x=\"53.328125\" xlink:href=\"#m2d57eca5d0\" y=\"26.046682\"/>\n      </g>\n     </g>\n     <g id=\"text_76\">\n      <!-- 1000 -->\n      <g transform=\"translate(20.878125 29.845901)scale(0.1 -0.1)\">\n       <defs>\n        <path d=\"M 794 531 \nL 1825 531 \nL 1825 4091 \nL 703 3866 \nL 703 4441 \nL 1819 4666 \nL 2450 4666 \nL 2450 531 \nL 3481 531 \nL 3481 0 \nL 794 0 \nL 794 531 \nz\n\" id=\"DejaVuSans-31\" transform=\"scale(0.015625)\"/>\n       </defs>\n       <use xlink:href=\"#DejaVuSans-31\"/>\n       <use x=\"63.623047\" xlink:href=\"#DejaVuSans-30\"/>\n       <use x=\"127.246094\" xlink:href=\"#DejaVuSans-30\"/>\n       <use x=\"190.869141\" xlink:href=\"#DejaVuSans-30\"/>\n      </g>\n     </g>\n    </g>\n    <g id=\"text_77\">\n     <!-- Counts -->\n     <g transform=\"translate(14.798438 148.49125)rotate(-90)scale(0.1 -0.1)\">\n      <defs>\n       <path d=\"M 4122 4306 \nL 4122 3641 \nQ 3803 3938 3442 4084 \nQ 3081 4231 2675 4231 \nQ 1875 4231 1450 3742 \nQ 1025 3253 1025 2328 \nQ 1025 1406 1450 917 \nQ 1875 428 2675 428 \nQ 3081 428 3442 575 \nQ 3803 722 4122 1019 \nL 4122 359 \nQ 3791 134 3420 21 \nQ 3050 -91 2638 -91 \nQ 1578 -91 968 557 \nQ 359 1206 359 2328 \nQ 359 3453 968 4101 \nQ 1578 4750 2638 4750 \nQ 3056 4750 3426 4639 \nQ 3797 4528 4122 4306 \nz\n\" id=\"DejaVuSans-43\" transform=\"scale(0.015625)\"/>\n      </defs>\n      <use xlink:href=\"#DejaVuSans-43\"/>\n      <use x=\"69.824219\" xlink:href=\"#DejaVuSans-6f\"/>\n      <use x=\"131.005859\" xlink:href=\"#DejaVuSans-75\"/>\n      <use x=\"194.384766\" xlink:href=\"#DejaVuSans-6e\"/>\n      <use x=\"257.763672\" xlink:href=\"#DejaVuSans-74\"/>\n      <use x=\"296.972656\" xlink:href=\"#DejaVuSans-73\"/>\n     </g>\n    </g>\n   </g>\n   <g id=\"line2d_151\">\n    <path clip-path=\"url(#paba0ad55b7)\" d=\"M 68.546307 32.201761 \nL 72.957374 59.662883 \nL 77.368441 152.462534 \nL 81.779508 154.829872 \nL 86.190576 164.535958 \nL 90.601643 169.033901 \nL 95.01271 176.372649 \nL 99.423777 178.739987 \nL 103.834844 181.580792 \nL 108.245912 184.658332 \nL 112.656979 187.262404 \nL 117.068046 188.682807 \nL 121.479113 195.311353 \nL 125.89018 196.021555 \nL 130.301248 197.441957 \nL 134.712315 199.099094 \nL 139.123382 200.046029 \nL 143.534449 200.756231 \nL 147.945516 201.9399 \nL 152.356583 202.413367 \nL 156.767651 203.597036 \nL 161.178718 205.017439 \nL 165.589785 205.727641 \nL 170.000852 209.041914 \nL 174.411919 209.752115 \nL 178.822987 211.882719 \nL 183.234054 211.882719 \nL 187.645121 212.119453 \nL 192.056188 213.303122 \nL 196.467255 214.723525 \nL 200.878323 214.723525 \nL 205.28939 214.723525 \nL 209.700457 215.433727 \nL 214.111524 216.143928 \nL 218.522591 216.617396 \nL 222.933659 216.617396 \nL 227.344726 217.564331 \nL 231.755793 218.274532 \nL 236.16686 218.511266 \nL 240.577927 219.221467 \nL 244.988995 220.878604 \nL 249.400062 220.878604 \nL 253.811129 221.352072 \nL 258.222196 221.825539 \nL 262.633263 222.062273 \nL 267.044331 222.299007 \nL 271.455398 222.299007 \nL 275.866465 222.535741 \nL 280.277532 222.535741 \nL 284.688599 223.009208 \nL 289.099667 224.429611 \nL 293.510734 224.429611 \nL 297.921801 224.666345 \nL 302.332868 225.139813 \nL 306.743935 225.139813 \nL 311.155002 225.61328 \nL 315.56607 225.61328 \nL 319.977137 226.086748 \nL 324.388204 226.086748 \nL 328.799271 226.323482 \nL 333.210338 226.560215 \nL 337.621406 226.560215 \nL 342.032473 227.033683 \nL 346.44354 227.507151 \nL 350.854607 228.454086 \nL 355.265674 229.164287 \nL 359.676742 229.164287 \nL 364.087809 229.401021 \nL 368.498876 229.637755 \nL 372.909943 229.874489 \n\" style=\"fill:none;stroke:#1f77b4;stroke-linecap:square;stroke-width:2;\"/>\n   </g>\n   <g id=\"patch_3\">\n    <path d=\"M 53.328125 239.758125 \nL 53.328125 22.318125 \n\" style=\"fill:none;stroke:#000000;stroke-linecap:square;stroke-linejoin:miter;stroke-width:0.8;\"/>\n   </g>\n   <g id=\"patch_4\">\n    <path d=\"M 388.128125 239.758125 \nL 388.128125 22.318125 \n\" style=\"fill:none;stroke:#000000;stroke-linecap:square;stroke-linejoin:miter;stroke-width:0.8;\"/>\n   </g>\n   <g id=\"patch_5\">\n    <path d=\"M 53.328125 239.758125 \nL 388.128125 239.758125 \n\" style=\"fill:none;stroke:#000000;stroke-linecap:square;stroke-linejoin:miter;stroke-width:0.8;\"/>\n   </g>\n   <g id=\"patch_6\">\n    <path d=\"M 53.328125 22.318125 \nL 388.128125 22.318125 \n\" style=\"fill:none;stroke:#000000;stroke-linecap:square;stroke-linejoin:miter;stroke-width:0.8;\"/>\n   </g>\n   <g id=\"text_78\">\n    <!-- Frequency distribution fake news -->\n    <g transform=\"translate(121.555625 16.318125)scale(0.12 -0.12)\">\n     <defs>\n      <path d=\"M 628 4666 \nL 3309 4666 \nL 3309 4134 \nL 1259 4134 \nL 1259 2759 \nL 3109 2759 \nL 3109 2228 \nL 1259 2228 \nL 1259 0 \nL 628 0 \nL 628 4666 \nz\n\" id=\"DejaVuSans-46\" transform=\"scale(0.015625)\"/>\n      <path d=\"M 947 1747 \nQ 947 1113 1208 752 \nQ 1469 391 1925 391 \nQ 2381 391 2643 752 \nQ 2906 1113 2906 1747 \nQ 2906 2381 2643 2742 \nQ 2381 3103 1925 3103 \nQ 1469 3103 1208 2742 \nQ 947 2381 947 1747 \nz\nM 2906 525 \nQ 2725 213 2448 61 \nQ 2172 -91 1784 -91 \nQ 1150 -91 751 415 \nQ 353 922 353 1747 \nQ 353 2572 751 3078 \nQ 1150 3584 1784 3584 \nQ 2172 3584 2448 3432 \nQ 2725 3281 2906 2969 \nL 2906 3500 \nL 3481 3500 \nL 3481 -1331 \nL 2906 -1331 \nL 2906 525 \nz\n\" id=\"DejaVuSans-71\" transform=\"scale(0.015625)\"/>\n      <path id=\"DejaVuSans-20\" transform=\"scale(0.015625)\"/>\n     </defs>\n     <use xlink:href=\"#DejaVuSans-46\"/>\n     <use x=\"50.269531\" xlink:href=\"#DejaVuSans-72\"/>\n     <use x=\"89.132812\" xlink:href=\"#DejaVuSans-65\"/>\n     <use x=\"150.65625\" xlink:href=\"#DejaVuSans-71\"/>\n     <use x=\"214.132812\" xlink:href=\"#DejaVuSans-75\"/>\n     <use x=\"277.511719\" xlink:href=\"#DejaVuSans-65\"/>\n     <use x=\"339.035156\" xlink:href=\"#DejaVuSans-6e\"/>\n     <use x=\"402.414062\" xlink:href=\"#DejaVuSans-63\"/>\n     <use x=\"457.394531\" xlink:href=\"#DejaVuSans-79\"/>\n     <use x=\"516.574219\" xlink:href=\"#DejaVuSans-20\"/>\n     <use x=\"548.361328\" xlink:href=\"#DejaVuSans-64\"/>\n     <use x=\"611.837891\" xlink:href=\"#DejaVuSans-69\"/>\n     <use x=\"639.621094\" xlink:href=\"#DejaVuSans-73\"/>\n     <use x=\"691.720703\" xlink:href=\"#DejaVuSans-74\"/>\n     <use x=\"730.929688\" xlink:href=\"#DejaVuSans-72\"/>\n     <use x=\"772.042969\" xlink:href=\"#DejaVuSans-69\"/>\n     <use x=\"799.826172\" xlink:href=\"#DejaVuSans-62\"/>\n     <use x=\"863.302734\" xlink:href=\"#DejaVuSans-75\"/>\n     <use x=\"926.681641\" xlink:href=\"#DejaVuSans-74\"/>\n     <use x=\"965.890625\" xlink:href=\"#DejaVuSans-69\"/>\n     <use x=\"993.673828\" xlink:href=\"#DejaVuSans-6f\"/>\n     <use x=\"1054.855469\" xlink:href=\"#DejaVuSans-6e\"/>\n     <use x=\"1118.234375\" xlink:href=\"#DejaVuSans-20\"/>\n     <use x=\"1150.021484\" xlink:href=\"#DejaVuSans-66\"/>\n     <use x=\"1185.226562\" xlink:href=\"#DejaVuSans-61\"/>\n     <use x=\"1246.505859\" xlink:href=\"#DejaVuSans-6b\"/>\n     <use x=\"1300.791016\" xlink:href=\"#DejaVuSans-65\"/>\n     <use x=\"1362.314453\" xlink:href=\"#DejaVuSans-20\"/>\n     <use x=\"1394.101562\" xlink:href=\"#DejaVuSans-6e\"/>\n     <use x=\"1457.480469\" xlink:href=\"#DejaVuSans-65\"/>\n     <use x=\"1519.003906\" xlink:href=\"#DejaVuSans-77\"/>\n     <use x=\"1600.791016\" xlink:href=\"#DejaVuSans-73\"/>\n    </g>\n   </g>\n  </g>\n </g>\n <defs>\n  <clipPath id=\"paba0ad55b7\">\n   <rect height=\"217.44\" width=\"334.8\" x=\"53.328125\" y=\"22.318125\"/>\n  </clipPath>\n </defs>\n</svg>\n",
      "image/png": "[encoded data removed]"
     },
     "metadata": {
      "needs_background": "light"
     }
    },
    {
     "output_type": "execute_result",
     "data": {
      "text/plain": [
       "<AxesSubplot:title={'center':'Frequency distribution fake news'}, xlabel='Samples', ylabel='Counts'>"
      ]
     },
     "metadata": {},
     "execution_count": 119
    }
   ],
   "source": [
    "import nltk\n",
    "from nltk import FreqDist\n",
    "fdist_filtered = FreqDist(counts_fake)\n",
    "fdist_filtered.plot(70,title='Frequency distribution fake news')"
   ]
  },
  {
   "cell_type": "code",
   "execution_count": 103,
   "metadata": {},
   "outputs": [],
   "source": [
    "def text_preprocessing(corpus):\n",
    "    corpus = [text.lower() for text in corpus]\n",
    "    corpus = [remove_urls(text) for text in corpus]\n",
    "    corpus = [remove_single_char(text) for text in corpus]\n",
    "    corpus = [remove_numbers(text) for text in corpus]\n",
    "    corpus = [remove_emojis(text) for text in corpus]\n",
    "    corpus = [remove_nonalpha(text) for text in corpus]\n",
    "    corpus = [text.encode(\"ascii\", \"ignore\") for text in corpus]\n",
    "    corpus = [text.decode() for text in corpus]\n",
    "    corpus = [remove_extra_spaces(text) for text in corpus]\n",
    "    # corpus = [remove_special_names(text) for text in corpus]\n",
    "\n",
    "    corpus = strip_list_noempty(corpus)\n",
    "\n",
    "    processed_texts = [text for text in nlp.pipe(corpus,  disable=[\"ner\", \"parser\"])]\n",
    "    tokenized_texts = [[word.lemma_ for word in lemma_ if not word.is_punct if not word.is_stop] for lemma_ in notebook.tqdm(processed_texts)]\n",
    "    tokenized_texts = make_n_grams(tokenized_texts)\n",
    "    \n",
    "    flatten = lambda t: [item for sublist in t for item in sublist]\n",
    "    flat_fake = flatten(tokenized_texts)\n",
    "    counts = Counter(flat_fake)\n",
    "    total_words = sum(counts.values()) \n",
    "    for word in counts:\n",
    "        counts[word] = counts[word] #* (10000) / total_words\n",
    "    return counts, counts.most_common(), flat_fake, tokenized_texts"
   ]
  },
  {
   "cell_type": "code",
   "execution_count": 104,
   "metadata": {},
   "outputs": [
    {
     "output_type": "display_data",
     "data": {
      "text/plain": "  0%|          | 0/14085 [00:00<?, ?it/s]",
      "application/vnd.jupyter.widget-view+json": {
       "version_major": 2,
       "version_minor": 0,
       "model_id": "df4dcc73a1db4d0a959b5c6f9599cc17"
      }
     },
     "metadata": {}
    }
   ],
   "source": [
    "real = text_preprocessing(true_text_list)"
   ]
  },
  {
   "cell_type": "code",
   "execution_count": 106,
   "metadata": {},
   "outputs": [],
   "source": [
    "counts_real, common_real, flat_real, tokenized_texts_real = real"
   ]
  },
  {
   "cell_type": "code",
   "execution_count": 107,
   "metadata": {},
   "outputs": [
    {
     "output_type": "execute_result",
     "data": {
      "text/plain": [
       "[('new', 690),\n",
       " ('say', 648),\n",
       " ('star', 619),\n",
       " ('kardashian', 566),\n",
       " ('year', 558),\n",
       " ('award', 445),\n",
       " ('reveal', 435),\n",
       " ('baby', 397),\n",
       " ('season', 384),\n",
       " ('wedding', 352),\n",
       " ('trump', 348),\n",
       " ('kim', 333),\n",
       " ('get', 324),\n",
       " ('look', 321),\n",
       " ('time', 320),\n",
       " ('watch', 319),\n",
       " ('good', 310),\n",
       " ('photo', 304),\n",
       " ('prince', 298),\n",
       " ('jenner', 293)]"
      ]
     },
     "metadata": {},
     "execution_count": 107
    }
   ],
   "source": [
    "common_real[:20]"
   ]
  },
  {
   "cell_type": "code",
   "execution_count": 122,
   "metadata": {},
   "outputs": [],
   "source": [
    "from gensim.models import LdaMulticore\n",
    "\n",
    "def compute_coherence_values(texts, start, step, limit, topn):\n",
    "    dictionary = Dictionary(texts) # get the vocabulary\n",
    "    dictionary.filter_extremes(no_below=5, no_above=0.5)\n",
    "    corpus = [dictionary.doc2bow(text) for text in texts]\n",
    "    \n",
    "    coherence_values = []\n",
    "    model_list = []\n",
    "    for num_topics in range(start, limit, step):\n",
    "        model = LdaMulticore( corpus=corpus, num_topics=num_topics, id2word=dictionary, alpha = 0.01, iterations = 400)\n",
    "        model_list.append(model)\n",
    "        coherencemodel = CoherenceModel(model=model, texts=texts, dictionary=dictionary, coherence='c_v', topn=topn)\n",
    "        coherence_values.append(coherencemodel.get_coherence())\n",
    "\n",
    "    return model_list, coherence_values"
   ]
  },
  {
   "cell_type": "code",
   "execution_count": 123,
   "metadata": {},
   "outputs": [],
   "source": [
    "model_list, coherence_values = compute_coherence_values(texts=tokenized_texts_fake, start=1, step=1, limit= 40, topn=5)\n"
   ]
  },
  {
   "cell_type": "code",
   "execution_count": 124,
   "metadata": {},
   "outputs": [
    {
     "output_type": "execute_result",
     "data": {
      "text/plain": [
       "[0.1686529780150101,\n",
       " 0.24132470350272492,\n",
       " 0.20962482417354458,\n",
       " 0.15753195786838678,\n",
       " 0.2478746087794057,\n",
       " 0.2030974235959299,\n",
       " 0.27913611745430555,\n",
       " 0.276579657627821,\n",
       " 0.24411722840841976,\n",
       " 0.26793785632174644,\n",
       " 0.3419845720176992,\n",
       " 0.2743111979649075,\n",
       " 0.26305930018507234,\n",
       " 0.3452015256286405,\n",
       " 0.3121930045720065,\n",
       " 0.3645051139261445,\n",
       " 0.3867926236667265,\n",
       " 0.28832304035012535,\n",
       " 0.3960848044969657,\n",
       " 0.37769666821891884,\n",
       " 0.3018142551829081,\n",
       " 0.3559199071084276,\n",
       " 0.3706429014767372,\n",
       " 0.36105897933252756,\n",
       " 0.3466089591397596,\n",
       " 0.32571885748741686,\n",
       " 0.35606909395044367,\n",
       " 0.38120430929625154,\n",
       " 0.3586452211099456,\n",
       " 0.42339243891166467,\n",
       " 0.3795594953427823,\n",
       " 0.3477189207461422,\n",
       " 0.3564021008457257,\n",
       " 0.31259420399558996,\n",
       " 0.3419314251226322,\n",
       " 0.3718825279216171,\n",
       " 0.3684750976646342,\n",
       " 0.3839738106431608,\n",
       " 0.34657915614432605]"
      ]
     },
     "metadata": {},
     "execution_count": 124
    }
   ],
   "source": [
    "coherence_values"
   ]
  },
  {
   "source": [
    "At this point the coherence scores are low, meaning there's not much confidence in the topics modelled. What if we merge the politifact dataset"
   ],
   "cell_type": "markdown",
   "metadata": {}
  },
  {
   "cell_type": "code",
   "execution_count": 377,
   "metadata": {},
   "outputs": [],
   "source": [
    "def cleanup(text):\n",
    "    res = remove_mention(text)\n",
    "    res = remove_non_ascii(text)\n",
    "    res = res.lower()\n",
    "    res = remove_urls(res)\n",
    "    res = remove_rt(res)\n",
    "    res = remove_single_char(res)\n",
    "    res = remove_numbers(res)\n",
    "    res = remove_emojis(res)\n",
    "    res = remove_nonalpha(res)\n",
    "    res = remove_extra_spaces(res)\n",
    "    return res"
   ]
  },
  {
   "cell_type": "code",
   "execution_count": 378,
   "metadata": {},
   "outputs": [],
   "source": [
    "pf = pd.read_csv('processed-data/tweet_times/politifact_fake_tweet_times.csv')"
   ]
  },
  {
   "cell_type": "code",
   "execution_count": 379,
   "metadata": {
    "tags": []
   },
   "outputs": [],
   "source": [
    "cleaned_pf_text = []\n",
    "for item in pf.text:\n",
    "    cleaned_pf_text.append(cleanup(item))\n",
    "pf.text = cleaned_pf_text"
   ]
  },
  {
   "cell_type": "code",
   "execution_count": 380,
   "metadata": {},
   "outputs": [],
   "source": []
  },
  {
   "cell_type": "code",
   "execution_count": 381,
   "metadata": {
    "tags": []
   },
   "outputs": [],
   "source": [
    "# cleaned_nd_text = []\n",
    "# for item in new_dataset.claim_text:\n",
    "#     cleaned_nd_text.append(cleanup(item))"
   ]
  },
  {
   "cell_type": "code",
   "execution_count": 219,
   "metadata": {},
   "outputs": [],
   "source": [
    "# new_dataset.claim_text = cleaned_nd_text"
   ]
  },
  {
   "cell_type": "code",
   "execution_count": 220,
   "metadata": {},
   "outputs": [
    {
     "output_type": "execute_result",
     "data": {
      "text/plain": [
       "25085"
      ]
     },
     "metadata": {},
     "execution_count": 220
    }
   ],
   "source": [
    "# len(new_dataset.claim_text.unique())"
   ]
  },
  {
   "cell_type": "code",
   "execution_count": 383,
   "metadata": {},
   "outputs": [],
   "source": [
    "pf = pf.drop_duplicates(subset=['text'], keep='first')\n",
    "pf = pf.sort_values('text')"
   ]
  },
  {
   "cell_type": "code",
   "execution_count": 384,
   "metadata": {
    "tags": []
   },
   "outputs": [],
   "source": [
    "pf.reset_index(drop=True, inplace=True)\n",
    "for index, item in pf.iterrows():\n",
    "    if index < len(pf)-1:\n",
    "        if similar(pf.loc[index,'text'], pf.loc[index+1,'text']) > 0.90:\n",
    "            pf.drop(index, inplace = True)\n"
   ]
  },
  {
   "cell_type": "code",
   "execution_count": 386,
   "metadata": {},
   "outputs": [],
   "source": [
    "pf = pf[pf.text.notnull()]\n",
    "pf = pf[pf.text != \"\"]\n",
    "pf = pf[pf.text.str.len() > 15]"
   ]
  },
  {
   "cell_type": "code",
   "execution_count": 387,
   "metadata": {},
   "outputs": [
    {
     "output_type": "execute_result",
     "data": {
      "text/plain": [
       "      Unnamed: 0                created_at  \\\n",
       "2          38867  2016-06-21T14:22:52.000Z   \n",
       "3          38940  2017-07-01T17:31:55.000Z   \n",
       "4          38944  2017-07-02T00:46:24.000Z   \n",
       "5          38905  2017-06-22T22:49:41.000Z   \n",
       "6          38911  2017-06-26T20:53:35.000Z   \n",
       "...          ...                       ...   \n",
       "37312      61015  2017-01-28T07:42:18.000Z   \n",
       "37313      16250  2018-04-11T14:13:38.000Z   \n",
       "37314      20730  2018-07-17T11:39:18.000Z   \n",
       "37316      25643  2018-07-20T15:51:21.000Z   \n",
       "37317      45603  2018-06-29T05:28:11.000Z   \n",
       "\n",
       "                                                    text           author_id  \\\n",
       "2       000pound great white shark captured in great ...          3301735767   \n",
       "3       000pound great white shark captured in great ...  878694851801436161   \n",
       "4       000pound great white shark captured in great ...            72577718   \n",
       "5       000pound great white shark captured in great ...           110370047   \n",
       "6       000pound great white shark captured in great ...            90688327   \n",
       "...                                                  ...                 ...   \n",
       "37312  zuckerberg takes on trump on immigration calls...  790883836276060161   \n",
       "37313  zuckerberg testifying before the us house of r...           630417033   \n",
       "37314                          zulumkhathini no problems  966951978172641280   \n",
       "37316  zz tops billy gibbons releases gritty muddy wa...           531242779   \n",
       "37317  zzz statement from sitting us presidentlisten ...          2493635959   \n",
       "\n",
       "                 id          news_id withheld  \n",
       "2      7.452607e+17  politifact14309      NaN  \n",
       "3      8.812037e+17  politifact14309      NaN  \n",
       "4      8.813131e+17  politifact14309      NaN  \n",
       "5      8.780222e+17  politifact14309      NaN  \n",
       "6      8.794425e+17  politifact14309      NaN  \n",
       "...             ...              ...      ...  \n",
       "37312  8.252476e+17  politifact15573      NaN  \n",
       "37313  9.840720e+17  politifact14548      NaN  \n",
       "37314  1.019185e+18  politifact14548      NaN  \n",
       "37316  1.020335e+18  politifact14548      NaN  \n",
       "37317  1.012568e+18  politifact14667      NaN  \n",
       "\n",
       "[34565 rows x 7 columns]"
      ],
      "text/html": "<div>\n<style scoped>\n    .dataframe tbody tr th:only-of-type {\n        vertical-align: middle;\n    }\n\n    .dataframe tbody tr th {\n        vertical-align: top;\n    }\n\n    .dataframe thead th {\n        text-align: right;\n    }\n</style>\n<table border=\"1\" class=\"dataframe\">\n  <thead>\n    <tr style=\"text-align: right;\">\n      <th></th>\n      <th>Unnamed: 0</th>\n      <th>created_at</th>\n      <th>text</th>\n      <th>author_id</th>\n      <th>id</th>\n      <th>news_id</th>\n      <th>withheld</th>\n    </tr>\n  </thead>\n  <tbody>\n    <tr>\n      <th>2</th>\n      <td>38867</td>\n      <td>2016-06-21T14:22:52.000Z</td>\n      <td>000pound great white shark captured in great ...</td>\n      <td>3301735767</td>\n      <td>7.452607e+17</td>\n      <td>politifact14309</td>\n      <td>NaN</td>\n    </tr>\n    <tr>\n      <th>3</th>\n      <td>38940</td>\n      <td>2017-07-01T17:31:55.000Z</td>\n      <td>000pound great white shark captured in great ...</td>\n      <td>878694851801436161</td>\n      <td>8.812037e+17</td>\n      <td>politifact14309</td>\n      <td>NaN</td>\n    </tr>\n    <tr>\n      <th>4</th>\n      <td>38944</td>\n      <td>2017-07-02T00:46:24.000Z</td>\n      <td>000pound great white shark captured in great ...</td>\n      <td>72577718</td>\n      <td>8.813131e+17</td>\n      <td>politifact14309</td>\n      <td>NaN</td>\n    </tr>\n    <tr>\n      <th>5</th>\n      <td>38905</td>\n      <td>2017-06-22T22:49:41.000Z</td>\n      <td>000pound great white shark captured in great ...</td>\n      <td>110370047</td>\n      <td>8.780222e+17</td>\n      <td>politifact14309</td>\n      <td>NaN</td>\n    </tr>\n    <tr>\n      <th>6</th>\n      <td>38911</td>\n      <td>2017-06-26T20:53:35.000Z</td>\n      <td>000pound great white shark captured in great ...</td>\n      <td>90688327</td>\n      <td>8.794425e+17</td>\n      <td>politifact14309</td>\n      <td>NaN</td>\n    </tr>\n    <tr>\n      <th>...</th>\n      <td>...</td>\n      <td>...</td>\n      <td>...</td>\n      <td>...</td>\n      <td>...</td>\n      <td>...</td>\n      <td>...</td>\n    </tr>\n    <tr>\n      <th>37312</th>\n      <td>61015</td>\n      <td>2017-01-28T07:42:18.000Z</td>\n      <td>zuckerberg takes on trump on immigration calls...</td>\n      <td>790883836276060161</td>\n      <td>8.252476e+17</td>\n      <td>politifact15573</td>\n      <td>NaN</td>\n    </tr>\n    <tr>\n      <th>37313</th>\n      <td>16250</td>\n      <td>2018-04-11T14:13:38.000Z</td>\n      <td>zuckerberg testifying before the us house of r...</td>\n      <td>630417033</td>\n      <td>9.840720e+17</td>\n      <td>politifact14548</td>\n      <td>NaN</td>\n    </tr>\n    <tr>\n      <th>37314</th>\n      <td>20730</td>\n      <td>2018-07-17T11:39:18.000Z</td>\n      <td>zulumkhathini no problems</td>\n      <td>966951978172641280</td>\n      <td>1.019185e+18</td>\n      <td>politifact14548</td>\n      <td>NaN</td>\n    </tr>\n    <tr>\n      <th>37316</th>\n      <td>25643</td>\n      <td>2018-07-20T15:51:21.000Z</td>\n      <td>zz tops billy gibbons releases gritty muddy wa...</td>\n      <td>531242779</td>\n      <td>1.020335e+18</td>\n      <td>politifact14548</td>\n      <td>NaN</td>\n    </tr>\n    <tr>\n      <th>37317</th>\n      <td>45603</td>\n      <td>2018-06-29T05:28:11.000Z</td>\n      <td>zzz statement from sitting us presidentlisten ...</td>\n      <td>2493635959</td>\n      <td>1.012568e+18</td>\n      <td>politifact14667</td>\n      <td>NaN</td>\n    </tr>\n  </tbody>\n</table>\n<p>34565 rows × 7 columns</p>\n</div>"
     },
     "metadata": {},
     "execution_count": 387
    }
   ],
   "source": [
    "pf"
   ]
  },
  {
   "cell_type": "code",
   "execution_count": 267,
   "metadata": {},
   "outputs": [],
   "source": [
    "cleaned_pf_text = []\n",
    "for item in pf.text:\n",
    "    cleaned_pf_text.append(cleanup(item))\n",
    "pf.text = cleaned_pf_text"
   ]
  },
  {
   "cell_type": "code",
   "execution_count": 335,
   "metadata": {
    "tags": []
   },
   "outputs": [
    {
     "output_type": "execute_result",
     "data": {
      "text/plain": [
       "                     created_at  \\\n",
       "0      2017-10-03T15:48:10.000Z   \n",
       "1      2017-10-03T16:19:10.000Z   \n",
       "2      2017-10-03T21:28:30.000Z   \n",
       "3      2017-10-03T21:28:51.000Z   \n",
       "4      2017-10-03T21:32:06.000Z   \n",
       "...                         ...   \n",
       "35331  2017-03-11T19:28:08.000Z   \n",
       "35332  2017-03-12T09:33:50.000Z   \n",
       "35333  2017-03-14T10:50:12.000Z   \n",
       "35334  2017-03-31T07:30:11.000Z   \n",
       "35335  2017-04-18T00:01:26.000Z   \n",
       "\n",
       "                                                    text           author_id  \\\n",
       "0      oh, gays for trump. calling on gays for trump!...            42013288   \n",
       "1      fyi trump admin voted for death penalty for ga...           250756569   \n",
       "2      breaking: trump votes for death penalty for be...           143618120   \n",
       "3      watch out, this is trump's america. us votes a...            26292109   \n",
       "4      trump administration votes against un resoluti...  716371621380890624   \n",
       "...                                                  ...                 ...   \n",
       "35331  chinese lunar rover finds no evidence of ameri...          2463640190   \n",
       "35332  chinese lunar rover finds no evidence of ameri...           421173069   \n",
       "35333  laugh - chinese lunar rover finds no evidence ...           228008431   \n",
       "35334   schischowwn1 . . chinese lunar rover finds no...          2320446493   \n",
       "35335  chinese lunar rover finds no evidence of ameri...  807276795670237185   \n",
       "\n",
       "                 id          news_id  \n",
       "0      9.152421e+17  politifact15371  \n",
       "1      9.152499e+17  politifact15371  \n",
       "2      9.153277e+17  politifact15371  \n",
       "3      9.153278e+17  politifact15371  \n",
       "4      9.153286e+17  politifact15371  \n",
       "...             ...              ...  \n",
       "35331  8.406455e+17  politifact14718  \n",
       "35332  8.408584e+17  politifact14718  \n",
       "35333  8.416024e+17  politifact14718  \n",
       "35334  8.477126e+17  politifact14718  \n",
       "35335  8.541227e+17  politifact14718  \n",
       "\n",
       "[34962 rows x 5 columns]"
      ],
      "text/html": "<div>\n<style scoped>\n    .dataframe tbody tr th:only-of-type {\n        vertical-align: middle;\n    }\n\n    .dataframe tbody tr th {\n        vertical-align: top;\n    }\n\n    .dataframe thead th {\n        text-align: right;\n    }\n</style>\n<table border=\"1\" class=\"dataframe\">\n  <thead>\n    <tr style=\"text-align: right;\">\n      <th></th>\n      <th>created_at</th>\n      <th>text</th>\n      <th>author_id</th>\n      <th>id</th>\n      <th>news_id</th>\n    </tr>\n  </thead>\n  <tbody>\n    <tr>\n      <th>0</th>\n      <td>2017-10-03T15:48:10.000Z</td>\n      <td>oh, gays for trump. calling on gays for trump!...</td>\n      <td>42013288</td>\n      <td>9.152421e+17</td>\n      <td>politifact15371</td>\n    </tr>\n    <tr>\n      <th>1</th>\n      <td>2017-10-03T16:19:10.000Z</td>\n      <td>fyi trump admin voted for death penalty for ga...</td>\n      <td>250756569</td>\n      <td>9.152499e+17</td>\n      <td>politifact15371</td>\n    </tr>\n    <tr>\n      <th>2</th>\n      <td>2017-10-03T21:28:30.000Z</td>\n      <td>breaking: trump votes for death penalty for be...</td>\n      <td>143618120</td>\n      <td>9.153277e+17</td>\n      <td>politifact15371</td>\n    </tr>\n    <tr>\n      <th>3</th>\n      <td>2017-10-03T21:28:51.000Z</td>\n      <td>watch out, this is trump's america. us votes a...</td>\n      <td>26292109</td>\n      <td>9.153278e+17</td>\n      <td>politifact15371</td>\n    </tr>\n    <tr>\n      <th>4</th>\n      <td>2017-10-03T21:32:06.000Z</td>\n      <td>trump administration votes against un resoluti...</td>\n      <td>716371621380890624</td>\n      <td>9.153286e+17</td>\n      <td>politifact15371</td>\n    </tr>\n    <tr>\n      <th>...</th>\n      <td>...</td>\n      <td>...</td>\n      <td>...</td>\n      <td>...</td>\n      <td>...</td>\n    </tr>\n    <tr>\n      <th>35331</th>\n      <td>2017-03-11T19:28:08.000Z</td>\n      <td>chinese lunar rover finds no evidence of ameri...</td>\n      <td>2463640190</td>\n      <td>8.406455e+17</td>\n      <td>politifact14718</td>\n    </tr>\n    <tr>\n      <th>35332</th>\n      <td>2017-03-12T09:33:50.000Z</td>\n      <td>chinese lunar rover finds no evidence of ameri...</td>\n      <td>421173069</td>\n      <td>8.408584e+17</td>\n      <td>politifact14718</td>\n    </tr>\n    <tr>\n      <th>35333</th>\n      <td>2017-03-14T10:50:12.000Z</td>\n      <td>laugh - chinese lunar rover finds no evidence ...</td>\n      <td>228008431</td>\n      <td>8.416024e+17</td>\n      <td>politifact14718</td>\n    </tr>\n    <tr>\n      <th>35334</th>\n      <td>2017-03-31T07:30:11.000Z</td>\n      <td>schischowwn1 . . chinese lunar rover finds no...</td>\n      <td>2320446493</td>\n      <td>8.477126e+17</td>\n      <td>politifact14718</td>\n    </tr>\n    <tr>\n      <th>35335</th>\n      <td>2017-04-18T00:01:26.000Z</td>\n      <td>chinese lunar rover finds no evidence of ameri...</td>\n      <td>807276795670237185</td>\n      <td>8.541227e+17</td>\n      <td>politifact14718</td>\n    </tr>\n  </tbody>\n</table>\n<p>34962 rows × 5 columns</p>\n</div>"
     },
     "metadata": {},
     "execution_count": 335
    }
   ],
   "source": []
  },
  {
   "cell_type": "code",
   "execution_count": 388,
   "metadata": {},
   "outputs": [],
   "source": [
    "pf.to_csv('processed-data/tweets_cleaned/pf.csv')"
   ]
  },
  {
   "cell_type": "code",
   "execution_count": 164,
   "metadata": {},
   "outputs": [],
   "source": [
    "combined_fake = np.append(pf_unique_text.ravel(),false.claim_text.unique().ravel())"
   ]
  },
  {
   "cell_type": "code",
   "execution_count": 139,
   "metadata": {},
   "outputs": [
    {
     "output_type": "execute_result",
     "data": {
      "text/plain": [
       "133        Robot security guards are patrolling a Microso...\n",
       "134        Robot security guards are patrolling a Microso...\n",
       "151        Amazon will open its first physical store in N...\n",
       "152        Comcast is telling customers Tor is illegal to...\n",
       "4740       Saudi Arabia's national airline will introduce...\n",
       "                                 ...                        \n",
       "2065466            Did a Cursed Mummy Sink with the Titanic?\n",
       "2065467            Did a Cursed Mummy Sink with the Titanic?\n",
       "2065468    Did the Chevrolet Nova Fail to Sell in Spanish...\n",
       "2065469    Does a Ghost Boy Appear in ‘Three Men and a Ba...\n",
       "2065470    Does a Ghost Boy Appear in ‘Three Men and a Ba...\n",
       "Name: claim_text, Length: 903380, dtype: object"
      ]
     },
     "metadata": {},
     "execution_count": 139
    }
   ],
   "source": [
    "false.claim_text"
   ]
  },
  {
   "cell_type": "code",
   "execution_count": 143,
   "metadata": {},
   "outputs": [],
   "source": []
  },
  {
   "cell_type": "code",
   "execution_count": 195,
   "metadata": {},
   "outputs": [],
   "source": []
  },
  {
   "cell_type": "code",
   "execution_count": null,
   "metadata": {},
   "outputs": [],
   "source": []
  }
 ]
}