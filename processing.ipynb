{
 "metadata": {
  "language_info": {
   "codemirror_mode": {
    "name": "ipython",
    "version": 3
   },
   "file_extension": ".py",
   "mimetype": "text/x-python",
   "name": "python",
   "nbconvert_exporter": "python",
   "pygments_lexer": "ipython3",
   "version": "3.8.6"
  },
  "orig_nbformat": 2,
  "kernelspec": {
   "name": "python386jvsc74a57bd0af98d91515804603affb442df6d8b10101b59196e15bea09039451a32e8f093c",
   "display_name": "Python 3.8.6 64-bit ('tf24': conda)"
  },
  "metadata": {
   "interpreter": {
    "hash": "1333e3c1ad2fc51f50662afb70178913c59aaa85164e7107425b3deb7606f87d"
   }
  }
 },
 "nbformat": 4,
 "nbformat_minor": 2,
 "cells": [
  {
   "cell_type": "code",
   "execution_count": 1,
   "metadata": {},
   "outputs": [],
   "source": [
    "import pandas as pd\n",
    "import numpy as np\n",
    "pd.options.mode.chained_assignment = None \n",
    "from tqdm.notebook import tqdm\n",
    "from bs4 import BeautifulSoup\n",
    "from bs4.element import Comment\n",
    "from urllib.request import Request, urlopen\n",
    "from urllib.parse import urlparse\n",
    "from urllib.error import HTTPError, URLError\n",
    "import requests\n",
    "import logging\n",
    "from socket import timeout\n",
    "import re"
   ]
  },
  {
   "cell_type": "code",
   "execution_count": 2,
   "metadata": {},
   "outputs": [],
   "source": [
    "politifact_fake = pd.read_csv('fakenewsnet/politifact_fake.csv')"
   ]
  },
  {
   "cell_type": "code",
   "execution_count": 3,
   "metadata": {},
   "outputs": [
    {
     "output_type": "execute_result",
     "data": {
      "text/plain": [
       "                  id                                           news_url  \\\n",
       "0    politifact15014          speedtalk.com/forum/viewtopic.php?t=51650   \n",
       "1    politifact15156  politics2020.info/index.php/2018/03/13/court-o...   \n",
       "2    politifact14745  www.nscdscamps.org/blog/category/parenting/467...   \n",
       "3    politifact14355  https://howafrica.com/oscar-pistorius-attempts...   \n",
       "4    politifact15371  http://washingtonsources.org/trump-votes-for-d...   \n",
       "..               ...                                                ...   \n",
       "427  politifact14944  http://thehill.com/homenews/senate/369928-who-...   \n",
       "428  politifact14071  https://web.archive.org/web/20170322070001/htt...   \n",
       "429  politifact13577                            http://archive.is/DQqCx   \n",
       "430  politifact13560  politicono.com/palin-calls-boycott-mall-americ...   \n",
       "431  politifact15030  https://theglobalheadlines.net/breaking-intel-...   \n",
       "\n",
       "                                                 title  \\\n",
       "0    BREAKING: First NFL Team Declares Bankruptcy O...   \n",
       "1    Court Orders Obama To Pay $400 Million In Rest...   \n",
       "2    UPDATE: Second Roy Moore Accuser Works For Mic...   \n",
       "3           Oscar Pistorius Attempts To Commit Suicide   \n",
       "4          Trump Votes For Death Penalty For Being Gay   \n",
       "..                                                 ...   \n",
       "427        Who is affected by the government shutdown?   \n",
       "428  Lindsey Graham Threatens To Convert To Democra...   \n",
       "429  ELECTORAL COLLEGE ELECTOR COMMITS SUICIDE TO A...   \n",
       "430  Sarah Palin Calls To Boycott Mall Of America B...   \n",
       "431                                  Account Suspended   \n",
       "\n",
       "                                             tweet_ids  \n",
       "0    937349434668498944\\t937379378006282240\\t937380...  \n",
       "1    972666281441878016\\t972678396575559680\\t972827...  \n",
       "2    929405740732870656\\t929439450400264192\\t929439...  \n",
       "3    886941526458347521\\t887011300278194176\\t887023...  \n",
       "4    915205698212040704\\t915242076681506816\\t915249...  \n",
       "..                                                 ...  \n",
       "427  954602090462146560\\t954602093171609600\\t954650...  \n",
       "428  740351669834244096\\t740391312277573632\\t740474...  \n",
       "429  810939651900907520\\t814738996706164737\\t814917...  \n",
       "430  805216591424212993\\t805222830023540736\\t805223...  \n",
       "431  934217740692443136\\t934217839816445952\\t934217...  \n",
       "\n",
       "[432 rows x 4 columns]"
      ],
      "text/html": "<div>\n<style scoped>\n    .dataframe tbody tr th:only-of-type {\n        vertical-align: middle;\n    }\n\n    .dataframe tbody tr th {\n        vertical-align: top;\n    }\n\n    .dataframe thead th {\n        text-align: right;\n    }\n</style>\n<table border=\"1\" class=\"dataframe\">\n  <thead>\n    <tr style=\"text-align: right;\">\n      <th></th>\n      <th>id</th>\n      <th>news_url</th>\n      <th>title</th>\n      <th>tweet_ids</th>\n    </tr>\n  </thead>\n  <tbody>\n    <tr>\n      <th>0</th>\n      <td>politifact15014</td>\n      <td>speedtalk.com/forum/viewtopic.php?t=51650</td>\n      <td>BREAKING: First NFL Team Declares Bankruptcy O...</td>\n      <td>937349434668498944\\t937379378006282240\\t937380...</td>\n    </tr>\n    <tr>\n      <th>1</th>\n      <td>politifact15156</td>\n      <td>politics2020.info/index.php/2018/03/13/court-o...</td>\n      <td>Court Orders Obama To Pay $400 Million In Rest...</td>\n      <td>972666281441878016\\t972678396575559680\\t972827...</td>\n    </tr>\n    <tr>\n      <th>2</th>\n      <td>politifact14745</td>\n      <td>www.nscdscamps.org/blog/category/parenting/467...</td>\n      <td>UPDATE: Second Roy Moore Accuser Works For Mic...</td>\n      <td>929405740732870656\\t929439450400264192\\t929439...</td>\n    </tr>\n    <tr>\n      <th>3</th>\n      <td>politifact14355</td>\n      <td>https://howafrica.com/oscar-pistorius-attempts...</td>\n      <td>Oscar Pistorius Attempts To Commit Suicide</td>\n      <td>886941526458347521\\t887011300278194176\\t887023...</td>\n    </tr>\n    <tr>\n      <th>4</th>\n      <td>politifact15371</td>\n      <td>http://washingtonsources.org/trump-votes-for-d...</td>\n      <td>Trump Votes For Death Penalty For Being Gay</td>\n      <td>915205698212040704\\t915242076681506816\\t915249...</td>\n    </tr>\n    <tr>\n      <th>...</th>\n      <td>...</td>\n      <td>...</td>\n      <td>...</td>\n      <td>...</td>\n    </tr>\n    <tr>\n      <th>427</th>\n      <td>politifact14944</td>\n      <td>http://thehill.com/homenews/senate/369928-who-...</td>\n      <td>Who is affected by the government shutdown?</td>\n      <td>954602090462146560\\t954602093171609600\\t954650...</td>\n    </tr>\n    <tr>\n      <th>428</th>\n      <td>politifact14071</td>\n      <td>https://web.archive.org/web/20170322070001/htt...</td>\n      <td>Lindsey Graham Threatens To Convert To Democra...</td>\n      <td>740351669834244096\\t740391312277573632\\t740474...</td>\n    </tr>\n    <tr>\n      <th>429</th>\n      <td>politifact13577</td>\n      <td>http://archive.is/DQqCx</td>\n      <td>ELECTORAL COLLEGE ELECTOR COMMITS SUICIDE TO A...</td>\n      <td>810939651900907520\\t814738996706164737\\t814917...</td>\n    </tr>\n    <tr>\n      <th>430</th>\n      <td>politifact13560</td>\n      <td>politicono.com/palin-calls-boycott-mall-americ...</td>\n      <td>Sarah Palin Calls To Boycott Mall Of America B...</td>\n      <td>805216591424212993\\t805222830023540736\\t805223...</td>\n    </tr>\n    <tr>\n      <th>431</th>\n      <td>politifact15030</td>\n      <td>https://theglobalheadlines.net/breaking-intel-...</td>\n      <td>Account Suspended</td>\n      <td>934217740692443136\\t934217839816445952\\t934217...</td>\n    </tr>\n  </tbody>\n</table>\n<p>432 rows × 4 columns</p>\n</div>"
     },
     "metadata": {},
     "execution_count": 3
    }
   ],
   "source": [
    "politifact_fake"
   ]
  },
  {
   "cell_type": "code",
   "execution_count": 7,
   "metadata": {},
   "outputs": [],
   "source": [
    "def tag_visible(element):\n",
    "    if element.parent.name in ['style', 'script', 'head', 'title', 'meta', '[document]']:\n",
    "        return False\n",
    "    if isinstance(element, Comment):\n",
    "        return False\n",
    "    return True\n",
    "\n",
    "def text_from_html(body):\n",
    "    soup = BeautifulSoup(body, 'html.parser')\n",
    "    texts = soup.findAll(text=True)\n",
    "    visible_texts = filter(tag_visible, texts)  \n",
    "    return u\" \".join(t.strip() for t in visible_texts)\n",
    "\n",
    "def process_url(url):\n",
    "    req = Request(url, headers={'User-Agent': 'Mozilla/5.0'})\n",
    "    try:\n",
    "        html = urlopen(req, timeout = 10)\n",
    "        html = html.read()\n",
    "        return text_from_html(html)\n",
    "    except timeout:\n",
    "        print(\"connection timedout\")\n",
    "    except URLError as e:\n",
    "        print(e)\n",
    "    except HTTPError as err:\n",
    "        if err.code == 410 or 404:\n",
    "            print(\"permanently deleted or removed, url should be removed\")\n",
    "        else:\n",
    "            raise"
   ]
  },
  {
   "cell_type": "code",
   "execution_count": 8,
   "metadata": {
    "tags": []
   },
   "outputs": [
    {
     "output_type": "display_data",
     "data": {
      "text/plain": "  0%|          | 0/432 [00:00<?, ?it/s]",
      "application/vnd.jupyter.widget-view+json": {
       "version_major": 2,
       "version_minor": 0,
       "model_id": "1e44382e04814386a216fc8ee43b4351"
      }
     },
     "metadata": {}
    },
    {
     "output_type": "stream",
     "name": "stdout",
     "text": [
      "HTTP Error 410: Gone\n",
      "HTTP Error 404: Not Found\n",
      "HTTP Error 410: Gone\n",
      "<urlopen error [Errno 8] nodename nor servname provided, or not known>\n",
      "<urlopen error [Errno 8] nodename nor servname provided, or not known>\n",
      "HTTP Error 410: Gone\n",
      "<urlopen error [SSL: CERTIFICATE_VERIFY_FAILED] certificate verify failed: self signed certificate in certificate chain (_ssl.c:1124)>\n",
      "HTTP Error 406: Not Acceptable\n",
      "<urlopen error [SSL: WRONG_VERSION_NUMBER] wrong version number (_ssl.c:1124)>\n",
      "HTTP Error 404: Not Found\n",
      "<urlopen error [Errno 8] nodename nor servname provided, or not known>\n",
      "<urlopen error [Errno 8] nodename nor servname provided, or not known>\n",
      "<urlopen error [Errno 8] nodename nor servname provided, or not known>\n",
      "HTTP Error 404: Not Found\n",
      "<urlopen error [Errno 61] Connection refused>\n",
      "HTTP Error 410: Gone\n",
      "<urlopen error [Errno 8] nodename nor servname provided, or not known>\n",
      "HTTP Error 406: Not Acceptable\n",
      "<urlopen error [Errno 8] nodename nor servname provided, or not known>\n",
      "<urlopen error [Errno 8] nodename nor servname provided, or not known>\n",
      "connection timedout\n",
      "<urlopen error [Errno 8] nodename nor servname provided, or not known>\n",
      "connection timedout\n",
      "HTTP Error 404: Not Found\n",
      "HTTP Error 410: Gone\n",
      "<urlopen error [SSL: CERTIFICATE_VERIFY_FAILED] certificate verify failed: self signed certificate in certificate chain (_ssl.c:1124)>\n",
      "HTTP Error 404: Not Found\n",
      "HTTP Error 451: Unavailable For Legal Reasons\n",
      "HTTP Error 404: Not Found\n",
      "<urlopen error [Errno 8] nodename nor servname provided, or not known>\n",
      "<urlopen error [Errno 8] nodename nor servname provided, or not known>\n",
      "HTTP Error 404: Not Found\n",
      "<urlopen error timed out>\n",
      "<urlopen error [Errno 61] Connection refused>\n",
      "<urlopen error [Errno 8] nodename nor servname provided, or not known>\n",
      "HTTP Error 410: Gone\n",
      "connection timedout\n",
      "HTTP Error 404: Not Found\n",
      "connection timedout\n",
      "<urlopen error [Errno 8] nodename nor servname provided, or not known>\n",
      "HTTP Error 404: Not Found\n",
      "connection timedout\n",
      "HTTP Error 404: Not Found\n",
      "<urlopen error [Errno 8] nodename nor servname provided, or not known>\n",
      "HTTP Error 404: Not Found\n",
      "<urlopen error [SSL: CERTIFICATE_VERIFY_FAILED] certificate verify failed: Hostname mismatch, certificate is not valid for 'www.truthexam.com'. (_ssl.c:1124)>\n",
      "<urlopen error [Errno 8] nodename nor servname provided, or not known>\n",
      "HTTP Error 404: Not Found\n",
      "HTTP Error 404: Not Found\n",
      "HTTP Error 404: Not Found\n",
      "HTTP Error 406: Not Acceptable\n",
      "HTTP Error 404: Not Found\n",
      "<urlopen error [Errno 8] nodename nor servname provided, or not known>\n",
      "Some characters could not be decoded, and were replaced with REPLACEMENT CHARACTER.\n",
      "HTTP Error 404: Not Found\n",
      "<urlopen error [Errno 8] nodename nor servname provided, or not known>\n",
      "<urlopen error [Errno 8] nodename nor servname provided, or not known>\n",
      "HTTP Error 410: Gone\n",
      "<urlopen error [Errno 8] nodename nor servname provided, or not known>\n",
      "<urlopen error [SSL: WRONG_VERSION_NUMBER] wrong version number (_ssl.c:1124)>\n",
      "HTTP Error 404: Not Found\n",
      "<urlopen error [Errno 8] nodename nor servname provided, or not known>\n",
      "HTTP Error 410: Gone\n",
      "<urlopen error [Errno 8] nodename nor servname provided, or not known>\n",
      "HTTP Error 404: Not Found\n",
      "HTTP Error 404: Not Found\n",
      "<urlopen error [Errno 8] nodename nor servname provided, or not known>\n",
      "HTTP Error 404: Not Found\n",
      "HTTP Error 404: Not Found\n",
      "<urlopen error [Errno 8] nodename nor servname provided, or not known>\n",
      "Some characters could not be decoded, and were replaced with REPLACEMENT CHARACTER.\n",
      "HTTP Error 404: Not Found\n",
      "HTTP Error 404: Not Found\n",
      "<urlopen error [Errno 8] nodename nor servname provided, or not known>\n",
      "connection timedout\n",
      "HTTP Error 404: Not Found\n",
      "<urlopen error [Errno 8] nodename nor servname provided, or not known>\n",
      "connection timedout\n",
      "<urlopen error timed out>\n",
      "HTTP Error 451: Unavailable For Legal Reasons\n",
      "HTTP Error 404: Not Found\n",
      "connection timedout\n",
      "<urlopen error [Errno 8] nodename nor servname provided, or not known>\n",
      "HTTP Error 406: Not Acceptable\n",
      "<urlopen error [Errno 8] nodename nor servname provided, or not known>\n",
      "HTTP Error 410: Gone\n",
      "HTTP Error 404: Not Found\n",
      "HTTP Error 404: Not Found\n",
      "HTTP Error 404: Not Found\n",
      "HTTP Error 404: Not Found\n",
      "HTTP Error 406: Not Acceptable\n",
      "<urlopen error [Errno 8] nodename nor servname provided, or not known>\n",
      "HTTP Error 404: Not Found\n",
      "<urlopen error [Errno 8] nodename nor servname provided, or not known>\n",
      "<urlopen error [Errno 8] nodename nor servname provided, or not known>\n",
      "<urlopen error [Errno 8] nodename nor servname provided, or not known>\n",
      "HTTP Error 404: Not Found\n",
      "HTTP Error 410: Gone\n",
      "<urlopen error [Errno 8] nodename nor servname provided, or not known>\n",
      "HTTP Error 404: Not Found\n",
      "HTTP Error 404: Not Found\n",
      "<urlopen error [Errno 8] nodename nor servname provided, or not known>\n",
      "<urlopen error [Errno 61] Connection refused>\n",
      "<urlopen error [Errno 8] nodename nor servname provided, or not known>\n",
      "<urlopen error [Errno 8] nodename nor servname provided, or not known>\n",
      "HTTP Error 410: Gone\n",
      "HTTP Error 404: Not Found\n",
      "<urlopen error [Errno 8] nodename nor servname provided, or not known>\n",
      "<urlopen error [Errno 8] nodename nor servname provided, or not known>\n",
      "HTTP Error 429: Too Many Requests\n",
      "<urlopen error [Errno 8] nodename nor servname provided, or not known>\n"
     ]
    }
   ],
   "source": [
    "# politifact_fake['text'] = ''\n",
    "for index, url in enumerate(tqdm(politifact_fake['news_url'])):\n",
    "    if politifact_fake['text'].iloc[index] == '':\n",
    "        if type(url) != float:\n",
    "            if urlparse(url).scheme:\n",
    "                if politifact_fake['text'].iloc[index] == '':\n",
    "                    politifact_fake['text'].iloc[index] = process_url(url)"
   ]
  },
  {
   "cell_type": "code",
   "execution_count": 9,
   "metadata": {},
   "outputs": [],
   "source": [
    "filtered_p_fake = politifact_fake[politifact_fake['text'] != '' ]\n",
    "filtered_p_fake = filtered_p_fake[filtered_p_fake['text'].notnull()]\n",
    "filtered_p_fake.to_csv('data/politifact_fake_with_scraped_text.csv')"
   ]
  },
  {
   "cell_type": "code",
   "execution_count": 10,
   "metadata": {},
   "outputs": [],
   "source": [
    "# filtered_p_fake"
   ]
  },
  {
   "cell_type": "code",
   "execution_count": 11,
   "metadata": {},
   "outputs": [
    {
     "output_type": "stream",
     "name": "stderr",
     "text": [
      "/Users/vangelistrikoupis/miniforge3/envs/tf24/lib/python3.8/site-packages/gensim/similarities/__init__.py:15: UserWarning: The gensim.similarities.levenshtein submodule is disabled, because the optional Levenshtein package <https://pypi.org/project/python-Levenshtein/> is unavailable. Install Levenhstein (e.g. `pip install python-Levenshtein`) to suppress this warning.\n  warnings.warn(msg)\n"
     ]
    }
   ],
   "source": [
    "from gensim.corpora import Dictionary\n",
    "\n",
    "MIN_DF = 1 # minium document frequency\n",
    "MAX_DF = 0.6 # maximum document frequency"
   ]
  },
  {
   "cell_type": "code",
   "execution_count": 12,
   "metadata": {},
   "outputs": [],
   "source": [
    "from nltk.tokenize import RegexpTokenizer\n",
    "tokenizer = RegexpTokenizer('\\w+')\n"
   ]
  },
  {
   "cell_type": "code",
   "execution_count": 13,
   "metadata": {
    "tags": []
   },
   "outputs": [
    {
     "output_type": "display_data",
     "data": {
      "text/plain": "0it [00:00, ?it/s]",
      "application/vnd.jupyter.widget-view+json": {
       "version_major": 2,
       "version_minor": 0,
       "model_id": "7ed99dc6fed14ef4a512b316865e9c80"
      }
     },
     "metadata": {}
    }
   ],
   "source": [
    "tokenized_texts = []\n",
    "for index, text in tqdm(enumerate(filtered_p_fake['text'])):\n",
    "    tokenized_texts.append(tokenizer.tokenize(text.lower()))\n",
    "        \n",
    "# tokenized_text = tokenizer.tokenize(sample_text.lower())\n",
    "# print(tokenized_text)"
   ]
  },
  {
   "cell_type": "code",
   "execution_count": 14,
   "metadata": {},
   "outputs": [],
   "source": [
    "dictionary = Dictionary(tokenized_texts) # get the vocabulary\n",
    "dictionary.filter_extremes(no_below=MIN_DF, \n",
    "                           no_above=MAX_DF)\n",
    "corpus = [dictionary.doc2bow(text) for text in tokenized_texts]"
   ]
  },
  {
   "cell_type": "code",
   "execution_count": 41,
   "metadata": {},
   "outputs": [
    {
     "output_type": "error",
     "ename": "ImportError",
     "evalue": "cannot import name 'Vocab' from 'gensim.models.word2vec' (/Users/vangelistrikoupis/miniforge3/envs/tf24/lib/python3.8/site-packages/gensim/models/word2vec.py)",
     "traceback": [
      "\u001b[0;31m---------------------------------------------------------------------------\u001b[0m",
      "\u001b[0;31mImportError\u001b[0m                               Traceback (most recent call last)",
      "\u001b[0;32m<ipython-input-41-266fda671039>\u001b[0m in \u001b[0;36m<module>\u001b[0;34m\u001b[0m\n\u001b[0;32m----> 1\u001b[0;31m \u001b[0;32mfrom\u001b[0m \u001b[0mgensim\u001b[0m\u001b[0;34m.\u001b[0m\u001b[0mmodels\u001b[0m\u001b[0;34m.\u001b[0m\u001b[0mwrappers\u001b[0m \u001b[0;32mimport\u001b[0m \u001b[0mLdaMallet\u001b[0m\u001b[0;34m\u001b[0m\u001b[0;34m\u001b[0m\u001b[0m\n\u001b[0m\u001b[1;32m      2\u001b[0m \u001b[0;34m\u001b[0m\u001b[0m\n\u001b[1;32m      3\u001b[0m \u001b[0mPATH_TO_MALLET\u001b[0m \u001b[0;34m=\u001b[0m \u001b[0;34m'Mallet/bin/mallet'\u001b[0m\u001b[0;34m\u001b[0m\u001b[0;34m\u001b[0m\u001b[0m\n\u001b[1;32m      4\u001b[0m \u001b[0mN_TOPICS\u001b[0m \u001b[0;34m=\u001b[0m \u001b[0;36m2\u001b[0m\u001b[0;34m\u001b[0m\u001b[0;34m\u001b[0m\u001b[0m\n\u001b[1;32m      5\u001b[0m \u001b[0mN_ITERATIONS\u001b[0m \u001b[0;34m=\u001b[0m \u001b[0;36m1000\u001b[0m\u001b[0;34m\u001b[0m\u001b[0;34m\u001b[0m\u001b[0m\n",
      "\u001b[0;32m~/miniforge3/envs/tf24/lib/python3.8/site-packages/gensim/models/wrappers/__init__.py\u001b[0m in \u001b[0;36m<module>\u001b[0;34m\u001b[0m\n\u001b[1;32m      8\u001b[0m \u001b[0;32mfrom\u001b[0m \u001b[0;34m.\u001b[0m\u001b[0mfasttext\u001b[0m \u001b[0;32mimport\u001b[0m \u001b[0mFastText\u001b[0m  \u001b[0;31m# noqa:F401\u001b[0m\u001b[0;34m\u001b[0m\u001b[0;34m\u001b[0m\u001b[0m\n\u001b[1;32m      9\u001b[0m \u001b[0;32mfrom\u001b[0m \u001b[0;34m.\u001b[0m\u001b[0mwordrank\u001b[0m \u001b[0;32mimport\u001b[0m \u001b[0mWordrank\u001b[0m  \u001b[0;31m# noqa:F401\u001b[0m\u001b[0;34m\u001b[0m\u001b[0;34m\u001b[0m\u001b[0m\n\u001b[0;32m---> 10\u001b[0;31m \u001b[0;32mfrom\u001b[0m \u001b[0;34m.\u001b[0m\u001b[0mvarembed\u001b[0m \u001b[0;32mimport\u001b[0m \u001b[0mVarEmbed\u001b[0m  \u001b[0;31m# noqa:F401\u001b[0m\u001b[0;34m\u001b[0m\u001b[0;34m\u001b[0m\u001b[0m\n\u001b[0m",
      "\u001b[0;32m~/miniforge3/envs/tf24/lib/python3.8/site-packages/gensim/models/wrappers/varembed.py\u001b[0m in \u001b[0;36m<module>\u001b[0;34m\u001b[0m\n\u001b[1;32m     20\u001b[0m \u001b[0;32mfrom\u001b[0m \u001b[0mgensim\u001b[0m \u001b[0;32mimport\u001b[0m \u001b[0mutils\u001b[0m\u001b[0;34m\u001b[0m\u001b[0;34m\u001b[0m\u001b[0m\n\u001b[1;32m     21\u001b[0m \u001b[0;32mfrom\u001b[0m \u001b[0mgensim\u001b[0m\u001b[0;34m.\u001b[0m\u001b[0mmodels\u001b[0m\u001b[0;34m.\u001b[0m\u001b[0mkeyedvectors\u001b[0m \u001b[0;32mimport\u001b[0m \u001b[0mKeyedVectors\u001b[0m\u001b[0;34m\u001b[0m\u001b[0;34m\u001b[0m\u001b[0m\n\u001b[0;32m---> 22\u001b[0;31m \u001b[0;32mfrom\u001b[0m \u001b[0mgensim\u001b[0m\u001b[0;34m.\u001b[0m\u001b[0mmodels\u001b[0m\u001b[0;34m.\u001b[0m\u001b[0mword2vec\u001b[0m \u001b[0;32mimport\u001b[0m \u001b[0mVocab\u001b[0m\u001b[0;34m\u001b[0m\u001b[0;34m\u001b[0m\u001b[0m\n\u001b[0m\u001b[1;32m     23\u001b[0m \u001b[0;34m\u001b[0m\u001b[0m\n\u001b[1;32m     24\u001b[0m \u001b[0mlogger\u001b[0m \u001b[0;34m=\u001b[0m \u001b[0mlogging\u001b[0m\u001b[0;34m.\u001b[0m\u001b[0mgetLogger\u001b[0m\u001b[0;34m(\u001b[0m\u001b[0m__name__\u001b[0m\u001b[0;34m)\u001b[0m\u001b[0;34m\u001b[0m\u001b[0;34m\u001b[0m\u001b[0m\n",
      "\u001b[0;31mImportError\u001b[0m: cannot import name 'Vocab' from 'gensim.models.word2vec' (/Users/vangelistrikoupis/miniforge3/envs/tf24/lib/python3.8/site-packages/gensim/models/word2vec.py)"
     ]
    }
   ],
   "source": [
    "from gensim.models.wrappers import LdaMallet\n",
    "\n",
    "PATH_TO_MALLET = 'Mallet/bin/mallet'\n",
    "N_TOPICS = 2\n",
    "N_ITERATIONS = 1000\n",
    "\n",
    "lda = LdaMallet(PATH_TO_MALLET,\n",
    "                corpus=corpus,\n",
    "                id2word=dictionary,\n",
    "                num_topics=N_TOPICS,\n",
    "                iterations=N_ITERATIONS)"
   ]
  },
  {
   "cell_type": "code",
   "execution_count": null,
   "metadata": {},
   "outputs": [],
   "source": []
  }
 ]
}