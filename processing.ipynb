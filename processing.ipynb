{
 "metadata": {
  "language_info": {
   "codemirror_mode": {
    "name": "ipython",
    "version": 3
   },
   "file_extension": ".py",
   "mimetype": "text/x-python",
   "name": "python",
   "nbconvert_exporter": "python",
   "pygments_lexer": "ipython3",
   "version": "3.8.5"
  },
  "orig_nbformat": 2,
  "kernelspec": {
   "name": "python385jvsc74a57bd098b0a9b7b4eaaa670588a142fd0a9b87eaafe866f1db4228be72b4211d12040f",
   "display_name": "Python 3.8.5 64-bit ('base': conda)"
  },
  "metadata": {
   "interpreter": {
    "hash": "1333e3c1ad2fc51f50662afb70178913c59aaa85164e7107425b3deb7606f87d"
   }
  }
 },
 "nbformat": 4,
 "nbformat_minor": 2,
 "cells": [
  {
   "cell_type": "code",
   "execution_count": 1,
   "metadata": {},
   "outputs": [],
   "source": [
    "import pandas as pd\n",
    "import numpy as np\n",
    "pd.options.mode.chained_assignment = None \n",
    "from tqdm.notebook import tqdm\n",
    "from bs4 import BeautifulSoup\n",
    "from bs4.element import Comment\n",
    "from urllib.request import Request, urlopen\n",
    "from urllib.parse import urlparse\n",
    "from urllib.error import HTTPError, URLError\n",
    "import requests\n",
    "import logging\n",
    "from socket import timeout\n",
    "import re\n",
    "from dotenv import load_dotenv\n",
    "load_dotenv()\n",
    "bearer_token = os.environ.get(\"BEARER_TOKEN\")"
   ]
  },
  {
   "cell_type": "code",
   "execution_count": 2,
   "metadata": {},
   "outputs": [],
   "source": [
    "politifact_fake = pd.read_csv('fakenewsnet/politifact_fake.csv')\n",
    "filtered_p_fake = pd.read_csv('data/politifact_fake_with_scraped_text.csv')\n",
    "politifact_real = pd.read_csv('fakenewsnet/politifact_real.csv')\n",
    "filtered_p_real = pd.read_csv('data/politifact_real_with_scraped_text.csv')\n"
   ]
  },
  {
   "cell_type": "code",
   "execution_count": 3,
   "metadata": {},
   "outputs": [],
   "source": [
    "# politifact_fake"
   ]
  },
  {
   "cell_type": "code",
   "execution_count": 5,
   "metadata": {},
   "outputs": [],
   "source": [
    "def tag_visible(element):\n",
    "    if element.parent.name in ['style', 'script', 'head', 'title', 'meta', '[document]']:\n",
    "        return False\n",
    "    if isinstance(element, Comment):\n",
    "        return False\n",
    "    return True\n",
    "\n",
    "def text_from_html(body):\n",
    "    soup = BeautifulSoup(body, 'html.parser')\n",
    "    texts = soup.findAll(text=True)\n",
    "    visible_texts = filter(tag_visible, texts)  \n",
    "    return u\" \".join(t.strip() for t in visible_texts)\n",
    "\n",
    "def process_url(url):\n",
    "    req = Request(url, headers={'User-Agent': 'Mozilla/5.0'})\n",
    "    try:\n",
    "        html = urlopen(req, timeout = 10)\n",
    "        html = html.read()\n",
    "        return text_from_html(html)\n",
    "    except timeout:\n",
    "        print(\"connection timedout\")\n",
    "    except URLError as e:\n",
    "        print(e)\n",
    "    except HTTPError as err:\n",
    "        if err.code == 410 or 404:\n",
    "            print(\"permanently deleted or removed, url should be removed\")\n",
    "        else:\n",
    "            raise"
   ]
  },
  {
   "cell_type": "code",
   "execution_count": 8,
   "metadata": {
    "tags": []
   },
   "outputs": [
    {
     "output_type": "display_data",
     "data": {
      "text/plain": "  0%|          | 0/432 [00:00<?, ?it/s]",
      "application/vnd.jupyter.widget-view+json": {
       "version_major": 2,
       "version_minor": 0,
       "model_id": "1e44382e04814386a216fc8ee43b4351"
      }
     },
     "metadata": {}
    },
    {
     "output_type": "stream",
     "name": "stdout",
     "text": [
      "HTTP Error 410: Gone\n",
      "HTTP Error 404: Not Found\n",
      "HTTP Error 410: Gone\n",
      "<urlopen error [Errno 8] nodename nor servname provided, or not known>\n",
      "<urlopen error [Errno 8] nodename nor servname provided, or not known>\n",
      "HTTP Error 410: Gone\n",
      "<urlopen error [SSL: CERTIFICATE_VERIFY_FAILED] certificate verify failed: self signed certificate in certificate chain (_ssl.c:1124)>\n",
      "HTTP Error 406: Not Acceptable\n",
      "<urlopen error [SSL: WRONG_VERSION_NUMBER] wrong version number (_ssl.c:1124)>\n",
      "HTTP Error 404: Not Found\n",
      "<urlopen error [Errno 8] nodename nor servname provided, or not known>\n",
      "<urlopen error [Errno 8] nodename nor servname provided, or not known>\n",
      "<urlopen error [Errno 8] nodename nor servname provided, or not known>\n",
      "HTTP Error 404: Not Found\n",
      "<urlopen error [Errno 61] Connection refused>\n",
      "HTTP Error 410: Gone\n",
      "<urlopen error [Errno 8] nodename nor servname provided, or not known>\n",
      "HTTP Error 406: Not Acceptable\n",
      "<urlopen error [Errno 8] nodename nor servname provided, or not known>\n",
      "<urlopen error [Errno 8] nodename nor servname provided, or not known>\n",
      "connection timedout\n",
      "<urlopen error [Errno 8] nodename nor servname provided, or not known>\n",
      "connection timedout\n",
      "HTTP Error 404: Not Found\n",
      "HTTP Error 410: Gone\n",
      "<urlopen error [SSL: CERTIFICATE_VERIFY_FAILED] certificate verify failed: self signed certificate in certificate chain (_ssl.c:1124)>\n",
      "HTTP Error 404: Not Found\n",
      "HTTP Error 451: Unavailable For Legal Reasons\n",
      "HTTP Error 404: Not Found\n",
      "<urlopen error [Errno 8] nodename nor servname provided, or not known>\n",
      "<urlopen error [Errno 8] nodename nor servname provided, or not known>\n",
      "HTTP Error 404: Not Found\n",
      "<urlopen error timed out>\n",
      "<urlopen error [Errno 61] Connection refused>\n",
      "<urlopen error [Errno 8] nodename nor servname provided, or not known>\n",
      "HTTP Error 410: Gone\n",
      "connection timedout\n",
      "HTTP Error 404: Not Found\n",
      "connection timedout\n",
      "<urlopen error [Errno 8] nodename nor servname provided, or not known>\n",
      "HTTP Error 404: Not Found\n",
      "connection timedout\n",
      "HTTP Error 404: Not Found\n",
      "<urlopen error [Errno 8] nodename nor servname provided, or not known>\n",
      "HTTP Error 404: Not Found\n",
      "<urlopen error [SSL: CERTIFICATE_VERIFY_FAILED] certificate verify failed: Hostname mismatch, certificate is not valid for 'www.truthexam.com'. (_ssl.c:1124)>\n",
      "<urlopen error [Errno 8] nodename nor servname provided, or not known>\n",
      "HTTP Error 404: Not Found\n",
      "HTTP Error 404: Not Found\n",
      "HTTP Error 404: Not Found\n",
      "HTTP Error 406: Not Acceptable\n",
      "HTTP Error 404: Not Found\n",
      "<urlopen error [Errno 8] nodename nor servname provided, or not known>\n",
      "Some characters could not be decoded, and were replaced with REPLACEMENT CHARACTER.\n",
      "HTTP Error 404: Not Found\n",
      "<urlopen error [Errno 8] nodename nor servname provided, or not known>\n",
      "<urlopen error [Errno 8] nodename nor servname provided, or not known>\n",
      "HTTP Error 410: Gone\n",
      "<urlopen error [Errno 8] nodename nor servname provided, or not known>\n",
      "<urlopen error [SSL: WRONG_VERSION_NUMBER] wrong version number (_ssl.c:1124)>\n",
      "HTTP Error 404: Not Found\n",
      "<urlopen error [Errno 8] nodename nor servname provided, or not known>\n",
      "HTTP Error 410: Gone\n",
      "<urlopen error [Errno 8] nodename nor servname provided, or not known>\n",
      "HTTP Error 404: Not Found\n",
      "HTTP Error 404: Not Found\n",
      "<urlopen error [Errno 8] nodename nor servname provided, or not known>\n",
      "HTTP Error 404: Not Found\n",
      "HTTP Error 404: Not Found\n",
      "<urlopen error [Errno 8] nodename nor servname provided, or not known>\n",
      "Some characters could not be decoded, and were replaced with REPLACEMENT CHARACTER.\n",
      "HTTP Error 404: Not Found\n",
      "HTTP Error 404: Not Found\n",
      "<urlopen error [Errno 8] nodename nor servname provided, or not known>\n",
      "connection timedout\n",
      "HTTP Error 404: Not Found\n",
      "<urlopen error [Errno 8] nodename nor servname provided, or not known>\n",
      "connection timedout\n",
      "<urlopen error timed out>\n",
      "HTTP Error 451: Unavailable For Legal Reasons\n",
      "HTTP Error 404: Not Found\n",
      "connection timedout\n",
      "<urlopen error [Errno 8] nodename nor servname provided, or not known>\n",
      "HTTP Error 406: Not Acceptable\n",
      "<urlopen error [Errno 8] nodename nor servname provided, or not known>\n",
      "HTTP Error 410: Gone\n",
      "HTTP Error 404: Not Found\n",
      "HTTP Error 404: Not Found\n",
      "HTTP Error 404: Not Found\n",
      "HTTP Error 404: Not Found\n",
      "HTTP Error 406: Not Acceptable\n",
      "<urlopen error [Errno 8] nodename nor servname provided, or not known>\n",
      "HTTP Error 404: Not Found\n",
      "<urlopen error [Errno 8] nodename nor servname provided, or not known>\n",
      "<urlopen error [Errno 8] nodename nor servname provided, or not known>\n",
      "<urlopen error [Errno 8] nodename nor servname provided, or not known>\n",
      "HTTP Error 404: Not Found\n",
      "HTTP Error 410: Gone\n",
      "<urlopen error [Errno 8] nodename nor servname provided, or not known>\n",
      "HTTP Error 404: Not Found\n",
      "HTTP Error 404: Not Found\n",
      "<urlopen error [Errno 8] nodename nor servname provided, or not known>\n",
      "<urlopen error [Errno 61] Connection refused>\n",
      "<urlopen error [Errno 8] nodename nor servname provided, or not known>\n",
      "<urlopen error [Errno 8] nodename nor servname provided, or not known>\n",
      "HTTP Error 410: Gone\n",
      "HTTP Error 404: Not Found\n",
      "<urlopen error [Errno 8] nodename nor servname provided, or not known>\n",
      "<urlopen error [Errno 8] nodename nor servname provided, or not known>\n",
      "HTTP Error 429: Too Many Requests\n",
      "<urlopen error [Errno 8] nodename nor servname provided, or not known>\n"
     ]
    }
   ],
   "source": [
    "# politifact_fake['text'] = ''\n",
    "for index, url in enumerate(tqdm(politifact_fake['news_url'])):\n",
    "    if politifact_fake['text'].iloc[index] == '':\n",
    "        if type(url) != float:\n",
    "            if urlparse(url).scheme:\n",
    "                if politifact_fake['text'].iloc[index] == '':\n",
    "                    politifact_fake['text'].iloc[index] = process_url(url)"
   ]
  },
  {
   "cell_type": "code",
   "execution_count": 9,
   "metadata": {},
   "outputs": [],
   "source": [
    "# filtered_p_fake = politifact_fake[politifact_fake['text'] != '' ]\n",
    "# filtered_p_fake = filtered_p_fake[filtered_p_fake['text'].notnull()]\n",
    "# filtered_p_fake.to_csv('data/politifact_fake_with_scraped_text.csv')"
   ]
  },
  {
   "cell_type": "code",
   "execution_count": 4,
   "metadata": {},
   "outputs": [
    {
     "output_type": "execute_result",
     "data": {
      "text/plain": [
       "     Unnamed: 0               id  \\\n",
       "0             3  politifact14355   \n",
       "1             4  politifact15371   \n",
       "2             6  politifact13919   \n",
       "3             7  politifact14795   \n",
       "4             8  politifact14328   \n",
       "..          ...              ...   \n",
       "228         419  politifact14169   \n",
       "229         421  politifact14992   \n",
       "230         422  politifact14158   \n",
       "231         427  politifact14944   \n",
       "232         428  politifact14071   \n",
       "\n",
       "                                              news_url  \\\n",
       "0    https://howafrica.com/oscar-pistorius-attempts...   \n",
       "1    http://washingtonsources.org/trump-votes-for-d...   \n",
       "2    http://blogs.trendolizer.com/2015/01/new-york-...   \n",
       "3    https://web.archive.org/web/20171027105356/htt...   \n",
       "4    https://web.archive.org/web/20170702174006/htt...   \n",
       "..                                                 ...   \n",
       "228  https://web.archive.org/web/20170528095037/htt...   \n",
       "229  http://www.trainnews.info/2018/01/rep-paul-gos...   \n",
       "230  https://web.archive.org/web/20170602190500/htt...   \n",
       "231  http://thehill.com/homenews/senate/369928-who-...   \n",
       "232  https://web.archive.org/web/20170322070001/htt...   \n",
       "\n",
       "                                                 title  \\\n",
       "0           Oscar Pistorius Attempts To Commit Suicide   \n",
       "1          Trump Votes For Death Penalty For Being Gay   \n",
       "2    New York Man Wanted For Infecting 240 Men And ...   \n",
       "3    Saudi Arabia to Behead 6 School Girls for Bein...   \n",
       "4    Malia Obama Fired From Cushy Internship At Spa...   \n",
       "..                                                 ...   \n",
       "228  Rubio: “Rape Victims Should Be In Custody If T...   \n",
       "229  Rep. Paul Gosar Asks Capitol Police to Arrest ...   \n",
       "230  WORSE THAN HITLER! Trey Gowdy’s Son Found In A...   \n",
       "231        Who is affected by the government shutdown?   \n",
       "232  Lindsey Graham Threatens To Convert To Democra...   \n",
       "\n",
       "                                             tweet_ids  \\\n",
       "0    886941526458347521\\t887011300278194176\\t887023...   \n",
       "1    915205698212040704\\t915242076681506816\\t915249...   \n",
       "2                                                  NaN   \n",
       "3    923126512458616832\\t923135295070990341\\t923189...   \n",
       "4    880455776107679747\\t880457763876462598\\t880461...   \n",
       "..                                                 ...   \n",
       "228  663538460104392704\\t663757208031780864\\t663764...   \n",
       "229  958425300144218112\\t958428242528145409\\t958428...   \n",
       "230                                 865933040492703745   \n",
       "231  954602090462146560\\t954602093171609600\\t954650...   \n",
       "232  740351669834244096\\t740391312277573632\\t740474...   \n",
       "\n",
       "                                                  text  \n",
       "0                                    Home  Advertis...  \n",
       "1                       Washington Sources         ...  \n",
       "2                    Other Trendolizers...  Adrenal...  \n",
       "3                  success  fail                   ...  \n",
       "4                     success  fail                ...  \n",
       "..                                                 ...  \n",
       "228             success  fail                      ...  \n",
       "229      Home Business Online Business Bitcoin Revi...  \n",
       "230                success  fail                   ...  \n",
       "231                                                ...  \n",
       "232                           success  fail        ...  \n",
       "\n",
       "[233 rows x 6 columns]"
      ],
      "text/html": "<div>\n<style scoped>\n    .dataframe tbody tr th:only-of-type {\n        vertical-align: middle;\n    }\n\n    .dataframe tbody tr th {\n        vertical-align: top;\n    }\n\n    .dataframe thead th {\n        text-align: right;\n    }\n</style>\n<table border=\"1\" class=\"dataframe\">\n  <thead>\n    <tr style=\"text-align: right;\">\n      <th></th>\n      <th>Unnamed: 0</th>\n      <th>id</th>\n      <th>news_url</th>\n      <th>title</th>\n      <th>tweet_ids</th>\n      <th>text</th>\n    </tr>\n  </thead>\n  <tbody>\n    <tr>\n      <th>0</th>\n      <td>3</td>\n      <td>politifact14355</td>\n      <td>https://howafrica.com/oscar-pistorius-attempts...</td>\n      <td>Oscar Pistorius Attempts To Commit Suicide</td>\n      <td>886941526458347521\\t887011300278194176\\t887023...</td>\n      <td>Home  Advertis...</td>\n    </tr>\n    <tr>\n      <th>1</th>\n      <td>4</td>\n      <td>politifact15371</td>\n      <td>http://washingtonsources.org/trump-votes-for-d...</td>\n      <td>Trump Votes For Death Penalty For Being Gay</td>\n      <td>915205698212040704\\t915242076681506816\\t915249...</td>\n      <td>Washington Sources         ...</td>\n    </tr>\n    <tr>\n      <th>2</th>\n      <td>6</td>\n      <td>politifact13919</td>\n      <td>http://blogs.trendolizer.com/2015/01/new-york-...</td>\n      <td>New York Man Wanted For Infecting 240 Men And ...</td>\n      <td>NaN</td>\n      <td>Other Trendolizers...  Adrenal...</td>\n    </tr>\n    <tr>\n      <th>3</th>\n      <td>7</td>\n      <td>politifact14795</td>\n      <td>https://web.archive.org/web/20171027105356/htt...</td>\n      <td>Saudi Arabia to Behead 6 School Girls for Bein...</td>\n      <td>923126512458616832\\t923135295070990341\\t923189...</td>\n      <td>success  fail                   ...</td>\n    </tr>\n    <tr>\n      <th>4</th>\n      <td>8</td>\n      <td>politifact14328</td>\n      <td>https://web.archive.org/web/20170702174006/htt...</td>\n      <td>Malia Obama Fired From Cushy Internship At Spa...</td>\n      <td>880455776107679747\\t880457763876462598\\t880461...</td>\n      <td>success  fail                ...</td>\n    </tr>\n    <tr>\n      <th>...</th>\n      <td>...</td>\n      <td>...</td>\n      <td>...</td>\n      <td>...</td>\n      <td>...</td>\n      <td>...</td>\n    </tr>\n    <tr>\n      <th>228</th>\n      <td>419</td>\n      <td>politifact14169</td>\n      <td>https://web.archive.org/web/20170528095037/htt...</td>\n      <td>Rubio: “Rape Victims Should Be In Custody If T...</td>\n      <td>663538460104392704\\t663757208031780864\\t663764...</td>\n      <td>success  fail                      ...</td>\n    </tr>\n    <tr>\n      <th>229</th>\n      <td>421</td>\n      <td>politifact14992</td>\n      <td>http://www.trainnews.info/2018/01/rep-paul-gos...</td>\n      <td>Rep. Paul Gosar Asks Capitol Police to Arrest ...</td>\n      <td>958425300144218112\\t958428242528145409\\t958428...</td>\n      <td>Home Business Online Business Bitcoin Revi...</td>\n    </tr>\n    <tr>\n      <th>230</th>\n      <td>422</td>\n      <td>politifact14158</td>\n      <td>https://web.archive.org/web/20170602190500/htt...</td>\n      <td>WORSE THAN HITLER! Trey Gowdy’s Son Found In A...</td>\n      <td>865933040492703745</td>\n      <td>success  fail                   ...</td>\n    </tr>\n    <tr>\n      <th>231</th>\n      <td>427</td>\n      <td>politifact14944</td>\n      <td>http://thehill.com/homenews/senate/369928-who-...</td>\n      <td>Who is affected by the government shutdown?</td>\n      <td>954602090462146560\\t954602093171609600\\t954650...</td>\n      <td>...</td>\n    </tr>\n    <tr>\n      <th>232</th>\n      <td>428</td>\n      <td>politifact14071</td>\n      <td>https://web.archive.org/web/20170322070001/htt...</td>\n      <td>Lindsey Graham Threatens To Convert To Democra...</td>\n      <td>740351669834244096\\t740391312277573632\\t740474...</td>\n      <td>success  fail        ...</td>\n    </tr>\n  </tbody>\n</table>\n<p>233 rows × 6 columns</p>\n</div>"
     },
     "metadata": {},
     "execution_count": 4
    }
   ],
   "source": [
    "filtered_p_fake"
   ]
  },
  {
   "cell_type": "code",
   "execution_count": 3,
   "metadata": {},
   "outputs": [],
   "source": [
    "from gensim.corpora import Dictionary\n",
    "\n",
    "MIN_DF = 1 # minium document frequency\n",
    "MAX_DF = 0.6 # maximum document frequency"
   ]
  },
  {
   "cell_type": "code",
   "execution_count": 4,
   "metadata": {},
   "outputs": [],
   "source": [
    "from nltk.tokenize import RegexpTokenizer\n",
    "tokenizer = RegexpTokenizer('\\w+')"
   ]
  },
  {
   "cell_type": "code",
   "execution_count": 5,
   "metadata": {
    "tags": []
   },
   "outputs": [
    {
     "output_type": "display_data",
     "data": {
      "text/plain": "HBox(children=(HTML(value=''), FloatProgress(value=1.0, bar_style='info', layout=Layout(width='20px'), max=1.0…",
      "application/vnd.jupyter.widget-view+json": {
       "version_major": 2,
       "version_minor": 0,
       "model_id": "7f4a2d4da167487596e67e027ced58a1"
      }
     },
     "metadata": {}
    },
    {
     "output_type": "stream",
     "name": "stdout",
     "text": [
      "\n"
     ]
    }
   ],
   "source": [
    "tokenized_texts = []\n",
    "for index, text in tqdm(enumerate(filtered_p_fake['text'])):\n",
    "    tokenized_texts.append(tokenizer.tokenize(text.lower()))\n",
    "        \n",
    "# tokenized_text = tokenizer.tokenize(sample_text.lower())\n",
    "# print(tokenized_text)"
   ]
  },
  {
   "cell_type": "code",
   "execution_count": 6,
   "metadata": {},
   "outputs": [],
   "source": [
    "dictionary = Dictionary(tokenized_texts) # get the vocabulary\n",
    "dictionary.filter_extremes(no_below=MIN_DF, \n",
    "                           no_above=MAX_DF)\n",
    "corpus = [dictionary.doc2bow(text) for text in tokenized_texts]"
   ]
  },
  {
   "cell_type": "code",
   "execution_count": 9,
   "metadata": {},
   "outputs": [],
   "source": [
    "import os\n",
    "os.environ['MALLET_HOME'] = 'mallet-2.0.8'"
   ]
  },
  {
   "cell_type": "code",
   "execution_count": 18,
   "metadata": {},
   "outputs": [],
   "source": [
    "from gensim.models.wrappers import LdaMallet\n",
    "\n",
    "PATH_TO_MALLET = 'mallet-2.0.8/bin/mallet'\n",
    "N_TOPICS = 10\n",
    "N_ITERATIONS = 500\n",
    "\n",
    "lda = LdaMallet(mallet_path=PATH_TO_MALLET,\n",
    "                corpus=corpus,\n",
    "                id2word=dictionary,\n",
    "                num_topics=N_TOPICS,\n",
    "                iterations=N_ITERATIONS)"
   ]
  },
  {
   "cell_type": "code",
   "execution_count": 22,
   "metadata": {},
   "outputs": [
    {
     "output_type": "stream",
     "name": "stdout",
     "text": [
      "Topic 0: share click opens window twitter facebook 0 presidential google shares\nTopic 1: 2017 reply 2 march pm 3 domain 1 don whoopi\nTopic 2: federal public search government tweet information report 04 opinion law\nTopic 3: trump president donald comments election log house world white obama\nTopic 4: 2021 biden april comments 3 facebook 4 joe 30 politics\nTopic 5: stats trending trendolizer video contact general trump sports site twitter\nTopic 6: email source morning show video 70 smiley rickey contact advertisement\nTopic 7: 2017 trump archive breaking internet web machine wayback data day\nTopic 8: 2020 2021 2018 2019 february 2016 world april november december\nTopic 9: trump politics entertainment health facebook policy popular world video 2021\n"
     ]
    }
   ],
   "source": [
    "for topic in range(N_TOPICS):\n",
    "    words = lda.show_topic(topic, 10)\n",
    "    topic_n_words = ' '.join([word[0] for word in words])\n",
    "    print('Topic {}: {}'.format(str(topic), topic_n_words))"
   ]
  },
  {
   "cell_type": "code",
   "execution_count": 6,
   "metadata": {},
   "outputs": [
    {
     "output_type": "display_data",
     "data": {
      "text/plain": "HBox(children=(HTML(value=''), FloatProgress(value=0.0, max=624.0), HTML(value='')))",
      "application/vnd.jupyter.widget-view+json": {
       "version_major": 2,
       "version_minor": 0,
       "model_id": "96805df5420944358618e073242a0610"
      }
     },
     "metadata": {}
    },
    {
     "output_type": "stream",
     "name": "stdout",
     "text": [
      "<urlopen error timed out>\n",
      "HTTP Error 404: Not Found\n",
      "HTTP Error 503: Service Unavailable\n",
      "Some characters could not be decoded, and were replaced with REPLACEMENT CHARACTER.\n",
      "Some characters could not be decoded, and were replaced with REPLACEMENT CHARACTER.\n",
      "Some characters could not be decoded, and were replaced with REPLACEMENT CHARACTER.\n",
      "HTTP Error 404: Not Found\n",
      "HTTP Error 406: Not Acceptable\n",
      "connection timedout\n",
      "HTTP Error 404: Not Found\n",
      "Some characters could not be decoded, and were replaced with REPLACEMENT CHARACTER.\n",
      "<urlopen error [Errno -5] No address associated with hostname>\n",
      "HTTP Error 404: Not Found\n",
      "<urlopen error [SSL: CERTIFICATE_VERIFY_FAILED] certificate verify failed: certificate has expired (_ssl.c:1123)>\n",
      "Some characters could not be decoded, and were replaced with REPLACEMENT CHARACTER.\n",
      "Some characters could not be decoded, and were replaced with REPLACEMENT CHARACTER.\n",
      "HTTP Error 404: Not Found\n",
      "Some characters could not be decoded, and were replaced with REPLACEMENT CHARACTER.\n",
      "HTTP Error 404: Not Found\n",
      "HTTP Error 404: Not Found\n",
      "Some characters could not be decoded, and were replaced with REPLACEMENT CHARACTER.\n",
      "HTTP Error 406: Not Acceptable\n",
      "<urlopen error timed out>\n",
      "<urlopen error timed out>\n",
      "Some characters could not be decoded, and were replaced with REPLACEMENT CHARACTER.\n",
      "HTTP Error 404: Not Found\n",
      "Some characters could not be decoded, and were replaced with REPLACEMENT CHARACTER.\n",
      "HTTP Error 404: Not Found\n",
      "HTTP Error 404: Not Found\n",
      "Some characters could not be decoded, and were replaced with REPLACEMENT CHARACTER.\n",
      "HTTP Error 404: Not Found\n",
      "<urlopen error timed out>\n",
      "<urlopen error [Errno -2] Name or service not known>\n",
      "HTTP Error 404: Not Found\n",
      "HTTP Error 301: The HTTP server returned a redirect error that would lead to an infinite loop.\n",
      "The last 30x error message was:\n",
      "Moved Permanently\n",
      "HTTP Error 500: INTERNAL SERVER ERROR\n",
      "<urlopen error timed out>\n",
      "Some characters could not be decoded, and were replaced with REPLACEMENT CHARACTER.\n",
      "HTTP Error 404: Not Found\n",
      "HTTP Error 404: Not Found\n",
      "connection timedout\n",
      "connection timedout\n",
      "HTTP Error 404: Not Found\n",
      "<urlopen error timed out>\n",
      "HTTP Error 404: Not Found\n",
      "connection timedout\n",
      "HTTP Error 404: Not Found\n",
      "connection timedout\n",
      "HTTP Error 404: Not Found\n",
      "Some characters could not be decoded, and were replaced with REPLACEMENT CHARACTER.\n",
      "<urlopen error [Errno -2] Name or service not known>\n",
      "<urlopen error [Errno -5] No address associated with hostname>\n",
      "HTTP Error 404: Not Found\n",
      "HTTP Error 404: Not Found\n",
      "connection timedout\n",
      "HTTP Error 404: Not Found\n",
      "Some characters could not be decoded, and were replaced with REPLACEMENT CHARACTER.\n",
      "Some characters could not be decoded, and were replaced with REPLACEMENT CHARACTER.\n",
      "HTTP Error 404: Not Found\n",
      "<urlopen error [SSL: CERTIFICATE_VERIFY_FAILED] certificate verify failed: certificate has expired (_ssl.c:1123)>\n",
      "HTTP Error 406: Not Acceptable\n",
      "connection timedout\n",
      "HTTP Error 404: Not Found\n",
      "Some characters could not be decoded, and were replaced with REPLACEMENT CHARACTER.\n",
      "connection timedout\n",
      "HTTP Error 404: Not Found\n",
      "HTTP Error 404: Not Found\n",
      "Some characters could not be decoded, and were replaced with REPLACEMENT CHARACTER.\n",
      "connection timedout\n",
      "Some characters could not be decoded, and were replaced with REPLACEMENT CHARACTER.\n",
      "Some characters could not be decoded, and were replaced with REPLACEMENT CHARACTER.\n",
      "HTTP Error 404: Not Found\n",
      "HTTP Error 404: Not Found\n",
      "HTTP Error 404: Not Found\n",
      "HTTP Error 404: Not Found\n",
      "<urlopen error [Errno -5] No address associated with hostname>\n",
      "HTTP Error 404: Not Found\n",
      "<urlopen error [Errno -3] Temporary failure in name resolution>\n",
      "Some characters could not be decoded, and were replaced with REPLACEMENT CHARACTER.\n",
      "connection timedout\n",
      "Some characters could not be decoded, and were replaced with REPLACEMENT CHARACTER.\n",
      "<urlopen error [Errno -5] No address associated with hostname>\n",
      "HTTP Error 404: Not Found\n",
      "Some characters could not be decoded, and were replaced with REPLACEMENT CHARACTER.\n",
      "HTTP Error 404: Not Found\n",
      "HTTP Error 404: Not Found\n",
      "<urlopen error [Errno -2] Name or service not known>\n",
      "<urlopen error [Errno -2] Name or service not known>\n",
      "Some characters could not be decoded, and were replaced with REPLACEMENT CHARACTER.\n",
      "<urlopen error timed out>\n",
      "Some characters could not be decoded, and were replaced with REPLACEMENT CHARACTER.\n",
      "HTTP Error 404: NOT FOUND\n",
      "HTTP Error 404: Not Found\n",
      "<urlopen error [Errno -2] Name or service not known>\n",
      "\n"
     ]
    }
   ],
   "source": [
    "# politifact_real['text'] = ''\n",
    "for index, url in enumerate(tqdm(politifact_real['news_url'])):\n",
    "    if politifact_real['text'].iloc[index] == '':\n",
    "        if type(url) != float:\n",
    "            if urlparse(url).scheme:\n",
    "                if politifact_real['text'].iloc[index] == '':\n",
    "                    politifact_real['text'].iloc[index] = process_url(url)"
   ]
  },
  {
   "cell_type": "code",
   "execution_count": 9,
   "metadata": {},
   "outputs": [],
   "source": [
    "# filtered_p_real = politifact_real[politifact_real['text'] != '' ]\n",
    "# filtered_p_real = politifact_real[politifact_real['text'].notnull()]\n",
    "# filtered_p_real.to_csv('data/politifact_real_with_scraped_text.csv')"
   ]
  },
  {
   "cell_type": "code",
   "execution_count": 4,
   "metadata": {
    "tags": []
   },
   "outputs": [
    {
     "output_type": "display_data",
     "data": {
      "text/plain": "HBox(children=(HTML(value=''), FloatProgress(value=0.0, max=554.0), HTML(value='')))",
      "application/vnd.jupyter.widget-view+json": {
       "version_major": 2,
       "version_minor": 0,
       "model_id": "86cc3940766e49a0b185c945a8c18c20"
      }
     },
     "metadata": {}
    },
    {
     "output_type": "stream",
     "name": "stdout",
     "text": [
      "967132259869487105\n",
      "https://api.twitter.com/2/tweets?ids=967132259869487105&tweet.fields=created_at&expansions=author_id&user.fields=created_at\n",
      "{'data': [{'id': '967132259869487105', 'author_id': '868603454', 'created_at': '2018-02-23T20:21:13.000Z', 'text': '\"According to a new survey by the National Federation of Independent Business, the number of small business owners ready to expand is at its highest levels in the survey’s 45-year history.\" #Smallbiz https://t.co/FCLMVMnPFq'}], 'includes': {'users': [{'username': 'OwensNFIB', 'created_at': '2012-10-08T20:07:02.000Z', 'id': '868603454', 'name': 'Charles Owens'}]}}\n",
      "\n"
     ]
    }
   ],
   "source": [
    "headers = {\n",
    "    'Authorization': f'Bearer {bearer_token}'\n",
    "}\n",
    "count = 0\n",
    "for index, tweet_ids in enumerate(tqdm(filtered_p_real['tweet_ids'])):\n",
    "    if count < 1:\n",
    "        count+=1\n",
    "        tweet_id_list = tweet_ids.split()\n",
    "        for tweet_id in tweet_id_list:\n",
    "            if count < 2:\n",
    "                print(tweet_id)\n",
    "                print(f'https://api.twitter.com/2/tweets?ids={tweet_id}&tweet.fields=created_at&expansions=author_id&user.fields=created_at')\n",
    "                response = requests.get(f'https://api.twitter.com/2/tweets?ids={tweet_id}&tweet.fields=created_at&expansions=author_id&user.fields=created_at',  headers=headers)\n",
    "                print(response.json())\n",
    "                count+=1"
   ]
  },
  {
   "cell_type": "code",
   "execution_count": 14,
   "metadata": {},
   "outputs": [],
   "source": [
    "filtered_p_real = filtered_p_real[filtered_p_real['tweet_ids'].notnull()]\n"
   ]
  },
  {
   "cell_type": "code",
   "execution_count": 18,
   "metadata": {},
   "outputs": [],
   "source": [
    "\n",
    "\n",
    "\n",
    "def getTweetAuthors(tweet_ids_raw):\n",
    "    count = 0\n",
    "    print(tweet_ids_raw)\n",
    "    tweet_ids = re.split(r'\\\\t', tweet_ids_raw)\n",
    "    for tweet_id in tweet_ids:\n",
    "        if count < 1:\n",
    "            response = requests.get('https://api.twitter.com/2/tweets?ids={tweet_id}&tweet.fields=created_at&expansions=author_id&user.fields=created_at',  headers)\n",
    "            count+=1\n"
   ]
  },
  {
   "cell_type": "code",
   "execution_count": 22,
   "metadata": {},
   "outputs": [
    {
     "output_type": "stream",
     "name": "stdout",
     "text": [
      "0      967132259869487105\\t967164368768196609\\t967215...\n1      942953459\\t8980098198\\t16253717352\\t1668513250...\n4      89804710374154240\\t91270460595109888\\t96039619...\n5      690248006399049728\\t690254026663821312\\t690276...\n6      1262604762\\t10969740933\\t11182364398\\t17507543...\n                             ...                        \n548    21096374968\\t21096771824\\t9413452992876544\\t12...\n549    817357495047979008\\t817357627566985217\\t817357...\n550    634287923135909888\\t946743411100536832\\t946816...\n552                                   188871706637647874\n553             1002208963239337984\\t1024651239697666048\nName: tweet_ids, Length: 366, dtype: object\n"
     ]
    },
    {
     "output_type": "error",
     "ename": "TypeError",
     "evalue": "expected string or bytes-like object",
     "traceback": [
      "\u001b[0;31m---------------------------------------------------------------------------\u001b[0m",
      "\u001b[0;31mTypeError\u001b[0m                                 Traceback (most recent call last)",
      "\u001b[0;32m<ipython-input-22-30bc10b2c788>\u001b[0m in \u001b[0;36m<module>\u001b[0;34m\u001b[0m\n\u001b[0;32m----> 1\u001b[0;31m \u001b[0mgetTweetAuthors\u001b[0m\u001b[0;34m(\u001b[0m\u001b[0mfiltered_p_real\u001b[0m\u001b[0;34m.\u001b[0m\u001b[0mtweet_ids\u001b[0m\u001b[0;34m)\u001b[0m\u001b[0;34m\u001b[0m\u001b[0;34m\u001b[0m\u001b[0m\n\u001b[0m",
      "\u001b[0;32m<ipython-input-18-70db949c0d30>\u001b[0m in \u001b[0;36mgetTweetAuthors\u001b[0;34m(tweet_ids_raw)\u001b[0m\n\u001b[1;32m      7\u001b[0m     \u001b[0mcount\u001b[0m \u001b[0;34m=\u001b[0m \u001b[0;36m0\u001b[0m\u001b[0;34m\u001b[0m\u001b[0;34m\u001b[0m\u001b[0m\n\u001b[1;32m      8\u001b[0m     \u001b[0mprint\u001b[0m\u001b[0;34m(\u001b[0m\u001b[0mtweet_ids_raw\u001b[0m\u001b[0;34m)\u001b[0m\u001b[0;34m\u001b[0m\u001b[0;34m\u001b[0m\u001b[0m\n\u001b[0;32m----> 9\u001b[0;31m     \u001b[0mtweet_ids\u001b[0m \u001b[0;34m=\u001b[0m \u001b[0mre\u001b[0m\u001b[0;34m.\u001b[0m\u001b[0msplit\u001b[0m\u001b[0;34m(\u001b[0m\u001b[0;34mr'\\\\t'\u001b[0m\u001b[0;34m,\u001b[0m \u001b[0mtweet_ids_raw\u001b[0m\u001b[0;34m)\u001b[0m\u001b[0;34m\u001b[0m\u001b[0;34m\u001b[0m\u001b[0m\n\u001b[0m\u001b[1;32m     10\u001b[0m     \u001b[0;32mfor\u001b[0m \u001b[0mtweet_id\u001b[0m \u001b[0;32min\u001b[0m \u001b[0mtweet_ids\u001b[0m\u001b[0;34m:\u001b[0m\u001b[0;34m\u001b[0m\u001b[0;34m\u001b[0m\u001b[0m\n\u001b[1;32m     11\u001b[0m         \u001b[0;32mif\u001b[0m \u001b[0mcount\u001b[0m \u001b[0;34m<\u001b[0m \u001b[0;36m1\u001b[0m\u001b[0;34m:\u001b[0m\u001b[0;34m\u001b[0m\u001b[0;34m\u001b[0m\u001b[0m\n",
      "\u001b[0;32m/opt/conda/lib/python3.8/re.py\u001b[0m in \u001b[0;36msplit\u001b[0;34m(pattern, string, maxsplit, flags)\u001b[0m\n\u001b[1;32m    229\u001b[0m     \u001b[0;32mand\u001b[0m \u001b[0mthe\u001b[0m \u001b[0mremainder\u001b[0m \u001b[0mof\u001b[0m \u001b[0mthe\u001b[0m \u001b[0mstring\u001b[0m \u001b[0;32mis\u001b[0m \u001b[0mreturned\u001b[0m \u001b[0;32mas\u001b[0m \u001b[0mthe\u001b[0m \u001b[0mfinal\u001b[0m \u001b[0melement\u001b[0m\u001b[0;34m\u001b[0m\u001b[0;34m\u001b[0m\u001b[0m\n\u001b[1;32m    230\u001b[0m     of the list.\"\"\"\n\u001b[0;32m--> 231\u001b[0;31m     \u001b[0;32mreturn\u001b[0m \u001b[0m_compile\u001b[0m\u001b[0;34m(\u001b[0m\u001b[0mpattern\u001b[0m\u001b[0;34m,\u001b[0m \u001b[0mflags\u001b[0m\u001b[0;34m)\u001b[0m\u001b[0;34m.\u001b[0m\u001b[0msplit\u001b[0m\u001b[0;34m(\u001b[0m\u001b[0mstring\u001b[0m\u001b[0;34m,\u001b[0m \u001b[0mmaxsplit\u001b[0m\u001b[0;34m)\u001b[0m\u001b[0;34m\u001b[0m\u001b[0;34m\u001b[0m\u001b[0m\n\u001b[0m\u001b[1;32m    232\u001b[0m \u001b[0;34m\u001b[0m\u001b[0m\n\u001b[1;32m    233\u001b[0m \u001b[0;32mdef\u001b[0m \u001b[0mfindall\u001b[0m\u001b[0;34m(\u001b[0m\u001b[0mpattern\u001b[0m\u001b[0;34m,\u001b[0m \u001b[0mstring\u001b[0m\u001b[0;34m,\u001b[0m \u001b[0mflags\u001b[0m\u001b[0;34m=\u001b[0m\u001b[0;36m0\u001b[0m\u001b[0;34m)\u001b[0m\u001b[0;34m:\u001b[0m\u001b[0;34m\u001b[0m\u001b[0;34m\u001b[0m\u001b[0m\n",
      "\u001b[0;31mTypeError\u001b[0m: expected string or bytes-like object"
     ]
    }
   ],
   "source": [
    "getTweetAuthors(filtered_p_real.tweet_ids)"
   ]
  },
  {
   "cell_type": "code",
   "execution_count": 21,
   "metadata": {},
   "outputs": [
    {
     "output_type": "execute_result",
     "data": {
      "text/plain": [
       "513\\t817384443065176064\\t817384541467897856\\t817384814051328000\\t817385091525701632\\t817385189223649280\\t817385231716155392\\t817385331645435904\\t817385736852873216\\t817385828469055489\\t817386024745762816\\t817386059097108480\\t817387024479121409\\t817387968872779776\\t817388126482010112\\t817388228458201089\\t817388248720961537\\t817388288445153280\\t817388601382227968\\t817388599373131776\\t817388841040572418\\t817388939996700676\\t817388987367256064\\t817389083425120256\\t817389081575493632\\t817389170419081216\\t817389258877050880\\t817389698545045504\\t817389721894744070\\t817389833169633284\\t817390262779609088\\t817390380295585792\\t817390471567667201\\t817390489083244544\\t817390583278960640\\t817390772211380224\\t817391142249656324\\t817391191356424192\\t817391217470279680\\t817391278665003008\\t817391359602593795\\t817391657859432448\\t817391864437415936\\t817391891838746624\\t817392120197591040\\t817392695501062146\\t817392814803812352\\t817392834517102592\\t817392970370576389\\t817393110149959681\\t817393194828607492\\t817393356653338626\\t817393612287840256\\t817393632860930048\\t817393971035041792\\t817394180993519619\\t817394236920315906\\t817394637321211905\\t817394832549281792\\t817394853382385664\\t817394904208809986\\t817395092319137793\\t817395714028208128\\t817395787785117697\\t817395832286748674\\t817396218317967361\\t817396335158628354\\t817396355404623877\\t817396380884930561\\t817396399985852416\\t817396554982002688\\t817396644643831811\\t817396712595738628\\t817396780295983104\\t817396856565051392\\t817396875405959168\\t817397202058412032\\t817397209918566401\\t817397228956516353\\t817397437207838720\\t817397469575344129\\t817397556023959552\\t817397577738031104\\t817397889416785921\\t817397928851623936\\t817398139216793601\\t817398567551795200\\t817398615727624193\\t817398966891343872\\t817398983857504258\\t817399031173410818\\t817399839235469313\\t817399877340540928\\t817400648627064835\\t817400677299171329\\t817400702804733953\\t817400721234497538\\t817400751957884929\\t817401047412981762\\t817401173359689728\\t817401389252898816\\t817401801473290242\\t817402110853713920\\t817402225815388160\\t817402347039166464\\t817402387967131648\\t817402944450531329\\t817403067679313920\\t817403305387134976\\t817403445569343492\\t817403769940045825\\t817403861170126849\\t817403913842331648\\t817404141316308995\\t817404467243008002\\t817404498931023873\\t817404906948751360\\t817404981196234752\\t817405601609302018\\t817405717816680448\\t817405726247317504\\t817405915867529217\\t817405926525308928\\t817405932015599616\\t817405960788516864\\t817406136852713472\\t817406628605599744\\t817406940527542272\\t817406942889078786\\t817406971955515392\\t817407546172448768\\t817407569123741697\\t817407676435075072\\t817408030417489920\\t817408172411457536\\t817408227629379584\\t817408305710661637\\t817408381048721412\\t817408487877509120\\t817408649324883969\\t817408760062869504\\t817408819877642240\\t817409032952643586\\t817409240704962562\\t817409328793743360\\t817409480765755392\\t817409884245331968\\t817410202538418176\\t817410820611010560\\t817411040648560640\\t817411051985649664\\t817411193136619520\\t817411882340458496\\t817412001332940800\\t817412378568445952\\t817412554016231424\\t817412720945405952\\t817412926675918848\\t817413001003368449\\t817413025393152002\\t817413252284039169\\t817413797057011712\\t817413949469626368\\t817413974224490498\\t817414653026430976\\t817414714728792064\\t817414946506031105\\t817414960858939392\\t817415145223663616\\t817415715053387776\\t817415949712293890\\t817416033891971074\\t817416286586028032\\t817416347391062016\\t817416451694985217\\t817416638479929346\\t817416859729465347\\t817416978587598848\\t817417010405638145\\t817417112436109312\\t817417129083412482\\t817417145336336384\\t817417299334483968\\t817417330028412930\\t817417367403790336\\t817417501558657024\\t817417567484727297\\t817417649512706049\\t817417673352957953\\t817417678226735104\\t817417698426683396\\t817417848783912960\\t817417910234873860\\t817418782226399232\\t817418949184856065\\t817419095490510850\\t817419259160641536\\t817419415922671618\\t817419599817928709\\t817419899630981121\\t817419903099551744\\t817420137372454913\\t817420880519303168\\t817421816759205888\\t817421874506371072\\t817422047475302400\\t817422080882999297\\t817422122746343426\\t817422214924476421\\t817422360362020865\\t817422509134008321\\t817422889335066624\\t817423348481171456\\t817423394643841024\\t817423814996787200\\t817424133294149632\\t817424712859025413\\t817424981038604290\\t817424994284240896\\t817425467590332416\\t817425551287730176\\t817425566714343424\\t817426137584439297\\t817426598345347072\\t817426960238448640\\t817427093227261952\\t817427120687235072\\t817427162202390532\\t817427203776516096\\t817427394529206278\\t817428052280012801\\t817428404349861888\\t817428676967075840\\t817428702548082688\\t817428781388402689\\t817429190849024000\\t817429191650115586\\t817429298202038272\\t817429746065625088\\t817430177705824256\\t817430245506740224\\t817430336116314113\\t817430797674086401\\t817430847141904384\\t817430970458509312\\t817431018034466816\\t817431346025037829\\t817431480787812352\\t817431777803259904\\t817431806500892673\\t817432164455346176\\t817433433442029568\\t817433444112302080\\t817433658101469184\\t817433847373697026\\t817433877820084225\\t817434090274070528\\t817434106535383040\\t817434284067852289\\t817434428452536321\\t817434560543780866\\t817434848864468993\\t817435593693138945\\t817435732654563332\\t817435979938201601\\t817436096724279296\\t817436418293305344\\t817437018359742464\\t817437273839009798\\t817437272568168448\\t817437603041394689\\t817437903588470784\\t817438253364101120\\t817438863308320768\\t817439185946677249\\t817439288514252805\\t817439354872270849\\t817439429577113601\\t817439669449277440\\t817439685874253824\\t817440961173209088\\t817442567231066116\\t817442662726897664\\t817445607862403073\\t817445940856553474\\t817446074558410752\\t817446123203919873\\t817446586385137664\\t817447001193410561\\t817447580254748678\\t817447629382520832\\t817448193436880902\\t817448703401332737\\t817449159737212929\\t817449421378088960\\t817449953555456000\\t817450556780380162\\t817450698275229696\\t817451508799246336\\t817451730438754304\\t817452387560554497\\t817453188961869824\\t817453194397630465\\t817453293773398017\\t817453337306157056\\t817454217459863552\\t817455866764922882\\t817456958861033472\\t817457027542749185\\t817457423329951744\\t817458952166326273\\t817459234430472192\\t817459302034186240\\t817459312809361409\\t817459755518201858\\t817459941552353280\\t817460205927755777\\t817460219127042048\\t817460638893096960\\t817460800327651329\\t817461023808495616\\t817461313450479616\\t817461718250991616\\t817462193641975810\\t817462248813826052\\t817462616767561728\\t817462902999449605\\t817463012873281537\\t817463632900390912\\t817464257981902850\\t817464430690705412\\t817464828792971264\\t817464918899310592\\t817465042820091904\\t817465584694661121\\t817465939729924097\\t817466125575454720\\t817466261999419392\\t817466666116378624\\t817467255617245184\\t817467592075984896\\t817467688134049792\\t817468615750348800\\t817468978213818368\\t817469149429563393\\t817469311065489408\\t817469531488653314\\t817469625592057856\\t817469981789212672\\t817470183283576833\\t817470269199646723\\t817470618052468737\\t817471256668860417\\t817471321877708805\\t817472730383589376\\t817473779827818497\\t817473923830923265\\t817475283511021569\\t817475367502041090\\t817475530660397057\\t817475923264073732\\t817477309745795072\\t817477346500419584\\t817477986505129984\\t817478464957775872\\t817481205457174528\\t817481211182546944\\t817481280728092673\\t817481638539952128\\t817482414389940225\\t817482861955661824\\t817483035612499968\\t817483998033231872\\t817484403458723840\\t817485459135799296\\t817485676169920512\\t817485961655361537\\t817486068836503552\\t817486351201226752\\t817486662729158656\\t817486883970306049\\t817488388974473217\\t817488440187088896\\t817489969325469697\\t817490517877465089\\t817490809817886720\\t817490866755477511\\t817490970912624640\\t817491958633558018\\t817492199080394754\\t817492561304686592\\t817493424664408065\\t817494145778536450\\t817495768806420480\\t817497062719754240\\t817497213068775424\\t817497728934707200\\t817499134345285637\\t817499246815510528\\t817499635627397120\\t817499908760621056\\t817501015859572736\\t817501056947064833\\t817503315827290112\\t817504011586797568\\t817504686995636224\\t817504719178465286\\t817505111442395137\\t817505121584168960\\t817505230061445120\\t817505841922207745\\t817506474431827969\\t817506738408538112\\t817506857266790400\\t817510210055077891\\t817512642726260736\\t817513418408296448\\t817513461278130176\\t817514858086277124\\t817516710647320576\\t817518132994703361\\t817519992270974977\\t817520505418907648\\t817520511504629760\\t817521228499931136\\t817521869347835904\\t817522182117097473\\t817522399964971009\\t817522812411936768\\t817525671031373824\\t817528069783228416\\t817530103592841216\\t817532258290647043\\t817533774237929472\\t817533837517488128\\t817536641065750528\\t817536646640009217\\t817537490676379648\\t817537797129117696\\t817540121423712257\\t817541855835471872\\t817542664534904832\\t817542708441059328\\t817542741894852611\\t817544411219460096\\t817545235848892416\\t817545393684746240\\t817545587784556546\\t817545613348745216\\t817545804395282434\\t817546150202880000\\t817546281354690561\\t817547534285475842\\t817549189710282752\\t817550795126272000\\t817555821974458368\\t817558372710903808\\t817559833406676992\\t817560575790247937\\t817561158282424320\\t817561166713077760\\t817563258387238913\\t817563671345950720\\t817564251984433155\\t817567185174302720\\t817567951100530688\\t817570173896929281\\t817570808629526528\\t817571374889713665\\t817572670560731137\\t817574310210662400\\t817576661638123520\\t817576667455647744\\t817580175122661376\\t817580659413807104\\t817581483518992384\\t817582588890062850\\t817582716912680960\\t817585775114153985\\t817585774426107904\\t817589204322553857\\t817589855702155264\\t817591887720808449\\t817597908069576704\\t817599431331708933\\t817603378138218496\\t817607047390892032\\t817610835191365633\\t817611353619857408\\t817616164130058240\\t817617172990070784\\t817621325468598272\\t817622399608848387\\t817629363092987904\\t817629824395005952\\t817641142443474945\\t817643198092873730\\t817654388231639040\\t817656197104832516\\t817657392561127424\\t817657770409271296\\t817663011087204353\\t817663621475897344\\t817663917136580608\\t817668702296535041\\t817669214551048193\\t817671296045694977\\t817673905456508928\\t817680595392364544\\t817692618645794816\\t817696577544450052\\t817703898014253056\\t817708172261621760\\t817712851783680000\\t817721005170892801\\t817723629391806466\\t817732146521468929\\t817734870051028992\\t817736532442447872\\t817744603507986432\\t817746323516620800\\t817750920842903553\\t817755273393803264\\t817756175311704065\\t817756759167270912\\t817762958998704130\\t817763455965032449\\t817767014483824640\\t817768420464852993\\t817769307342065666\\t817776161996636160\\t817779538038059011\\t817779968952283141\\t817783268548415489\\t817784411512938496\\t817789617453879298\\t817790036141805569\\t817793416511782912\\t817796671614619650\\t817800959741018119\\t817805263310876677\\t817807477026750464\\t817812331791085571\\t817813719287787521\\t817819177717272578\\t817819842602471424\\t817823217024991233\\t817823605987774464\\t817832429956321280\\t817835649298472960\\t817836859531395073\\t817840483510743041\\t817840875988459520\\t817845348802564096\\t817846609048256513\\t817848000714260481\\t817856004662493185\\t817858442652254210\\t817860900413669376\\t817862011333713921\\t817862062026223618\\t817867043940823045\\t817870312020787200\\t817873607288377345\\t817877876095811587\\t817878285925416960\\t817883524178972672\\t817887227590180866\\t817891625716318211\\t817898724580032513\\t817899764566159360\\t817910047045013504\\t817912876342083584\\t817923206090727425\\t817927571232821248\\t817927570884739073\\t817928320012652547\\t817942387867746305\\t817952641741418496\\t817955562516344833\\t817955584888672260\\t817969820612390912\\t817970628133261312\\t817972105442721793\\t817980810984755200\\t817982040897417216\\t817984489293017089\\t817990985791717376\\t817996708256817154\\t817998305187794946\\t818001110308966400\\t818003056440856576\\t818009751606935552\\t818014427920351232\\t818020686686023680\\t818021992515387392\\t818034797259825152\\t818035054119096324\\t818037502430822400\\t818050112337350656\\t818052048008646656\\t818064146461786113\\t818067507709956096\\t818076776450625536\\t818083286778052608\\t818095100622409730\\t818095701691338753\\t818102085191352321\\t818109836533628929\\t818110123302408194\\t818115351770763264\\t818119188933844992\\t818129242512916480\\t818132287455985664\\t818133701049597953\\t818142650201178112\\t818146186733481985\\t818159760465920002\\t818159961792540672\\t818172229112496130\\t818178998375247873\\t818185624142417921\\t818197667360768000\\t818199009885962241\\t818208106769432576\\t818211105239658496\\t818223626763833344\\t818231799306473474\\t818237890681565186\\t818239336403628032\\t818252470887518210\\t818262484528177152\\t818262647959408645\\t818263270725472257\\t818265930694295553\\t818280282679808000\\t818293079484592128\\t818308133617618945\\t818317511225655299\\t818317511598948356\\t818320881244143616\\t818323134361190400\\t818332798062915584\\t818334599898103810\\t818346682547052548\\t818357897814036480\\t818372258305601536\\t818372357760909313\\t818384720585228288\\t818398445622927360\\t818411454449745921\\t818411455972343808\\t818412649193017344\\t818426204743237636\\t818430660482363392\\t818438551733989376\\t818451079553761280\\t818454923994132480\\t818464158316380160\\t818476022295302145\\t818476119250923521\\t818478804503068672\\t818490754821746688\\t818502854243717120\\t818511166683185154\\t818514098317131776\\t818525005071912961\\t818528024341708804\\t818536599894032387\\t818552401544302593\\t818557249345961985\\t818561981909270532\\t818563520618864640\\t818578077500538880\\t818583341171675136\\t818587540907134978\\t818629556609437696\\t818643624883851265\\t818698578373713925\\t818850459591069700\\t818852345140445186\\t818880395286605824\\t818880395613794305\\t818889044033671169\\t818914703367958530\\t819199718471454721\\t819364145657237506\\t819520945698312192\\t819612757238501376\\t819617026654269440\\t819955630135975936\\t820170397123416064\\t820188488104607744\\t820188492043001857\\t820188490323345408\\t820560289271783424\\t820829389814304770\\t821042960758358017\\t821043802102173696\\t822151688962408448\\t823628056405438465\\t824115951260106754\\t824279069428748288\\t824309803283402752\\t824343972114034688\\t824448438964289537\\t824530208686571521\\t824764676881993728\\t824773178299936770\\t824812996245467136\\t825182396848877571\\t825451756171714560\\t825844046954381312\\t828025858745106432\\t833314943751577601\\t835457893835112449\\t836795736935251969\\t842169287615868929\\t842458963748708353\\t846748306575429632\\t846951475368603648\\t855938594229190657\\t856427965357469696\\t856532370740183040\\t859735586877427712\\t872668168736473088\\t876410259991953408\\t898124145770340352\\t899234458586537984\\t900417386708217856\\t902273465956388866\\t941040932446752769\\t949110153206431744\\t949286493478096896\\t949321846993903617\\t949447691414753280\\t949455925781450752\\t949494348500144128\\t949522049936084992\\t949716833141129216\\t949724526815752193\\t949724537628672000\\t949724540254343168\\t949724968207732741\\t949728821066027008\\t949731544436035584\\t949732105877053441\\t949732329458577408\\t949732451718483974\\t949734967608619008\\t949735305946566656\\t949735499694067713\\t949736368447655937\\t949742242633273345\\t949756264246136832\\t949781540652818432\\t949804776199540738\\t949830505725419521\\t949833370908921856\\t949889058934751232\\t949995767523102725\\t950027745081397249\\t950079122306404352\\t950087238100115456\\t950089992298262528\\t950102604306100227\\t950130626102996995\\t950133418389590016\\t950141899775586304\\t950147842416443393\\t950174930120921089\\t950217104845926402\\t950267394789748736\\t950286603431350272\\t950355973109055488\\t950393533017440258\\t950491060609998858\\t950534812611239936\\t950668352485179392\\t950719566405079041\\t950767644210216961\\t950824247324225536\\t953974774111375360\\t956890134162505728\\t958135249539682306\\t962425480841498625\\t975464077093777409\\t977287445170372608\\t997717996544999424\\t1009606724813295621\\t1023630633430601729\\t1024146851757535232\\t1025079644733796352\\t1026872043416027136\\t1027467227455528960\\t1066000653384908800\\t1067102772854775813\\t1067134775247495168\\t1067387529844989952\\t1071015199979790337\\t1072538482927636480\\t1072541920793124864\\t1072564680160395272\\t1072664066898964481\\t1072722852288307200\\t1072959317744148480\\t1073206507737501696\\t1073261152417837059\\t1073349106674864129',\n",
       " '634287923135909888\\t946743411100536832\\t946816107276652544\\t946842531295309830\\t946867191516942337\\t946883183597051904\\t947982289455206400\\t948660281982545921\\t949191745190924288\\t949262475182137344\\t949316964719132673\\t949352553950666752\\t950007939531591680\\t950519039453024261\\t951001692912455680\\t951165755881648128\\t954331016004554752\\t954413372954562562\\t955035948865159168\\t956365814516432896\\t957279197029916672\\t958116042168975360\\t959491271424438272\\t959544455488557056\\t959714253803487232\\t963089830820265984\\t963862967438766093\\t965444954490392576\\t966157328377552896\\t968542140149059584\\t968645794294312960\\t969253420292083712\\t969587931772960770\\t969962293604864000\\t970366006047756289\\t970668427600785408\\t971101002475634688\\t972110168098930688\\t973411293217501184\\t974269206110797824\\t974516045510668288\\t975013509221273600\\t975933362052456448\\t977286848492941312\\t977384137920217088\\t977657396465201153\\t978252078773690369\\t978391721242480640\\t979065250241794048\\t979065709312577536\\t979139475040358400\\t980118769040314370\\t980357097828188160\\t980858622220668928\\t981093248579067904\\t982686987911073792\\t983783938996031488\\t984241167066738692\\t985876713736495104\\t987275554557702145\\t987626533274693632\\t988002006605451264\\t990578787145404416\\t991415754015887360\\t991426791414870016\\t992233722744332288\\t993327507041472512\\t994744169745866752\\t994744186497916928\\t997435653188186112\\t997816832907194369\\t997946969787117569\\t998281519352332289\\t998663284269051904\\t999333483708370944\\t999474293963554816\\t999552597047496706\\t999801036045828096\\t1001646649771413504\\t1002169939636183040\\t1003808248569450496\\t1004138910945927168\\t1004438780495978496\\t1006384093347672064\\t1007794842158682117\\t1007945754600755200\\t1009511284558180354\\t1009967357639487488\\t1009993520684457985\\t1010283684539199488\\t1010668100776288256\\t1010991755141906432\\t1011047248707444736\\t1012335006776061954\\t1012409298922758144\\t1013255143280832518\\t1013889371618017280\\t1014195410649284608\\t1018157808783634432\\t1020326294800818177\\t1021563544121368576\\t1023014167433728000\\t1023539088958349312\\t1024497621812080640\\t1027294570827210756\\t1027896294331875328\\t1028706121379454976\\t1029123436751151104\\t1029186574783852544\\t1031244542752813056\\t1031933693567397888\\t1032740238840528896\\t1034076781295235073\\t1034181951203303425\\t1034181966436986880\\t1034182178236784640\\t1034182587865083904\\t1034183615104598016\\t1034247158839615488\\t1034345146706485248\\t1034607182887743488\\t1034607527344922624\\t1035587623429885952\\t1035588122577256448\\t1036260370250457088\\t1038448764900593664\\t1039246132508073984\\t1042631184050577408\\t1042827465914286082\\t1043114996102705152\\t1043510381459775488\\t1043511522549325824\\t1043567968565780480\\t1044128896734638081\\t1045395041173286916\\t1045521526525759489\\t1047952009540882432\\t1049853093767069696\\t1050014727366041600\\t1050459650271916033\\t1050466155465506817\\t1050651575536898049\\t1051115615660986368\\t1051452972629155843\\t1051553997092356098\\t1051654714633285632\\t1051861181017845760\\t1051952147905040384\\t1052328377405886469\\t1052922794030362624\\t1053180507440082946\\t1053365502918230022\\t1054830286628765696\\t1054834198299594752\\t1054834201315295232\\t1054901571975290880\\t1054901582393942022\\t1056235513722499072\\t1057728242910547968\\t1058334874627641345\\t1058781827584942080\\t1059142252600135680\\t1059516233371082752\\t1059889361179893761\\t1060201042955198464\\t1061011537404530688\\t1061259237983248384\\t1062693823577538561\\t1062742228672622599\\t1062892238789840896\\t1063248776247300097\\t1063572269136519170\\t1063929410032754688\\t1065517889023729664\\t1065598202957586433\\t1067361260549885953\\t1067446873265528832\\t1067505518443413504\\t1068166764985548801\\t1069993720400044032\\t1071118635501006849\\t1071156220281671682',\n",
       " '188871706637647874',\n",
       " '1002208963239337984\\t1024651239697666048']"
      ]
     },
     "metadata": {},
     "execution_count": 21
    }
   ],
   "source": []
  },
  {
   "cell_type": "code",
   "execution_count": null,
   "metadata": {},
   "outputs": [],
   "source": []
  }
 ]
}