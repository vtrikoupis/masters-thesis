{
 "metadata": {
  "language_info": {
   "codemirror_mode": {
    "name": "ipython",
    "version": 3
   },
   "file_extension": ".py",
   "mimetype": "text/x-python",
   "name": "python",
   "nbconvert_exporter": "python",
   "pygments_lexer": "ipython3",
   "version": "3.8.5"
  },
  "orig_nbformat": 2,
  "kernelspec": {
   "name": "python385jvsc74a57bd098b0a9b7b4eaaa670588a142fd0a9b87eaafe866f1db4228be72b4211d12040f",
   "display_name": "Python 3.8.5 64-bit ('base': conda)"
  }
 },
 "nbformat": 4,
 "nbformat_minor": 2,
 "cells": [
  {
   "cell_type": "code",
   "execution_count": 11,
   "metadata": {},
   "outputs": [
    {
     "output_type": "execute_result",
     "data": {
      "text/plain": [
       "<spacy.lang.en.English at 0x7f1e9bd10280>"
      ]
     },
     "metadata": {},
     "execution_count": 11
    }
   ],
   "source": [
    "import spacy\n",
    "import pandas as pd\n",
    "from tqdm import tqdm\n",
    "spacy.load('en_core_web_sm')"
   ]
  },
  {
   "cell_type": "code",
   "execution_count": 39,
   "metadata": {},
   "outputs": [],
   "source": [
    "constraint_english_train = pd.read_csv(\"data/Constraint_English_Train.csv\")"
   ]
  },
  {
   "cell_type": "code",
   "execution_count": 26,
   "metadata": {},
   "outputs": [],
   "source": [
    "# constraint_english_train.head(1).tweet[0]"
   ]
  },
  {
   "cell_type": "code",
   "execution_count": 27,
   "metadata": {},
   "outputs": [],
   "source": [
    "def tokenize(text):\n",
    "    punctuations = '!\"#$%&\\'()*+,-./:;<=>?@[\\\\]^_`{|}~'\n",
    "    for punctuation in punctuations:\n",
    "        text = text.replace(punctuation, '')\n",
    "    text = text.lower() \n",
    "    text = text.split()\n",
    "    return text"
   ]
  },
  {
   "cell_type": "code",
   "execution_count": 41,
   "metadata": {
    "tags": []
   },
   "outputs": [
    {
     "output_type": "stream",
     "name": "stderr",
     "text": [
      "0it [00:00, ?it/s]/opt/conda/lib/python3.8/site-packages/pandas/core/indexing.py:670: SettingWithCopyWarning: \n",
      "A value is trying to be set on a copy of a slice from a DataFrame\n",
      "\n",
      "See the caveats in the documentation: https://pandas.pydata.org/pandas-docs/stable/user_guide/indexing.html#returning-a-view-versus-a-copy\n",
      "  iloc._setitem_with_indexer(indexer, value)\n",
      "6420it [00:01, 5706.39it/s]\n"
     ]
    }
   ],
   "source": [
    "constraint_english_train['tokenized'] = \"\"\n",
    "for index, item in tqdm(enumerate(constraint_english_train['tweet'])):\n",
    "    constraint_english_train['tokenized'].iloc[index] = tokenize(item)\n"
   ]
  },
  {
   "cell_type": "code",
   "execution_count": 42,
   "metadata": {},
   "outputs": [
    {
     "output_type": "execute_result",
     "data": {
      "text/plain": [
       "        id                                              tweet label  \\\n",
       "0        1  The CDC currently reports 99031 deaths. In gen...  real   \n",
       "1        2  States reported 1121 deaths a small rise from ...  real   \n",
       "2        3  Politically Correct Woman (Almost) Uses Pandem...  fake   \n",
       "3        4  #IndiaFightsCorona: We have 1524 #COVID testin...  real   \n",
       "4        5  Populous states can generate large case counts...  real   \n",
       "...    ...                                                ...   ...   \n",
       "6415  6416  A tiger tested positive for COVID-19 please st...  fake   \n",
       "6416  6417  ???Autopsies prove that COVID-19 is??� a blood...  fake   \n",
       "6417  6418  _A post claims a COVID-19 vaccine has already ...  fake   \n",
       "6418  6419  Aamir Khan Donate 250 Cr. In PM Relief Cares Fund  fake   \n",
       "6419  6420  It has been 93 days since the last case of COV...  real   \n",
       "\n",
       "                                              tokenized  \n",
       "0     [the, cdc, currently, reports, 99031, deaths, ...  \n",
       "1     [states, reported, 1121, deaths, a, small, ris...  \n",
       "2     [politically, correct, woman, almost, uses, pa...  \n",
       "3     [indiafightscorona, we, have, 1524, covid, tes...  \n",
       "4     [populous, states, can, generate, large, case,...  \n",
       "...                                                 ...  \n",
       "6415  [a, tiger, tested, positive, for, covid19, ple...  \n",
       "6416  [autopsies, prove, that, covid19, is�, a, bloo...  \n",
       "6417  [a, post, claims, a, covid19, vaccine, has, al...  \n",
       "6418  [aamir, khan, donate, 250, cr, in, pm, relief,...  \n",
       "6419  [it, has, been, 93, days, since, the, last, ca...  \n",
       "\n",
       "[6420 rows x 4 columns]"
      ],
      "text/html": "<div>\n<style scoped>\n    .dataframe tbody tr th:only-of-type {\n        vertical-align: middle;\n    }\n\n    .dataframe tbody tr th {\n        vertical-align: top;\n    }\n\n    .dataframe thead th {\n        text-align: right;\n    }\n</style>\n<table border=\"1\" class=\"dataframe\">\n  <thead>\n    <tr style=\"text-align: right;\">\n      <th></th>\n      <th>id</th>\n      <th>tweet</th>\n      <th>label</th>\n      <th>tokenized</th>\n    </tr>\n  </thead>\n  <tbody>\n    <tr>\n      <th>0</th>\n      <td>1</td>\n      <td>The CDC currently reports 99031 deaths. In gen...</td>\n      <td>real</td>\n      <td>[the, cdc, currently, reports, 99031, deaths, ...</td>\n    </tr>\n    <tr>\n      <th>1</th>\n      <td>2</td>\n      <td>States reported 1121 deaths a small rise from ...</td>\n      <td>real</td>\n      <td>[states, reported, 1121, deaths, a, small, ris...</td>\n    </tr>\n    <tr>\n      <th>2</th>\n      <td>3</td>\n      <td>Politically Correct Woman (Almost) Uses Pandem...</td>\n      <td>fake</td>\n      <td>[politically, correct, woman, almost, uses, pa...</td>\n    </tr>\n    <tr>\n      <th>3</th>\n      <td>4</td>\n      <td>#IndiaFightsCorona: We have 1524 #COVID testin...</td>\n      <td>real</td>\n      <td>[indiafightscorona, we, have, 1524, covid, tes...</td>\n    </tr>\n    <tr>\n      <th>4</th>\n      <td>5</td>\n      <td>Populous states can generate large case counts...</td>\n      <td>real</td>\n      <td>[populous, states, can, generate, large, case,...</td>\n    </tr>\n    <tr>\n      <th>...</th>\n      <td>...</td>\n      <td>...</td>\n      <td>...</td>\n      <td>...</td>\n    </tr>\n    <tr>\n      <th>6415</th>\n      <td>6416</td>\n      <td>A tiger tested positive for COVID-19 please st...</td>\n      <td>fake</td>\n      <td>[a, tiger, tested, positive, for, covid19, ple...</td>\n    </tr>\n    <tr>\n      <th>6416</th>\n      <td>6417</td>\n      <td>???Autopsies prove that COVID-19 is??� a blood...</td>\n      <td>fake</td>\n      <td>[autopsies, prove, that, covid19, is�, a, bloo...</td>\n    </tr>\n    <tr>\n      <th>6417</th>\n      <td>6418</td>\n      <td>_A post claims a COVID-19 vaccine has already ...</td>\n      <td>fake</td>\n      <td>[a, post, claims, a, covid19, vaccine, has, al...</td>\n    </tr>\n    <tr>\n      <th>6418</th>\n      <td>6419</td>\n      <td>Aamir Khan Donate 250 Cr. In PM Relief Cares Fund</td>\n      <td>fake</td>\n      <td>[aamir, khan, donate, 250, cr, in, pm, relief,...</td>\n    </tr>\n    <tr>\n      <th>6419</th>\n      <td>6420</td>\n      <td>It has been 93 days since the last case of COV...</td>\n      <td>real</td>\n      <td>[it, has, been, 93, days, since, the, last, ca...</td>\n    </tr>\n  </tbody>\n</table>\n<p>6420 rows × 4 columns</p>\n</div>"
     },
     "metadata": {},
     "execution_count": 42
    }
   ],
   "source": [
    "constraint_english_train"
   ]
  },
  {
   "cell_type": "code",
   "execution_count": null,
   "metadata": {},
   "outputs": [],
   "source": []
  }
 ]
}